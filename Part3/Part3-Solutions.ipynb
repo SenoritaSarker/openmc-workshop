{
 "cells": [
  {
   "cell_type": "code",
   "execution_count": 1,
   "metadata": {
    "collapsed": false
   },
   "outputs": [],
   "source": [
    "%matplotlib inline\n",
    "import matplotlib.pyplot as plt\n",
    "import numpy as np\n",
    "import seaborn as sns\n",
    "\n",
    "import openmc"
   ]
  },
  {
   "cell_type": "markdown",
   "metadata": {},
   "source": [
    "## StatePoint / Summary Files"
   ]
  },
  {
   "cell_type": "markdown",
   "metadata": {},
   "source": [
    "#### Load the HDF5 Files"
   ]
  },
  {
   "cell_type": "markdown",
   "metadata": {},
   "source": [
    "Let's begin by loading the statepoint HDF5 file for batch 100 into the Python API's `openmc.StatePoint` class:"
   ]
  },
  {
   "cell_type": "code",
   "execution_count": 2,
   "metadata": {
    "collapsed": true
   },
   "outputs": [],
   "source": [
    "sp = openmc.StatePoint('statepoint.100.h5')"
   ]
  },
  {
   "cell_type": "markdown",
   "metadata": {},
   "source": [
    "We will do the same for the summary HDF5 file by loading into the `openmc.Summary` class:"
   ]
  },
  {
   "cell_type": "code",
   "execution_count": 3,
   "metadata": {
    "collapsed": true
   },
   "outputs": [],
   "source": [
    "su = openmc.Summary('summary.h5')"
   ]
  },
  {
   "cell_type": "markdown",
   "metadata": {},
   "source": [
    "#### Inspect Simulation Metadata in `StatePoint`"
   ]
  },
  {
   "cell_type": "markdown",
   "metadata": {},
   "source": [
    "First, we can inspect the date and time at which the simulation was run:"
   ]
  },
  {
   "cell_type": "code",
   "execution_count": 4,
   "metadata": {
    "collapsed": false
   },
   "outputs": [
    {
     "data": {
      "text/plain": [
       "'2017-02-24 00:57:28'"
      ]
     },
     "execution_count": 4,
     "metadata": {},
     "output_type": "execute_result"
    }
   ],
   "source": [
    "sp.date_and_time"
   ]
  },
  {
   "cell_type": "markdown",
   "metadata": {},
   "source": [
    "Similarly, we can inspect the current batch for our `StatePoint`:"
   ]
  },
  {
   "cell_type": "code",
   "execution_count": 5,
   "metadata": {
    "collapsed": false
   },
   "outputs": [
    {
     "data": {
      "text/plain": [
       "100"
      ]
     },
     "execution_count": 5,
     "metadata": {},
     "output_type": "execute_result"
    }
   ],
   "source": [
    "sp.current_batch"
   ]
  },
  {
   "cell_type": "markdown",
   "metadata": {},
   "source": [
    "Likewise, we can find a number of other simulation parameters in the `StatePoint`:\n",
    "    \n",
    "* `n_batches` - # of batches\n",
    "* `n_inactive` - # of inactive batches\n",
    "* `n_particles` - # of particles per batch\n",
    "* `n_realizations` - # batches tallied to"
   ]
  },
  {
   "cell_type": "code",
   "execution_count": 6,
   "metadata": {
    "collapsed": false
   },
   "outputs": [
    {
     "name": "stdout",
     "output_type": "stream",
     "text": [
      "10 100 10000 90\n"
     ]
    }
   ],
   "source": [
    "print(sp.n_inactive, sp.n_batches, sp.n_particles, sp.n_realizations)"
   ]
  },
  {
   "cell_type": "markdown",
   "metadata": {},
   "source": [
    "OpenMC computes a number of estimators for the multiplication factor $k_{eff}$. Each of these estimators is stored as an attribute in the `StatePoint` class. We can report an ensemble-averaged estimator through the `StatePoint.k_combined` property with an `ndarray` storing the mean and uncertainty."
   ]
  },
  {
   "cell_type": "code",
   "execution_count": 7,
   "metadata": {
    "collapsed": false
   },
   "outputs": [
    {
     "data": {
      "text/plain": [
       "array([  1.27195438e+00,   9.79672185e-04])"
      ]
     },
     "execution_count": 7,
     "metadata": {},
     "output_type": "execute_result"
    }
   ],
   "source": [
    "sp.k_combined"
   ]
  },
  {
   "cell_type": "markdown",
   "metadata": {
    "variables": {
     "np.round(sp.k_combined[0],5)": "1.02504",
     "np.round(sp.k_combined[1],5)": "0.00027"
    }
   },
   "source": [
    "Here we can see that our estimate $k_{eff}$ = {{np.round(sp.k_combined[0],5)}} $\\pm$ {{np.round(sp.k_combined[1],5)}}"
   ]
  },
  {
   "cell_type": "markdown",
   "metadata": {},
   "source": [
    "#### Extract Model Geometry and Materials from `Summary`"
   ]
  },
  {
   "cell_type": "markdown",
   "metadata": {
    "collapsed": true
   },
   "source": [
    "We next turn to consider the metadata stored in the `Summary` class. This class is used to store data that is *invariant* between batches - *e.g.*, the simulation geometric and materials models - rather than statistical estimators that vary by batch which are stored in the `StatePoint` files. First, we can find the entire OpenMC model built as a `Geometry` object in the `Summary.openmc_geometry` property:"
   ]
  },
  {
   "cell_type": "code",
   "execution_count": 8,
   "metadata": {
    "collapsed": false
   },
   "outputs": [
    {
     "data": {
      "text/plain": [
       "<openmc.geometry.Geometry at 0x7f674d2a4fd0>"
      ]
     },
     "execution_count": 8,
     "metadata": {},
     "output_type": "execute_result"
    }
   ],
   "source": [
    "su.openmc_geometry"
   ]
  },
  {
   "cell_type": "markdown",
   "metadata": {},
   "source": [
    "In addition, the `Summary` includes properties to quickly and easily access the `Materials`, `Cells`, `Universes`, etc. directly. The following are included as properties in the `Summary`:\n",
    "\n",
    "* `materials` - `dict` of `Material` objects indexed by ID\n",
    "* `surfaces` - `dict` of `Surface` objects indexed by ID\n",
    "* `cells` - `dict` of `Cell` objects indexed by ID\n",
    "* `universes` - `dict` of `Universe` objects indexed by ID\n",
    "* `lattices` - `dict` of `Lattice` objects indexed by ID\n",
    "\n",
    "For example, let's inspect the `materials`:"
   ]
  },
  {
   "cell_type": "code",
   "execution_count": 9,
   "metadata": {
    "collapsed": false
   },
   "outputs": [
    {
     "data": {
      "text/plain": [
       "{1: Material\n",
       " \tID             =\t10000\n",
       " \tName           =\tuo2\n",
       " \tTemperature    =\tNone\n",
       " \tDensity        =\t0.06893778646941781 [atom/b-cm]\n",
       " \tS(a,b) Tables  \n",
       " \tNuclides       \n",
       " \tU235           =\t0.0005581537165393287 [ao]\n",
       " \tU238           =\t0.022417281016421806 [ao]\n",
       " \tO16            =\t0.04596235173645667 [ao]\n",
       " \tElements       , 2: Material\n",
       " \tID             =\t10001\n",
       " \tName           =\tzirconium\n",
       " \tTemperature    =\tNone\n",
       " \tDensity        =\t0.043239912356807096 [atom/b-cm]\n",
       " \tS(a,b) Tables  \n",
       " \tNuclides       \n",
       " \tZr90           =\t0.02224693490757725 [ao]\n",
       " \tZr91           =\t0.004851518166433756 [ao]\n",
       " \tZr92           =\t0.007415644969192417 [ao]\n",
       " \tZr94           =\t0.0075150967676130736 [ao]\n",
       " \tZr96           =\t0.0012107175459905987 [ao]\n",
       " \tElements       , 3: Material\n",
       " \tID             =\t10002\n",
       " \tName           =\twater\n",
       " \tTemperature    =\tNone\n",
       " \tDensity        =\t0.07031741794956034 [atom/b-cm]\n",
       " \tS(a,b) Tables  \n",
       " \tS(a,b)         =\tc_H_in_H2O\n",
       " \tNuclides       \n",
       " \tH1             =\t0.04687827863304023 [ao]\n",
       " \tO16            =\t0.023439139316520113 [ao]\n",
       " \tElements       , 4: Material\n",
       " \tID             =\t10003\n",
       " \tName           =\tvoid\n",
       " \tTemperature    =\tNone\n",
       " \tDensity        =\t1.5045561256631663e-11 [atom/b-cm]\n",
       " \tS(a,b) Tables  \n",
       " \tNuclides       \n",
       " \tHe4            =\t1.5045561256631663e-11 [ao]\n",
       " \tElements       , 5: Material\n",
       " \tID             =\t10004\n",
       " \tName           =\tpyrex\n",
       " \tTemperature    =\tNone\n",
       " \tDensity        =\t0.07160544073484265 [atom/b-cm]\n",
       " \tS(a,b) Tables  \n",
       " \tNuclides       \n",
       " \tB10            =\t0.0009720584632356108 [ao]\n",
       " \tB11            =\t0.003912657432420725 [ao]\n",
       " \tO16            =\t0.046613496183709885 [ao]\n",
       " \tO17            =\t1.7719862097406772e-05 [ao]\n",
       " \tAl27           =\t0.001735468558739808 [ao]\n",
       " \tSi28           =\t0.016926646525591324 [ao]\n",
       " \tSi29           =\t0.0008598867849928476 [ao]\n",
       " \tSi30           =\t0.0005675069240550447 [ao]\n",
       " \tElements       }"
      ]
     },
     "execution_count": 9,
     "metadata": {},
     "output_type": "execute_result"
    }
   ],
   "source": [
    "su.materials"
   ]
  },
  {
   "cell_type": "markdown",
   "metadata": {
    "collapsed": true
   },
   "source": [
    "For relatively large models, the number of `Materials`, `Cells`, `Universes`, etc. may be unwieldy to digest in such a format. However, if we give our objects names (or labels) then we can easily retrieve them directly from the `Geometry`. For example, let's retrieve the `Material` named `'uo2'`:"
   ]
  },
  {
   "cell_type": "code",
   "execution_count": 10,
   "metadata": {
    "collapsed": false
   },
   "outputs": [
    {
     "name": "stdout",
     "output_type": "stream",
     "text": [
      "[Material\n",
      "\tID             =\t10000\n",
      "\tName           =\tuo2\n",
      "\tTemperature    =\tNone\n",
      "\tDensity        =\t0.06893778646941781 [atom/b-cm]\n",
      "\tS(a,b) Tables  \n",
      "\tNuclides       \n",
      "\tU235           =\t0.0005581537165393287 [ao]\n",
      "\tU238           =\t0.022417281016421806 [ao]\n",
      "\tO16            =\t0.04596235173645667 [ao]\n",
      "\tElements       \n",
      "]\n"
     ]
    }
   ],
   "source": [
    "fuel = su.openmc_geometry.get_materials_by_name('uo2')\n",
    "print(fuel)"
   ]
  },
  {
   "cell_type": "markdown",
   "metadata": {},
   "source": [
    "As we can see, the `get_materials_by_name(...)` method will return a `list` of all `Material` objects with the name `'uo2'` - in  this case, there is only one such `Material`. Let's now retrieve the `Material` named `'water'`, as well as the `Cell` objects named `'fuel'` and `'moderator'`:"
   ]
  },
  {
   "cell_type": "code",
   "execution_count": 11,
   "metadata": {
    "collapsed": false
   },
   "outputs": [],
   "source": [
    "# Extract moderator Material\n",
    "water = su.openmc_geometry.get_materials_by_name('water')\n",
    "\n",
    "# Extract fuel and moderator Cells\n",
    "fuel_cell = su.openmc_geometry.get_cells_by_name('fuel')\n",
    "moderator_cell = su.openmc_geometry.get_cells_by_name('moderator')"
   ]
  },
  {
   "cell_type": "markdown",
   "metadata": {},
   "source": [
    "We will return to use these `Material` and `Cell` objects later when we process some of our `Tallies`."
   ]
  },
  {
   "cell_type": "markdown",
   "metadata": {},
   "source": [
    "#### Access Fission Source Sites"
   ]
  },
  {
   "cell_type": "markdown",
   "metadata": {
    "collapsed": true
   },
   "source": [
    "The `StatePoint` contains all of the fission source sites for the corresponding batch in the `source` NumPy array. This array includes the following information about each source:\n",
    "\n",
    "* Energy (`\"E\"`)\n",
    "* Location (`\"xyz\"`)\n",
    "* Direction (`\"uvw\"`)\n",
    "\n",
    "Let's inspect the energies (in MeV) indexed by key `\"E\"`:"
   ]
  },
  {
   "cell_type": "code",
   "execution_count": 12,
   "metadata": {
    "collapsed": false
   },
   "outputs": [
    {
     "data": {
      "text/plain": [
       "array([ 1001973.74152662,  1803002.47293576,  2520772.62322338, ...,\n",
       "         444280.60228535,  1068565.5113861 ,   276362.8347899 ])"
      ]
     },
     "execution_count": 12,
     "metadata": {},
     "output_type": "execute_result"
    }
   ],
   "source": [
    "sp.source['E']"
   ]
  },
  {
   "cell_type": "markdown",
   "metadata": {},
   "source": [
    "To make things more interesting, we can use NumPy and Matplotlib to plot a histogram of those energies in the `source` array."
   ]
  },
  {
   "cell_type": "code",
   "execution_count": 13,
   "metadata": {
    "collapsed": false
   },
   "outputs": [
    {
     "data": {
      "text/plain": [
       "<matplotlib.text.Text at 0x7f674d261c88>"
      ]
     },
     "execution_count": 13,
     "metadata": {},
     "output_type": "execute_result"
    },
    {
     "data": {
      "image/png": "[encoded data removed]",
      "text/plain": [
       "<matplotlib.figure.Figure at 0x7f674d231668>"
      ]
     },
     "metadata": {},
     "output_type": "display_data"
    }
   ],
   "source": [
    "# Create log-spaced energy bins from 1 keV to 100 MeV\n",
    "energy_bins = np.logspace(np.log10(1e3), np.log10(1e8), 100)\n",
    "\n",
    "# Calculate pdf for source energies\n",
    "probability, bin_edges = np.histogram(sp.source['E'], energy_bins, density=True)\n",
    "\n",
    "# Plot source energy PDF\n",
    "plt.semilogx(energy_bins[:-1], probability*np.diff(energy_bins), linestyle='steps')\n",
    "plt.xlabel('Energy (MeV)')\n",
    "plt.ylabel('Probability/MeV')"
   ]
  },
  {
   "cell_type": "markdown",
   "metadata": {},
   "source": [
    "## Tally Data Extraction"
   ]
  },
  {
   "cell_type": "markdown",
   "metadata": {},
   "source": [
    "#### Extracting Tallies from a `StatePoint`"
   ]
  },
  {
   "cell_type": "markdown",
   "metadata": {},
   "source": [
    "Our `StatePoint` also has a number of different `Tally` objects stored in the `StatePoint.tallies` as a `dict`. We can inspect one the `Tally` objects by directly indexing into `tallies` with the appropriate ID:"
   ]
  },
  {
   "cell_type": "code",
   "execution_count": 14,
   "metadata": {
    "collapsed": false
   },
   "outputs": [
    {
     "name": "stdout",
     "output_type": "stream",
     "text": [
      "Tally\n",
      "\tID             =\t10000\n",
      "\tName           =\tmesh fission\n",
      "\tFilters        =\tMeshFilter\n",
      "\tNuclides       =\tU235 U238 \n",
      "\tScores         =\t['fission']\n",
      "\tEstimator      =\ttracklength\n",
      "\n"
     ]
    }
   ],
   "source": [
    "print(sp.tallies[10000])"
   ]
  },
  {
   "cell_type": "markdown",
   "metadata": {},
   "source": [
    "As we can see, the `Tally` with ID=10000 is called `\"mesh fission\"` and has a `\"mesh\"` `Filter`, a `\"fission\"` score and two `\"U-235\"` and `\"U-238\"` nuclide bins. In addition, the `Tally` was computed with a `\"tracklength\"` estimator.\n",
    "\n",
    "Although it may be convenient to directly index into the `tallies` collection for problems with only a handful of `Tally` objects, this is not a robust or scalable approach for problems with many `Tally` objects. Instead, we recommend the use of the `StatePoint.get_tally(...)` method which allows one to retrieve a `Tally` object with an arbitrary subset or combination of the following information:\n",
    "\n",
    "* integer ID\n",
    "* string name\n",
    "* one or more string scores\n",
    "* one or more `Filter` objects\n",
    "* one or more string nuclides\n",
    "\n",
    "As an example, let's retrieve the `Tally` using its string name:"
   ]
  },
  {
   "cell_type": "code",
   "execution_count": 15,
   "metadata": {
    "collapsed": false
   },
   "outputs": [],
   "source": [
    "mesh_fiss = sp.get_tally(name='mesh fission')"
   ]
  },
  {
   "cell_type": "markdown",
   "metadata": {},
   "source": [
    "As we can see, this has extracted the `Tally` with the name `\"mesh_fiss\"` into a new Python variable called `mesh_fiss`. Let's proceed to extract all of the `Tally` objects into their own respective variables."
   ]
  },
  {
   "cell_type": "code",
   "execution_count": 16,
   "metadata": {
    "collapsed": false
   },
   "outputs": [],
   "source": [
    "flux = sp.get_tally(name='flux')\n",
    "distribcell = sp.get_tally(name='distribcell')\n",
    "therm_abs = sp.get_tally(name='thermal absorption')\n",
    "tot_abs = sp.get_tally(name='total absorption')"
   ]
  },
  {
   "cell_type": "markdown",
   "metadata": {},
   "source": [
    "#### Extracting Data from a `Tally`"
   ]
  },
  {
   "cell_type": "markdown",
   "metadata": {},
   "source": [
    "The obvious first thing you may wish to do with a `Tally` object is to inspect the batch mean values in each bin. To start, let's inspect the type of the `Tally.mean` property to determine that it is a NumPy array:"
   ]
  },
  {
   "cell_type": "code",
   "execution_count": 17,
   "metadata": {
    "collapsed": false
   },
   "outputs": [
    {
     "name": "stdout",
     "output_type": "stream",
     "text": [
      "<class 'numpy.ndarray'>\n"
     ]
    }
   ],
   "source": [
    "print(type(mesh_fiss.mean))"
   ]
  },
  {
   "cell_type": "markdown",
   "metadata": {},
   "source": [
    "Next, let's use the `ndarray.shape` attribute to determine the number of dimensions are contained within our `mean` NumPy array:"
   ]
  },
  {
   "cell_type": "code",
   "execution_count": 18,
   "metadata": {
    "collapsed": false
   },
   "outputs": [
    {
     "name": "stdout",
     "output_type": "stream",
     "text": [
      "(289, 2, 1)\n"
     ]
    }
   ],
   "source": [
    "print(mesh_fiss.mean.shape)"
   ]
  },
  {
   "cell_type": "markdown",
   "metadata": {},
   "source": [
    "This result informs us that `mesh_fiss` has a 3D mean array with dimensions 289 $\\times$ 2 $\\times$ 1. In fact all `Tally` objects in OpenMC store a `mean` array using three dimensions corresponding to the following:\n",
    "\n",
    "* `Filter` bins\n",
    "* Nuclide bins\n",
    "* Score bins\n",
    "\n",
    "In our case, the first dimension with length 289 corresponds to 289 `Mesh` `Filter` bins for the 17 $\\times$ 17 PWR assembly. The second dimension of length 2 corresponds to the `\"U235\"` and `\"U238\"` nuclide bins while the final dimension corresponds to our single `\"fission\"` score bin.\n",
    "\n",
    "Now that we understand how data is stored and indexed, let's inspect the data for the first five `Mesh` `Filter` bins:"
   ]
  },
  {
   "cell_type": "code",
   "execution_count": 19,
   "metadata": {
    "collapsed": false
   },
   "outputs": [
    {
     "name": "stdout",
     "output_type": "stream",
     "text": [
      "[[[ 0.00173925]\n",
      "  [ 0.00010854]]\n",
      "\n",
      " [[ 0.0016806 ]\n",
      "  [ 0.00010329]]\n",
      "\n",
      " [[ 0.00170297]\n",
      "  [ 0.00010713]]\n",
      "\n",
      " [[ 0.00174387]\n",
      "  [ 0.00010558]]\n",
      "\n",
      " [[ 0.00176459]\n",
      "  [ 0.00010606]]]\n"
     ]
    }
   ],
   "source": [
    "print(mesh_fiss.mean[:5,:,:])"
   ]
  },
  {
   "cell_type": "markdown",
   "metadata": {},
   "source": [
    "We can similarly inspect the standard deviation for our tally data which is stored in the `std_dev` array:"
   ]
  },
  {
   "cell_type": "code",
   "execution_count": 20,
   "metadata": {
    "collapsed": false
   },
   "outputs": [
    {
     "name": "stdout",
     "output_type": "stream",
     "text": [
      "[[[  3.48491776e-05]\n",
      "  [  1.41477774e-06]]\n",
      "\n",
      " [[  2.54191884e-05]\n",
      "  [  1.18732022e-06]]\n",
      "\n",
      " [[  3.11231378e-05]\n",
      "  [  1.38949426e-06]]\n",
      "\n",
      " [[  2.65179147e-05]\n",
      "  [  1.29510080e-06]]\n",
      "\n",
      " [[  2.51052888e-05]\n",
      "  [  1.19206849e-06]]]\n"
     ]
    }
   ],
   "source": [
    "print(mesh_fiss.std_dev[:5,:,:])"
   ]
  },
  {
   "cell_type": "markdown",
   "metadata": {},
   "source": [
    "Of course since the data is stored in NumPy arrays, we can easily compute the percent relative error of each tally value simply by dividing the `std_dev` array by the `mean` array:"
   ]
  },
  {
   "cell_type": "code",
   "execution_count": 21,
   "metadata": {
    "collapsed": false
   },
   "outputs": [
    {
     "name": "stdout",
     "output_type": "stream",
     "text": [
      "[[[ 2.00369332]\n",
      "  [ 1.30350264]]\n",
      "\n",
      " [[ 1.5125041 ]\n",
      "  [ 1.14945678]]\n",
      "\n",
      " [[ 1.8275783 ]\n",
      "  [ 1.29696594]]\n",
      "\n",
      " [[ 1.52063399]\n",
      "  [ 1.2267045 ]]\n",
      "\n",
      " [[ 1.4227284 ]\n",
      "  [ 1.12398824]]]\n"
     ]
    }
   ],
   "source": [
    "rel_err = mesh_fiss.std_dev / mesh_fiss.mean * 100.\n",
    "print(rel_err[:5,:,:])"
   ]
  },
  {
   "cell_type": "markdown",
   "metadata": {},
   "source": [
    "Although we can directly access the `mean` and `std_dev` arrays in our `Tally` object, this is not a scalable or flexible approach for sophisticated simulation workflows. In many situations you may wish to extract a subset of the data from a `Tally` for some analysis. The `Tally.get_values(...)` method is an attractive alternative for these cases. \n",
    "\n",
    "Let's consider the extraction of data from our `mesh_fiss` `Tally` specifically for `\"U235\"` into a new NumPy array variable called `u235_fission`:"
   ]
  },
  {
   "cell_type": "code",
   "execution_count": 22,
   "metadata": {
    "collapsed": false
   },
   "outputs": [
    {
     "name": "stdout",
     "output_type": "stream",
     "text": [
      "(289, 1, 1)\n"
     ]
    }
   ],
   "source": [
    "u235_fission = mesh_fiss.get_values(nuclides=['U235'])\n",
    "print(u235_fission.shape)"
   ]
  },
  {
   "cell_type": "markdown",
   "metadata": {},
   "source": [
    "As we can see, the `u235_fission` array has dimensions 289 $\\times$ 1 $\\times$ 1 as expected. "
   ]
  },
  {
   "cell_type": "markdown",
   "metadata": {},
   "source": [
    "## Plotting `Tally` Data"
   ]
  },
  {
   "cell_type": "markdown",
   "metadata": {},
   "source": [
    "OpenMC's tight coupling with Python permits us to generate nice plots of our tally data directly from within the Jupyter Notebook."
   ]
  },
  {
   "cell_type": "markdown",
   "metadata": {},
   "source": [
    "#### Plotting Mesh Tallies"
   ]
  },
  {
   "cell_type": "markdown",
   "metadata": {},
   "source": [
    "For our first example, we will use Matplotlib to plot the fission rate mesh tally in the `mesh_fiss` `Tally`. First, let's extract the `\"U235\"` fission rate mean and relative error arrays into their own respective variables:"
   ]
  },
  {
   "cell_type": "code",
   "execution_count": 23,
   "metadata": {
    "collapsed": true
   },
   "outputs": [],
   "source": [
    "mean = mesh_fiss.get_values(nuclides=['U235'], value='mean')\n",
    "rel_err = mesh_fiss.get_values(nuclides=['U235'], value='rel_err')"
   ]
  },
  {
   "cell_type": "markdown",
   "metadata": {},
   "source": [
    "We will use Matplotlib to plot 2D heatmaps of arrays. In order to do so, we must first reshape our arrays to be 2D corresponding to the 17 $\\times$ 17 `Mesh`:"
   ]
  },
  {
   "cell_type": "code",
   "execution_count": 24,
   "metadata": {
    "collapsed": false
   },
   "outputs": [],
   "source": [
    "# Reshape the arrays\n",
    "mean.shape = (17, 17)\n",
    "rel_err.shape = (17, 17)"
   ]
  },
  {
   "cell_type": "markdown",
   "metadata": {},
   "source": [
    "Now we can use Matplotlib's `imshow` method to display our data side-by-side:"
   ]
  },
  {
   "cell_type": "code",
   "execution_count": null,
   "metadata": {
    "collapsed": false
   },
   "outputs": [
    {
     "data": {
      "image/png": "[encoded data removed]",
      "text/plain": [
       "<matplotlib.figure.Figure at 0x7f674d0f6860>"
      ]
     },
     "metadata": {},
     "output_type": "display_data"
    }
   ],
   "source": [
    "# Plot OpenMC's fission rates in the left subplot\n",
    "fig = plt.subplot(121)\n",
    "plt.imshow(mean, interpolation='none', cmap='jet')\n",
    "plt.title('Mean')\n",
    "plt.grid(False)\n",
    "\n",
    "# Plot OpenMOC's fission rates in the right subplot\n",
    "fig2 = plt.subplot(122)\n",
    "plt.imshow(rel_err, interpolation='none', cmap='jet')\n",
    "plt.title('Rel. Err.')\n",
    "plt.grid(False)"
   ]
  },
  {
   "cell_type": "markdown",
   "metadata": {},
   "source": [
    "This mesh tally of fission rates particularly informative since the dark blue guide tube do not have any fission and skew the color bar. We can rectify this issue with a little trick to Matplotlib's color scheme as follows."
   ]
  },
  {
   "cell_type": "code",
   "execution_count": null,
   "metadata": {
    "collapsed": false
   },
   "outputs": [],
   "source": [
    "# Assign a NaN to zero fission rates in guide tubes\n",
    "# Matplotlib will ignore \"bad\" values in the colorbar\n",
    "mean[mean == 0.] = np.nan\n",
    "cmap = plt.get_cmap('jet')\n",
    "cmap.set_bad(alpha=0.)\n",
    "\n",
    "# Plot fission rates in the left subplot\n",
    "fig = plt.subplot(121)\n",
    "plt.imshow(mean, interpolation='none', cmap=cmap)\n",
    "plt.title('Mean')\n",
    "plt.grid(False)\n",
    "\n",
    "# Plot relative errors in the right subplot\n",
    "fig2 = plt.subplot(122)\n",
    "plt.imshow(rel_err, interpolation='none', cmap='jet')\n",
    "plt.title('Rel. Err.')\n",
    "plt.grid(False)"
   ]
  },
  {
   "cell_type": "markdown",
   "metadata": {},
   "source": [
    "## Plotting Flux Tallies"
   ]
  },
  {
   "cell_type": "markdown",
   "metadata": {
    "collapsed": true
   },
   "source": [
    "For our second example we will plot the neutron flux in energy across the fuel assembly. The neutron flux is encapsulated by the `flux` `Tally` that we extracted from the `StatePoint`. First, let's extract the mean values into an NumPy array variable called `fluxes`:"
   ]
  },
  {
   "cell_type": "code",
   "execution_count": null,
   "metadata": {
    "collapsed": true
   },
   "outputs": [],
   "source": [
    "# Extract the flux mean values array\n",
    "fluxes = flux.mean.flatten()\n",
    "\n",
    "# Extend the flux array for Matplotlib's step plot\n",
    "fluxes = np.insert(fluxes, 0, fluxes[0])"
   ]
  },
  {
   "cell_type": "markdown",
   "metadata": {},
   "source": [
    "Next we will extract the energies for each tally bin by retrieving the `EnergyFilter` using the `Tally.find_filter(...)` method:"
   ]
  },
  {
   "cell_type": "code",
   "execution_count": null,
   "metadata": {
    "collapsed": false
   },
   "outputs": [],
   "source": [
    "# Extract the EnergyFilter from the Tally\n",
    "energy_filter = flux.find_filter(openmc.EnergyFilter)\n",
    "energies = energy_filter.bins"
   ]
  },
  {
   "cell_type": "markdown",
   "metadata": {},
   "source": [
    "Finally, we can plot the flux data in a log-log plot with Matplotlib:"
   ]
  },
  {
   "cell_type": "code",
   "execution_count": null,
   "metadata": {
    "collapsed": false
   },
   "outputs": [],
   "source": [
    "fig = plt.figure()\n",
    "plt.loglog(energies, fluxes, drawstyle='steps', c='r')\n",
    "plt.xlabel('Energy [eV]')\n",
    "plt.ylabel('Flux')"
   ]
  },
  {
   "cell_type": "markdown",
   "metadata": {},
   "source": [
    "The plot exhibits high and low energy peaks as well as degradation in the resonance region just as we expect for an LWR."
   ]
  },
  {
   "cell_type": "markdown",
   "metadata": {},
   "source": [
    "## Pandas DataFrames"
   ]
  },
  {
   "cell_type": "markdown",
   "metadata": {},
   "source": [
    "The preceding section highlighted how to directly extract raw data from a `Tally` object as NumPy arrays. One primary difficulty that may arise with tally data processing is that the data in a simple NumPy array is *opaque* - *i.e.*, it is not clear which data points correspond to which `Filter`, nuclide or score bins. This section illustrates a powerful of OpenMC's Python API which leverages the [Pandas](http://pandas.pydata.org/) data analysis library. The Pandas package is rich and extensive. In this section we will focus on the use of Pandas `DataFrame` objects to encapsulate tally data."
   ]
  },
  {
   "cell_type": "markdown",
   "metadata": {},
   "source": [
    "#### Get a Pandas `DataFrame` of `Tally` Data"
   ]
  },
  {
   "cell_type": "markdown",
   "metadata": {},
   "source": [
    "A Pandas DataFrame may be retrieved from any OpenMC `Tally` object through the `Tally.get_pandas_dataframe(...)` method. Let's give it a try and build a `DataFrame` in a variable called `df` for our `Tally` called `mesh_fiss`:"
   ]
  },
  {
   "cell_type": "code",
   "execution_count": null,
   "metadata": {
    "collapsed": false
   },
   "outputs": [],
   "source": [
    "df = mesh_fiss.get_pandas_dataframe()"
   ]
  },
  {
   "cell_type": "markdown",
   "metadata": {},
   "source": [
    "We can easily inspect a Pandas DataFrame in the Jupyter Notebook by simply ending a cell with the variable holding a `DataFrame`. Due to the size of the dataset in our `mesh_fiss` `Tally` we will use the `DataFrame.head(...)` method to restrict the output to only the first 10 rows on the `DataFrame`:"
   ]
  },
  {
   "cell_type": "code",
   "execution_count": null,
   "metadata": {
    "collapsed": false
   },
   "outputs": [],
   "source": [
    "df.head(10)"
   ]
  },
  {
   "cell_type": "markdown",
   "metadata": {},
   "source": [
    "As we can see, the Pandas `DataFrame` presents the data in a human-friendly format with the filter, nuclide and score information along with the estimated means and standard deviations. Let's inspect the Pandas DataFrame the same for the `flux` `Tally`:"
   ]
  },
  {
   "cell_type": "code",
   "execution_count": null,
   "metadata": {
    "collapsed": false
   },
   "outputs": [],
   "source": [
    "df = flux.get_pandas_dataframe()\n",
    "df.head(10)"
   ]
  },
  {
   "cell_type": "markdown",
   "metadata": {},
   "source": [
    "The Pandas DataFrames feature supports all possible combinations of `Filters`, nuclides and scores which may be composed into a `Tally` objects. As a final example, let's consider the `distribcell` `Tally` which uses a \"distribcell\" `Filter`:"
   ]
  },
  {
   "cell_type": "code",
   "execution_count": null,
   "metadata": {
    "collapsed": false
   },
   "outputs": [],
   "source": [
    "df = distribcell.get_pandas_dataframe()\n",
    "df.head(10)"
   ]
  },
  {
   "cell_type": "markdown",
   "metadata": {},
   "source": [
    "#### Pandas Fancy Indexing"
   ]
  },
  {
   "cell_type": "markdown",
   "metadata": {},
   "source": [
    "Although Pandas DataFrames present complex tally data in a visually-appealing tabular format, the real power of Pandas is through its rich feature set for data munging and modeling. Unfortunately, we don't have time in this workshop to even scratch the surface of what is possible with Pandas, but we will highlight one nice feature in fancy indexing here.\n",
    "\n",
    "First, Pandas supports fance indexing schemes to permit easy selection of subsets of data from a `DataFrame`. For example, consider the case where we may wish to create a `DataFrame` in a variable called `sub_df` with only the \"U235\" tally data in the `mesh_fiss` `Tally:"
   ]
  },
  {
   "cell_type": "code",
   "execution_count": null,
   "metadata": {
    "collapsed": false
   },
   "outputs": [],
   "source": [
    "df = mesh_fiss.get_pandas_dataframe()\n",
    "sub_df = df[df['nuclide'] == 'U235']\n",
    "sub_df.head(5)"
   ]
  },
  {
   "cell_type": "markdown",
   "metadata": {},
   "source": [
    "Now consider the case where we wish to select from `sub_df` those mesh cells which have a \"fission\" rate that is above the average:"
   ]
  },
  {
   "cell_type": "code",
   "execution_count": null,
   "metadata": {
    "collapsed": false
   },
   "outputs": [],
   "source": [
    "# Replace 0's with NaN to eliminate them from average\n",
    "sub_df = sub_df.replace(0, np.nan)\n",
    "\n",
    "# Extract rows corresponding to above average fission rates\n",
    "indices = sub_df['mean'] > sub_df['mean'].mean()\n",
    "above_avg = sub_df[indices]\n",
    "above_avg.head(5)"
   ]
  },
  {
   "cell_type": "markdown",
   "metadata": {},
   "source": [
    "Finally, let's use Pandas fancy indexing to select the data corresponding to those mesh cells in the lower left triangle of the mesh:"
   ]
  },
  {
   "cell_type": "code",
   "execution_count": null,
   "metadata": {
    "collapsed": false
   },
   "outputs": [],
   "source": [
    "indices = df[('mesh 10000', 'x')] > df[('mesh 10000', 'y')]\n",
    "lower = df[indices]\n",
    "lower.head(5)"
   ]
  },
  {
   "cell_type": "markdown",
   "metadata": {},
   "source": [
    "## Tally Manipulations"
   ]
  },
  {
   "cell_type": "markdown",
   "metadata": {},
   "source": [
    "The OpenMC Python API supports a rich variety of methods to manipulate and combine `Tally` objects. The following sections briefly illustrate how to \"slicing\" and \"summing\" of `Tally` objects, as well as \"`Tally` arithmetic\" operations."
   ]
  },
  {
   "cell_type": "markdown",
   "metadata": {},
   "source": [
    "#### Tally Slicing"
   ]
  },
  {
   "cell_type": "markdown",
   "metadata": {
    "collapsed": true
   },
   "source": [
    "In some cases a `Tally` may have data for multiple `Filter` bins, nuclides or scores which must be treated separately in a downstream data processing workflow. The `Tally.get_slice(...)` method is custom designed to \"slice\" apart `Tally` objects into multiple \"sub\"-`Tally` objects by `Filter` bin(s), nuclide(s) and/or score(s).\n",
    "\n",
    "As an example, let's consider our `distribcell` `Tally` object which has two scores (\"absorption\" and \"fission\") and two nuclides (\"U235\" and \"U238\"). First, we will slice `distribcell` into two new `Tally` objects for each score in the new variables `fission` and `absorption`:"
   ]
  },
  {
   "cell_type": "code",
   "execution_count": null,
   "metadata": {
    "collapsed": false
   },
   "outputs": [],
   "source": [
    "# FIXME: Need to show sliced tally (print)\n",
    "fission = distribcell.get_slice(scores=['fission'])\n",
    "absorption = distribcell.get_slice(scores=['absorption'])\n",
    "print(fission)\n",
    "print(absorption)"
   ]
  },
  {
   "cell_type": "markdown",
   "metadata": {
    "collapsed": true
   },
   "source": [
    "Similarly, we can slice apart the `Tally` objects in `fission` and `absorption` by nuclide:"
   ]
  },
  {
   "cell_type": "code",
   "execution_count": null,
   "metadata": {
    "collapsed": false
   },
   "outputs": [],
   "source": [
    "u235_fission = fission.get_slice(nuclides=['U235'])\n",
    "u238_absorption = absorption.get_slice(nuclides=['U238'])\n",
    "print(u235_fission)\n",
    "print(u238_absorption)"
   ]
  },
  {
   "cell_type": "markdown",
   "metadata": {},
   "source": [
    "As we have shown, `Tally` \"slicing\" returns a new `Tally` object which encapsulates only the data of interest. The original `Tally` remains intact and the new \"sliced\" `Tally` object supports the complete `Tally` API as does the original `Tally`. These two examples simply illustrate the basic concept of `Tally` \"slicing\" - `Tally.get_slice(...)` method supports arbitrary slicing over `Filter` bins and/or nuclides and/or scores simultaneously."
   ]
  },
  {
   "cell_type": "markdown",
   "metadata": {},
   "source": [
    "#### Tally Summation"
   ]
  },
  {
   "cell_type": "markdown",
   "metadata": {
    "collapsed": true
   },
   "source": [
    "In some scenarios it may be useful to perform a summation across `Filter` bins, nuclides or scores within a single `Tally`. The `Tally.summation(...)` method is custom built for such purposes. Similar to the `Tally` \"slicing,\" `Tally` \"summation\" returns a new `Tally` object which encapsulates the summation of the underlying data.\n",
    "\n",
    "As an example, let's compute the sum across nuclides \"U235\" and \"U238\" in our `distribcell` `Tally` object:"
   ]
  },
  {
   "cell_type": "code",
   "execution_count": null,
   "metadata": {
    "collapsed": false
   },
   "outputs": [],
   "source": [
    "# Sum across nuclides\n",
    "u235_plus_u238 = distribcell.summation(nuclides=['U235', 'U238'])\n",
    "print(u235_plus_u238)"
   ]
  },
  {
   "cell_type": "markdown",
   "metadata": {},
   "source": [
    "The new `Tally` \"sum\" object in `u235_plus_u238` includes all of the same properties and methods as the original `distribcell` `Tally` object from which it came. As an example, we can report the first ten rows of the Pandas DataFrame for this `Tally` \"sum\":"
   ]
  },
  {
   "cell_type": "code",
   "execution_count": null,
   "metadata": {
    "collapsed": false
   },
   "outputs": [],
   "source": [
    "df = u235_plus_u238.get_pandas_dataframe()\n",
    "df.head(10)"
   ]
  },
  {
   "cell_type": "markdown",
   "metadata": {},
   "source": [
    "As we can see from the `DataFrame`, `Tally.summation(...)` propagates the uncertainties through the summation. Note that the standard deviation is a biased estimate since `Tally.summation(...)` only uses a first order estimate of the uncertainty of the sum of random variables.\n",
    "\n",
    "As we have shown, `Tally` \"summation\" returns a new `Tally` object which encapsulates a sum over the data of interest. The original `Tally` remains intact and the new `Tally` \"sum\" object supports the complete `Tally` API as does the original `Tally`. These two examples simply illustrate the basic concept of `Tally` \"summation\" - `Tally.summation(...)` method supports arbitrary summing over `Filter` bins and/or nuclides and/or scores simultaneously."
   ]
  },
  {
   "cell_type": "markdown",
   "metadata": {},
   "source": [
    "#### Tally Arithmetic"
   ]
  },
  {
   "cell_type": "markdown",
   "metadata": {},
   "source": [
    "In many data workflows, one may arithmetically combine multiple tallies. This can be labor intensive and prone to errors, especially if the uncertainties must be propagated through the calculation. In many cases, users develop a data processsing apparatus \"hard coded\" for their particular use case. To mitigate this hassle for our users, we have developed a general toolbox of data processing features collectively collectively as \"`Tally` arithmetic\".\n",
    "\n",
    "The OpenMC Python API allows multiple `Tally` objects to be direcly combined with each other using the basic binary operators for addition(\"+\"), subtraction (\"-\"), multiplication (\"\\*\") and division (\"/\"). In each case, the arithmetic operation is \"broacast\" across all `Filter` bins, nuclides and score bins in each of the `Tally` operands through a fast, vectorized NumPy array operation.\n",
    "\n",
    "As an example, we can divide the `therm_abs` and `tot_abs` variables to compute the resonance escape probability which is defined as: $$p=\\frac{\\langle\\Sigma_a\\phi\\rangle_T}{\\langle\\Sigma_a\\phi\\rangle}$$ where the subscript $T$ means thermal energies."
   ]
  },
  {
   "cell_type": "code",
   "execution_count": null,
   "metadata": {
    "collapsed": false
   },
   "outputs": [],
   "source": [
    "res_esc = therm_abs / tot_abs\n",
    "res_esc.get_pandas_dataframe()"
   ]
  },
  {
   "cell_type": "markdown",
   "metadata": {},
   "source": [
    "Based on this analysis, our PWR fuel assembly has a resonance escape probability of ~72%. `Tally` \"arithmetic\" returns a new `Tally` object which encapsulates the operation over the data from the two `Tally` operands. The original `Tally` operands remain intact and the new resultant `Tally` object supports the complete `Tally` API as did the original `Tally` operands. As was the case for `Tally` summation, `Tally` arithmetic propagates the uncertainties through the calculation such that we have a mean and a standard deviation for the combined `Tally` object."
   ]
  },
  {
   "cell_type": "markdown",
   "metadata": {},
   "source": [
    "As a second example, let's consider a situation where we want to leverage `Tally` arithmetic's vectorized data processing framework. We will compute the dividend between the U-235 fission and U-235 absorption from our `distribcell` `Tally` which we sliced into `u235_fission` and `u238_absorption`:"
   ]
  },
  {
   "cell_type": "code",
   "execution_count": null,
   "metadata": {
    "collapsed": false
   },
   "outputs": [],
   "source": [
    "fiss_over_abs = u235_fission / u238_absorption\n",
    "df = fiss_over_abs.get_pandas_dataframe()\n",
    "df.head(10)"
   ]
  },
  {
   "cell_type": "markdown",
   "metadata": {},
   "source": [
    "We can easily view the distribution of the mean values in the Pandas `DataFrame` using the handy `plot(...)` method:"
   ]
  },
  {
   "cell_type": "code",
   "execution_count": null,
   "metadata": {
    "collapsed": false
   },
   "outputs": [],
   "source": [
    "df.plot(kind='scatter', x='distribcell', y='mean')"
   ]
  },
  {
   "cell_type": "markdown",
   "metadata": {},
   "source": [
    "As one might expect, there is a clear trend in the data indicative of the different spatial self-shielding effects for those pins in the center of the assembly adjacent to control rod guide tubes in contrast to those pins near the outer boundaries of the assembly.\n",
    "\n",
    "One common application of `Tally` arithmetic is the calculation of multi-group cross sections (MGXS) which we will explore in the final two examples. Our `StatePoint` includes `Tally` objects necessary to compute a total MGXS - in particular, we need estimates of the total reaction rate as well as the flux to compute the total MGXS. In the following cell we extract two `Tally` objects, each with the name `\"total mgxs\"` but with `\"total\"` and `\"flux\"` scores:"
   ]
  },
  {
   "cell_type": "code",
   "execution_count": null,
   "metadata": {
    "collapsed": false
   },
   "outputs": [],
   "source": [
    "total = sp.get_tally(name='total mgxs', scores=['total'])\n",
    "flux = sp.get_tally(name='total mgxs', scores=['flux'])\n",
    "print(total, flux)"
   ]
  },
  {
   "cell_type": "markdown",
   "metadata": {},
   "source": [
    "As we can see, these `Tally` objects are for the `Cell` with ID=10000 (the fuel) and have an `\"energy\"` `Filter` with 8 energy groups. We can use `Tally` arithmetic to divide the total reaction rate by the flux to compute the 8-group total MGXS for the fuel assembly's fuel pins:"
   ]
  },
  {
   "cell_type": "code",
   "execution_count": null,
   "metadata": {
    "collapsed": false
   },
   "outputs": [],
   "source": [
    "total_mgxs = total / flux\n",
    "total_mgxs.get_pandas_dataframe()"
   ]
  },
  {
   "cell_type": "markdown",
   "metadata": {},
   "source": [
    "Here we have an 8-group total MGXS computed across all of the fuel pins in the fuel assembly with the propagated uncertainties in each group.\n",
    "\n",
    "Let's conclude by using `Tally` arithmetic to compute an 8-group scattering matrix. As before, we will extract two `Tally` objects, each with the name `\"scatter matrix\"` but with `\"scatter\"` and `\"flux\"` scores:"
   ]
  },
  {
   "cell_type": "code",
   "execution_count": null,
   "metadata": {
    "collapsed": false
   },
   "outputs": [],
   "source": [
    "scatter = sp.get_tally(name='scatter matrix', scores=['scatter-0'])\n",
    "flux = sp.get_tally(name='scatter matrix', scores=['flux'])\n",
    "print(scatter)\n",
    "print(flux)"
   ]
  },
  {
   "cell_type": "markdown",
   "metadata": {
    "collapsed": true
   },
   "source": [
    "As we can see, these `Tally` objects are for the `Cell` with ID=10003 (the moderator) and have an `\"energy\"` `Filter` with 8 energy groups. In addition, the `scatter` `Tally` has an `\"energyout\"` `Filter` with 8 energy groups, and includes the reaction rates for all nuclides in the moderator.\n",
    "\n",
    "We can use `Tally` arithmetic to divide the scattering reaction rates by the flux to compute the 8-group scattering matrix MGXS for the fuel assembly's moderator:"
   ]
  },
  {
   "cell_type": "code",
   "execution_count": null,
   "metadata": {
    "collapsed": false
   },
   "outputs": [],
   "source": [
    "# Compute scattering matrix MGXS\n",
    "scatter_matrix = scatter / flux\n",
    "df = scatter_matrix.get_pandas_dataframe()\n",
    "df.head(20)"
   ]
  },
  {
   "cell_type": "markdown",
   "metadata": {},
   "source": [
    "As we can see `Tally` arithmetic performs uncertainty propragation when computing each group-to-group constant for each nuclide. One should note that OpenMC includes a customized [`openmc.mgxs`](http://openmc.readthedocs.io/en/latest/pythonapi/index.html#openmc-mgxs-multi-group-cross-section-generation) Python module purpose-built for multi-group cross section generation using `Tally` arithmetic."
   ]
  }
 ],
 "metadata": {
  "kernelspec": {
   "display_name": "Python 3",
   "language": "python",
   "name": "python3"
  },
  "language_info": {
   "codemirror_mode": {
    "name": "ipython",
    "version": 3
   },
   "file_extension": ".py",
   "mimetype": "text/x-python",
   "name": "python",
   "nbconvert_exporter": "python",
   "pygments_lexer": "ipython3",
   "version": "3.5.2"
  }
 },
 "nbformat": 4,
 "nbformat_minor": 0
}
