{
 "cells": [
  {
   "cell_type": "code",
   "execution_count": 1,
   "metadata": {
    "collapsed": false
   },
   "outputs": [],
   "source": [
    "%matplotlib inline\n",
    "import matplotlib.pyplot as plt\n",
    "import numpy as np\n",
    "import seaborn as sns\n",
    "\n",
    "import openmc"
   ]
  },
  {
   "cell_type": "markdown",
   "metadata": {},
   "source": [
    "## StatePoint / Summary Files"
   ]
  },
  {
   "cell_type": "markdown",
   "metadata": {},
   "source": [
    "#### Load the HDF5 Files"
   ]
  },
  {
   "cell_type": "markdown",
   "metadata": {},
   "source": [
    "Let's begin by loading the statepoint HDF5 file for batch 100 into the Python API's `openmc.StatePoint` class:"
   ]
  },
  {
   "cell_type": "code",
   "execution_count": 2,
   "metadata": {
    "collapsed": false
   },
   "outputs": [],
   "source": [
    "sp = openmc.StatePoint('statepoint.100.h5')"
   ]
  },
  {
   "cell_type": "markdown",
   "metadata": {},
   "source": [
    "We will do the same for the summary HDF5 file by loading into the `openmc.Summary` class:"
   ]
  },
  {
   "cell_type": "code",
   "execution_count": 3,
   "metadata": {
    "collapsed": true
   },
   "outputs": [],
   "source": [
    "su = openmc.Summary('summary.h5')"
   ]
  },
  {
   "cell_type": "markdown",
   "metadata": {},
   "source": [
    "#### Inspect Simulation Metadata in `StatePoint`"
   ]
  },
  {
   "cell_type": "markdown",
   "metadata": {},
   "source": [
    "First, we can inspect the date and time at which the simulation was run:"
   ]
  },
  {
   "cell_type": "code",
   "execution_count": 4,
   "metadata": {
    "collapsed": false
   },
   "outputs": [
    {
     "data": {
      "text/plain": [
       "'2017-02-24 14:51:55'"
      ]
     },
     "execution_count": 4,
     "metadata": {},
     "output_type": "execute_result"
    }
   ],
   "source": [
    "sp.date_and_time"
   ]
  },
  {
   "cell_type": "markdown",
   "metadata": {},
   "source": [
    "Similarly, we can inspect the current batch for our `StatePoint`:"
   ]
  },
  {
   "cell_type": "code",
   "execution_count": 5,
   "metadata": {
    "collapsed": false
   },
   "outputs": [
    {
     "data": {
      "text/plain": [
       "100"
      ]
     },
     "execution_count": 5,
     "metadata": {},
     "output_type": "execute_result"
    }
   ],
   "source": [
    "sp.current_batch"
   ]
  },
  {
   "cell_type": "markdown",
   "metadata": {},
   "source": [
    "Likewise, we can find a number of other simulation parameters in the `StatePoint`:\n",
    "    \n",
    "* `n_batches` - # of batches\n",
    "* `n_inactive` - # of inactive batches\n",
    "* `n_particles` - # of particles per batch\n",
    "* `n_realizations` - # batches tallied to"
   ]
  },
  {
   "cell_type": "code",
   "execution_count": 6,
   "metadata": {
    "collapsed": false
   },
   "outputs": [
    {
     "name": "stdout",
     "output_type": "stream",
     "text": [
      "10 100 10000 90\n"
     ]
    }
   ],
   "source": [
    "print(sp.n_inactive, sp.n_batches, sp.n_particles, sp.n_realizations)"
   ]
  },
  {
   "cell_type": "markdown",
   "metadata": {},
   "source": [
    "OpenMC computes a number of estimators for the multiplication factor $k_{eff}$. Each of these estimators is stored as an attribute in the `StatePoint` class. We can report an ensemble-averaged estimator through the `StatePoint.k_combined` property with an `ndarray` storing the mean and uncertainty."
   ]
  },
  {
   "cell_type": "code",
   "execution_count": 7,
   "metadata": {
    "collapsed": false
   },
   "outputs": [
    {
     "data": {
      "text/plain": [
       "array([  1.27296671e+00,   8.08903971e-04])"
      ]
     },
     "execution_count": 7,
     "metadata": {},
     "output_type": "execute_result"
    }
   ],
   "source": [
    "sp.k_combined"
   ]
  },
  {
   "cell_type": "markdown",
   "metadata": {},
   "source": [
    "#### Extract Model Geometry and Materials from `Summary`"
   ]
  },
  {
   "cell_type": "markdown",
   "metadata": {
    "collapsed": true
   },
   "source": [
    "We next turn to consider the metadata stored in the `Summary` class. This class is used to store data that is *invariant* between batches - *e.g.*, the simulation geometric and materials models - rather than statistical estimators that vary by batch which are stored in the `StatePoint` files. First, we can find the entire OpenMC model built as a `Geometry` object in the `Summary.geometry` property:"
   ]
  },
  {
   "cell_type": "code",
   "execution_count": 8,
   "metadata": {
    "collapsed": false
   },
   "outputs": [
    {
     "data": {
      "text/plain": [
       "<openmc.geometry.Geometry at 0x7f6c01ee2fd0>"
      ]
     },
     "execution_count": 8,
     "metadata": {},
     "output_type": "execute_result"
    }
   ],
   "source": [
    "su.geometry"
   ]
  },
  {
   "cell_type": "markdown",
   "metadata": {},
   "source": [
    "In addition, the `Summary` includes properties to quickly and easily access the `Materials`, `Cells`, `Universes`, etc. directly. The following are included as properties in the `Summary`:\n",
    "\n",
    "* `materials` - `dict` of `Material` objects indexed by ID\n",
    "* `surfaces` - `dict` of `Surface` objects indexed by ID\n",
    "* `cells` - `dict` of `Cell` objects indexed by ID\n",
    "* `universes` - `dict` of `Universe` objects indexed by ID\n",
    "* `lattices` - `dict` of `Lattice` objects indexed by ID\n",
    "\n",
    "For example, let's inspect the `materials`:"
   ]
  },
  {
   "cell_type": "code",
   "execution_count": 9,
   "metadata": {
    "collapsed": false
   },
   "outputs": [
    {
     "data": {
      "text/plain": [
       "[Material\n",
       " \tID             =\t10000\n",
       " \tName           =\tuo2\n",
       " \tTemperature    =\tNone\n",
       " \tDensity        =\t0.06893778152090038 [atom/b-cm]\n",
       " \tS(a,b) Tables  \n",
       " \tNuclides       \n",
       " \tU235           =\t0.0005581536764737342 [ao]\n",
       " \tU238           =\t0.02241727940725633 [ao]\n",
       " \tO16            =\t0.045962348437170314 [ao]\n",
       " \tElements       , Material\n",
       " \tID             =\t10001\n",
       " \tName           =\tzirconium\n",
       " \tTemperature    =\tNone\n",
       " \tDensity        =\t0.04323990925294387 [atom/b-cm]\n",
       " \tS(a,b) Tables  \n",
       " \tNuclides       \n",
       " \tZr90           =\t0.022246933310639618 [ao]\n",
       " \tZr91           =\t0.004851517818180302 [ao]\n",
       " \tZr92           =\t0.007415644436879874 [ao]\n",
       " \tZr94           =\t0.007515096228161645 [ao]\n",
       " \tZr96           =\t0.0012107174590824284 [ao]\n",
       " \tElements       , Material\n",
       " \tID             =\t10002\n",
       " \tName           =\twater\n",
       " \tTemperature    =\tNone\n",
       " \tDensity        =\t0.0703174129020097 [atom/b-cm]\n",
       " \tS(a,b) Tables  \n",
       " \tS(a,b)         =\tc_H_in_H2O\n",
       " \tNuclides       \n",
       " \tH1             =\t0.04687827526800646 [ao]\n",
       " \tO16            =\t0.02343913763400323 [ao]\n",
       " \tElements       , Material\n",
       " \tID             =\t10003\n",
       " \tName           =\tvoid\n",
       " \tTemperature    =\tNone\n",
       " \tDensity        =\t1.5045560176625674e-11 [atom/b-cm]\n",
       " \tS(a,b) Tables  \n",
       " \tNuclides       \n",
       " \tHe4            =\t1.5045560176625674e-11 [ao]\n",
       " \tElements       , Material\n",
       " \tID             =\t10004\n",
       " \tName           =\tpyrex\n",
       " \tTemperature    =\tNone\n",
       " \tDensity        =\t0.07160534427009793 [atom/b-cm]\n",
       " \tS(a,b) Tables  \n",
       " \tNuclides       \n",
       " \tB10            =\t0.0009681493862549365 [ao]\n",
       " \tB11            =\t0.003916559928855742 [ao]\n",
       " \tO16            =\t0.04661348001853137 [ao]\n",
       " \tO17            =\t1.767320707250387e-05 [ao]\n",
       " \tAl27           =\t0.0017354662207675843 [ao]\n",
       " \tSi28           =\t0.016927849770746708 [ao]\n",
       " \tSi29           =\t0.0008595479126932906 [ao]\n",
       " \tSi30           =\t0.0005666178251757828 [ao]\n",
       " \tElements       ]"
      ]
     },
     "execution_count": 9,
     "metadata": {},
     "output_type": "execute_result"
    }
   ],
   "source": [
    "su.materials"
   ]
  },
  {
   "cell_type": "markdown",
   "metadata": {
    "collapsed": true
   },
   "source": [
    "For relatively large models, the number of `Materials`, `Cells`, `Universes`, etc. may be unwieldy to digest in such a format. However, if we give our objects names (or labels) then we can easily retrieve them directly from the `Geometry`. For example, let's retrieve the `Material` named `'uo2'`:"
   ]
  },
  {
   "cell_type": "code",
   "execution_count": 10,
   "metadata": {
    "collapsed": false
   },
   "outputs": [
    {
     "name": "stdout",
     "output_type": "stream",
     "text": [
      "[Material\n",
      "\tID             =\t10000\n",
      "\tName           =\tuo2\n",
      "\tTemperature    =\tNone\n",
      "\tDensity        =\t0.06893778152090038 [atom/b-cm]\n",
      "\tS(a,b) Tables  \n",
      "\tNuclides       \n",
      "\tU235           =\t0.0005581536764737342 [ao]\n",
      "\tU238           =\t0.02241727940725633 [ao]\n",
      "\tO16            =\t0.045962348437170314 [ao]\n",
      "\tElements       \n",
      "]\n"
     ]
    }
   ],
   "source": [
    "fuel = su.geometry.get_materials_by_name('uo2')\n",
    "print(fuel)"
   ]
  },
  {
   "cell_type": "markdown",
   "metadata": {},
   "source": [
    "#### Access Fission Source Sites"
   ]
  },
  {
   "cell_type": "markdown",
   "metadata": {
    "collapsed": true
   },
   "source": [
    "The `StatePoint` contains all of the fission source sites for the corresponding batch in the `source` NumPy array. This array includes the following information about each source:\n",
    "\n",
    "* Energy (`\"E\"`)\n",
    "* Location (`\"xyz\"`)\n",
    "* Direction (`\"uvw\"`)\n",
    "\n",
    "Let's inspect the energies (in MeV) indexed by key `\"E\"`:"
   ]
  },
  {
   "cell_type": "code",
   "execution_count": 11,
   "metadata": {
    "collapsed": false
   },
   "outputs": [
    {
     "data": {
      "text/plain": [
       "array([  189985.70998802,   388832.69492488,  1168505.54509699, ...,\n",
       "         601204.10213271,  4892278.40128772,   879207.73572189])"
      ]
     },
     "execution_count": 11,
     "metadata": {},
     "output_type": "execute_result"
    }
   ],
   "source": [
    "sp.source['E']"
   ]
  },
  {
   "cell_type": "markdown",
   "metadata": {},
   "source": [
    "To make things more interesting, we can use NumPy and Matplotlib to plot a histogram of those energies in the `source` array."
   ]
  },
  {
   "cell_type": "code",
   "execution_count": 12,
   "metadata": {
    "collapsed": false
   },
   "outputs": [
    {
     "data": {
      "text/plain": [
       "<matplotlib.text.Text at 0x7f6c01e311d0>"
      ]
     },
     "execution_count": 12,
     "metadata": {},
     "output_type": "execute_result"
    },
    {
     "data": {
      "image/png": "[encoded data removed]",
      "text/plain": [
       "<matplotlib.figure.Figure at 0x7f6c01e82b70>"
      ]
     },
     "metadata": {},
     "output_type": "display_data"
    }
   ],
   "source": [
    "# Create log-spaced energy bins from 1 keV to 100 MeV\n",
    "energy_bins = np.logspace(np.log10(1e3), np.log10(1e8), 100)\n",
    "\n",
    "# Calculate pdf for source energies\n",
    "probability, bin_edges = np.histogram(sp.source['E'], energy_bins, density=True)\n",
    "\n",
    "# Plot source energy PDF\n",
    "plt.semilogx(energy_bins[:-1], probability*np.diff(energy_bins), linestyle='steps')\n",
    "plt.xlabel('Energy (MeV)')\n",
    "plt.ylabel('Probability/MeV')"
   ]
  },
  {
   "cell_type": "markdown",
   "metadata": {},
   "source": [
    "## Tally Data Extraction"
   ]
  },
  {
   "cell_type": "markdown",
   "metadata": {},
   "source": [
    "#### Extracting Tallies from a `StatePoint`"
   ]
  },
  {
   "cell_type": "markdown",
   "metadata": {},
   "source": [
    "Our `StatePoint` also has a number of different `Tally` objects stored in the `StatePoint.tallies` as a `dict`. We can inspect one the `Tally` objects by directly indexing into `tallies` with the appropriate ID:"
   ]
  },
  {
   "cell_type": "code",
   "execution_count": 13,
   "metadata": {
    "collapsed": false
   },
   "outputs": [
    {
     "name": "stdout",
     "output_type": "stream",
     "text": [
      "Tally\n",
      "\tID             =\t10000\n",
      "\tName           =\tmesh fission\n",
      "\tFilters        =\tMeshFilter\n",
      "\tNuclides       =\tU235 U238 \n",
      "\tScores         =\t['fission']\n",
      "\tEstimator      =\ttracklength\n",
      "\n"
     ]
    }
   ],
   "source": [
    "print(sp.tallies[10000])"
   ]
  },
  {
   "cell_type": "markdown",
   "metadata": {},
   "source": [
    "As we can see, the `Tally` with ID=10000 is called `\"mesh fission\"` and has a `\"mesh\"` `Filter`, a `\"fission\"` score and two `\"U-235\"` and `\"U-238\"` nuclide bins. In addition, the `Tally` was computed with a `\"tracklength\"` estimator.\n",
    "\n",
    "Although it may be convenient to directly index into the `tallies` collection for problems with only a handful of `Tally` objects, this is not a robust or scalable approach for problems with many `Tally` objects. Instead, we recommend the use of the `StatePoint.get_tally(...)` method which allows one to retrieve a `Tally` object with an arbitrary subset or combination of the following information:\n",
    "\n",
    "* integer ID\n",
    "* string name\n",
    "* one or more string scores\n",
    "* one or more `Filter` objects\n",
    "* one or more string nuclides\n",
    "\n",
    "As an example, let's retrieve the `Tally` using its string name:"
   ]
  },
  {
   "cell_type": "code",
   "execution_count": 14,
   "metadata": {
    "collapsed": false
   },
   "outputs": [],
   "source": [
    "mesh_fiss = sp.get_tally(name='mesh fission')"
   ]
  },
  {
   "cell_type": "markdown",
   "metadata": {},
   "source": [
    "As we can see, this has extracted the `Tally` with the name `\"mesh_fiss\"` into a new Python variable called `mesh_fiss`. Let's proceed to extract all of the `Tally` objects into their own respective variables."
   ]
  },
  {
   "cell_type": "code",
   "execution_count": 15,
   "metadata": {
    "collapsed": false
   },
   "outputs": [],
   "source": [
    "flux = sp.get_tally(name='flux')\n",
    "distribcell = sp.get_tally(name='distribcell')\n",
    "therm_abs = sp.get_tally(name='thermal absorption')\n",
    "tot_abs = sp.get_tally(name='total absorption')"
   ]
  },
  {
   "cell_type": "markdown",
   "metadata": {},
   "source": [
    "#### Extracting Data from a `Tally`"
   ]
  },
  {
   "cell_type": "markdown",
   "metadata": {},
   "source": [
    "The obvious first thing you may wish to do with a `Tally` object is to inspect the batch mean values in each bin. To start, let's inspect the type of the `Tally.mean` property to determine that it is a NumPy array:"
   ]
  },
  {
   "cell_type": "code",
   "execution_count": 16,
   "metadata": {
    "collapsed": false
   },
   "outputs": [
    {
     "name": "stdout",
     "output_type": "stream",
     "text": [
      "<class 'numpy.ndarray'>\n"
     ]
    }
   ],
   "source": [
    "print(type(mesh_fiss.mean))"
   ]
  },
  {
   "cell_type": "markdown",
   "metadata": {},
   "source": [
    "Next, let's use the `ndarray.shape` attribute to determine the number of dimensions are contained within our `mean` NumPy array:"
   ]
  },
  {
   "cell_type": "code",
   "execution_count": 17,
   "metadata": {
    "collapsed": false
   },
   "outputs": [
    {
     "name": "stdout",
     "output_type": "stream",
     "text": [
      "(289, 2, 1)\n"
     ]
    }
   ],
   "source": [
    "print(mesh_fiss.mean.shape)"
   ]
  },
  {
   "cell_type": "markdown",
   "metadata": {},
   "source": [
    "This result informs us that `mesh_fiss` has a 3D mean array with dimensions 289 $\\times$ 2 $\\times$ 1. In fact all `Tally` objects in OpenMC store a `mean` array using three dimensions corresponding to the following:\n",
    "\n",
    "* `Filter` bins\n",
    "* Nuclide bins\n",
    "* Score bins\n",
    "\n",
    "In our case, the first dimension with length 289 corresponds to 289 `Mesh` `Filter` bins for the 17 $\\times$ 17 PWR assembly. The second dimension of length 2 corresponds to the `\"U235\"` and `\"U238\"` nuclide bins while the final dimension corresponds to our single `\"fission\"` score bin.\n",
    "\n",
    "Now that we understand how data is stored and indexed, let's inspect the data for the first five `Mesh` `Filter` bins:"
   ]
  },
  {
   "cell_type": "code",
   "execution_count": 18,
   "metadata": {
    "collapsed": false
   },
   "outputs": [
    {
     "name": "stdout",
     "output_type": "stream",
     "text": [
      "[[[ 0.00165861]\n",
      "  [ 0.00010398]]\n",
      "\n",
      " [[ 0.00168394]\n",
      "  [ 0.00010299]]\n",
      "\n",
      " [[ 0.00169344]\n",
      "  [ 0.00010547]]\n",
      "\n",
      " [[ 0.00174782]\n",
      "  [ 0.00010616]]\n",
      "\n",
      " [[ 0.00176945]\n",
      "  [ 0.00010479]]]\n"
     ]
    }
   ],
   "source": [
    "print(mesh_fiss.mean[:5,:,:])"
   ]
  },
  {
   "cell_type": "markdown",
   "metadata": {},
   "source": [
    "We can similarly inspect the standard deviation for our tally data which is stored in the `std_dev` array:"
   ]
  },
  {
   "cell_type": "code",
   "execution_count": 19,
   "metadata": {
    "collapsed": false
   },
   "outputs": [
    {
     "name": "stdout",
     "output_type": "stream",
     "text": [
      "[[[  2.84624374e-05]\n",
      "  [  1.20939164e-06]]\n",
      "\n",
      " [[  2.55843078e-05]\n",
      "  [  1.32993965e-06]]\n",
      "\n",
      " [[  3.19069478e-05]\n",
      "  [  1.30600538e-06]]\n",
      "\n",
      " [[  2.78382926e-05]\n",
      "  [  1.37220511e-06]]\n",
      "\n",
      " [[  3.10559723e-05]\n",
      "  [  1.33036635e-06]]]\n"
     ]
    }
   ],
   "source": [
    "print(mesh_fiss.std_dev[:5,:,:])"
   ]
  },
  {
   "cell_type": "markdown",
   "metadata": {},
   "source": [
    "Of course since the data is stored in NumPy arrays, we can easily compute the percent relative error of each tally value simply by dividing the `std_dev` array by the `mean` array:"
   ]
  },
  {
   "cell_type": "code",
   "execution_count": 20,
   "metadata": {
    "collapsed": false
   },
   "outputs": [
    {
     "name": "stdout",
     "output_type": "stream",
     "text": [
      "[[[ 1.71603996]\n",
      "  [ 1.1631405 ]]\n",
      "\n",
      " [[ 1.51931562]\n",
      "  [ 1.29136941]]\n",
      "\n",
      " [[ 1.88415165]\n",
      "  [ 1.23821354]]\n",
      "\n",
      " [[ 1.59274746]\n",
      "  [ 1.29258092]]\n",
      "\n",
      " [[ 1.75511782]\n",
      "  [ 1.26949741]]]\n"
     ]
    }
   ],
   "source": [
    "rel_err = mesh_fiss.std_dev / mesh_fiss.mean * 100.\n",
    "print(rel_err[:5,:,:])"
   ]
  },
  {
   "cell_type": "markdown",
   "metadata": {},
   "source": [
    "Although we can directly access the `mean` and `std_dev` arrays in our `Tally` object, this is not a scalable or flexible approach for sophisticated simulation workflows. In many situations you may wish to extract a subset of the data from a `Tally` for some analysis. The `Tally.get_values(...)` method is an attractive alternative for these cases. \n",
    "\n",
    "Let's consider the extraction of data from our `mesh_fiss` `Tally` specifically for `\"U235\"` into a new NumPy array variable called `u235_fission`:"
   ]
  },
  {
   "cell_type": "code",
   "execution_count": 21,
   "metadata": {
    "collapsed": false
   },
   "outputs": [
    {
     "name": "stdout",
     "output_type": "stream",
     "text": [
      "(289, 1, 1)\n"
     ]
    }
   ],
   "source": [
    "u235_fission = mesh_fiss.get_values(nuclides=['U235'])\n",
    "print(u235_fission.shape)"
   ]
  },
  {
   "cell_type": "markdown",
   "metadata": {},
   "source": [
    "As we can see, the `u235_fission` array has dimensions 289 $\\times$ 1 $\\times$ 1 as expected. "
   ]
  },
  {
   "cell_type": "markdown",
   "metadata": {},
   "source": [
    "## Plotting `Tally` Data"
   ]
  },
  {
   "cell_type": "markdown",
   "metadata": {},
   "source": [
    "OpenMC's tight coupling with Python permits us to generate nice plots of our tally data directly from within the Jupyter Notebook."
   ]
  },
  {
   "cell_type": "markdown",
   "metadata": {},
   "source": [
    "#### Plotting Mesh Tallies"
   ]
  },
  {
   "cell_type": "markdown",
   "metadata": {},
   "source": [
    "For our first example, we will use Matplotlib to plot the fission rate mesh tally in the `mesh_fiss` `Tally`. First, let's extract the `\"U235\"` fission rate mean and relative error arrays into their own respective variables:"
   ]
  },
  {
   "cell_type": "code",
   "execution_count": 22,
   "metadata": {
    "collapsed": true
   },
   "outputs": [],
   "source": [
    "mean = mesh_fiss.get_values(nuclides=['U235'], value='mean')\n",
    "rel_err = mesh_fiss.get_values(nuclides=['U235'], value='rel_err')"
   ]
  },
  {
   "cell_type": "markdown",
   "metadata": {},
   "source": [
    "We will use Matplotlib to plot 2D heatmaps of arrays. In order to do so, we must first reshape our arrays to be 2D corresponding to the 17 $\\times$ 17 `Mesh`:"
   ]
  },
  {
   "cell_type": "code",
   "execution_count": 23,
   "metadata": {
    "collapsed": false
   },
   "outputs": [],
   "source": [
    "# Reshape the arrays\n",
    "mean.shape = (17, 17)\n",
    "rel_err.shape = (17, 17)"
   ]
  },
  {
   "cell_type": "markdown",
   "metadata": {},
   "source": [
    "Now we can use Matplotlib's `imshow` method to display our data side-by-side:"
   ]
  },
  {
   "cell_type": "code",
   "execution_count": 24,
   "metadata": {
    "collapsed": false
   },
   "outputs": [
    {
     "data": {
      "image/png": "[encoded data removed]",
      "text/plain": [
       "<matplotlib.figure.Figure at 0x7f6bfe32be48>"
      ]
     },
     "metadata": {},
     "output_type": "display_data"
    }
   ],
   "source": [
    "# Plot OpenMC's fission rates in the left subplot\n",
    "fig = plt.subplot(121)\n",
    "plt.imshow(mean, interpolation='none', cmap='jet')\n",
    "plt.title('Mean')\n",
    "plt.grid(False)\n",
    "\n",
    "# Plot OpenMOC's fission rates in the right subplot\n",
    "fig2 = plt.subplot(122)\n",
    "plt.imshow(rel_err, interpolation='none', cmap='jet')\n",
    "plt.title('Rel. Err.')\n",
    "plt.grid(False)"
   ]
  },
  {
   "cell_type": "markdown",
   "metadata": {},
   "source": [
    "This mesh tally of fission rates particularly informative since the dark blue guide tube do not have any fission and skew the color bar. We can rectify this issue with a little trick to Matplotlib's color scheme as follows."
   ]
  },
  {
   "cell_type": "code",
   "execution_count": 25,
   "metadata": {
    "collapsed": false
   },
   "outputs": [
    {
     "data": {
      "image/png": "[encoded data removed]",
      "text/plain": [
       "<matplotlib.figure.Figure at 0x7f6bfe3a4898>"
      ]
     },
     "metadata": {},
     "output_type": "display_data"
    }
   ],
   "source": [
    "# Assign a NaN to zero fission rates in guide tubes\n",
    "# Matplotlib will ignore \"bad\" values in the colorbar\n",
    "mean[mean == 0.] = np.nan\n",
    "cmap = plt.get_cmap('jet')\n",
    "cmap.set_bad(alpha=0.)\n",
    "\n",
    "# Plot fission rates in the left subplot\n",
    "fig = plt.subplot(121)\n",
    "plt.imshow(mean, interpolation='none', cmap=cmap)\n",
    "plt.title('Mean')\n",
    "plt.grid(False)\n",
    "\n",
    "# Plot relative errors in the right subplot\n",
    "fig2 = plt.subplot(122)\n",
    "plt.imshow(rel_err, interpolation='none', cmap='jet')\n",
    "plt.title('Rel. Err.')\n",
    "plt.grid(False)"
   ]
  },
  {
   "cell_type": "markdown",
   "metadata": {},
   "source": [
    "## Plotting Flux Tallies"
   ]
  },
  {
   "cell_type": "markdown",
   "metadata": {
    "collapsed": true
   },
   "source": [
    "For our second example we will plot the neutron flux in energy across the fuel assembly. The neutron flux is encapsulated by the `flux` `Tally` that we extracted from the `StatePoint`. First, let's extract the mean values into an NumPy array variable called `fluxes`:"
   ]
  },
  {
   "cell_type": "code",
   "execution_count": 26,
   "metadata": {
    "collapsed": true
   },
   "outputs": [],
   "source": [
    "# Extract the flux mean values array\n",
    "fluxes = flux.mean.flatten()\n",
    "\n",
    "# Extend the flux array for Matplotlib's step plot\n",
    "fluxes = np.insert(fluxes, 0, fluxes[0])"
   ]
  },
  {
   "cell_type": "markdown",
   "metadata": {},
   "source": [
    "Next we will extract the energies for each tally bin by retrieving the `EnergyFilter` using the `Tally.find_filter(...)` method:"
   ]
  },
  {
   "cell_type": "code",
   "execution_count": 27,
   "metadata": {
    "collapsed": false
   },
   "outputs": [],
   "source": [
    "# Extract the EnergyFilter from the Tally\n",
    "energy_filter = flux.find_filter(openmc.EnergyFilter)\n",
    "energies = energy_filter.bins"
   ]
  },
  {
   "cell_type": "markdown",
   "metadata": {},
   "source": [
    "Finally, we can plot the flux data in a log-log plot with Matplotlib:"
   ]
  },
  {
   "cell_type": "code",
   "execution_count": 28,
   "metadata": {
    "collapsed": false
   },
   "outputs": [
    {
     "data": {
      "text/plain": [
       "<matplotlib.text.Text at 0x7f6c004c14a8>"
      ]
     },
     "execution_count": 28,
     "metadata": {},
     "output_type": "execute_result"
    },
    {
     "data": {
      "image/png": "[encoded data removed]",
      "text/plain": [
       "<matplotlib.figure.Figure at 0x7f6bfe32f4a8>"
      ]
     },
     "metadata": {},
     "output_type": "display_data"
    }
   ],
   "source": [
    "fig = plt.figure()\n",
    "plt.loglog(energies, fluxes, drawstyle='steps', c='r')\n",
    "plt.xlabel('Energy [eV]')\n",
    "plt.ylabel('Flux')"
   ]
  },
  {
   "cell_type": "markdown",
   "metadata": {},
   "source": [
    "The plot exhibits high and low energy peaks as well as degradation in the resonance region just as we expect for an LWR."
   ]
  },
  {
   "cell_type": "markdown",
   "metadata": {},
   "source": [
    "## Pandas DataFrames"
   ]
  },
  {
   "cell_type": "markdown",
   "metadata": {},
   "source": [
    "The preceding section highlighted how to directly extract raw data from a `Tally` object as NumPy arrays. One primary difficulty that may arise with tally data processing is that the data in a simple NumPy array is *opaque* - *i.e.*, it is not clear which data points correspond to which `Filter`, nuclide or score bins. This section illustrates a powerful of OpenMC's Python API which leverages the [Pandas](http://pandas.pydata.org/) data analysis library. The Pandas package is rich and extensive. In this section we will focus on the use of Pandas `DataFrame` objects to encapsulate tally data."
   ]
  },
  {
   "cell_type": "markdown",
   "metadata": {},
   "source": [
    "#### Get a Pandas `DataFrame` of `Tally` Data"
   ]
  },
  {
   "cell_type": "markdown",
   "metadata": {},
   "source": [
    "A Pandas DataFrame may be retrieved from any OpenMC `Tally` object through the `Tally.get_pandas_dataframe(...)` method. Let's give it a try and build a `DataFrame` in a variable called `df` for our `Tally` called `mesh_fiss`:"
   ]
  },
  {
   "cell_type": "code",
   "execution_count": 29,
   "metadata": {
    "collapsed": false
   },
   "outputs": [
    {
     "name": "stderr",
     "output_type": "stream",
     "text": [
      "/usr/local/lib/python3.5/dist-packages/numpy/lib/shape_base.py:873: VisibleDeprecationWarning: using a non-integer number instead of an integer will result in an error in the future\n",
      "  return c.reshape(shape_out)\n"
     ]
    }
   ],
   "source": [
    "df = mesh_fiss.get_pandas_dataframe()"
   ]
  },
  {
   "cell_type": "markdown",
   "metadata": {},
   "source": [
    "We can easily inspect a Pandas DataFrame in the Jupyter Notebook by simply ending a cell with the variable holding a `DataFrame`. Due to the size of the dataset in our `mesh_fiss` `Tally` we will use the `DataFrame.head(...)` method to restrict the output to only the first 10 rows on the `DataFrame`:"
   ]
  },
  {
   "cell_type": "code",
   "execution_count": 30,
   "metadata": {
    "collapsed": false
   },
   "outputs": [
    {
     "data": {
      "text/html": [
       "<div>\n",
       "<table border=\"1\" class=\"dataframe\">\n",
       "  <thead>\n",
       "    <tr>\n",
       "      <th></th>\n",
       "      <th colspan=\"3\" halign=\"left\">mesh 10000</th>\n",
       "      <th>nuclide</th>\n",
       "      <th>score</th>\n",
       "      <th>mean</th>\n",
       "      <th>std. dev.</th>\n",
       "    </tr>\n",
       "    <tr>\n",
       "      <th></th>\n",
       "      <th>x</th>\n",
       "      <th>y</th>\n",
       "      <th>z</th>\n",
       "      <th></th>\n",
       "      <th></th>\n",
       "      <th></th>\n",
       "      <th></th>\n",
       "    </tr>\n",
       "  </thead>\n",
       "  <tbody>\n",
       "    <tr>\n",
       "      <th>0</th>\n",
       "      <td>1</td>\n",
       "      <td>1</td>\n",
       "      <td>1</td>\n",
       "      <td>U235</td>\n",
       "      <td>fission</td>\n",
       "      <td>0.001659</td>\n",
       "      <td>0.000028</td>\n",
       "    </tr>\n",
       "    <tr>\n",
       "      <th>1</th>\n",
       "      <td>1</td>\n",
       "      <td>1</td>\n",
       "      <td>1</td>\n",
       "      <td>U238</td>\n",
       "      <td>fission</td>\n",
       "      <td>0.000104</td>\n",
       "      <td>0.000001</td>\n",
       "    </tr>\n",
       "    <tr>\n",
       "      <th>2</th>\n",
       "      <td>1</td>\n",
       "      <td>2</td>\n",
       "      <td>1</td>\n",
       "      <td>U235</td>\n",
       "      <td>fission</td>\n",
       "      <td>0.001684</td>\n",
       "      <td>0.000026</td>\n",
       "    </tr>\n",
       "    <tr>\n",
       "      <th>3</th>\n",
       "      <td>1</td>\n",
       "      <td>2</td>\n",
       "      <td>1</td>\n",
       "      <td>U238</td>\n",
       "      <td>fission</td>\n",
       "      <td>0.000103</td>\n",
       "      <td>0.000001</td>\n",
       "    </tr>\n",
       "    <tr>\n",
       "      <th>4</th>\n",
       "      <td>1</td>\n",
       "      <td>3</td>\n",
       "      <td>1</td>\n",
       "      <td>U235</td>\n",
       "      <td>fission</td>\n",
       "      <td>0.001693</td>\n",
       "      <td>0.000032</td>\n",
       "    </tr>\n",
       "    <tr>\n",
       "      <th>5</th>\n",
       "      <td>1</td>\n",
       "      <td>3</td>\n",
       "      <td>1</td>\n",
       "      <td>U238</td>\n",
       "      <td>fission</td>\n",
       "      <td>0.000105</td>\n",
       "      <td>0.000001</td>\n",
       "    </tr>\n",
       "    <tr>\n",
       "      <th>6</th>\n",
       "      <td>1</td>\n",
       "      <td>4</td>\n",
       "      <td>1</td>\n",
       "      <td>U235</td>\n",
       "      <td>fission</td>\n",
       "      <td>0.001748</td>\n",
       "      <td>0.000028</td>\n",
       "    </tr>\n",
       "    <tr>\n",
       "      <th>7</th>\n",
       "      <td>1</td>\n",
       "      <td>4</td>\n",
       "      <td>1</td>\n",
       "      <td>U238</td>\n",
       "      <td>fission</td>\n",
       "      <td>0.000106</td>\n",
       "      <td>0.000001</td>\n",
       "    </tr>\n",
       "    <tr>\n",
       "      <th>8</th>\n",
       "      <td>1</td>\n",
       "      <td>5</td>\n",
       "      <td>1</td>\n",
       "      <td>U235</td>\n",
       "      <td>fission</td>\n",
       "      <td>0.001769</td>\n",
       "      <td>0.000031</td>\n",
       "    </tr>\n",
       "    <tr>\n",
       "      <th>9</th>\n",
       "      <td>1</td>\n",
       "      <td>5</td>\n",
       "      <td>1</td>\n",
       "      <td>U238</td>\n",
       "      <td>fission</td>\n",
       "      <td>0.000105</td>\n",
       "      <td>0.000001</td>\n",
       "    </tr>\n",
       "  </tbody>\n",
       "</table>\n",
       "</div>"
      ],
      "text/plain": [
       "  mesh 10000       nuclide    score      mean std. dev.\n",
       "           x  y  z                                     \n",
       "0          1  1  1    U235  fission  0.001659  0.000028\n",
       "1          1  1  1    U238  fission  0.000104  0.000001\n",
       "2          1  2  1    U235  fission  0.001684  0.000026\n",
       "3          1  2  1    U238  fission  0.000103  0.000001\n",
       "4          1  3  1    U235  fission  0.001693  0.000032\n",
       "5          1  3  1    U238  fission  0.000105  0.000001\n",
       "6          1  4  1    U235  fission  0.001748  0.000028\n",
       "7          1  4  1    U238  fission  0.000106  0.000001\n",
       "8          1  5  1    U235  fission  0.001769  0.000031\n",
       "9          1  5  1    U238  fission  0.000105  0.000001"
      ]
     },
     "execution_count": 30,
     "metadata": {},
     "output_type": "execute_result"
    }
   ],
   "source": [
    "df.head(10)"
   ]
  },
  {
   "cell_type": "markdown",
   "metadata": {},
   "source": [
    "As we can see, the Pandas `DataFrame` presents the data in a human-friendly format with the filter, nuclide and score information along with the estimated means and standard deviations. Let's inspect the Pandas DataFrame the same for the `flux` `Tally`:"
   ]
  },
  {
   "cell_type": "code",
   "execution_count": 31,
   "metadata": {
    "collapsed": false
   },
   "outputs": [
    {
     "data": {
      "text/html": [
       "<div>\n",
       "<table border=\"1\" class=\"dataframe\">\n",
       "  <thead>\n",
       "    <tr style=\"text-align: right;\">\n",
       "      <th></th>\n",
       "      <th>energy low [eV]</th>\n",
       "      <th>energy high [eV]</th>\n",
       "      <th>nuclide</th>\n",
       "      <th>score</th>\n",
       "      <th>mean</th>\n",
       "      <th>std. dev.</th>\n",
       "    </tr>\n",
       "  </thead>\n",
       "  <tbody>\n",
       "    <tr>\n",
       "      <th>0</th>\n",
       "      <td>0.010000</td>\n",
       "      <td>0.010207</td>\n",
       "      <td>total</td>\n",
       "      <td>flux</td>\n",
       "      <td>0.008592</td>\n",
       "      <td>0.000091</td>\n",
       "    </tr>\n",
       "    <tr>\n",
       "      <th>1</th>\n",
       "      <td>0.010207</td>\n",
       "      <td>0.010419</td>\n",
       "      <td>total</td>\n",
       "      <td>flux</td>\n",
       "      <td>0.008779</td>\n",
       "      <td>0.000104</td>\n",
       "    </tr>\n",
       "    <tr>\n",
       "      <th>2</th>\n",
       "      <td>0.010419</td>\n",
       "      <td>0.010635</td>\n",
       "      <td>total</td>\n",
       "      <td>flux</td>\n",
       "      <td>0.008991</td>\n",
       "      <td>0.000084</td>\n",
       "    </tr>\n",
       "    <tr>\n",
       "      <th>3</th>\n",
       "      <td>0.010635</td>\n",
       "      <td>0.010855</td>\n",
       "      <td>total</td>\n",
       "      <td>flux</td>\n",
       "      <td>0.009506</td>\n",
       "      <td>0.000094</td>\n",
       "    </tr>\n",
       "    <tr>\n",
       "      <th>4</th>\n",
       "      <td>0.010855</td>\n",
       "      <td>0.011081</td>\n",
       "      <td>total</td>\n",
       "      <td>flux</td>\n",
       "      <td>0.010004</td>\n",
       "      <td>0.000099</td>\n",
       "    </tr>\n",
       "    <tr>\n",
       "      <th>5</th>\n",
       "      <td>0.011081</td>\n",
       "      <td>0.011310</td>\n",
       "      <td>total</td>\n",
       "      <td>flux</td>\n",
       "      <td>0.010466</td>\n",
       "      <td>0.000116</td>\n",
       "    </tr>\n",
       "    <tr>\n",
       "      <th>6</th>\n",
       "      <td>0.011310</td>\n",
       "      <td>0.011545</td>\n",
       "      <td>total</td>\n",
       "      <td>flux</td>\n",
       "      <td>0.010775</td>\n",
       "      <td>0.000113</td>\n",
       "    </tr>\n",
       "    <tr>\n",
       "      <th>7</th>\n",
       "      <td>0.011545</td>\n",
       "      <td>0.011784</td>\n",
       "      <td>total</td>\n",
       "      <td>flux</td>\n",
       "      <td>0.013967</td>\n",
       "      <td>0.000118</td>\n",
       "    </tr>\n",
       "    <tr>\n",
       "      <th>8</th>\n",
       "      <td>0.011784</td>\n",
       "      <td>0.012028</td>\n",
       "      <td>total</td>\n",
       "      <td>flux</td>\n",
       "      <td>0.014180</td>\n",
       "      <td>0.000144</td>\n",
       "    </tr>\n",
       "    <tr>\n",
       "      <th>9</th>\n",
       "      <td>0.012028</td>\n",
       "      <td>0.012278</td>\n",
       "      <td>total</td>\n",
       "      <td>flux</td>\n",
       "      <td>0.013996</td>\n",
       "      <td>0.000132</td>\n",
       "    </tr>\n",
       "  </tbody>\n",
       "</table>\n",
       "</div>"
      ],
      "text/plain": [
       "   energy low [eV]  energy high [eV] nuclide score      mean  std. dev.\n",
       "0         0.010000          0.010207   total  flux  0.008592   0.000091\n",
       "1         0.010207          0.010419   total  flux  0.008779   0.000104\n",
       "2         0.010419          0.010635   total  flux  0.008991   0.000084\n",
       "3         0.010635          0.010855   total  flux  0.009506   0.000094\n",
       "4         0.010855          0.011081   total  flux  0.010004   0.000099\n",
       "5         0.011081          0.011310   total  flux  0.010466   0.000116\n",
       "6         0.011310          0.011545   total  flux  0.010775   0.000113\n",
       "7         0.011545          0.011784   total  flux  0.013967   0.000118\n",
       "8         0.011784          0.012028   total  flux  0.014180   0.000144\n",
       "9         0.012028          0.012278   total  flux  0.013996   0.000132"
      ]
     },
     "execution_count": 31,
     "metadata": {},
     "output_type": "execute_result"
    }
   ],
   "source": [
    "df = flux.get_pandas_dataframe()\n",
    "df.head(10)"
   ]
  },
  {
   "cell_type": "markdown",
   "metadata": {},
   "source": [
    "The Pandas DataFrames feature supports all possible combinations of `Filters`, nuclides and scores which may be composed into a `Tally` objects. As a final example, let's consider the `distribcell` `Tally` which uses a \"distribcell\" `Filter`:"
   ]
  },
  {
   "cell_type": "code",
   "execution_count": 32,
   "metadata": {
    "collapsed": false
   },
   "outputs": [
    {
     "data": {
      "text/html": [
       "<div>\n",
       "<table border=\"1\" class=\"dataframe\">\n",
       "  <thead>\n",
       "    <tr>\n",
       "      <th></th>\n",
       "      <th colspan=\"2\" halign=\"left\">level 1</th>\n",
       "      <th colspan=\"4\" halign=\"left\">level 2</th>\n",
       "      <th colspan=\"2\" halign=\"left\">level 3</th>\n",
       "      <th>distribcell</th>\n",
       "      <th>nuclide</th>\n",
       "      <th>score</th>\n",
       "      <th>mean</th>\n",
       "      <th>std. dev.</th>\n",
       "    </tr>\n",
       "    <tr>\n",
       "      <th></th>\n",
       "      <th>univ</th>\n",
       "      <th>cell</th>\n",
       "      <th colspan=\"4\" halign=\"left\">lat</th>\n",
       "      <th>univ</th>\n",
       "      <th>cell</th>\n",
       "      <th></th>\n",
       "      <th></th>\n",
       "      <th></th>\n",
       "      <th></th>\n",
       "      <th></th>\n",
       "    </tr>\n",
       "    <tr>\n",
       "      <th></th>\n",
       "      <th>id</th>\n",
       "      <th>id</th>\n",
       "      <th>id</th>\n",
       "      <th>x</th>\n",
       "      <th>y</th>\n",
       "      <th>z</th>\n",
       "      <th>id</th>\n",
       "      <th>id</th>\n",
       "      <th></th>\n",
       "      <th></th>\n",
       "      <th></th>\n",
       "      <th></th>\n",
       "      <th></th>\n",
       "    </tr>\n",
       "  </thead>\n",
       "  <tbody>\n",
       "    <tr>\n",
       "      <th>0</th>\n",
       "      <td>0</td>\n",
       "      <td>10013</td>\n",
       "      <td>10004</td>\n",
       "      <td>0</td>\n",
       "      <td>0</td>\n",
       "      <td>0</td>\n",
       "      <td>10000</td>\n",
       "      <td>1</td>\n",
       "      <td>0</td>\n",
       "      <td>U235</td>\n",
       "      <td>absorption</td>\n",
       "      <td>0.002005</td>\n",
       "      <td>0.000034</td>\n",
       "    </tr>\n",
       "    <tr>\n",
       "      <th>1</th>\n",
       "      <td>0</td>\n",
       "      <td>10013</td>\n",
       "      <td>10004</td>\n",
       "      <td>0</td>\n",
       "      <td>0</td>\n",
       "      <td>0</td>\n",
       "      <td>10000</td>\n",
       "      <td>1</td>\n",
       "      <td>0</td>\n",
       "      <td>U235</td>\n",
       "      <td>fission</td>\n",
       "      <td>0.001659</td>\n",
       "      <td>0.000028</td>\n",
       "    </tr>\n",
       "    <tr>\n",
       "      <th>2</th>\n",
       "      <td>0</td>\n",
       "      <td>10013</td>\n",
       "      <td>10004</td>\n",
       "      <td>0</td>\n",
       "      <td>0</td>\n",
       "      <td>0</td>\n",
       "      <td>10000</td>\n",
       "      <td>1</td>\n",
       "      <td>0</td>\n",
       "      <td>U238</td>\n",
       "      <td>absorption</td>\n",
       "      <td>0.001057</td>\n",
       "      <td>0.000019</td>\n",
       "    </tr>\n",
       "    <tr>\n",
       "      <th>3</th>\n",
       "      <td>0</td>\n",
       "      <td>10013</td>\n",
       "      <td>10004</td>\n",
       "      <td>0</td>\n",
       "      <td>0</td>\n",
       "      <td>0</td>\n",
       "      <td>10000</td>\n",
       "      <td>1</td>\n",
       "      <td>0</td>\n",
       "      <td>U238</td>\n",
       "      <td>fission</td>\n",
       "      <td>0.000104</td>\n",
       "      <td>0.000001</td>\n",
       "    </tr>\n",
       "    <tr>\n",
       "      <th>4</th>\n",
       "      <td>0</td>\n",
       "      <td>10013</td>\n",
       "      <td>10004</td>\n",
       "      <td>0</td>\n",
       "      <td>1</td>\n",
       "      <td>0</td>\n",
       "      <td>10000</td>\n",
       "      <td>1</td>\n",
       "      <td>1</td>\n",
       "      <td>U235</td>\n",
       "      <td>absorption</td>\n",
       "      <td>0.002003</td>\n",
       "      <td>0.000029</td>\n",
       "    </tr>\n",
       "    <tr>\n",
       "      <th>5</th>\n",
       "      <td>0</td>\n",
       "      <td>10013</td>\n",
       "      <td>10004</td>\n",
       "      <td>0</td>\n",
       "      <td>1</td>\n",
       "      <td>0</td>\n",
       "      <td>10000</td>\n",
       "      <td>1</td>\n",
       "      <td>1</td>\n",
       "      <td>U235</td>\n",
       "      <td>fission</td>\n",
       "      <td>0.001660</td>\n",
       "      <td>0.000024</td>\n",
       "    </tr>\n",
       "    <tr>\n",
       "      <th>6</th>\n",
       "      <td>0</td>\n",
       "      <td>10013</td>\n",
       "      <td>10004</td>\n",
       "      <td>0</td>\n",
       "      <td>1</td>\n",
       "      <td>0</td>\n",
       "      <td>10000</td>\n",
       "      <td>1</td>\n",
       "      <td>1</td>\n",
       "      <td>U238</td>\n",
       "      <td>absorption</td>\n",
       "      <td>0.001063</td>\n",
       "      <td>0.000017</td>\n",
       "    </tr>\n",
       "    <tr>\n",
       "      <th>7</th>\n",
       "      <td>0</td>\n",
       "      <td>10013</td>\n",
       "      <td>10004</td>\n",
       "      <td>0</td>\n",
       "      <td>1</td>\n",
       "      <td>0</td>\n",
       "      <td>10000</td>\n",
       "      <td>1</td>\n",
       "      <td>1</td>\n",
       "      <td>U238</td>\n",
       "      <td>fission</td>\n",
       "      <td>0.000103</td>\n",
       "      <td>0.000001</td>\n",
       "    </tr>\n",
       "    <tr>\n",
       "      <th>8</th>\n",
       "      <td>0</td>\n",
       "      <td>10013</td>\n",
       "      <td>10004</td>\n",
       "      <td>0</td>\n",
       "      <td>2</td>\n",
       "      <td>0</td>\n",
       "      <td>10000</td>\n",
       "      <td>1</td>\n",
       "      <td>2</td>\n",
       "      <td>U235</td>\n",
       "      <td>absorption</td>\n",
       "      <td>0.002023</td>\n",
       "      <td>0.000031</td>\n",
       "    </tr>\n",
       "    <tr>\n",
       "      <th>9</th>\n",
       "      <td>0</td>\n",
       "      <td>10013</td>\n",
       "      <td>10004</td>\n",
       "      <td>0</td>\n",
       "      <td>2</td>\n",
       "      <td>0</td>\n",
       "      <td>10000</td>\n",
       "      <td>1</td>\n",
       "      <td>2</td>\n",
       "      <td>U235</td>\n",
       "      <td>fission</td>\n",
       "      <td>0.001678</td>\n",
       "      <td>0.000026</td>\n",
       "    </tr>\n",
       "  </tbody>\n",
       "</table>\n",
       "</div>"
      ],
      "text/plain": [
       "  level 1        level 2          level 3      distribcell nuclide  \\\n",
       "     univ   cell     lat             univ cell                       \n",
       "       id     id      id  x  y  z      id   id                       \n",
       "0       0  10013   10004  0  0  0   10000    1           0    U235   \n",
       "1       0  10013   10004  0  0  0   10000    1           0    U235   \n",
       "2       0  10013   10004  0  0  0   10000    1           0    U238   \n",
       "3       0  10013   10004  0  0  0   10000    1           0    U238   \n",
       "4       0  10013   10004  0  1  0   10000    1           1    U235   \n",
       "5       0  10013   10004  0  1  0   10000    1           1    U235   \n",
       "6       0  10013   10004  0  1  0   10000    1           1    U238   \n",
       "7       0  10013   10004  0  1  0   10000    1           1    U238   \n",
       "8       0  10013   10004  0  2  0   10000    1           2    U235   \n",
       "9       0  10013   10004  0  2  0   10000    1           2    U235   \n",
       "\n",
       "        score      mean std. dev.  \n",
       "                                   \n",
       "                                   \n",
       "0  absorption  0.002005  0.000034  \n",
       "1     fission  0.001659  0.000028  \n",
       "2  absorption  0.001057  0.000019  \n",
       "3     fission  0.000104  0.000001  \n",
       "4  absorption  0.002003  0.000029  \n",
       "5     fission  0.001660  0.000024  \n",
       "6  absorption  0.001063  0.000017  \n",
       "7     fission  0.000103  0.000001  \n",
       "8  absorption  0.002023  0.000031  \n",
       "9     fission  0.001678  0.000026  "
      ]
     },
     "execution_count": 32,
     "metadata": {},
     "output_type": "execute_result"
    }
   ],
   "source": [
    "df = distribcell.get_pandas_dataframe()\n",
    "df.head(10)"
   ]
  },
  {
   "cell_type": "markdown",
   "metadata": {},
   "source": [
    "#### Pandas Fancy Indexing"
   ]
  },
  {
   "cell_type": "markdown",
   "metadata": {},
   "source": [
    "Although Pandas DataFrames present complex tally data in a visually-appealing tabular format, the real power of Pandas is through its rich feature set for data munging and modeling. Unfortunately, we don't have time in this workshop to even scratch the surface of what is possible with Pandas, but we will highlight one nice feature in fancy indexing here.\n",
    "\n",
    "First, Pandas supports fance indexing schemes to permit easy selection of subsets of data from a `DataFrame`. For example, consider the case where we may wish to create a `DataFrame` in a variable called `sub_df` with only the \"U235\" tally data in the `mesh_fiss` `Tally:"
   ]
  },
  {
   "cell_type": "code",
   "execution_count": 33,
   "metadata": {
    "collapsed": false
   },
   "outputs": [
    {
     "name": "stderr",
     "output_type": "stream",
     "text": [
      "/usr/local/lib/python3.5/dist-packages/numpy/lib/shape_base.py:873: VisibleDeprecationWarning: using a non-integer number instead of an integer will result in an error in the future\n",
      "  return c.reshape(shape_out)\n"
     ]
    },
    {
     "data": {
      "text/html": [
       "<div>\n",
       "<table border=\"1\" class=\"dataframe\">\n",
       "  <thead>\n",
       "    <tr>\n",
       "      <th></th>\n",
       "      <th colspan=\"3\" halign=\"left\">mesh 10000</th>\n",
       "      <th>nuclide</th>\n",
       "      <th>score</th>\n",
       "      <th>mean</th>\n",
       "      <th>std. dev.</th>\n",
       "    </tr>\n",
       "    <tr>\n",
       "      <th></th>\n",
       "      <th>x</th>\n",
       "      <th>y</th>\n",
       "      <th>z</th>\n",
       "      <th></th>\n",
       "      <th></th>\n",
       "      <th></th>\n",
       "      <th></th>\n",
       "    </tr>\n",
       "  </thead>\n",
       "  <tbody>\n",
       "    <tr>\n",
       "      <th>0</th>\n",
       "      <td>1</td>\n",
       "      <td>1</td>\n",
       "      <td>1</td>\n",
       "      <td>U235</td>\n",
       "      <td>fission</td>\n",
       "      <td>0.001659</td>\n",
       "      <td>0.000028</td>\n",
       "    </tr>\n",
       "    <tr>\n",
       "      <th>2</th>\n",
       "      <td>1</td>\n",
       "      <td>2</td>\n",
       "      <td>1</td>\n",
       "      <td>U235</td>\n",
       "      <td>fission</td>\n",
       "      <td>0.001684</td>\n",
       "      <td>0.000026</td>\n",
       "    </tr>\n",
       "    <tr>\n",
       "      <th>4</th>\n",
       "      <td>1</td>\n",
       "      <td>3</td>\n",
       "      <td>1</td>\n",
       "      <td>U235</td>\n",
       "      <td>fission</td>\n",
       "      <td>0.001693</td>\n",
       "      <td>0.000032</td>\n",
       "    </tr>\n",
       "    <tr>\n",
       "      <th>6</th>\n",
       "      <td>1</td>\n",
       "      <td>4</td>\n",
       "      <td>1</td>\n",
       "      <td>U235</td>\n",
       "      <td>fission</td>\n",
       "      <td>0.001748</td>\n",
       "      <td>0.000028</td>\n",
       "    </tr>\n",
       "    <tr>\n",
       "      <th>8</th>\n",
       "      <td>1</td>\n",
       "      <td>5</td>\n",
       "      <td>1</td>\n",
       "      <td>U235</td>\n",
       "      <td>fission</td>\n",
       "      <td>0.001769</td>\n",
       "      <td>0.000031</td>\n",
       "    </tr>\n",
       "  </tbody>\n",
       "</table>\n",
       "</div>"
      ],
      "text/plain": [
       "  mesh 10000       nuclide    score      mean std. dev.\n",
       "           x  y  z                                     \n",
       "0          1  1  1    U235  fission  0.001659  0.000028\n",
       "2          1  2  1    U235  fission  0.001684  0.000026\n",
       "4          1  3  1    U235  fission  0.001693  0.000032\n",
       "6          1  4  1    U235  fission  0.001748  0.000028\n",
       "8          1  5  1    U235  fission  0.001769  0.000031"
      ]
     },
     "execution_count": 33,
     "metadata": {},
     "output_type": "execute_result"
    }
   ],
   "source": [
    "df = mesh_fiss.get_pandas_dataframe()\n",
    "sub_df = df[df['nuclide'] == 'U235']\n",
    "sub_df.head(5)"
   ]
  },
  {
   "cell_type": "markdown",
   "metadata": {},
   "source": [
    "Now consider the case where we wish to select from `sub_df` those mesh cells which have a \"fission\" rate that is above the average:"
   ]
  },
  {
   "cell_type": "code",
   "execution_count": 34,
   "metadata": {
    "collapsed": false
   },
   "outputs": [
    {
     "data": {
      "text/html": [
       "<div>\n",
       "<table border=\"1\" class=\"dataframe\">\n",
       "  <thead>\n",
       "    <tr>\n",
       "      <th></th>\n",
       "      <th colspan=\"3\" halign=\"left\">mesh 10000</th>\n",
       "      <th>nuclide</th>\n",
       "      <th>score</th>\n",
       "      <th>mean</th>\n",
       "      <th>std. dev.</th>\n",
       "    </tr>\n",
       "    <tr>\n",
       "      <th></th>\n",
       "      <th>x</th>\n",
       "      <th>y</th>\n",
       "      <th>z</th>\n",
       "      <th></th>\n",
       "      <th></th>\n",
       "      <th></th>\n",
       "      <th></th>\n",
       "    </tr>\n",
       "  </thead>\n",
       "  <tbody>\n",
       "    <tr>\n",
       "      <th>16</th>\n",
       "      <td>1</td>\n",
       "      <td>9</td>\n",
       "      <td>1</td>\n",
       "      <td>U235</td>\n",
       "      <td>fission</td>\n",
       "      <td>0.001878</td>\n",
       "      <td>0.000028</td>\n",
       "    </tr>\n",
       "    <tr>\n",
       "      <th>44</th>\n",
       "      <td>2</td>\n",
       "      <td>6</td>\n",
       "      <td>1</td>\n",
       "      <td>U235</td>\n",
       "      <td>fission</td>\n",
       "      <td>0.001886</td>\n",
       "      <td>0.000027</td>\n",
       "    </tr>\n",
       "    <tr>\n",
       "      <th>48</th>\n",
       "      <td>2</td>\n",
       "      <td>8</td>\n",
       "      <td>1</td>\n",
       "      <td>U235</td>\n",
       "      <td>fission</td>\n",
       "      <td>0.001888</td>\n",
       "      <td>0.000026</td>\n",
       "    </tr>\n",
       "    <tr>\n",
       "      <th>50</th>\n",
       "      <td>2</td>\n",
       "      <td>9</td>\n",
       "      <td>1</td>\n",
       "      <td>U235</td>\n",
       "      <td>fission</td>\n",
       "      <td>0.001956</td>\n",
       "      <td>0.000024</td>\n",
       "    </tr>\n",
       "    <tr>\n",
       "      <th>52</th>\n",
       "      <td>2</td>\n",
       "      <td>10</td>\n",
       "      <td>1</td>\n",
       "      <td>U235</td>\n",
       "      <td>fission</td>\n",
       "      <td>0.001889</td>\n",
       "      <td>0.000027</td>\n",
       "    </tr>\n",
       "  </tbody>\n",
       "</table>\n",
       "</div>"
      ],
      "text/plain": [
       "   mesh 10000        nuclide    score      mean std. dev.\n",
       "            x   y  z                                     \n",
       "16          1   9  1    U235  fission  0.001878  0.000028\n",
       "44          2   6  1    U235  fission  0.001886  0.000027\n",
       "48          2   8  1    U235  fission  0.001888  0.000026\n",
       "50          2   9  1    U235  fission  0.001956  0.000024\n",
       "52          2  10  1    U235  fission  0.001889  0.000027"
      ]
     },
     "execution_count": 34,
     "metadata": {},
     "output_type": "execute_result"
    }
   ],
   "source": [
    "# Replace 0's with NaN to eliminate them from average\n",
    "sub_df = sub_df.replace(0, np.nan)\n",
    "\n",
    "# Extract rows corresponding to above average fission rates\n",
    "indices = sub_df['mean'] > sub_df['mean'].mean()\n",
    "above_avg = sub_df[indices]\n",
    "above_avg.head(5)"
   ]
  },
  {
   "cell_type": "markdown",
   "metadata": {},
   "source": [
    "Finally, let's use Pandas fancy indexing to select the data corresponding to those mesh cells in the lower left triangle of the mesh:"
   ]
  },
  {
   "cell_type": "code",
   "execution_count": 35,
   "metadata": {
    "collapsed": false
   },
   "outputs": [
    {
     "data": {
      "text/html": [
       "<div>\n",
       "<table border=\"1\" class=\"dataframe\">\n",
       "  <thead>\n",
       "    <tr>\n",
       "      <th></th>\n",
       "      <th colspan=\"3\" halign=\"left\">mesh 10000</th>\n",
       "      <th>nuclide</th>\n",
       "      <th>score</th>\n",
       "      <th>mean</th>\n",
       "      <th>std. dev.</th>\n",
       "    </tr>\n",
       "    <tr>\n",
       "      <th></th>\n",
       "      <th>x</th>\n",
       "      <th>y</th>\n",
       "      <th>z</th>\n",
       "      <th></th>\n",
       "      <th></th>\n",
       "      <th></th>\n",
       "      <th></th>\n",
       "    </tr>\n",
       "  </thead>\n",
       "  <tbody>\n",
       "    <tr>\n",
       "      <th>34</th>\n",
       "      <td>2</td>\n",
       "      <td>1</td>\n",
       "      <td>1</td>\n",
       "      <td>U235</td>\n",
       "      <td>fission</td>\n",
       "      <td>0.001660</td>\n",
       "      <td>0.000024</td>\n",
       "    </tr>\n",
       "    <tr>\n",
       "      <th>35</th>\n",
       "      <td>2</td>\n",
       "      <td>1</td>\n",
       "      <td>1</td>\n",
       "      <td>U238</td>\n",
       "      <td>fission</td>\n",
       "      <td>0.000103</td>\n",
       "      <td>0.000001</td>\n",
       "    </tr>\n",
       "    <tr>\n",
       "      <th>68</th>\n",
       "      <td>3</td>\n",
       "      <td>1</td>\n",
       "      <td>1</td>\n",
       "      <td>U235</td>\n",
       "      <td>fission</td>\n",
       "      <td>0.001678</td>\n",
       "      <td>0.000026</td>\n",
       "    </tr>\n",
       "    <tr>\n",
       "      <th>69</th>\n",
       "      <td>3</td>\n",
       "      <td>1</td>\n",
       "      <td>1</td>\n",
       "      <td>U238</td>\n",
       "      <td>fission</td>\n",
       "      <td>0.000105</td>\n",
       "      <td>0.000001</td>\n",
       "    </tr>\n",
       "    <tr>\n",
       "      <th>70</th>\n",
       "      <td>3</td>\n",
       "      <td>2</td>\n",
       "      <td>1</td>\n",
       "      <td>U235</td>\n",
       "      <td>fission</td>\n",
       "      <td>0.001658</td>\n",
       "      <td>0.000022</td>\n",
       "    </tr>\n",
       "  </tbody>\n",
       "</table>\n",
       "</div>"
      ],
      "text/plain": [
       "   mesh 10000       nuclide    score      mean std. dev.\n",
       "            x  y  z                                     \n",
       "34          2  1  1    U235  fission  0.001660  0.000024\n",
       "35          2  1  1    U238  fission  0.000103  0.000001\n",
       "68          3  1  1    U235  fission  0.001678  0.000026\n",
       "69          3  1  1    U238  fission  0.000105  0.000001\n",
       "70          3  2  1    U235  fission  0.001658  0.000022"
      ]
     },
     "execution_count": 35,
     "metadata": {},
     "output_type": "execute_result"
    }
   ],
   "source": [
    "indices = df[('mesh 10000', 'x')] > df[('mesh 10000', 'y')]\n",
    "lower = df[indices]\n",
    "lower.head(5)"
   ]
  },
  {
   "cell_type": "markdown",
   "metadata": {},
   "source": [
    "## Tally Manipulations"
   ]
  },
  {
   "cell_type": "markdown",
   "metadata": {},
   "source": [
    "The OpenMC Python API supports a rich variety of methods to manipulate and combine `Tally` objects. The following sections briefly illustrate how to \"slicing\" and \"summing\" of `Tally` objects, as well as \"`Tally` arithmetic\" operations."
   ]
  },
  {
   "cell_type": "markdown",
   "metadata": {},
   "source": [
    "#### Tally Slicing"
   ]
  },
  {
   "cell_type": "markdown",
   "metadata": {
    "collapsed": true
   },
   "source": [
    "In some cases a `Tally` may have data for multiple `Filter` bins, nuclides or scores which must be treated separately in a downstream data processing workflow. The `Tally.get_slice(...)` method is custom designed to \"slice\" apart `Tally` objects into multiple \"sub\"-`Tally` objects by `Filter` bin(s), nuclide(s) and/or score(s).\n",
    "\n",
    "As an example, let's consider our `distribcell` `Tally` object which has two scores (\"absorption\" and \"fission\") and two nuclides (\"U235\" and \"U238\"). First, we will slice `distribcell` into two new `Tally` objects for each score in the new variables `fission` and `absorption`:"
   ]
  },
  {
   "cell_type": "code",
   "execution_count": 36,
   "metadata": {
    "collapsed": false
   },
   "outputs": [
    {
     "name": "stdout",
     "output_type": "stream",
     "text": [
      "Tally\n",
      "\tID             =\t10000\n",
      "\tName           =\tdistribcell\n",
      "\tFilters        =\tDistribcellFilter\n",
      "\tNuclides       =\tU235 U238 \n",
      "\tScores         =\t['fission']\n",
      "\tEstimator      =\ttracklength\n",
      "\n",
      "Tally\n",
      "\tID             =\t10001\n",
      "\tName           =\tdistribcell\n",
      "\tFilters        =\tDistribcellFilter\n",
      "\tNuclides       =\tU235 U238 \n",
      "\tScores         =\t['absorption']\n",
      "\tEstimator      =\ttracklength\n",
      "\n"
     ]
    }
   ],
   "source": [
    "fission = distribcell.get_slice(scores=['fission'])\n",
    "absorption = distribcell.get_slice(scores=['absorption'])\n",
    "print(fission)\n",
    "print(absorption)"
   ]
  },
  {
   "cell_type": "markdown",
   "metadata": {
    "collapsed": true
   },
   "source": [
    "Similarly, we can slice apart the `Tally` objects in `fission` and `absorption` by nuclide:"
   ]
  },
  {
   "cell_type": "code",
   "execution_count": 37,
   "metadata": {
    "collapsed": false
   },
   "outputs": [
    {
     "name": "stdout",
     "output_type": "stream",
     "text": [
      "Tally\n",
      "\tID             =\t10002\n",
      "\tName           =\tdistribcell\n",
      "\tFilters        =\tDistribcellFilter\n",
      "\tNuclides       =\tU235 \n",
      "\tScores         =\t['fission']\n",
      "\tEstimator      =\ttracklength\n",
      "\n",
      "Tally\n",
      "\tID             =\t10003\n",
      "\tName           =\tdistribcell\n",
      "\tFilters        =\tDistribcellFilter\n",
      "\tNuclides       =\tU238 \n",
      "\tScores         =\t['absorption']\n",
      "\tEstimator      =\ttracklength\n",
      "\n"
     ]
    }
   ],
   "source": [
    "u235_fission = fission.get_slice(nuclides=['U235'])\n",
    "u238_absorption = absorption.get_slice(nuclides=['U238'])\n",
    "print(u235_fission)\n",
    "print(u238_absorption)"
   ]
  },
  {
   "cell_type": "markdown",
   "metadata": {},
   "source": [
    "As we have shown, `Tally` \"slicing\" returns a new `Tally` object which encapsulates only the data of interest. The original `Tally` remains intact and the new \"sliced\" `Tally` object supports the complete `Tally` API as does the original `Tally`. These two examples simply illustrate the basic concept of `Tally` \"slicing\" - `Tally.get_slice(...)` method supports arbitrary slicing over `Filter` bins and/or nuclides and/or scores simultaneously."
   ]
  },
  {
   "cell_type": "markdown",
   "metadata": {},
   "source": [
    "#### Tally Summation"
   ]
  },
  {
   "cell_type": "markdown",
   "metadata": {
    "collapsed": true
   },
   "source": [
    "In some scenarios it may be useful to perform a summation across `Filter` bins, nuclides or scores within a single `Tally`. The `Tally.summation(...)` method is custom built for such purposes. Similar to the `Tally` \"slicing,\" `Tally` \"summation\" returns a new `Tally` object which encapsulates the summation of the underlying data.\n",
    "\n",
    "As an example, let's compute the sum across nuclides \"U235\" and \"U238\" in our `distribcell` `Tally` object:"
   ]
  },
  {
   "cell_type": "code",
   "execution_count": 38,
   "metadata": {
    "collapsed": false
   },
   "outputs": [
    {
     "name": "stdout",
     "output_type": "stream",
     "text": [
      "Tally\n",
      "\tID             =\t10004\n",
      "\tName           =\t\n",
      "\tFilters        =\tDistribcellFilter\n",
      "\tNuclides       =\tsum(U235, U238) \n",
      "\tScores         =\t['absorption', 'fission']\n",
      "\tEstimator      =\ttracklength\n",
      "\n"
     ]
    }
   ],
   "source": [
    "# Sum across nuclides\n",
    "u235_plus_u238 = distribcell.summation(nuclides=['U235', 'U238'])\n",
    "print(u235_plus_u238)"
   ]
  },
  {
   "cell_type": "markdown",
   "metadata": {},
   "source": [
    "The new `Tally` \"sum\" object in `u235_plus_u238` includes all of the same properties and methods as the original `distribcell` `Tally` object from which it came. As an example, we can report the first ten rows of the Pandas DataFrame for this `Tally` \"sum\":"
   ]
  },
  {
   "cell_type": "code",
   "execution_count": 39,
   "metadata": {
    "collapsed": false
   },
   "outputs": [
    {
     "data": {
      "text/html": [
       "<div>\n",
       "<table border=\"1\" class=\"dataframe\">\n",
       "  <thead>\n",
       "    <tr>\n",
       "      <th></th>\n",
       "      <th colspan=\"2\" halign=\"left\">level 1</th>\n",
       "      <th colspan=\"4\" halign=\"left\">level 2</th>\n",
       "      <th colspan=\"2\" halign=\"left\">level 3</th>\n",
       "      <th>distribcell</th>\n",
       "      <th>sum(nuclide)</th>\n",
       "      <th>score</th>\n",
       "      <th>mean</th>\n",
       "      <th>std. dev.</th>\n",
       "    </tr>\n",
       "    <tr>\n",
       "      <th></th>\n",
       "      <th>univ</th>\n",
       "      <th>cell</th>\n",
       "      <th colspan=\"4\" halign=\"left\">lat</th>\n",
       "      <th>univ</th>\n",
       "      <th>cell</th>\n",
       "      <th></th>\n",
       "      <th></th>\n",
       "      <th></th>\n",
       "      <th></th>\n",
       "      <th></th>\n",
       "    </tr>\n",
       "    <tr>\n",
       "      <th></th>\n",
       "      <th>id</th>\n",
       "      <th>id</th>\n",
       "      <th>id</th>\n",
       "      <th>x</th>\n",
       "      <th>y</th>\n",
       "      <th>z</th>\n",
       "      <th>id</th>\n",
       "      <th>id</th>\n",
       "      <th></th>\n",
       "      <th></th>\n",
       "      <th></th>\n",
       "      <th></th>\n",
       "      <th></th>\n",
       "    </tr>\n",
       "  </thead>\n",
       "  <tbody>\n",
       "    <tr>\n",
       "      <th>0</th>\n",
       "      <td>0</td>\n",
       "      <td>10013</td>\n",
       "      <td>10004</td>\n",
       "      <td>0</td>\n",
       "      <td>0</td>\n",
       "      <td>0</td>\n",
       "      <td>10000</td>\n",
       "      <td>1</td>\n",
       "      <td>0</td>\n",
       "      <td>(U235, U238)</td>\n",
       "      <td>absorption</td>\n",
       "      <td>0.003062</td>\n",
       "      <td>0.000039</td>\n",
       "    </tr>\n",
       "    <tr>\n",
       "      <th>1</th>\n",
       "      <td>0</td>\n",
       "      <td>10013</td>\n",
       "      <td>10004</td>\n",
       "      <td>0</td>\n",
       "      <td>0</td>\n",
       "      <td>0</td>\n",
       "      <td>10000</td>\n",
       "      <td>1</td>\n",
       "      <td>0</td>\n",
       "      <td>(U235, U238)</td>\n",
       "      <td>fission</td>\n",
       "      <td>0.001763</td>\n",
       "      <td>0.000028</td>\n",
       "    </tr>\n",
       "    <tr>\n",
       "      <th>2</th>\n",
       "      <td>0</td>\n",
       "      <td>10013</td>\n",
       "      <td>10004</td>\n",
       "      <td>0</td>\n",
       "      <td>1</td>\n",
       "      <td>0</td>\n",
       "      <td>10000</td>\n",
       "      <td>1</td>\n",
       "      <td>1</td>\n",
       "      <td>(U235, U238)</td>\n",
       "      <td>absorption</td>\n",
       "      <td>0.003067</td>\n",
       "      <td>0.000033</td>\n",
       "    </tr>\n",
       "    <tr>\n",
       "      <th>3</th>\n",
       "      <td>0</td>\n",
       "      <td>10013</td>\n",
       "      <td>10004</td>\n",
       "      <td>0</td>\n",
       "      <td>1</td>\n",
       "      <td>0</td>\n",
       "      <td>10000</td>\n",
       "      <td>1</td>\n",
       "      <td>1</td>\n",
       "      <td>(U235, U238)</td>\n",
       "      <td>fission</td>\n",
       "      <td>0.001762</td>\n",
       "      <td>0.000024</td>\n",
       "    </tr>\n",
       "    <tr>\n",
       "      <th>4</th>\n",
       "      <td>0</td>\n",
       "      <td>10013</td>\n",
       "      <td>10004</td>\n",
       "      <td>0</td>\n",
       "      <td>2</td>\n",
       "      <td>0</td>\n",
       "      <td>10000</td>\n",
       "      <td>1</td>\n",
       "      <td>2</td>\n",
       "      <td>(U235, U238)</td>\n",
       "      <td>absorption</td>\n",
       "      <td>0.003110</td>\n",
       "      <td>0.000037</td>\n",
       "    </tr>\n",
       "    <tr>\n",
       "      <th>5</th>\n",
       "      <td>0</td>\n",
       "      <td>10013</td>\n",
       "      <td>10004</td>\n",
       "      <td>0</td>\n",
       "      <td>2</td>\n",
       "      <td>0</td>\n",
       "      <td>10000</td>\n",
       "      <td>1</td>\n",
       "      <td>2</td>\n",
       "      <td>(U235, U238)</td>\n",
       "      <td>fission</td>\n",
       "      <td>0.001783</td>\n",
       "      <td>0.000026</td>\n",
       "    </tr>\n",
       "    <tr>\n",
       "      <th>6</th>\n",
       "      <td>0</td>\n",
       "      <td>10013</td>\n",
       "      <td>10004</td>\n",
       "      <td>0</td>\n",
       "      <td>3</td>\n",
       "      <td>0</td>\n",
       "      <td>10000</td>\n",
       "      <td>1</td>\n",
       "      <td>3</td>\n",
       "      <td>(U235, U238)</td>\n",
       "      <td>absorption</td>\n",
       "      <td>0.003249</td>\n",
       "      <td>0.000041</td>\n",
       "    </tr>\n",
       "    <tr>\n",
       "      <th>7</th>\n",
       "      <td>0</td>\n",
       "      <td>10013</td>\n",
       "      <td>10004</td>\n",
       "      <td>0</td>\n",
       "      <td>3</td>\n",
       "      <td>0</td>\n",
       "      <td>10000</td>\n",
       "      <td>1</td>\n",
       "      <td>3</td>\n",
       "      <td>(U235, U238)</td>\n",
       "      <td>fission</td>\n",
       "      <td>0.001863</td>\n",
       "      <td>0.000028</td>\n",
       "    </tr>\n",
       "    <tr>\n",
       "      <th>8</th>\n",
       "      <td>0</td>\n",
       "      <td>10013</td>\n",
       "      <td>10004</td>\n",
       "      <td>0</td>\n",
       "      <td>4</td>\n",
       "      <td>0</td>\n",
       "      <td>10000</td>\n",
       "      <td>1</td>\n",
       "      <td>4</td>\n",
       "      <td>(U235, U238)</td>\n",
       "      <td>absorption</td>\n",
       "      <td>0.003267</td>\n",
       "      <td>0.000039</td>\n",
       "    </tr>\n",
       "    <tr>\n",
       "      <th>9</th>\n",
       "      <td>0</td>\n",
       "      <td>10013</td>\n",
       "      <td>10004</td>\n",
       "      <td>0</td>\n",
       "      <td>4</td>\n",
       "      <td>0</td>\n",
       "      <td>10000</td>\n",
       "      <td>1</td>\n",
       "      <td>4</td>\n",
       "      <td>(U235, U238)</td>\n",
       "      <td>fission</td>\n",
       "      <td>0.001862</td>\n",
       "      <td>0.000027</td>\n",
       "    </tr>\n",
       "  </tbody>\n",
       "</table>\n",
       "</div>"
      ],
      "text/plain": [
       "  level 1        level 2          level 3      distribcell  sum(nuclide)  \\\n",
       "     univ   cell     lat             univ cell                             \n",
       "       id     id      id  x  y  z      id   id                             \n",
       "0       0  10013   10004  0  0  0   10000    1           0  (U235, U238)   \n",
       "1       0  10013   10004  0  0  0   10000    1           0  (U235, U238)   \n",
       "2       0  10013   10004  0  1  0   10000    1           1  (U235, U238)   \n",
       "3       0  10013   10004  0  1  0   10000    1           1  (U235, U238)   \n",
       "4       0  10013   10004  0  2  0   10000    1           2  (U235, U238)   \n",
       "5       0  10013   10004  0  2  0   10000    1           2  (U235, U238)   \n",
       "6       0  10013   10004  0  3  0   10000    1           3  (U235, U238)   \n",
       "7       0  10013   10004  0  3  0   10000    1           3  (U235, U238)   \n",
       "8       0  10013   10004  0  4  0   10000    1           4  (U235, U238)   \n",
       "9       0  10013   10004  0  4  0   10000    1           4  (U235, U238)   \n",
       "\n",
       "        score      mean std. dev.  \n",
       "                                   \n",
       "                                   \n",
       "0  absorption  0.003062  0.000039  \n",
       "1     fission  0.001763  0.000028  \n",
       "2  absorption  0.003067  0.000033  \n",
       "3     fission  0.001762  0.000024  \n",
       "4  absorption  0.003110  0.000037  \n",
       "5     fission  0.001783  0.000026  \n",
       "6  absorption  0.003249  0.000041  \n",
       "7     fission  0.001863  0.000028  \n",
       "8  absorption  0.003267  0.000039  \n",
       "9     fission  0.001862  0.000027  "
      ]
     },
     "execution_count": 39,
     "metadata": {},
     "output_type": "execute_result"
    }
   ],
   "source": [
    "df = u235_plus_u238.get_pandas_dataframe()\n",
    "df.head(10)"
   ]
  },
  {
   "cell_type": "markdown",
   "metadata": {},
   "source": [
    "As we can see from the `DataFrame`, `Tally.summation(...)` propagates the uncertainties through the summation. Note that the standard deviation is a biased estimate since `Tally.summation(...)` only uses a first order estimate of the uncertainty of the sum of random variables.\n",
    "\n",
    "As we have shown, `Tally` \"summation\" returns a new `Tally` object which encapsulates a sum over the data of interest. The original `Tally` remains intact and the new `Tally` \"sum\" object supports the complete `Tally` API as does the original `Tally`. These two examples simply illustrate the basic concept of `Tally` \"summation\" - `Tally.summation(...)` method supports arbitrary summing over `Filter` bins and/or nuclides and/or scores simultaneously."
   ]
  },
  {
   "cell_type": "markdown",
   "metadata": {},
   "source": [
    "#### Tally Arithmetic"
   ]
  },
  {
   "cell_type": "markdown",
   "metadata": {},
   "source": [
    "In many data workflows, one may arithmetically combine multiple tallies. This can be labor intensive and prone to errors, especially if the uncertainties must be propagated through the calculation. In many cases, users develop a data processsing apparatus \"hard coded\" for their particular use case. To mitigate this hassle for our users, we have developed a general toolbox of data processing features collectively collectively as \"`Tally` arithmetic\".\n",
    "\n",
    "The OpenMC Python API allows multiple `Tally` objects to be direcly combined with each other using the basic binary operators for addition(\"+\"), subtraction (\"-\"), multiplication (\"\\*\") and division (\"/\"). In each case, the arithmetic operation is \"broacast\" across all `Filter` bins, nuclides and score bins in each of the `Tally` operands through a fast, vectorized NumPy array operation.\n",
    "\n",
    "As an example, we can divide the `therm_abs` and `tot_abs` variables to compute the resonance escape probability which is defined as: $$p=\\frac{\\langle\\Sigma_a\\phi\\rangle_T}{\\langle\\Sigma_a\\phi\\rangle}$$ where the subscript $T$ means thermal energies."
   ]
  },
  {
   "cell_type": "code",
   "execution_count": 40,
   "metadata": {
    "collapsed": false
   },
   "outputs": [
    {
     "data": {
      "text/html": [
       "<div>\n",
       "<table border=\"1\" class=\"dataframe\">\n",
       "  <thead>\n",
       "    <tr style=\"text-align: right;\">\n",
       "      <th></th>\n",
       "      <th>energy low [eV]</th>\n",
       "      <th>energy high [eV]</th>\n",
       "      <th>nuclide</th>\n",
       "      <th>score</th>\n",
       "      <th>mean</th>\n",
       "      <th>std. dev.</th>\n",
       "    </tr>\n",
       "  </thead>\n",
       "  <tbody>\n",
       "    <tr>\n",
       "      <th>0</th>\n",
       "      <td>0.0</td>\n",
       "      <td>0.625</td>\n",
       "      <td>total</td>\n",
       "      <td>absorption</td>\n",
       "      <td>0.689035</td>\n",
       "      <td>0.001184</td>\n",
       "    </tr>\n",
       "  </tbody>\n",
       "</table>\n",
       "</div>"
      ],
      "text/plain": [
       "   energy low [eV]  energy high [eV] nuclide       score     mean  std. dev.\n",
       "0         0.00e+00          6.25e-01   total  absorption 6.89e-01   1.18e-03"
      ]
     },
     "execution_count": 40,
     "metadata": {},
     "output_type": "execute_result"
    }
   ],
   "source": [
    "res_esc = therm_abs / tot_abs\n",
    "res_esc.get_pandas_dataframe()"
   ]
  },
  {
   "cell_type": "markdown",
   "metadata": {},
   "source": [
    "Based on this analysis, our PWR fuel assembly has a resonance escape probability of ~69%. `Tally` \"arithmetic\" returns a new `Tally` object which encapsulates the operation over the data from the two `Tally` operands. The original `Tally` operands remain intact and the new resultant `Tally` object supports the complete `Tally` API as did the original `Tally` operands. As was the case for `Tally` summation, `Tally` arithmetic propagates the uncertainties through the calculation such that we have a mean and a standard deviation for the combined `Tally` object."
   ]
  },
  {
   "cell_type": "markdown",
   "metadata": {},
   "source": [
    "As a second example, let's consider a situation where we want to leverage `Tally` arithmetic's vectorized data processing framework. We will compute the dividend between the U-235 fission and U-235 absorption from our `distribcell` `Tally` which we sliced into `u235_fission` and `u238_absorption`:"
   ]
  },
  {
   "cell_type": "code",
   "execution_count": 41,
   "metadata": {
    "collapsed": false
   },
   "outputs": [
    {
     "data": {
      "text/html": [
       "<div>\n",
       "<table border=\"1\" class=\"dataframe\">\n",
       "  <thead>\n",
       "    <tr>\n",
       "      <th></th>\n",
       "      <th colspan=\"2\" halign=\"left\">level 1</th>\n",
       "      <th colspan=\"4\" halign=\"left\">level 2</th>\n",
       "      <th colspan=\"2\" halign=\"left\">level 3</th>\n",
       "      <th>distribcell</th>\n",
       "      <th>nuclide</th>\n",
       "      <th>score</th>\n",
       "      <th>mean</th>\n",
       "      <th>std. dev.</th>\n",
       "    </tr>\n",
       "    <tr>\n",
       "      <th></th>\n",
       "      <th>univ</th>\n",
       "      <th>cell</th>\n",
       "      <th colspan=\"4\" halign=\"left\">lat</th>\n",
       "      <th>univ</th>\n",
       "      <th>cell</th>\n",
       "      <th></th>\n",
       "      <th></th>\n",
       "      <th></th>\n",
       "      <th></th>\n",
       "      <th></th>\n",
       "    </tr>\n",
       "    <tr>\n",
       "      <th></th>\n",
       "      <th>id</th>\n",
       "      <th>id</th>\n",
       "      <th>id</th>\n",
       "      <th>x</th>\n",
       "      <th>y</th>\n",
       "      <th>z</th>\n",
       "      <th>id</th>\n",
       "      <th>id</th>\n",
       "      <th></th>\n",
       "      <th></th>\n",
       "      <th></th>\n",
       "      <th></th>\n",
       "      <th></th>\n",
       "    </tr>\n",
       "  </thead>\n",
       "  <tbody>\n",
       "    <tr>\n",
       "      <th>0</th>\n",
       "      <td>0</td>\n",
       "      <td>10013</td>\n",
       "      <td>10004</td>\n",
       "      <td>0</td>\n",
       "      <td>0</td>\n",
       "      <td>0</td>\n",
       "      <td>10000</td>\n",
       "      <td>1</td>\n",
       "      <td>0</td>\n",
       "      <td>(U235 / U238)</td>\n",
       "      <td>(fission / absorption)</td>\n",
       "      <td>1.569185</td>\n",
       "      <td>0.038661</td>\n",
       "    </tr>\n",
       "    <tr>\n",
       "      <th>1</th>\n",
       "      <td>0</td>\n",
       "      <td>10013</td>\n",
       "      <td>10004</td>\n",
       "      <td>0</td>\n",
       "      <td>1</td>\n",
       "      <td>0</td>\n",
       "      <td>10000</td>\n",
       "      <td>1</td>\n",
       "      <td>1</td>\n",
       "      <td>(U235 / U238)</td>\n",
       "      <td>(fission / absorption)</td>\n",
       "      <td>1.561027</td>\n",
       "      <td>0.034084</td>\n",
       "    </tr>\n",
       "    <tr>\n",
       "      <th>2</th>\n",
       "      <td>0</td>\n",
       "      <td>10013</td>\n",
       "      <td>10004</td>\n",
       "      <td>0</td>\n",
       "      <td>2</td>\n",
       "      <td>0</td>\n",
       "      <td>10000</td>\n",
       "      <td>1</td>\n",
       "      <td>2</td>\n",
       "      <td>(U235 / U238)</td>\n",
       "      <td>(fission / absorption)</td>\n",
       "      <td>1.544470</td>\n",
       "      <td>0.038114</td>\n",
       "    </tr>\n",
       "    <tr>\n",
       "      <th>3</th>\n",
       "      <td>0</td>\n",
       "      <td>10013</td>\n",
       "      <td>10004</td>\n",
       "      <td>0</td>\n",
       "      <td>3</td>\n",
       "      <td>0</td>\n",
       "      <td>10000</td>\n",
       "      <td>1</td>\n",
       "      <td>3</td>\n",
       "      <td>(U235 / U238)</td>\n",
       "      <td>(fission / absorption)</td>\n",
       "      <td>1.559087</td>\n",
       "      <td>0.041094</td>\n",
       "    </tr>\n",
       "    <tr>\n",
       "      <th>4</th>\n",
       "      <td>0</td>\n",
       "      <td>10013</td>\n",
       "      <td>10004</td>\n",
       "      <td>0</td>\n",
       "      <td>4</td>\n",
       "      <td>0</td>\n",
       "      <td>10000</td>\n",
       "      <td>1</td>\n",
       "      <td>4</td>\n",
       "      <td>(U235 / U238)</td>\n",
       "      <td>(fission / absorption)</td>\n",
       "      <td>1.531166</td>\n",
       "      <td>0.037514</td>\n",
       "    </tr>\n",
       "    <tr>\n",
       "      <th>5</th>\n",
       "      <td>0</td>\n",
       "      <td>10013</td>\n",
       "      <td>10004</td>\n",
       "      <td>0</td>\n",
       "      <td>5</td>\n",
       "      <td>0</td>\n",
       "      <td>10000</td>\n",
       "      <td>1</td>\n",
       "      <td>5</td>\n",
       "      <td>(U235 / U238)</td>\n",
       "      <td>(fission / absorption)</td>\n",
       "      <td>1.625140</td>\n",
       "      <td>0.038418</td>\n",
       "    </tr>\n",
       "    <tr>\n",
       "      <th>6</th>\n",
       "      <td>0</td>\n",
       "      <td>10013</td>\n",
       "      <td>10004</td>\n",
       "      <td>0</td>\n",
       "      <td>6</td>\n",
       "      <td>0</td>\n",
       "      <td>10000</td>\n",
       "      <td>1</td>\n",
       "      <td>6</td>\n",
       "      <td>(U235 / U238)</td>\n",
       "      <td>(fission / absorption)</td>\n",
       "      <td>1.565529</td>\n",
       "      <td>0.039888</td>\n",
       "    </tr>\n",
       "    <tr>\n",
       "      <th>7</th>\n",
       "      <td>0</td>\n",
       "      <td>10013</td>\n",
       "      <td>10004</td>\n",
       "      <td>0</td>\n",
       "      <td>7</td>\n",
       "      <td>0</td>\n",
       "      <td>10000</td>\n",
       "      <td>1</td>\n",
       "      <td>7</td>\n",
       "      <td>(U235 / U238)</td>\n",
       "      <td>(fission / absorption)</td>\n",
       "      <td>1.614603</td>\n",
       "      <td>0.041111</td>\n",
       "    </tr>\n",
       "    <tr>\n",
       "      <th>8</th>\n",
       "      <td>0</td>\n",
       "      <td>10013</td>\n",
       "      <td>10004</td>\n",
       "      <td>0</td>\n",
       "      <td>8</td>\n",
       "      <td>0</td>\n",
       "      <td>10000</td>\n",
       "      <td>1</td>\n",
       "      <td>8</td>\n",
       "      <td>(U235 / U238)</td>\n",
       "      <td>(fission / absorption)</td>\n",
       "      <td>1.650422</td>\n",
       "      <td>0.041164</td>\n",
       "    </tr>\n",
       "    <tr>\n",
       "      <th>9</th>\n",
       "      <td>0</td>\n",
       "      <td>10013</td>\n",
       "      <td>10004</td>\n",
       "      <td>0</td>\n",
       "      <td>9</td>\n",
       "      <td>0</td>\n",
       "      <td>10000</td>\n",
       "      <td>1</td>\n",
       "      <td>9</td>\n",
       "      <td>(U235 / U238)</td>\n",
       "      <td>(fission / absorption)</td>\n",
       "      <td>1.652931</td>\n",
       "      <td>0.039543</td>\n",
       "    </tr>\n",
       "  </tbody>\n",
       "</table>\n",
       "</div>"
      ],
      "text/plain": [
       "  level 1        level 2          level 3      distribcell        nuclide  \\\n",
       "     univ   cell     lat             univ cell                              \n",
       "       id     id      id  x  y  z      id   id                              \n",
       "0       0  10013   10004  0  0  0   10000    1           0  (U235 / U238)   \n",
       "1       0  10013   10004  0  1  0   10000    1           1  (U235 / U238)   \n",
       "2       0  10013   10004  0  2  0   10000    1           2  (U235 / U238)   \n",
       "3       0  10013   10004  0  3  0   10000    1           3  (U235 / U238)   \n",
       "4       0  10013   10004  0  4  0   10000    1           4  (U235 / U238)   \n",
       "5       0  10013   10004  0  5  0   10000    1           5  (U235 / U238)   \n",
       "6       0  10013   10004  0  6  0   10000    1           6  (U235 / U238)   \n",
       "7       0  10013   10004  0  7  0   10000    1           7  (U235 / U238)   \n",
       "8       0  10013   10004  0  8  0   10000    1           8  (U235 / U238)   \n",
       "9       0  10013   10004  0  9  0   10000    1           9  (U235 / U238)   \n",
       "\n",
       "                    score      mean std. dev.  \n",
       "                                               \n",
       "                                               \n",
       "0  (fission / absorption)  1.569185  0.038661  \n",
       "1  (fission / absorption)  1.561027  0.034084  \n",
       "2  (fission / absorption)  1.544470  0.038114  \n",
       "3  (fission / absorption)  1.559087  0.041094  \n",
       "4  (fission / absorption)  1.531166  0.037514  \n",
       "5  (fission / absorption)  1.625140  0.038418  \n",
       "6  (fission / absorption)  1.565529  0.039888  \n",
       "7  (fission / absorption)  1.614603  0.041111  \n",
       "8  (fission / absorption)  1.650422  0.041164  \n",
       "9  (fission / absorption)  1.652931  0.039543  "
      ]
     },
     "execution_count": 41,
     "metadata": {},
     "output_type": "execute_result"
    }
   ],
   "source": [
    "fiss_over_abs = u235_fission / u238_absorption\n",
    "df = fiss_over_abs.get_pandas_dataframe()\n",
    "df.head(10)"
   ]
  },
  {
   "cell_type": "markdown",
   "metadata": {},
   "source": [
    "We can easily view the distribution of the mean values in the Pandas `DataFrame` using the handy `plot(...)` method:"
   ]
  },
  {
   "cell_type": "code",
   "execution_count": 42,
   "metadata": {
    "collapsed": false
   },
   "outputs": [
    {
     "data": {
      "text/plain": [
       "<matplotlib.axes._subplots.AxesSubplot at 0x7f6bfe0e1748>"
      ]
     },
     "execution_count": 42,
     "metadata": {},
     "output_type": "execute_result"
    },
    {
     "data": {
      "image/png": "[encoded data removed]",
      "text/plain": [
       "<matplotlib.figure.Figure at 0x7f6bfe0e1ef0>"
      ]
     },
     "metadata": {},
     "output_type": "display_data"
    }
   ],
   "source": [
    "df.plot(kind='scatter', x='distribcell', y='mean')"
   ]
  },
  {
   "cell_type": "markdown",
   "metadata": {},
   "source": [
    "As one might expect, there is a clear trend in the data indicative of the different spatial self-shielding effects for those pins in the center of the assembly adjacent to control rod guide tubes in contrast to those pins near the outer boundaries of the assembly.\n",
    "\n",
    "One common application of `Tally` arithmetic is the calculation of multi-group cross sections (MGXS) which we will explore in the final two examples. Our `StatePoint` includes `Tally` objects necessary to compute a total MGXS - in particular, we need estimates of the total reaction rate as well as the flux to compute the total MGXS. In the following cell we extract two `Tally` objects, each with the name `\"total mgxs\"` but with `\"total\"` and `\"flux\"` scores:"
   ]
  },
  {
   "cell_type": "code",
   "execution_count": 43,
   "metadata": {
    "collapsed": false
   },
   "outputs": [
    {
     "name": "stdout",
     "output_type": "stream",
     "text": [
      "Tally\n",
      "\tID             =\t10006\n",
      "\tName           =\ttotal mgxs\n",
      "\tFilters        =\tCellFilter, EnergyFilter\n",
      "\tNuclides       =\ttotal \n",
      "\tScores         =\t['total']\n",
      "\tEstimator      =\ttracklength\n",
      " Tally\n",
      "\tID             =\t10005\n",
      "\tName           =\ttotal mgxs\n",
      "\tFilters        =\tCellFilter, EnergyFilter\n",
      "\tNuclides       =\ttotal \n",
      "\tScores         =\t['flux']\n",
      "\tEstimator      =\ttracklength\n",
      "\n"
     ]
    }
   ],
   "source": [
    "total = sp.get_tally(name='total mgxs', scores=['total'])\n",
    "flux = sp.get_tally(name='total mgxs', scores=['flux'])\n",
    "print(total, flux)"
   ]
  },
  {
   "cell_type": "markdown",
   "metadata": {},
   "source": [
    "As we can see, these `Tally` objects are for the `Cell` with ID=10000 (the fuel) and have an `\"energy\"` `Filter` with 8 energy groups. We can use `Tally` arithmetic to divide the total reaction rate by the flux to compute the 8-group total MGXS for the fuel assembly's fuel pins:"
   ]
  },
  {
   "cell_type": "code",
   "execution_count": 44,
   "metadata": {
    "collapsed": false
   },
   "outputs": [
    {
     "data": {
      "text/html": [
       "<div>\n",
       "<table border=\"1\" class=\"dataframe\">\n",
       "  <thead>\n",
       "    <tr style=\"text-align: right;\">\n",
       "      <th></th>\n",
       "      <th>cell</th>\n",
       "      <th>energy low [eV]</th>\n",
       "      <th>energy high [eV]</th>\n",
       "      <th>nuclide</th>\n",
       "      <th>score</th>\n",
       "      <th>mean</th>\n",
       "      <th>std. dev.</th>\n",
       "    </tr>\n",
       "  </thead>\n",
       "  <tbody>\n",
       "    <tr>\n",
       "      <th>0</th>\n",
       "      <td>1</td>\n",
       "      <td>0.000</td>\n",
       "      <td>5.800000e-02</td>\n",
       "      <td>total</td>\n",
       "      <td>(total / flux)</td>\n",
       "      <td>0.832285</td>\n",
       "      <td>0.002034</td>\n",
       "    </tr>\n",
       "    <tr>\n",
       "      <th>1</th>\n",
       "      <td>1</td>\n",
       "      <td>0.058</td>\n",
       "      <td>1.400000e-01</td>\n",
       "      <td>total</td>\n",
       "      <td>(total / flux)</td>\n",
       "      <td>0.609309</td>\n",
       "      <td>0.001712</td>\n",
       "    </tr>\n",
       "    <tr>\n",
       "      <th>2</th>\n",
       "      <td>1</td>\n",
       "      <td>0.140</td>\n",
       "      <td>2.800000e-01</td>\n",
       "      <td>total</td>\n",
       "      <td>(total / flux)</td>\n",
       "      <td>0.540219</td>\n",
       "      <td>0.001738</td>\n",
       "    </tr>\n",
       "    <tr>\n",
       "      <th>3</th>\n",
       "      <td>1</td>\n",
       "      <td>0.280</td>\n",
       "      <td>6.250000e-01</td>\n",
       "      <td>total</td>\n",
       "      <td>(total / flux)</td>\n",
       "      <td>0.485688</td>\n",
       "      <td>0.001531</td>\n",
       "    </tr>\n",
       "    <tr>\n",
       "      <th>4</th>\n",
       "      <td>1</td>\n",
       "      <td>0.625</td>\n",
       "      <td>4.000000e+00</td>\n",
       "      <td>total</td>\n",
       "      <td>(total / flux)</td>\n",
       "      <td>0.422426</td>\n",
       "      <td>0.001003</td>\n",
       "    </tr>\n",
       "    <tr>\n",
       "      <th>5</th>\n",
       "      <td>1</td>\n",
       "      <td>4.000</td>\n",
       "      <td>5.530000e+03</td>\n",
       "      <td>total</td>\n",
       "      <td>(total / flux)</td>\n",
       "      <td>0.556855</td>\n",
       "      <td>0.000732</td>\n",
       "    </tr>\n",
       "    <tr>\n",
       "      <th>6</th>\n",
       "      <td>1</td>\n",
       "      <td>5530.000</td>\n",
       "      <td>8.210000e+05</td>\n",
       "      <td>total</td>\n",
       "      <td>(total / flux)</td>\n",
       "      <td>0.429872</td>\n",
       "      <td>0.000581</td>\n",
       "    </tr>\n",
       "    <tr>\n",
       "      <th>7</th>\n",
       "      <td>1</td>\n",
       "      <td>821000.000</td>\n",
       "      <td>2.000000e+07</td>\n",
       "      <td>total</td>\n",
       "      <td>(total / flux)</td>\n",
       "      <td>0.274190</td>\n",
       "      <td>0.000588</td>\n",
       "    </tr>\n",
       "  </tbody>\n",
       "</table>\n",
       "</div>"
      ],
      "text/plain": [
       "   cell  energy low [eV]  energy high [eV] nuclide           score     mean  \\\n",
       "0     1         0.00e+00          5.80e-02   total  (total / flux) 8.32e-01   \n",
       "1     1         5.80e-02          1.40e-01   total  (total / flux) 6.09e-01   \n",
       "2     1         1.40e-01          2.80e-01   total  (total / flux) 5.40e-01   \n",
       "3     1         2.80e-01          6.25e-01   total  (total / flux) 4.86e-01   \n",
       "4     1         6.25e-01          4.00e+00   total  (total / flux) 4.22e-01   \n",
       "5     1         4.00e+00          5.53e+03   total  (total / flux) 5.57e-01   \n",
       "6     1         5.53e+03          8.21e+05   total  (total / flux) 4.30e-01   \n",
       "7     1         8.21e+05          2.00e+07   total  (total / flux) 2.74e-01   \n",
       "\n",
       "   std. dev.  \n",
       "0   2.03e-03  \n",
       "1   1.71e-03  \n",
       "2   1.74e-03  \n",
       "3   1.53e-03  \n",
       "4   1.00e-03  \n",
       "5   7.32e-04  \n",
       "6   5.81e-04  \n",
       "7   5.88e-04  "
      ]
     },
     "execution_count": 44,
     "metadata": {},
     "output_type": "execute_result"
    }
   ],
   "source": [
    "total_mgxs = total / flux\n",
    "total_mgxs.get_pandas_dataframe()"
   ]
  },
  {
   "cell_type": "markdown",
   "metadata": {},
   "source": [
    "Here we have an 8-group total MGXS computed across all of the fuel pins in the fuel assembly with the propagated uncertainties in each group.\n",
    "\n",
    "Let's conclude by using `Tally` arithmetic to compute an 8-group scattering matrix. As before, we will extract two `Tally` objects, each with the name `\"scatter matrix\"` but with `\"scatter\"` and `\"flux\"` scores:"
   ]
  },
  {
   "cell_type": "code",
   "execution_count": 45,
   "metadata": {
    "collapsed": false
   },
   "outputs": [
    {
     "name": "stdout",
     "output_type": "stream",
     "text": [
      "Tally\n",
      "\tID             =\t10008\n",
      "\tName           =\tscatter matrix\n",
      "\tFilters        =\tCellFilter, EnergyFilter, EnergyoutFilter\n",
      "\tNuclides       =\tH1 O16 \n",
      "\tScores         =\t['scatter-0']\n",
      "\tEstimator      =\tanalog\n",
      "\n",
      "Tally\n",
      "\tID             =\t10007\n",
      "\tName           =\tscatter matrix\n",
      "\tFilters        =\tCellFilter, EnergyFilter\n",
      "\tNuclides       =\ttotal \n",
      "\tScores         =\t['flux']\n",
      "\tEstimator      =\tanalog\n",
      "\n"
     ]
    }
   ],
   "source": [
    "scatter = sp.get_tally(name='scatter matrix', scores=['scatter-0'])\n",
    "flux = sp.get_tally(name='scatter matrix', scores=['flux'])\n",
    "print(scatter)\n",
    "print(flux)"
   ]
  },
  {
   "cell_type": "markdown",
   "metadata": {
    "collapsed": true
   },
   "source": [
    "As we can see, these `Tally` objects are for the `Cell` with ID=10003 (the moderator) and have an `\"energy\"` `Filter` with 8 energy groups. In addition, the `scatter` `Tally` has an `\"energyout\"` `Filter` with 8 energy groups, and includes the reaction rates for all nuclides in the moderator.\n",
    "\n",
    "We can use `Tally` arithmetic to divide the scattering reaction rates by the flux to compute the 8-group scattering matrix MGXS for the fuel assembly's moderator:"
   ]
  },
  {
   "cell_type": "code",
   "execution_count": 46,
   "metadata": {
    "collapsed": false
   },
   "outputs": [
    {
     "data": {
      "text/html": [
       "<div>\n",
       "<table border=\"1\" class=\"dataframe\">\n",
       "  <thead>\n",
       "    <tr style=\"text-align: right;\">\n",
       "      <th></th>\n",
       "      <th>cell</th>\n",
       "      <th>energy low [eV]</th>\n",
       "      <th>energy high [eV]</th>\n",
       "      <th>energyout low [eV]</th>\n",
       "      <th>energyout high [eV]</th>\n",
       "      <th>nuclide</th>\n",
       "      <th>score</th>\n",
       "      <th>mean</th>\n",
       "      <th>std. dev.</th>\n",
       "    </tr>\n",
       "  </thead>\n",
       "  <tbody>\n",
       "    <tr>\n",
       "      <th>0</th>\n",
       "      <td>10002</td>\n",
       "      <td>0.000</td>\n",
       "      <td>0.058</td>\n",
       "      <td>0.000</td>\n",
       "      <td>5.800000e-02</td>\n",
       "      <td>(H1 / total)</td>\n",
       "      <td>(scatter-0 / flux)</td>\n",
       "      <td>2.152600</td>\n",
       "      <td>0.011038</td>\n",
       "    </tr>\n",
       "    <tr>\n",
       "      <th>1</th>\n",
       "      <td>10002</td>\n",
       "      <td>0.000</td>\n",
       "      <td>0.058</td>\n",
       "      <td>0.000</td>\n",
       "      <td>5.800000e-02</td>\n",
       "      <td>(O16 / total)</td>\n",
       "      <td>(scatter-0 / flux)</td>\n",
       "      <td>0.086029</td>\n",
       "      <td>0.001112</td>\n",
       "    </tr>\n",
       "    <tr>\n",
       "      <th>2</th>\n",
       "      <td>10002</td>\n",
       "      <td>0.000</td>\n",
       "      <td>0.058</td>\n",
       "      <td>0.058</td>\n",
       "      <td>1.400000e-01</td>\n",
       "      <td>(H1 / total)</td>\n",
       "      <td>(scatter-0 / flux)</td>\n",
       "      <td>0.238270</td>\n",
       "      <td>0.002065</td>\n",
       "    </tr>\n",
       "    <tr>\n",
       "      <th>3</th>\n",
       "      <td>10002</td>\n",
       "      <td>0.000</td>\n",
       "      <td>0.058</td>\n",
       "      <td>0.058</td>\n",
       "      <td>1.400000e-01</td>\n",
       "      <td>(O16 / total)</td>\n",
       "      <td>(scatter-0 / flux)</td>\n",
       "      <td>0.008963</td>\n",
       "      <td>0.000319</td>\n",
       "    </tr>\n",
       "    <tr>\n",
       "      <th>4</th>\n",
       "      <td>10002</td>\n",
       "      <td>0.000</td>\n",
       "      <td>0.058</td>\n",
       "      <td>0.140</td>\n",
       "      <td>2.800000e-01</td>\n",
       "      <td>(H1 / total)</td>\n",
       "      <td>(scatter-0 / flux)</td>\n",
       "      <td>0.008072</td>\n",
       "      <td>0.000313</td>\n",
       "    </tr>\n",
       "    <tr>\n",
       "      <th>5</th>\n",
       "      <td>10002</td>\n",
       "      <td>0.000</td>\n",
       "      <td>0.058</td>\n",
       "      <td>0.140</td>\n",
       "      <td>2.800000e-01</td>\n",
       "      <td>(O16 / total)</td>\n",
       "      <td>(scatter-0 / flux)</td>\n",
       "      <td>0.000000</td>\n",
       "      <td>0.000000</td>\n",
       "    </tr>\n",
       "    <tr>\n",
       "      <th>6</th>\n",
       "      <td>10002</td>\n",
       "      <td>0.000</td>\n",
       "      <td>0.058</td>\n",
       "      <td>0.280</td>\n",
       "      <td>6.250000e-01</td>\n",
       "      <td>(H1 / total)</td>\n",
       "      <td>(scatter-0 / flux)</td>\n",
       "      <td>0.000000</td>\n",
       "      <td>0.000000</td>\n",
       "    </tr>\n",
       "    <tr>\n",
       "      <th>7</th>\n",
       "      <td>10002</td>\n",
       "      <td>0.000</td>\n",
       "      <td>0.058</td>\n",
       "      <td>0.280</td>\n",
       "      <td>6.250000e-01</td>\n",
       "      <td>(O16 / total)</td>\n",
       "      <td>(scatter-0 / flux)</td>\n",
       "      <td>0.000000</td>\n",
       "      <td>0.000000</td>\n",
       "    </tr>\n",
       "    <tr>\n",
       "      <th>8</th>\n",
       "      <td>10002</td>\n",
       "      <td>0.000</td>\n",
       "      <td>0.058</td>\n",
       "      <td>0.625</td>\n",
       "      <td>4.000000e+00</td>\n",
       "      <td>(H1 / total)</td>\n",
       "      <td>(scatter-0 / flux)</td>\n",
       "      <td>0.000000</td>\n",
       "      <td>0.000000</td>\n",
       "    </tr>\n",
       "    <tr>\n",
       "      <th>9</th>\n",
       "      <td>10002</td>\n",
       "      <td>0.000</td>\n",
       "      <td>0.058</td>\n",
       "      <td>0.625</td>\n",
       "      <td>4.000000e+00</td>\n",
       "      <td>(O16 / total)</td>\n",
       "      <td>(scatter-0 / flux)</td>\n",
       "      <td>0.000000</td>\n",
       "      <td>0.000000</td>\n",
       "    </tr>\n",
       "    <tr>\n",
       "      <th>10</th>\n",
       "      <td>10002</td>\n",
       "      <td>0.000</td>\n",
       "      <td>0.058</td>\n",
       "      <td>4.000</td>\n",
       "      <td>5.530000e+03</td>\n",
       "      <td>(H1 / total)</td>\n",
       "      <td>(scatter-0 / flux)</td>\n",
       "      <td>0.000000</td>\n",
       "      <td>0.000000</td>\n",
       "    </tr>\n",
       "    <tr>\n",
       "      <th>11</th>\n",
       "      <td>10002</td>\n",
       "      <td>0.000</td>\n",
       "      <td>0.058</td>\n",
       "      <td>4.000</td>\n",
       "      <td>5.530000e+03</td>\n",
       "      <td>(O16 / total)</td>\n",
       "      <td>(scatter-0 / flux)</td>\n",
       "      <td>0.000000</td>\n",
       "      <td>0.000000</td>\n",
       "    </tr>\n",
       "    <tr>\n",
       "      <th>12</th>\n",
       "      <td>10002</td>\n",
       "      <td>0.000</td>\n",
       "      <td>0.058</td>\n",
       "      <td>5530.000</td>\n",
       "      <td>8.210000e+05</td>\n",
       "      <td>(H1 / total)</td>\n",
       "      <td>(scatter-0 / flux)</td>\n",
       "      <td>0.000000</td>\n",
       "      <td>0.000000</td>\n",
       "    </tr>\n",
       "    <tr>\n",
       "      <th>13</th>\n",
       "      <td>10002</td>\n",
       "      <td>0.000</td>\n",
       "      <td>0.058</td>\n",
       "      <td>5530.000</td>\n",
       "      <td>8.210000e+05</td>\n",
       "      <td>(O16 / total)</td>\n",
       "      <td>(scatter-0 / flux)</td>\n",
       "      <td>0.000000</td>\n",
       "      <td>0.000000</td>\n",
       "    </tr>\n",
       "    <tr>\n",
       "      <th>14</th>\n",
       "      <td>10002</td>\n",
       "      <td>0.000</td>\n",
       "      <td>0.058</td>\n",
       "      <td>821000.000</td>\n",
       "      <td>2.000000e+07</td>\n",
       "      <td>(H1 / total)</td>\n",
       "      <td>(scatter-0 / flux)</td>\n",
       "      <td>0.000000</td>\n",
       "      <td>0.000000</td>\n",
       "    </tr>\n",
       "    <tr>\n",
       "      <th>15</th>\n",
       "      <td>10002</td>\n",
       "      <td>0.000</td>\n",
       "      <td>0.058</td>\n",
       "      <td>821000.000</td>\n",
       "      <td>2.000000e+07</td>\n",
       "      <td>(O16 / total)</td>\n",
       "      <td>(scatter-0 / flux)</td>\n",
       "      <td>0.000000</td>\n",
       "      <td>0.000000</td>\n",
       "    </tr>\n",
       "    <tr>\n",
       "      <th>16</th>\n",
       "      <td>10002</td>\n",
       "      <td>0.058</td>\n",
       "      <td>0.140</td>\n",
       "      <td>0.000</td>\n",
       "      <td>5.800000e-02</td>\n",
       "      <td>(H1 / total)</td>\n",
       "      <td>(scatter-0 / flux)</td>\n",
       "      <td>0.474463</td>\n",
       "      <td>0.003906</td>\n",
       "    </tr>\n",
       "    <tr>\n",
       "      <th>17</th>\n",
       "      <td>10002</td>\n",
       "      <td>0.058</td>\n",
       "      <td>0.140</td>\n",
       "      <td>0.000</td>\n",
       "      <td>5.800000e-02</td>\n",
       "      <td>(O16 / total)</td>\n",
       "      <td>(scatter-0 / flux)</td>\n",
       "      <td>0.015527</td>\n",
       "      <td>0.000466</td>\n",
       "    </tr>\n",
       "    <tr>\n",
       "      <th>18</th>\n",
       "      <td>10002</td>\n",
       "      <td>0.058</td>\n",
       "      <td>0.140</td>\n",
       "      <td>0.058</td>\n",
       "      <td>1.400000e-01</td>\n",
       "      <td>(H1 / total)</td>\n",
       "      <td>(scatter-0 / flux)</td>\n",
       "      <td>1.089757</td>\n",
       "      <td>0.007454</td>\n",
       "    </tr>\n",
       "    <tr>\n",
       "      <th>19</th>\n",
       "      <td>10002</td>\n",
       "      <td>0.058</td>\n",
       "      <td>0.140</td>\n",
       "      <td>0.058</td>\n",
       "      <td>1.400000e-01</td>\n",
       "      <td>(O16 / total)</td>\n",
       "      <td>(scatter-0 / flux)</td>\n",
       "      <td>0.072154</td>\n",
       "      <td>0.001315</td>\n",
       "    </tr>\n",
       "  </tbody>\n",
       "</table>\n",
       "</div>"
      ],
      "text/plain": [
       "     cell  energy low [eV]  energy high [eV]  energyout low [eV]  \\\n",
       "0   10002            0.000             0.058               0.000   \n",
       "1   10002            0.000             0.058               0.000   \n",
       "2   10002            0.000             0.058               0.058   \n",
       "3   10002            0.000             0.058               0.058   \n",
       "4   10002            0.000             0.058               0.140   \n",
       "5   10002            0.000             0.058               0.140   \n",
       "6   10002            0.000             0.058               0.280   \n",
       "7   10002            0.000             0.058               0.280   \n",
       "8   10002            0.000             0.058               0.625   \n",
       "9   10002            0.000             0.058               0.625   \n",
       "10  10002            0.000             0.058               4.000   \n",
       "11  10002            0.000             0.058               4.000   \n",
       "12  10002            0.000             0.058            5530.000   \n",
       "13  10002            0.000             0.058            5530.000   \n",
       "14  10002            0.000             0.058          821000.000   \n",
       "15  10002            0.000             0.058          821000.000   \n",
       "16  10002            0.058             0.140               0.000   \n",
       "17  10002            0.058             0.140               0.000   \n",
       "18  10002            0.058             0.140               0.058   \n",
       "19  10002            0.058             0.140               0.058   \n",
       "\n",
       "    energyout high [eV]        nuclide               score      mean  \\\n",
       "0          5.800000e-02   (H1 / total)  (scatter-0 / flux)  2.152600   \n",
       "1          5.800000e-02  (O16 / total)  (scatter-0 / flux)  0.086029   \n",
       "2          1.400000e-01   (H1 / total)  (scatter-0 / flux)  0.238270   \n",
       "3          1.400000e-01  (O16 / total)  (scatter-0 / flux)  0.008963   \n",
       "4          2.800000e-01   (H1 / total)  (scatter-0 / flux)  0.008072   \n",
       "5          2.800000e-01  (O16 / total)  (scatter-0 / flux)  0.000000   \n",
       "6          6.250000e-01   (H1 / total)  (scatter-0 / flux)  0.000000   \n",
       "7          6.250000e-01  (O16 / total)  (scatter-0 / flux)  0.000000   \n",
       "8          4.000000e+00   (H1 / total)  (scatter-0 / flux)  0.000000   \n",
       "9          4.000000e+00  (O16 / total)  (scatter-0 / flux)  0.000000   \n",
       "10         5.530000e+03   (H1 / total)  (scatter-0 / flux)  0.000000   \n",
       "11         5.530000e+03  (O16 / total)  (scatter-0 / flux)  0.000000   \n",
       "12         8.210000e+05   (H1 / total)  (scatter-0 / flux)  0.000000   \n",
       "13         8.210000e+05  (O16 / total)  (scatter-0 / flux)  0.000000   \n",
       "14         2.000000e+07   (H1 / total)  (scatter-0 / flux)  0.000000   \n",
       "15         2.000000e+07  (O16 / total)  (scatter-0 / flux)  0.000000   \n",
       "16         5.800000e-02   (H1 / total)  (scatter-0 / flux)  0.474463   \n",
       "17         5.800000e-02  (O16 / total)  (scatter-0 / flux)  0.015527   \n",
       "18         1.400000e-01   (H1 / total)  (scatter-0 / flux)  1.089757   \n",
       "19         1.400000e-01  (O16 / total)  (scatter-0 / flux)  0.072154   \n",
       "\n",
       "    std. dev.  \n",
       "0    0.011038  \n",
       "1    0.001112  \n",
       "2    0.002065  \n",
       "3    0.000319  \n",
       "4    0.000313  \n",
       "5    0.000000  \n",
       "6    0.000000  \n",
       "7    0.000000  \n",
       "8    0.000000  \n",
       "9    0.000000  \n",
       "10   0.000000  \n",
       "11   0.000000  \n",
       "12   0.000000  \n",
       "13   0.000000  \n",
       "14   0.000000  \n",
       "15   0.000000  \n",
       "16   0.003906  \n",
       "17   0.000466  \n",
       "18   0.007454  \n",
       "19   0.001315  "
      ]
     },
     "execution_count": 46,
     "metadata": {},
     "output_type": "execute_result"
    }
   ],
   "source": [
    "# Compute scattering matrix MGXS\n",
    "scatter_matrix = scatter / flux\n",
    "df = scatter_matrix.get_pandas_dataframe()\n",
    "df.head(20)"
   ]
  },
  {
   "cell_type": "markdown",
   "metadata": {},
   "source": [
    "As we can see `Tally` arithmetic performs uncertainty propragation when computing each group-to-group constant for each nuclide. One should note that OpenMC includes a customized [`openmc.mgxs`](http://openmc.readthedocs.io/en/latest/pythonapi/index.html#openmc-mgxs-multi-group-cross-section-generation) Python module purpose-built for multi-group cross section generation using `Tally` arithmetic."
   ]
  }
 ],
 "metadata": {
  "kernelspec": {
   "display_name": "Python 3",
   "language": "python",
   "name": "python3"
  },
  "language_info": {
   "codemirror_mode": {
    "name": "ipython",
    "version": 3
   },
   "file_extension": ".py",
   "mimetype": "text/x-python",
   "name": "python",
   "nbconvert_exporter": "python",
   "pygments_lexer": "ipython3",
   "version": "3.5.2"
  }
 },
 "nbformat": 4,
 "nbformat_minor": 0
}
