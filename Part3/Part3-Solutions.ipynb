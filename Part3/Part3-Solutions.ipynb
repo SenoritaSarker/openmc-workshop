{
 "cells": [
  {
   "cell_type": "code",
   "execution_count": 1,
   "metadata": {
    "collapsed": false
   },
   "outputs": [],
   "source": [
    "%matplotlib inline\n",
    "import matplotlib.pyplot as plt\n",
    "import numpy as np\n",
    "import seaborn as sns  # This optional package makes plots prettier\n",
    "\n",
    "import openmc"
   ]
  },
  {
   "cell_type": "markdown",
   "metadata": {},
   "source": [
    "## Summary and statepoint files\n",
    "\n",
    "OpenMC by default outputs two types of HDF5 files: statepoints and summaries.  Statepoints mostly contain tally data.  Summaries mostly contain information about materials and geometry."
   ]
  },
  {
   "cell_type": "markdown",
   "metadata": {},
   "source": [
    "### Summary"
   ]
  },
  {
   "cell_type": "code",
   "execution_count": 2,
   "metadata": {
    "collapsed": true
   },
   "outputs": [],
   "source": [
    "su = openmc.Summary('summary.h5')"
   ]
  },
  {
   "cell_type": "markdown",
   "metadata": {},
   "source": [
    "The summary contains the entire geometry model that was used to run OpenMC. "
   ]
  },
  {
   "cell_type": "code",
   "execution_count": 3,
   "metadata": {
    "collapsed": false
   },
   "outputs": [
    {
     "data": {
      "text/plain": [
       "<openmc.geometry.Geometry at 0x7f27b848f2e8>"
      ]
     },
     "execution_count": 3,
     "metadata": {},
     "output_type": "execute_result"
    }
   ],
   "source": [
    "su.geometry"
   ]
  },
  {
   "cell_type": "markdown",
   "metadata": {},
   "source": [
    "In addition, the `Summary` includes properties to quickly and easily access the `Materials`, `Cells`, `Universes`, etc. directly. The following are included as properties in the `Summary`:\n",
    "\n",
    "* `materials` - `dict` of `Material` objects indexed by ID\n",
    "* `surfaces` - `dict` of `Surface` objects indexed by ID\n",
    "* `cells` - `dict` of `Cell` objects indexed by ID\n",
    "* `universes` - `dict` of `Universe` objects indexed by ID\n",
    "* `lattices` - `dict` of `Lattice` objects indexed by ID\n",
    "\n",
    "For example, let's inspect the `materials`:"
   ]
  },
  {
   "cell_type": "code",
   "execution_count": 4,
   "metadata": {
    "collapsed": false,
    "scrolled": false
   },
   "outputs": [
    {
     "data": {
      "text/plain": [
       "[Material\n",
       " \tID             =\t10000\n",
       " \tName           =\tuo2\n",
       " \tTemperature    =\tNone\n",
       " \tDensity        =\t0.06893778152090038 [atom/b-cm]\n",
       " \tS(a,b) Tables  \n",
       " \tNuclides       \n",
       " \tU235           =\t0.0005581536764737342 [ao]\n",
       " \tU238           =\t0.02241727940725633 [ao]\n",
       " \tO16            =\t0.045962348437170314 [ao]\n",
       " \tElements       , Material\n",
       " \tID             =\t10001\n",
       " \tName           =\tzirconium\n",
       " \tTemperature    =\tNone\n",
       " \tDensity        =\t0.04323990925294387 [atom/b-cm]\n",
       " \tS(a,b) Tables  \n",
       " \tNuclides       \n",
       " \tZr90           =\t0.022246933310639618 [ao]\n",
       " \tZr91           =\t0.004851517818180302 [ao]\n",
       " \tZr92           =\t0.007415644436879874 [ao]\n",
       " \tZr94           =\t0.007515096228161645 [ao]\n",
       " \tZr96           =\t0.0012107174590824284 [ao]\n",
       " \tElements       ]"
      ]
     },
     "execution_count": 4,
     "metadata": {},
     "output_type": "execute_result"
    }
   ],
   "source": [
    "su.materials[:2]"
   ]
  },
  {
   "cell_type": "markdown",
   "metadata": {
    "collapsed": true
   },
   "source": [
    "For relatively large models, the number of `Materials`, `Cells`, `Universes`, etc. may be unwieldy to digest in such a format. However, if we give our objects names (or labels) then we can easily retrieve them directly from the `Geometry`. For example, let's retrieve the `Material` named `'uo2'`:"
   ]
  },
  {
   "cell_type": "code",
   "execution_count": 5,
   "metadata": {
    "collapsed": false
   },
   "outputs": [
    {
     "name": "stdout",
     "output_type": "stream",
     "text": [
      "[Material\n",
      "\tID             =\t10000\n",
      "\tName           =\tuo2\n",
      "\tTemperature    =\tNone\n",
      "\tDensity        =\t0.06893778152090038 [atom/b-cm]\n",
      "\tS(a,b) Tables  \n",
      "\tNuclides       \n",
      "\tU235           =\t0.0005581536764737342 [ao]\n",
      "\tU238           =\t0.02241727940725633 [ao]\n",
      "\tO16            =\t0.045962348437170314 [ao]\n",
      "\tElements       \n",
      "]\n"
     ]
    }
   ],
   "source": [
    "fuel = su.geometry.get_materials_by_name('uo2')\n",
    "print(fuel)"
   ]
  },
  {
   "cell_type": "markdown",
   "metadata": {},
   "source": [
    "### Statepoint"
   ]
  },
  {
   "cell_type": "markdown",
   "metadata": {},
   "source": [
    "Let's begin by loading the statepoint HDF5 file for batch 100 into the Python API's `openmc.StatePoint` class:"
   ]
  },
  {
   "cell_type": "code",
   "execution_count": 6,
   "metadata": {
    "collapsed": false
   },
   "outputs": [],
   "source": [
    "sp = openmc.StatePoint('statepoint.100.h5')"
   ]
  },
  {
   "cell_type": "markdown",
   "metadata": {},
   "source": [
    "The statepoint file contains some metadata like the date and time that it was written."
   ]
  },
  {
   "cell_type": "code",
   "execution_count": 7,
   "metadata": {
    "collapsed": false
   },
   "outputs": [
    {
     "data": {
      "text/plain": [
       "'2017-02-24 14:51:55'"
      ]
     },
     "execution_count": 7,
     "metadata": {},
     "output_type": "execute_result"
    }
   ],
   "source": [
    "sp.date_and_time"
   ]
  },
  {
   "cell_type": "markdown",
   "metadata": {},
   "source": [
    "OpenMC computes a number of estimators for the multiplication factor $k_{eff}$. Each of these estimators is stored as an attribute in the `StatePoint` class. We can report an ensemble-averaged estimator through the `StatePoint.k_combined` property with an `ndarray` storing the mean and uncertainty."
   ]
  },
  {
   "cell_type": "code",
   "execution_count": 8,
   "metadata": {
    "collapsed": false
   },
   "outputs": [
    {
     "data": {
      "text/plain": [
       "array([  1.27296671e+00,   8.08903971e-04])"
      ]
     },
     "execution_count": 8,
     "metadata": {},
     "output_type": "execute_result"
    }
   ],
   "source": [
    "sp.k_combined"
   ]
  },
  {
   "cell_type": "markdown",
   "metadata": {},
   "source": [
    "#### Access Fission Source Sites"
   ]
  },
  {
   "cell_type": "markdown",
   "metadata": {
    "collapsed": true
   },
   "source": [
    "The `StatePoint` contains all of the fission source sites for the corresponding batch in the `source` NumPy array. This array includes the following information about each source:\n",
    "\n",
    "* Energy (`\"E\"`)\n",
    "* Location (`\"xyz\"`)\n",
    "* Direction (`\"uvw\"`)\n",
    "\n",
    "Let's inspect the energies (in MeV) indexed by key `\"E\"`:"
   ]
  },
  {
   "cell_type": "code",
   "execution_count": 9,
   "metadata": {
    "collapsed": false
   },
   "outputs": [
    {
     "data": {
      "text/plain": [
       "array([  189985.70998802,   388832.69492488,  1168505.54509699, ...,\n",
       "         601204.10213271,  4892278.40128772,   879207.73572189])"
      ]
     },
     "execution_count": 9,
     "metadata": {},
     "output_type": "execute_result"
    }
   ],
   "source": [
    "sp.source['E']"
   ]
  },
  {
   "cell_type": "markdown",
   "metadata": {},
   "source": [
    "To make things more interesting, we can use NumPy and Matplotlib to plot a histogram of those energies in the `source` array."
   ]
  },
  {
   "cell_type": "code",
   "execution_count": 10,
   "metadata": {
    "collapsed": false
   },
   "outputs": [
    {
     "data": {
      "text/plain": [
       "<matplotlib.text.Text at 0x7f27796bdb38>"
      ]
     },
     "execution_count": 10,
     "metadata": {},
     "output_type": "execute_result"
    },
    {
     "data": {
      "image/png": "[encoded data removed]",
      "text/plain": [
       "<matplotlib.figure.Figure at 0x7f277969c518>"
      ]
     },
     "metadata": {},
     "output_type": "display_data"
    }
   ],
   "source": [
    "# Create log-spaced energy bins from 1 keV to 100 MeV\n",
    "energy_bins = np.logspace(np.log10(1e3), np.log10(1e8), 100)\n",
    "\n",
    "# Calculate pdf for source energies\n",
    "probability, bin_edges = np.histogram(sp.source['E'], energy_bins, density=True)\n",
    "\n",
    "# Plot source energy PDF\n",
    "plt.semilogx(energy_bins[:-1], probability*np.diff(energy_bins), linestyle='steps')\n",
    "plt.xlabel('Energy (MeV)')\n",
    "plt.ylabel('Probability/MeV')"
   ]
  },
  {
   "cell_type": "markdown",
   "metadata": {},
   "source": [
    "## Tally data analysis"
   ]
  },
  {
   "cell_type": "markdown",
   "metadata": {},
   "source": [
    "### Getting Tally objects from the statepoint"
   ]
  },
  {
   "cell_type": "markdown",
   "metadata": {},
   "source": [
    "Our `StatePoint` also has a number of different `Tally` objects stored in the `StatePoint.tallies` as a `dict`. We can inspect one the `Tally` objects by directly indexing into `tallies` with the appropriate ID:"
   ]
  },
  {
   "cell_type": "code",
   "execution_count": 11,
   "metadata": {
    "collapsed": false
   },
   "outputs": [
    {
     "name": "stdout",
     "output_type": "stream",
     "text": [
      "Tally\n",
      "\tID             =\t10000\n",
      "\tName           =\tmesh fission\n",
      "\tFilters        =\tMeshFilter\n",
      "\tNuclides       =\tU235 U238 \n",
      "\tScores         =\t['fission']\n",
      "\tEstimator      =\ttracklength\n",
      "\n"
     ]
    }
   ],
   "source": [
    "print(sp.tallies[10000])"
   ]
  },
  {
   "cell_type": "markdown",
   "metadata": {},
   "source": [
    "Sometimes you may not know the ID number of the tally.  So in order to find the tally you need, there is a `get_tally(...)` method which allows one to retrieve a `Tally` object with an arbitrary subset or combination of the following information:\n",
    "\n",
    "* integer ID\n",
    "* string name\n",
    "* one or more string scores\n",
    "* one or more `Filter` objects\n",
    "* one or more string nuclides\n",
    "\n",
    "As an example, let's retrieve the `Tally` using its string name:"
   ]
  },
  {
   "cell_type": "code",
   "execution_count": 12,
   "metadata": {
    "collapsed": false
   },
   "outputs": [],
   "source": [
    "mesh_fiss = sp.get_tally(name='mesh fission')"
   ]
  },
  {
   "cell_type": "markdown",
   "metadata": {},
   "source": [
    "As we can see, this has extracted the `Tally` with the name `\"mesh_fiss\"` into a new Python variable called `mesh_fiss`. Let's proceed to extract all of the `Tally` objects into their own respective variables."
   ]
  },
  {
   "cell_type": "code",
   "execution_count": 13,
   "metadata": {
    "collapsed": false
   },
   "outputs": [],
   "source": [
    "flux = sp.get_tally(name='flux')\n",
    "distribcell = sp.get_tally(name='distribcell')\n",
    "therm_abs = sp.get_tally(name='thermal absorption')\n",
    "tot_abs = sp.get_tally(name='total absorption')"
   ]
  },
  {
   "cell_type": "markdown",
   "metadata": {},
   "source": [
    "### Extracting data from a Tally"
   ]
  },
  {
   "cell_type": "code",
   "execution_count": 14,
   "metadata": {
    "collapsed": false
   },
   "outputs": [
    {
     "name": "stdout",
     "output_type": "stream",
     "text": [
      "<class 'numpy.ndarray'>\n",
      "(289, 2, 1)\n"
     ]
    }
   ],
   "source": [
    "print(type(mesh_fiss.mean))\n",
    "print(mesh_fiss.mean.shape)"
   ]
  },
  {
   "cell_type": "markdown",
   "metadata": {},
   "source": [
    "Tally data is stored in 3-dimensional numpy arrays.  In this case there are 289x2x1 data bins.  The three dimensions correspond to\n",
    "* Filters (ex: energy group or mesh cell)\n",
    "* Nuclides\n",
    "* Scores (ex: fission or absorption)\n",
    "\n",
    "In our case, the first dimension with length 289 corresponds to 289 `MeshFilter` bins for the 17 $\\times$ 17 PWR assembly. The second dimension of length 2 corresponds to the `\"U235\"` and `\"U238\"` nuclide bins while the final dimension corresponds to our single `\"fission\"` score bin.\n",
    "\n",
    "Now that we understand how data is stored and indexed, let's inspect the data for the first five `MeshFilter` bins:"
   ]
  },
  {
   "cell_type": "markdown",
   "metadata": {},
   "source": [
    "The obvious first thing you may wish to do with a `Tally` object is to inspect the batch mean values in each bin. To start, let's inspect the type of the `Tally.mean` property to determine that it is a NumPy array:"
   ]
  },
  {
   "cell_type": "code",
   "execution_count": 15,
   "metadata": {
    "collapsed": false
   },
   "outputs": [
    {
     "name": "stdout",
     "output_type": "stream",
     "text": [
      "[[[ 0.00165861]\n",
      "  [ 0.00010398]]\n",
      "\n",
      " [[ 0.00168394]\n",
      "  [ 0.00010299]]\n",
      "\n",
      " [[ 0.00169344]\n",
      "  [ 0.00010547]]\n",
      "\n",
      " [[ 0.00174782]\n",
      "  [ 0.00010616]]\n",
      "\n",
      " [[ 0.00176945]\n",
      "  [ 0.00010479]]]\n"
     ]
    }
   ],
   "source": [
    "print(mesh_fiss.mean[:5,:,:])"
   ]
  },
  {
   "cell_type": "markdown",
   "metadata": {},
   "source": [
    "We can similarly inspect the standard deviation for our tally data which is stored in the `std_dev` array:"
   ]
  },
  {
   "cell_type": "code",
   "execution_count": 16,
   "metadata": {
    "collapsed": false
   },
   "outputs": [
    {
     "name": "stdout",
     "output_type": "stream",
     "text": [
      "[[[  2.84624374e-05]\n",
      "  [  1.20939164e-06]]\n",
      "\n",
      " [[  2.55843078e-05]\n",
      "  [  1.32993965e-06]]\n",
      "\n",
      " [[  3.19069478e-05]\n",
      "  [  1.30600538e-06]]\n",
      "\n",
      " [[  2.78382926e-05]\n",
      "  [  1.37220511e-06]]\n",
      "\n",
      " [[  3.10559723e-05]\n",
      "  [  1.33036635e-06]]]\n"
     ]
    }
   ],
   "source": [
    "print(mesh_fiss.std_dev[:5,:,:])"
   ]
  },
  {
   "cell_type": "markdown",
   "metadata": {},
   "source": [
    "Numpy arrays are great because you can easily do math across all the elements.  Here is the percent relative uncertainty:"
   ]
  },
  {
   "cell_type": "code",
   "execution_count": 17,
   "metadata": {
    "collapsed": false
   },
   "outputs": [
    {
     "name": "stdout",
     "output_type": "stream",
     "text": [
      "[[[ 1.71603996]\n",
      "  [ 1.1631405 ]]\n",
      "\n",
      " [[ 1.51931562]\n",
      "  [ 1.29136941]]\n",
      "\n",
      " [[ 1.88415165]\n",
      "  [ 1.23821354]]\n",
      "\n",
      " [[ 1.59274746]\n",
      "  [ 1.29258092]]\n",
      "\n",
      " [[ 1.75511782]\n",
      "  [ 1.26949741]]]\n"
     ]
    }
   ],
   "source": [
    "rel_err = mesh_fiss.std_dev / mesh_fiss.mean * 100.\n",
    "print(rel_err[:5,:,:])"
   ]
  },
  {
   "cell_type": "markdown",
   "metadata": {},
   "source": [
    "Although we can directly access the `mean` and `std_dev` arrays in our `Tally` object, this is not a scalable or flexible approach for sophisticated simulation workflows. In many situations you may wish to extract a subset of the data from a `Tally` for some analysis. The `Tally.get_values(...)` method is an attractive alternative for these cases. \n",
    "\n",
    "Let's consider the extraction of data from our `mesh_fiss` `Tally` specifically for `\"U235\"` into a new NumPy array variable called `u235_fission`:"
   ]
  },
  {
   "cell_type": "code",
   "execution_count": 18,
   "metadata": {
    "collapsed": false
   },
   "outputs": [
    {
     "name": "stdout",
     "output_type": "stream",
     "text": [
      "(289, 1, 1)\n"
     ]
    }
   ],
   "source": [
    "u235_fission = mesh_fiss.get_values(nuclides=['U235'])\n",
    "print(u235_fission.shape)"
   ]
  },
  {
   "cell_type": "markdown",
   "metadata": {},
   "source": [
    "As we can see, the `u235_fission` array has dimensions 289 $\\times$ 1 $\\times$ 1 as expected. "
   ]
  },
  {
   "cell_type": "markdown",
   "metadata": {},
   "source": [
    "### Plotting mesh tallies"
   ]
  },
  {
   "cell_type": "markdown",
   "metadata": {},
   "source": [
    "Mesh tallies can be quickly plotted with the `Matplotlib.imshow` function."
   ]
  },
  {
   "cell_type": "code",
   "execution_count": 19,
   "metadata": {
    "collapsed": true
   },
   "outputs": [],
   "source": [
    "mean = mesh_fiss.get_values(nuclides=['U235'], value='mean')\n",
    "rel_err = mesh_fiss.get_values(nuclides=['U235'], value='rel_err')"
   ]
  },
  {
   "cell_type": "code",
   "execution_count": 20,
   "metadata": {
    "collapsed": false
   },
   "outputs": [],
   "source": [
    "# Reshape the arrays\n",
    "mean.shape = (17, 17)\n",
    "rel_err.shape = (17, 17)"
   ]
  },
  {
   "cell_type": "code",
   "execution_count": 21,
   "metadata": {
    "collapsed": false
   },
   "outputs": [
    {
     "data": {
      "image/png": "[encoded data removed]",
      "text/plain": [
       "<matplotlib.figure.Figure at 0x7f2775bd3b00>"
      ]
     },
     "metadata": {},
     "output_type": "display_data"
    }
   ],
   "source": [
    "# Plot the mean on the left.\n",
    "fig = plt.subplot(121)\n",
    "plt.imshow(mean, interpolation='none', cmap='jet')\n",
    "plt.title('Mean')\n",
    "plt.grid(False)\n",
    "\n",
    "# Plot the uncertainty on the right.\n",
    "fig2 = plt.subplot(122)\n",
    "plt.imshow(rel_err, interpolation='none', cmap='jet')\n",
    "plt.title('Rel. Unc.')\n",
    "plt.grid(False)"
   ]
  },
  {
   "cell_type": "markdown",
   "metadata": {},
   "source": [
    "This mesh tally of fission rates particularly informative since the dark blue guide tube do not have any fission and skew the color bar. We can rectify this issue with a little trick to Matplotlib's color scheme as follows."
   ]
  },
  {
   "cell_type": "code",
   "execution_count": 22,
   "metadata": {
    "collapsed": false
   },
   "outputs": [
    {
     "data": {
      "image/png": "[encoded data removed]",
      "text/plain": [
       "<matplotlib.figure.Figure at 0x7f2775b7a358>"
      ]
     },
     "metadata": {},
     "output_type": "display_data"
    }
   ],
   "source": [
    "# Assign a NaN to zero fission rates in guide tubes\n",
    "# Matplotlib will ignore \"bad\" values in the colorbar\n",
    "mean[mean == 0.] = np.nan\n",
    "cmap = plt.get_cmap('jet')\n",
    "cmap.set_bad(alpha=0.)\n",
    "\n",
    "# Plot the mean on the left.\n",
    "fig = plt.subplot(121)\n",
    "plt.imshow(mean, interpolation='none', cmap='jet')\n",
    "plt.title('Mean')\n",
    "plt.grid(False)\n",
    "\n",
    "# Plot the uncertainty on the right.\n",
    "fig2 = plt.subplot(122)\n",
    "plt.imshow(rel_err, interpolation='none', cmap='jet')\n",
    "plt.title('Rel. Unc.')\n",
    "plt.grid(False)"
   ]
  },
  {
   "cell_type": "markdown",
   "metadata": {},
   "source": [
    "### Plotting flux tallies"
   ]
  },
  {
   "cell_type": "code",
   "execution_count": 23,
   "metadata": {
    "collapsed": true
   },
   "outputs": [],
   "source": [
    "# Extract the flux mean values array\n",
    "fluxes = flux.mean.flatten()\n",
    "\n",
    "# Extend the flux array for Matplotlib's step plot\n",
    "fluxes = np.insert(fluxes, 0, fluxes[0])"
   ]
  },
  {
   "cell_type": "code",
   "execution_count": 24,
   "metadata": {
    "collapsed": false
   },
   "outputs": [],
   "source": [
    "# Extract the energy bins from the Tally's EnergyFilter\n",
    "energy_filter = flux.find_filter(openmc.EnergyFilter)\n",
    "energies = energy_filter.bins"
   ]
  },
  {
   "cell_type": "code",
   "execution_count": 25,
   "metadata": {
    "collapsed": false
   },
   "outputs": [
    {
     "data": {
      "text/plain": [
       "<matplotlib.text.Text at 0x7f2775c43e80>"
      ]
     },
     "execution_count": 25,
     "metadata": {},
     "output_type": "execute_result"
    },
    {
     "data": {
      "image/png": "[encoded data removed]",
      "text/plain": [
       "<matplotlib.figure.Figure at 0x7f27795518d0>"
      ]
     },
     "metadata": {},
     "output_type": "display_data"
    }
   ],
   "source": [
    "fig = plt.figure()\n",
    "plt.loglog(energies, fluxes, drawstyle='steps', c='r')\n",
    "plt.xlabel('Energy [eV]')\n",
    "plt.ylabel('Flux')"
   ]
  },
  {
   "cell_type": "markdown",
   "metadata": {},
   "source": [
    "### Pandas DataFames\n",
    "\n",
    "For big, complex tallies the methods previously shown can be difficult to use.  We have more user-friendly methods based on the [Pandas](http://pandas.pydata.org/) Python package."
   ]
  },
  {
   "cell_type": "code",
   "execution_count": 26,
   "metadata": {
    "collapsed": false
   },
   "outputs": [
    {
     "name": "stderr",
     "output_type": "stream",
     "text": [
      "/usr/local/lib/python3.5/dist-packages/numpy/lib/shape_base.py:873: VisibleDeprecationWarning: using a non-integer number instead of an integer will result in an error in the future\n",
      "  return c.reshape(shape_out)\n"
     ]
    },
    {
     "data": {
      "text/html": [
       "<div>\n",
       "<table border=\"1\" class=\"dataframe\">\n",
       "  <thead>\n",
       "    <tr>\n",
       "      <th></th>\n",
       "      <th colspan=\"3\" halign=\"left\">mesh 10000</th>\n",
       "      <th>nuclide</th>\n",
       "      <th>score</th>\n",
       "      <th>mean</th>\n",
       "      <th>std. dev.</th>\n",
       "    </tr>\n",
       "    <tr>\n",
       "      <th></th>\n",
       "      <th>x</th>\n",
       "      <th>y</th>\n",
       "      <th>z</th>\n",
       "      <th></th>\n",
       "      <th></th>\n",
       "      <th></th>\n",
       "      <th></th>\n",
       "    </tr>\n",
       "  </thead>\n",
       "  <tbody>\n",
       "    <tr>\n",
       "      <th>0</th>\n",
       "      <td>1</td>\n",
       "      <td>1</td>\n",
       "      <td>1</td>\n",
       "      <td>U235</td>\n",
       "      <td>fission</td>\n",
       "      <td>0.001659</td>\n",
       "      <td>0.000028</td>\n",
       "    </tr>\n",
       "    <tr>\n",
       "      <th>1</th>\n",
       "      <td>1</td>\n",
       "      <td>1</td>\n",
       "      <td>1</td>\n",
       "      <td>U238</td>\n",
       "      <td>fission</td>\n",
       "      <td>0.000104</td>\n",
       "      <td>0.000001</td>\n",
       "    </tr>\n",
       "    <tr>\n",
       "      <th>2</th>\n",
       "      <td>1</td>\n",
       "      <td>2</td>\n",
       "      <td>1</td>\n",
       "      <td>U235</td>\n",
       "      <td>fission</td>\n",
       "      <td>0.001684</td>\n",
       "      <td>0.000026</td>\n",
       "    </tr>\n",
       "    <tr>\n",
       "      <th>3</th>\n",
       "      <td>1</td>\n",
       "      <td>2</td>\n",
       "      <td>1</td>\n",
       "      <td>U238</td>\n",
       "      <td>fission</td>\n",
       "      <td>0.000103</td>\n",
       "      <td>0.000001</td>\n",
       "    </tr>\n",
       "    <tr>\n",
       "      <th>4</th>\n",
       "      <td>1</td>\n",
       "      <td>3</td>\n",
       "      <td>1</td>\n",
       "      <td>U235</td>\n",
       "      <td>fission</td>\n",
       "      <td>0.001693</td>\n",
       "      <td>0.000032</td>\n",
       "    </tr>\n",
       "    <tr>\n",
       "      <th>5</th>\n",
       "      <td>1</td>\n",
       "      <td>3</td>\n",
       "      <td>1</td>\n",
       "      <td>U238</td>\n",
       "      <td>fission</td>\n",
       "      <td>0.000105</td>\n",
       "      <td>0.000001</td>\n",
       "    </tr>\n",
       "    <tr>\n",
       "      <th>6</th>\n",
       "      <td>1</td>\n",
       "      <td>4</td>\n",
       "      <td>1</td>\n",
       "      <td>U235</td>\n",
       "      <td>fission</td>\n",
       "      <td>0.001748</td>\n",
       "      <td>0.000028</td>\n",
       "    </tr>\n",
       "    <tr>\n",
       "      <th>7</th>\n",
       "      <td>1</td>\n",
       "      <td>4</td>\n",
       "      <td>1</td>\n",
       "      <td>U238</td>\n",
       "      <td>fission</td>\n",
       "      <td>0.000106</td>\n",
       "      <td>0.000001</td>\n",
       "    </tr>\n",
       "    <tr>\n",
       "      <th>8</th>\n",
       "      <td>1</td>\n",
       "      <td>5</td>\n",
       "      <td>1</td>\n",
       "      <td>U235</td>\n",
       "      <td>fission</td>\n",
       "      <td>0.001769</td>\n",
       "      <td>0.000031</td>\n",
       "    </tr>\n",
       "    <tr>\n",
       "      <th>9</th>\n",
       "      <td>1</td>\n",
       "      <td>5</td>\n",
       "      <td>1</td>\n",
       "      <td>U238</td>\n",
       "      <td>fission</td>\n",
       "      <td>0.000105</td>\n",
       "      <td>0.000001</td>\n",
       "    </tr>\n",
       "  </tbody>\n",
       "</table>\n",
       "</div>"
      ],
      "text/plain": [
       "  mesh 10000       nuclide    score      mean std. dev.\n",
       "           x  y  z                                     \n",
       "0          1  1  1    U235  fission  0.001659  0.000028\n",
       "1          1  1  1    U238  fission  0.000104  0.000001\n",
       "2          1  2  1    U235  fission  0.001684  0.000026\n",
       "3          1  2  1    U238  fission  0.000103  0.000001\n",
       "4          1  3  1    U235  fission  0.001693  0.000032\n",
       "5          1  3  1    U238  fission  0.000105  0.000001\n",
       "6          1  4  1    U235  fission  0.001748  0.000028\n",
       "7          1  4  1    U238  fission  0.000106  0.000001\n",
       "8          1  5  1    U235  fission  0.001769  0.000031\n",
       "9          1  5  1    U238  fission  0.000105  0.000001"
      ]
     },
     "execution_count": 26,
     "metadata": {},
     "output_type": "execute_result"
    }
   ],
   "source": [
    "df = mesh_fiss.get_pandas_dataframe()\n",
    "df.head(10)  # Show the first 10 rows"
   ]
  },
  {
   "cell_type": "code",
   "execution_count": 27,
   "metadata": {
    "collapsed": false
   },
   "outputs": [
    {
     "data": {
      "text/html": [
       "<div>\n",
       "<table border=\"1\" class=\"dataframe\">\n",
       "  <thead>\n",
       "    <tr style=\"text-align: right;\">\n",
       "      <th></th>\n",
       "      <th>energy low [eV]</th>\n",
       "      <th>energy high [eV]</th>\n",
       "      <th>nuclide</th>\n",
       "      <th>score</th>\n",
       "      <th>mean</th>\n",
       "      <th>std. dev.</th>\n",
       "    </tr>\n",
       "  </thead>\n",
       "  <tbody>\n",
       "    <tr>\n",
       "      <th>0</th>\n",
       "      <td>0.010000</td>\n",
       "      <td>0.010207</td>\n",
       "      <td>total</td>\n",
       "      <td>flux</td>\n",
       "      <td>0.008592</td>\n",
       "      <td>0.000091</td>\n",
       "    </tr>\n",
       "    <tr>\n",
       "      <th>1</th>\n",
       "      <td>0.010207</td>\n",
       "      <td>0.010419</td>\n",
       "      <td>total</td>\n",
       "      <td>flux</td>\n",
       "      <td>0.008779</td>\n",
       "      <td>0.000104</td>\n",
       "    </tr>\n",
       "    <tr>\n",
       "      <th>2</th>\n",
       "      <td>0.010419</td>\n",
       "      <td>0.010635</td>\n",
       "      <td>total</td>\n",
       "      <td>flux</td>\n",
       "      <td>0.008991</td>\n",
       "      <td>0.000084</td>\n",
       "    </tr>\n",
       "    <tr>\n",
       "      <th>3</th>\n",
       "      <td>0.010635</td>\n",
       "      <td>0.010855</td>\n",
       "      <td>total</td>\n",
       "      <td>flux</td>\n",
       "      <td>0.009506</td>\n",
       "      <td>0.000094</td>\n",
       "    </tr>\n",
       "    <tr>\n",
       "      <th>4</th>\n",
       "      <td>0.010855</td>\n",
       "      <td>0.011081</td>\n",
       "      <td>total</td>\n",
       "      <td>flux</td>\n",
       "      <td>0.010004</td>\n",
       "      <td>0.000099</td>\n",
       "    </tr>\n",
       "    <tr>\n",
       "      <th>5</th>\n",
       "      <td>0.011081</td>\n",
       "      <td>0.011310</td>\n",
       "      <td>total</td>\n",
       "      <td>flux</td>\n",
       "      <td>0.010466</td>\n",
       "      <td>0.000116</td>\n",
       "    </tr>\n",
       "    <tr>\n",
       "      <th>6</th>\n",
       "      <td>0.011310</td>\n",
       "      <td>0.011545</td>\n",
       "      <td>total</td>\n",
       "      <td>flux</td>\n",
       "      <td>0.010775</td>\n",
       "      <td>0.000113</td>\n",
       "    </tr>\n",
       "    <tr>\n",
       "      <th>7</th>\n",
       "      <td>0.011545</td>\n",
       "      <td>0.011784</td>\n",
       "      <td>total</td>\n",
       "      <td>flux</td>\n",
       "      <td>0.013967</td>\n",
       "      <td>0.000118</td>\n",
       "    </tr>\n",
       "    <tr>\n",
       "      <th>8</th>\n",
       "      <td>0.011784</td>\n",
       "      <td>0.012028</td>\n",
       "      <td>total</td>\n",
       "      <td>flux</td>\n",
       "      <td>0.014180</td>\n",
       "      <td>0.000144</td>\n",
       "    </tr>\n",
       "    <tr>\n",
       "      <th>9</th>\n",
       "      <td>0.012028</td>\n",
       "      <td>0.012278</td>\n",
       "      <td>total</td>\n",
       "      <td>flux</td>\n",
       "      <td>0.013996</td>\n",
       "      <td>0.000132</td>\n",
       "    </tr>\n",
       "  </tbody>\n",
       "</table>\n",
       "</div>"
      ],
      "text/plain": [
       "   energy low [eV]  energy high [eV] nuclide score      mean  std. dev.\n",
       "0         0.010000          0.010207   total  flux  0.008592   0.000091\n",
       "1         0.010207          0.010419   total  flux  0.008779   0.000104\n",
       "2         0.010419          0.010635   total  flux  0.008991   0.000084\n",
       "3         0.010635          0.010855   total  flux  0.009506   0.000094\n",
       "4         0.010855          0.011081   total  flux  0.010004   0.000099\n",
       "5         0.011081          0.011310   total  flux  0.010466   0.000116\n",
       "6         0.011310          0.011545   total  flux  0.010775   0.000113\n",
       "7         0.011545          0.011784   total  flux  0.013967   0.000118\n",
       "8         0.011784          0.012028   total  flux  0.014180   0.000144\n",
       "9         0.012028          0.012278   total  flux  0.013996   0.000132"
      ]
     },
     "execution_count": 27,
     "metadata": {},
     "output_type": "execute_result"
    }
   ],
   "source": [
    "df = flux.get_pandas_dataframe()\n",
    "df.head(10)"
   ]
  },
  {
   "cell_type": "code",
   "execution_count": 28,
   "metadata": {
    "collapsed": false
   },
   "outputs": [
    {
     "data": {
      "text/html": [
       "<div>\n",
       "<table border=\"1\" class=\"dataframe\">\n",
       "  <thead>\n",
       "    <tr>\n",
       "      <th></th>\n",
       "      <th colspan=\"2\" halign=\"left\">level 1</th>\n",
       "      <th colspan=\"4\" halign=\"left\">level 2</th>\n",
       "      <th colspan=\"2\" halign=\"left\">level 3</th>\n",
       "      <th>distribcell</th>\n",
       "      <th>nuclide</th>\n",
       "      <th>score</th>\n",
       "      <th>mean</th>\n",
       "      <th>std. dev.</th>\n",
       "    </tr>\n",
       "    <tr>\n",
       "      <th></th>\n",
       "      <th>univ</th>\n",
       "      <th>cell</th>\n",
       "      <th colspan=\"4\" halign=\"left\">lat</th>\n",
       "      <th>univ</th>\n",
       "      <th>cell</th>\n",
       "      <th></th>\n",
       "      <th></th>\n",
       "      <th></th>\n",
       "      <th></th>\n",
       "      <th></th>\n",
       "    </tr>\n",
       "    <tr>\n",
       "      <th></th>\n",
       "      <th>id</th>\n",
       "      <th>id</th>\n",
       "      <th>id</th>\n",
       "      <th>x</th>\n",
       "      <th>y</th>\n",
       "      <th>z</th>\n",
       "      <th>id</th>\n",
       "      <th>id</th>\n",
       "      <th></th>\n",
       "      <th></th>\n",
       "      <th></th>\n",
       "      <th></th>\n",
       "      <th></th>\n",
       "    </tr>\n",
       "  </thead>\n",
       "  <tbody>\n",
       "    <tr>\n",
       "      <th>0</th>\n",
       "      <td>0</td>\n",
       "      <td>10013</td>\n",
       "      <td>10004</td>\n",
       "      <td>0</td>\n",
       "      <td>0</td>\n",
       "      <td>0</td>\n",
       "      <td>10000</td>\n",
       "      <td>1</td>\n",
       "      <td>0</td>\n",
       "      <td>U235</td>\n",
       "      <td>absorption</td>\n",
       "      <td>0.002005</td>\n",
       "      <td>0.000034</td>\n",
       "    </tr>\n",
       "    <tr>\n",
       "      <th>1</th>\n",
       "      <td>0</td>\n",
       "      <td>10013</td>\n",
       "      <td>10004</td>\n",
       "      <td>0</td>\n",
       "      <td>0</td>\n",
       "      <td>0</td>\n",
       "      <td>10000</td>\n",
       "      <td>1</td>\n",
       "      <td>0</td>\n",
       "      <td>U235</td>\n",
       "      <td>fission</td>\n",
       "      <td>0.001659</td>\n",
       "      <td>0.000028</td>\n",
       "    </tr>\n",
       "    <tr>\n",
       "      <th>2</th>\n",
       "      <td>0</td>\n",
       "      <td>10013</td>\n",
       "      <td>10004</td>\n",
       "      <td>0</td>\n",
       "      <td>0</td>\n",
       "      <td>0</td>\n",
       "      <td>10000</td>\n",
       "      <td>1</td>\n",
       "      <td>0</td>\n",
       "      <td>U238</td>\n",
       "      <td>absorption</td>\n",
       "      <td>0.001057</td>\n",
       "      <td>0.000019</td>\n",
       "    </tr>\n",
       "    <tr>\n",
       "      <th>3</th>\n",
       "      <td>0</td>\n",
       "      <td>10013</td>\n",
       "      <td>10004</td>\n",
       "      <td>0</td>\n",
       "      <td>0</td>\n",
       "      <td>0</td>\n",
       "      <td>10000</td>\n",
       "      <td>1</td>\n",
       "      <td>0</td>\n",
       "      <td>U238</td>\n",
       "      <td>fission</td>\n",
       "      <td>0.000104</td>\n",
       "      <td>0.000001</td>\n",
       "    </tr>\n",
       "    <tr>\n",
       "      <th>4</th>\n",
       "      <td>0</td>\n",
       "      <td>10013</td>\n",
       "      <td>10004</td>\n",
       "      <td>0</td>\n",
       "      <td>1</td>\n",
       "      <td>0</td>\n",
       "      <td>10000</td>\n",
       "      <td>1</td>\n",
       "      <td>1</td>\n",
       "      <td>U235</td>\n",
       "      <td>absorption</td>\n",
       "      <td>0.002003</td>\n",
       "      <td>0.000029</td>\n",
       "    </tr>\n",
       "    <tr>\n",
       "      <th>5</th>\n",
       "      <td>0</td>\n",
       "      <td>10013</td>\n",
       "      <td>10004</td>\n",
       "      <td>0</td>\n",
       "      <td>1</td>\n",
       "      <td>0</td>\n",
       "      <td>10000</td>\n",
       "      <td>1</td>\n",
       "      <td>1</td>\n",
       "      <td>U235</td>\n",
       "      <td>fission</td>\n",
       "      <td>0.001660</td>\n",
       "      <td>0.000024</td>\n",
       "    </tr>\n",
       "    <tr>\n",
       "      <th>6</th>\n",
       "      <td>0</td>\n",
       "      <td>10013</td>\n",
       "      <td>10004</td>\n",
       "      <td>0</td>\n",
       "      <td>1</td>\n",
       "      <td>0</td>\n",
       "      <td>10000</td>\n",
       "      <td>1</td>\n",
       "      <td>1</td>\n",
       "      <td>U238</td>\n",
       "      <td>absorption</td>\n",
       "      <td>0.001063</td>\n",
       "      <td>0.000017</td>\n",
       "    </tr>\n",
       "    <tr>\n",
       "      <th>7</th>\n",
       "      <td>0</td>\n",
       "      <td>10013</td>\n",
       "      <td>10004</td>\n",
       "      <td>0</td>\n",
       "      <td>1</td>\n",
       "      <td>0</td>\n",
       "      <td>10000</td>\n",
       "      <td>1</td>\n",
       "      <td>1</td>\n",
       "      <td>U238</td>\n",
       "      <td>fission</td>\n",
       "      <td>0.000103</td>\n",
       "      <td>0.000001</td>\n",
       "    </tr>\n",
       "    <tr>\n",
       "      <th>8</th>\n",
       "      <td>0</td>\n",
       "      <td>10013</td>\n",
       "      <td>10004</td>\n",
       "      <td>0</td>\n",
       "      <td>2</td>\n",
       "      <td>0</td>\n",
       "      <td>10000</td>\n",
       "      <td>1</td>\n",
       "      <td>2</td>\n",
       "      <td>U235</td>\n",
       "      <td>absorption</td>\n",
       "      <td>0.002023</td>\n",
       "      <td>0.000031</td>\n",
       "    </tr>\n",
       "    <tr>\n",
       "      <th>9</th>\n",
       "      <td>0</td>\n",
       "      <td>10013</td>\n",
       "      <td>10004</td>\n",
       "      <td>0</td>\n",
       "      <td>2</td>\n",
       "      <td>0</td>\n",
       "      <td>10000</td>\n",
       "      <td>1</td>\n",
       "      <td>2</td>\n",
       "      <td>U235</td>\n",
       "      <td>fission</td>\n",
       "      <td>0.001678</td>\n",
       "      <td>0.000026</td>\n",
       "    </tr>\n",
       "  </tbody>\n",
       "</table>\n",
       "</div>"
      ],
      "text/plain": [
       "  level 1        level 2          level 3      distribcell nuclide  \\\n",
       "     univ   cell     lat             univ cell                       \n",
       "       id     id      id  x  y  z      id   id                       \n",
       "0       0  10013   10004  0  0  0   10000    1           0    U235   \n",
       "1       0  10013   10004  0  0  0   10000    1           0    U235   \n",
       "2       0  10013   10004  0  0  0   10000    1           0    U238   \n",
       "3       0  10013   10004  0  0  0   10000    1           0    U238   \n",
       "4       0  10013   10004  0  1  0   10000    1           1    U235   \n",
       "5       0  10013   10004  0  1  0   10000    1           1    U235   \n",
       "6       0  10013   10004  0  1  0   10000    1           1    U238   \n",
       "7       0  10013   10004  0  1  0   10000    1           1    U238   \n",
       "8       0  10013   10004  0  2  0   10000    1           2    U235   \n",
       "9       0  10013   10004  0  2  0   10000    1           2    U235   \n",
       "\n",
       "        score      mean std. dev.  \n",
       "                                   \n",
       "                                   \n",
       "0  absorption  0.002005  0.000034  \n",
       "1     fission  0.001659  0.000028  \n",
       "2  absorption  0.001057  0.000019  \n",
       "3     fission  0.000104  0.000001  \n",
       "4  absorption  0.002003  0.000029  \n",
       "5     fission  0.001660  0.000024  \n",
       "6  absorption  0.001063  0.000017  \n",
       "7     fission  0.000103  0.000001  \n",
       "8  absorption  0.002023  0.000031  \n",
       "9     fission  0.001678  0.000026  "
      ]
     },
     "execution_count": 28,
     "metadata": {},
     "output_type": "execute_result"
    }
   ],
   "source": [
    "df = distribcell.get_pandas_dataframe()\n",
    "df.head(10)"
   ]
  },
  {
   "cell_type": "markdown",
   "metadata": {},
   "source": [
    "Pandas is a very powerful data processing tool.  One of the most important features is \"fancy indexing\"."
   ]
  },
  {
   "cell_type": "code",
   "execution_count": 29,
   "metadata": {
    "collapsed": false
   },
   "outputs": [
    {
     "name": "stderr",
     "output_type": "stream",
     "text": [
      "/usr/local/lib/python3.5/dist-packages/numpy/lib/shape_base.py:873: VisibleDeprecationWarning: using a non-integer number instead of an integer will result in an error in the future\n",
      "  return c.reshape(shape_out)\n"
     ]
    },
    {
     "data": {
      "text/html": [
       "<div>\n",
       "<table border=\"1\" class=\"dataframe\">\n",
       "  <thead>\n",
       "    <tr>\n",
       "      <th></th>\n",
       "      <th colspan=\"3\" halign=\"left\">mesh 10000</th>\n",
       "      <th>nuclide</th>\n",
       "      <th>score</th>\n",
       "      <th>mean</th>\n",
       "      <th>std. dev.</th>\n",
       "    </tr>\n",
       "    <tr>\n",
       "      <th></th>\n",
       "      <th>x</th>\n",
       "      <th>y</th>\n",
       "      <th>z</th>\n",
       "      <th></th>\n",
       "      <th></th>\n",
       "      <th></th>\n",
       "      <th></th>\n",
       "    </tr>\n",
       "  </thead>\n",
       "  <tbody>\n",
       "    <tr>\n",
       "      <th>0</th>\n",
       "      <td>1</td>\n",
       "      <td>1</td>\n",
       "      <td>1</td>\n",
       "      <td>U235</td>\n",
       "      <td>fission</td>\n",
       "      <td>0.001659</td>\n",
       "      <td>0.000028</td>\n",
       "    </tr>\n",
       "    <tr>\n",
       "      <th>2</th>\n",
       "      <td>1</td>\n",
       "      <td>2</td>\n",
       "      <td>1</td>\n",
       "      <td>U235</td>\n",
       "      <td>fission</td>\n",
       "      <td>0.001684</td>\n",
       "      <td>0.000026</td>\n",
       "    </tr>\n",
       "    <tr>\n",
       "      <th>4</th>\n",
       "      <td>1</td>\n",
       "      <td>3</td>\n",
       "      <td>1</td>\n",
       "      <td>U235</td>\n",
       "      <td>fission</td>\n",
       "      <td>0.001693</td>\n",
       "      <td>0.000032</td>\n",
       "    </tr>\n",
       "    <tr>\n",
       "      <th>6</th>\n",
       "      <td>1</td>\n",
       "      <td>4</td>\n",
       "      <td>1</td>\n",
       "      <td>U235</td>\n",
       "      <td>fission</td>\n",
       "      <td>0.001748</td>\n",
       "      <td>0.000028</td>\n",
       "    </tr>\n",
       "    <tr>\n",
       "      <th>8</th>\n",
       "      <td>1</td>\n",
       "      <td>5</td>\n",
       "      <td>1</td>\n",
       "      <td>U235</td>\n",
       "      <td>fission</td>\n",
       "      <td>0.001769</td>\n",
       "      <td>0.000031</td>\n",
       "    </tr>\n",
       "  </tbody>\n",
       "</table>\n",
       "</div>"
      ],
      "text/plain": [
       "  mesh 10000       nuclide    score      mean std. dev.\n",
       "           x  y  z                                     \n",
       "0          1  1  1    U235  fission  0.001659  0.000028\n",
       "2          1  2  1    U235  fission  0.001684  0.000026\n",
       "4          1  3  1    U235  fission  0.001693  0.000032\n",
       "6          1  4  1    U235  fission  0.001748  0.000028\n",
       "8          1  5  1    U235  fission  0.001769  0.000031"
      ]
     },
     "execution_count": 29,
     "metadata": {},
     "output_type": "execute_result"
    }
   ],
   "source": [
    "df = mesh_fiss.get_pandas_dataframe()\n",
    "sub_df = df[df['nuclide'] == 'U235']\n",
    "sub_df.head(5)"
   ]
  },
  {
   "cell_type": "markdown",
   "metadata": {},
   "source": [
    "Now consider the case where we wish to select from `sub_df` those mesh cells which have a \"fission\" rate that is above the average:"
   ]
  },
  {
   "cell_type": "code",
   "execution_count": 30,
   "metadata": {
    "collapsed": false
   },
   "outputs": [
    {
     "data": {
      "text/html": [
       "<div>\n",
       "<table border=\"1\" class=\"dataframe\">\n",
       "  <thead>\n",
       "    <tr>\n",
       "      <th></th>\n",
       "      <th colspan=\"3\" halign=\"left\">mesh 10000</th>\n",
       "      <th>nuclide</th>\n",
       "      <th>score</th>\n",
       "      <th>mean</th>\n",
       "      <th>std. dev.</th>\n",
       "    </tr>\n",
       "    <tr>\n",
       "      <th></th>\n",
       "      <th>x</th>\n",
       "      <th>y</th>\n",
       "      <th>z</th>\n",
       "      <th></th>\n",
       "      <th></th>\n",
       "      <th></th>\n",
       "      <th></th>\n",
       "    </tr>\n",
       "  </thead>\n",
       "  <tbody>\n",
       "    <tr>\n",
       "      <th>16</th>\n",
       "      <td>1</td>\n",
       "      <td>9</td>\n",
       "      <td>1</td>\n",
       "      <td>U235</td>\n",
       "      <td>fission</td>\n",
       "      <td>0.001878</td>\n",
       "      <td>0.000028</td>\n",
       "    </tr>\n",
       "    <tr>\n",
       "      <th>44</th>\n",
       "      <td>2</td>\n",
       "      <td>6</td>\n",
       "      <td>1</td>\n",
       "      <td>U235</td>\n",
       "      <td>fission</td>\n",
       "      <td>0.001886</td>\n",
       "      <td>0.000027</td>\n",
       "    </tr>\n",
       "    <tr>\n",
       "      <th>48</th>\n",
       "      <td>2</td>\n",
       "      <td>8</td>\n",
       "      <td>1</td>\n",
       "      <td>U235</td>\n",
       "      <td>fission</td>\n",
       "      <td>0.001888</td>\n",
       "      <td>0.000026</td>\n",
       "    </tr>\n",
       "    <tr>\n",
       "      <th>50</th>\n",
       "      <td>2</td>\n",
       "      <td>9</td>\n",
       "      <td>1</td>\n",
       "      <td>U235</td>\n",
       "      <td>fission</td>\n",
       "      <td>0.001956</td>\n",
       "      <td>0.000024</td>\n",
       "    </tr>\n",
       "    <tr>\n",
       "      <th>52</th>\n",
       "      <td>2</td>\n",
       "      <td>10</td>\n",
       "      <td>1</td>\n",
       "      <td>U235</td>\n",
       "      <td>fission</td>\n",
       "      <td>0.001889</td>\n",
       "      <td>0.000027</td>\n",
       "    </tr>\n",
       "  </tbody>\n",
       "</table>\n",
       "</div>"
      ],
      "text/plain": [
       "   mesh 10000        nuclide    score      mean std. dev.\n",
       "            x   y  z                                     \n",
       "16          1   9  1    U235  fission  0.001878  0.000028\n",
       "44          2   6  1    U235  fission  0.001886  0.000027\n",
       "48          2   8  1    U235  fission  0.001888  0.000026\n",
       "50          2   9  1    U235  fission  0.001956  0.000024\n",
       "52          2  10  1    U235  fission  0.001889  0.000027"
      ]
     },
     "execution_count": 30,
     "metadata": {},
     "output_type": "execute_result"
    }
   ],
   "source": [
    "# Replace 0's with NaN to eliminate them from average\n",
    "sub_df = sub_df.replace(0, np.nan)\n",
    "\n",
    "# Extract rows corresponding to above average fission rates\n",
    "indices = sub_df['mean'] > sub_df['mean'].mean()\n",
    "above_avg = sub_df[indices]\n",
    "above_avg.head(5)"
   ]
  },
  {
   "cell_type": "markdown",
   "metadata": {},
   "source": [
    "Finally, let's use Pandas fancy indexing to select the data corresponding to those mesh cells in the lower left triangle of the mesh:"
   ]
  },
  {
   "cell_type": "code",
   "execution_count": 31,
   "metadata": {
    "collapsed": false
   },
   "outputs": [
    {
     "data": {
      "text/html": [
       "<div>\n",
       "<table border=\"1\" class=\"dataframe\">\n",
       "  <thead>\n",
       "    <tr>\n",
       "      <th></th>\n",
       "      <th colspan=\"3\" halign=\"left\">mesh 10000</th>\n",
       "      <th>nuclide</th>\n",
       "      <th>score</th>\n",
       "      <th>mean</th>\n",
       "      <th>std. dev.</th>\n",
       "    </tr>\n",
       "    <tr>\n",
       "      <th></th>\n",
       "      <th>x</th>\n",
       "      <th>y</th>\n",
       "      <th>z</th>\n",
       "      <th></th>\n",
       "      <th></th>\n",
       "      <th></th>\n",
       "      <th></th>\n",
       "    </tr>\n",
       "  </thead>\n",
       "  <tbody>\n",
       "    <tr>\n",
       "      <th>34</th>\n",
       "      <td>2</td>\n",
       "      <td>1</td>\n",
       "      <td>1</td>\n",
       "      <td>U235</td>\n",
       "      <td>fission</td>\n",
       "      <td>0.001660</td>\n",
       "      <td>0.000024</td>\n",
       "    </tr>\n",
       "    <tr>\n",
       "      <th>35</th>\n",
       "      <td>2</td>\n",
       "      <td>1</td>\n",
       "      <td>1</td>\n",
       "      <td>U238</td>\n",
       "      <td>fission</td>\n",
       "      <td>0.000103</td>\n",
       "      <td>0.000001</td>\n",
       "    </tr>\n",
       "    <tr>\n",
       "      <th>68</th>\n",
       "      <td>3</td>\n",
       "      <td>1</td>\n",
       "      <td>1</td>\n",
       "      <td>U235</td>\n",
       "      <td>fission</td>\n",
       "      <td>0.001678</td>\n",
       "      <td>0.000026</td>\n",
       "    </tr>\n",
       "    <tr>\n",
       "      <th>69</th>\n",
       "      <td>3</td>\n",
       "      <td>1</td>\n",
       "      <td>1</td>\n",
       "      <td>U238</td>\n",
       "      <td>fission</td>\n",
       "      <td>0.000105</td>\n",
       "      <td>0.000001</td>\n",
       "    </tr>\n",
       "    <tr>\n",
       "      <th>70</th>\n",
       "      <td>3</td>\n",
       "      <td>2</td>\n",
       "      <td>1</td>\n",
       "      <td>U235</td>\n",
       "      <td>fission</td>\n",
       "      <td>0.001658</td>\n",
       "      <td>0.000022</td>\n",
       "    </tr>\n",
       "  </tbody>\n",
       "</table>\n",
       "</div>"
      ],
      "text/plain": [
       "   mesh 10000       nuclide    score      mean std. dev.\n",
       "            x  y  z                                     \n",
       "34          2  1  1    U235  fission  0.001660  0.000024\n",
       "35          2  1  1    U238  fission  0.000103  0.000001\n",
       "68          3  1  1    U235  fission  0.001678  0.000026\n",
       "69          3  1  1    U238  fission  0.000105  0.000001\n",
       "70          3  2  1    U235  fission  0.001658  0.000022"
      ]
     },
     "execution_count": 31,
     "metadata": {},
     "output_type": "execute_result"
    }
   ],
   "source": [
    "indices = df[('mesh 10000', 'x')] > df[('mesh 10000', 'y')]\n",
    "lower = df[indices]\n",
    "lower.head(5)"
   ]
  }
 ],
 "metadata": {
  "kernelspec": {
   "display_name": "Python 3",
   "language": "python",
   "name": "python3"
  },
  "language_info": {
   "codemirror_mode": {
    "name": "ipython",
    "version": 3
   },
   "file_extension": ".py",
   "mimetype": "text/x-python",
   "name": "python",
   "nbconvert_exporter": "python",
   "pygments_lexer": "ipython3",
   "version": "3.5.2"
  }
 },
 "nbformat": 4,
 "nbformat_minor": 0
}
