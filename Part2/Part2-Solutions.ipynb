{
 "cells": [
  {
   "cell_type": "markdown",
   "metadata": {},
   "source": [
    "# Lattice computations"
   ]
  },
  {
   "cell_type": "code",
   "execution_count": 1,
   "metadata": {
    "collapsed": false
   },
   "outputs": [],
   "source": [
    "import openmc\n",
    "from IPython.display import Image"
   ]
  },
  {
   "cell_type": "markdown",
   "metadata": {},
   "source": [
    "In this section, we will build one of the assemblies from the BEAVRS benchmark.  This is a PWR assembly with fuel pins, guide tubes, and borosilicate glass burnable poisons.  A diagram of th assembly is plotted below.  To make it a little easier (and improve our statistics!) we will only build one quarter of it."
   ]
  },
  {
   "cell_type": "code",
   "execution_count": 2,
   "metadata": {
    "collapsed": false
   },
   "outputs": [
    {
     "data": {
      "image/png": "[encoded data removed]",
      "text/plain": [
       "<IPython.core.display.Image object>"
      ]
     },
     "execution_count": 2,
     "metadata": {},
     "output_type": "execute_result"
    }
   ],
   "source": [
    "Image('assembly_diagram.png')"
   ]
  },
  {
   "cell_type": "markdown",
   "metadata": {},
   "source": [
    "## Materials\n",
    "\n",
    "Again we have UO2, Zr, and H2O.  We also have borosilicate glass (pyrex).  Note the shortcut for defining enriched uranium.  Also note that we can use `add_nuclide` and `add_element` directly with a string.  We do not have to create a `Nuclide` or `Element` object first."
   ]
  },
  {
   "cell_type": "code",
   "execution_count": 6,
   "metadata": {
    "collapsed": false
   },
   "outputs": [],
   "source": [
    "uo2 = openmc.Material(name='uo2')\n",
    "uo2.add_element('U', 1.0, enrichment=3.0)\n",
    "uo2.add_nuclide('O16', 2.0)\n",
    "uo2.set_density('g/cm3', 10.0)\n",
    "\n",
    "zirconium = openmc.Material(name='zirconium')\n",
    "zirconium.add_element('Zr', 1.0)\n",
    "zirconium.set_density('g/cm3', 6.55)\n",
    "\n",
    "water = openmc.Material(name='water')\n",
    "water.add_nuclide('H1', 2)\n",
    "water.add_nuclide('O16', 1)\n",
    "water.set_density('g/cm3', 0.701)\n",
    "water.add_s_alpha_beta('c_H_in_H2O')\n",
    "\n",
    "pyrex = openmc.Material(name='pyrex')\n",
    "pyrex.add_element('B', 0.49)\n",
    "pyrex.add_element('O', 4.7)\n",
    "pyrex.add_element('Al', 0.17)\n",
    "pyrex.add_element('Si', 1.8)\n",
    "pyrex.set_density('g/cm3', 2.26)"
   ]
  },
  {
   "cell_type": "code",
   "execution_count": 7,
   "metadata": {
    "collapsed": false
   },
   "outputs": [],
   "source": [
    "mf = openmc.Materials((uo2, zirconium, water, pyrex))\n",
    "mf.export_to_xml()"
   ]
  },
  {
   "cell_type": "markdown",
   "metadata": {},
   "source": [
    "Later in this example, we will make a bunch of geometry plots.  By default, every region is colored randomly and the results are Now that we know our materials, let's define a \"color specification\" to use when plotting our geometry."
   ]
  },
  {
   "cell_type": "code",
   "execution_count": 8,
   "metadata": {
    "collapsed": true
   },
   "outputs": [],
   "source": [
    "col_spec = {}\n",
    "col_spec[water.id] = (100, 200, 200)\n",
    "col_spec[zirconium.id] = (150, 150, 150)\n",
    "col_spec[pyrex.id] = (100, 255, 100)\n",
    "col_spec[uo2.id] = (255, 50, 50)"
   ]
  },
  {
   "cell_type": "markdown",
   "metadata": {},
   "source": [
    "## Fuel pin\n",
    "\n",
    "This is similar to the pincell example, but we don't have boundary conditions.  This `fuel_pin` universe extends to infinity"
   ]
  },
  {
   "cell_type": "code",
   "execution_count": 9,
   "metadata": {
    "collapsed": false
   },
   "outputs": [],
   "source": [
    "pitch = 1.26\n",
    "\n",
    "fuel_or = openmc.ZCylinder(R=0.39)\n",
    "clad_ir = openmc.ZCylinder(R=0.40)\n",
    "clad_or = openmc.ZCylinder(R=0.46)\n",
    "\n",
    "fuel = openmc.Cell(1, 'fuel')\n",
    "fuel.fill = uo2\n",
    "fuel.region = -fuel_or\n",
    "\n",
    "gap = openmc.Cell(2, 'air gap')\n",
    "gap.fill = 'void'\n",
    "gap.region = +fuel_or & -clad_ir\n",
    "\n",
    "clad = openmc.Cell(3, 'clad')\n",
    "clad.fill = zirconium\n",
    "clad.region = +clad_ir & -clad_or\n",
    "\n",
    "moderator = openmc.Cell(4, 'moderator')\n",
    "moderator.fill = water\n",
    "moderator.region = +clad_or\n",
    "\n",
    "fuel_pin = openmc.Universe()\n",
    "fuel_pin.add_cells((fuel, gap, clad, moderator))"
   ]
  },
  {
   "cell_type": "markdown",
   "metadata": {},
   "source": [
    "When building a complex geometry, it is helpful to plot each universe as you go along.  Let's plot this pincell now"
   ]
  },
  {
   "cell_type": "code",
   "execution_count": 10,
   "metadata": {
    "collapsed": true
   },
   "outputs": [],
   "source": [
    "# We need a cell to contain the fuel_pin universe.\n",
    "main = openmc.Cell()\n",
    "main.fill = fuel_pin\n",
    "\n",
    "root = openmc.Universe(0)\n",
    "root.add_cell(main)\n",
    "\n",
    "g = openmc.Geometry()\n",
    "g.root_universe = root\n",
    "g.export_to_xml()"
   ]
  },
  {
   "cell_type": "code",
   "execution_count": 11,
   "metadata": {
    "collapsed": false
   },
   "outputs": [],
   "source": [
    "p = openmc.Plot()\n",
    "p.width = [pitch, pitch]\n",
    "p.pixels = [400, 400]\n",
    "p.color = 'mat'\n",
    "p.col_spec = col_spec\n",
    "\n",
    "plots = openmc.Plots([p])\n",
    "plots.export_to_xml()"
   ]
  },
  {
   "cell_type": "code",
   "execution_count": 12,
   "metadata": {
    "collapsed": false
   },
   "outputs": [
    {
     "name": "stdout",
     "output_type": "stream",
     "text": [
      "\n",
      "                               %%%%%%%%%%%%%%%\n",
      "                          %%%%%%%%%%%%%%%%%%%%%%%%\n",
      "                       %%%%%%%%%%%%%%%%%%%%%%%%%%%%%%\n",
      "                     %%%%%%%%%%%%%%%%%%%%%%%%%%%%%%%%%%\n",
      "                   %%%%%%%%%%%%%%%%%%%%%%%%%%%%%%%%%%%%%%\n",
      "                  %%%%%%%%%%%%%%%%%%%%%%%%%%%%%%%%%%%%%%%%\n",
      "                                   %%%%%%%%%%%%%%%%%%%%%%%%\n",
      "                                    %%%%%%%%%%%%%%%%%%%%%%%%\n",
      "                ###############      %%%%%%%%%%%%%%%%%%%%%%%%\n",
      "               ##################     %%%%%%%%%%%%%%%%%%%%%%%\n",
      "               ###################     %%%%%%%%%%%%%%%%%%%%%%%\n",
      "               ####################     %%%%%%%%%%%%%%%%%%%%%%\n",
      "               #####################     %%%%%%%%%%%%%%%%%%%%%\n",
      "               ######################     %%%%%%%%%%%%%%%%%%%%\n",
      "               #######################     %%%%%%%%%%%%%%%%%%\n",
      "                #######################     %%%%%%%%%%%%%%%%%\n",
      "                ######################     %%%%%%%%%%%%%%%%%\n",
      "                 ####################     %%%%%%%%%%%%%%%%%\n",
      "                   #################     %%%%%%%%%%%%%%%%%\n",
      "                    ###############     %%%%%%%%%%%%%%%%\n",
      "                      ############     %%%%%%%%%%%%%%%\n",
      "                         ########     %%%%%%%%%%%%%%\n",
      "                                     %%%%%%%%%%%\n",
      "\n",
      "                   | The OpenMC Monte Carlo Code\n",
      "         Copyright | 2011-2017 Massachusetts Institute of Technology\n",
      "           License | http://openmc.readthedocs.io/en/latest/license.html\n",
      "           Version | 0.8.0\n",
      "          Git SHA1 | cd7388e44781e7b0d8887b02af203fc1d679dd72\n",
      "         Date/Time | 2017-02-24 00:13:46\n",
      "     MPI Processes | 1\n",
      "\n",
      " ===========================================================================\n",
      " ========================>     INITIALIZATION     <=========================\n",
      " ===========================================================================\n",
      "\n",
      " Reading geometry XML file...\n",
      " Reading materials XML file...\n",
      " Reading cross sections XML file...\n",
      " Reading plot XML file...\n",
      " Building neighboring cells lists for each surface...\n",
      "\n",
      " =======================>     PLOTTING SUMMARY     <========================\n",
      "\n",
      " Plot ID:               10000\n",
      " Plot file:             plot.ppm\n",
      " Universe depth:        -1\n",
      " Plot Type:             Slice\n",
      " Origin:                0.0 0.0 0.0\n",
      " Width:                 1.26000 1.26000\n",
      " Coloring:              Materials\n",
      " Basis:                 xy\n",
      " Pixels:                400 400\n",
      "\n",
      " \n",
      " WARNING: Cell overlap checking is ON\n",
      " Processing plot 10000: plot.ppm ...\n"
     ]
    },
    {
     "data": {
      "text/plain": [
       "0"
      ]
     },
     "execution_count": 12,
     "metadata": {},
     "output_type": "execute_result"
    }
   ],
   "source": [
    "openmc.plot_geometry()"
   ]
  },
  {
   "cell_type": "code",
   "execution_count": 13,
   "metadata": {
    "collapsed": false
   },
   "outputs": [
    {
     "data": {
      "image/png": "[encoded data removed]",
      "text/plain": [
       "<IPython.core.display.Image object>"
      ]
     },
     "execution_count": 13,
     "metadata": {},
     "output_type": "execute_result"
    }
   ],
   "source": [
    "!convert plot.ppm plot.png\n",
    "Image(\"plot.png\")"
   ]
  },
  {
   "cell_type": "markdown",
   "metadata": {},
   "source": [
    "## Guide tube"
   ]
  },
  {
   "cell_type": "code",
   "execution_count": 14,
   "metadata": {
    "collapsed": true
   },
   "outputs": [],
   "source": [
    "clad_ir = openmc.ZCylinder(R=0.56)\n",
    "clad_or = openmc.ZCylinder(R=0.60)\n",
    "\n",
    "inner = openmc.Cell()\n",
    "inner.fill = water\n",
    "inner.region = -clad_ir\n",
    "\n",
    "clad = openmc.Cell()\n",
    "clad.fill = zirconium\n",
    "clad.region = +clad_ir & -clad_or\n",
    "\n",
    "outer = openmc.Cell()\n",
    "outer.fill = water\n",
    "outer.region = +clad_or\n",
    "\n",
    "guide_tube = openmc.Universe()\n",
    "guide_tube.add_cells((inner, clad, outer))"
   ]
  },
  {
   "cell_type": "code",
   "execution_count": 15,
   "metadata": {
    "collapsed": true
   },
   "outputs": [],
   "source": [
    "main = openmc.Cell()\n",
    "main.fill = guide_tube\n",
    "\n",
    "root = openmc.Universe(0)\n",
    "root.add_cell(main)\n",
    "\n",
    "g = openmc.Geometry()\n",
    "g.root_universe = root\n",
    "g.export_to_xml()"
   ]
  },
  {
   "cell_type": "code",
   "execution_count": 16,
   "metadata": {
    "collapsed": true
   },
   "outputs": [],
   "source": [
    "p = openmc.Plot()\n",
    "p.width = [pitch, pitch]\n",
    "p.pixels = [400, 400]\n",
    "p.color = 'mat'\n",
    "p.col_spec = col_spec\n",
    "\n",
    "plots = openmc.Plots([p])\n",
    "plots.export_to_xml()"
   ]
  },
  {
   "cell_type": "code",
   "execution_count": 17,
   "metadata": {
    "collapsed": false
   },
   "outputs": [
    {
     "name": "stdout",
     "output_type": "stream",
     "text": [
      "\n",
      "                               %%%%%%%%%%%%%%%\n",
      "                          %%%%%%%%%%%%%%%%%%%%%%%%\n",
      "                       %%%%%%%%%%%%%%%%%%%%%%%%%%%%%%\n",
      "                     %%%%%%%%%%%%%%%%%%%%%%%%%%%%%%%%%%\n",
      "                   %%%%%%%%%%%%%%%%%%%%%%%%%%%%%%%%%%%%%%\n",
      "                  %%%%%%%%%%%%%%%%%%%%%%%%%%%%%%%%%%%%%%%%\n",
      "                                   %%%%%%%%%%%%%%%%%%%%%%%%\n",
      "                                    %%%%%%%%%%%%%%%%%%%%%%%%\n",
      "                ###############      %%%%%%%%%%%%%%%%%%%%%%%%\n",
      "               ##################     %%%%%%%%%%%%%%%%%%%%%%%\n",
      "               ###################     %%%%%%%%%%%%%%%%%%%%%%%\n",
      "               ####################     %%%%%%%%%%%%%%%%%%%%%%\n",
      "               #####################     %%%%%%%%%%%%%%%%%%%%%\n",
      "               ######################     %%%%%%%%%%%%%%%%%%%%\n",
      "               #######################     %%%%%%%%%%%%%%%%%%\n",
      "                #######################     %%%%%%%%%%%%%%%%%\n",
      "                ######################     %%%%%%%%%%%%%%%%%\n",
      "                 ####################     %%%%%%%%%%%%%%%%%\n",
      "                   #################     %%%%%%%%%%%%%%%%%\n",
      "                    ###############     %%%%%%%%%%%%%%%%\n",
      "                      ############     %%%%%%%%%%%%%%%\n",
      "                         ########     %%%%%%%%%%%%%%\n",
      "                                     %%%%%%%%%%%\n",
      "\n",
      "                   | The OpenMC Monte Carlo Code\n",
      "         Copyright | 2011-2017 Massachusetts Institute of Technology\n",
      "           License | http://openmc.readthedocs.io/en/latest/license.html\n",
      "           Version | 0.8.0\n",
      "          Git SHA1 | cd7388e44781e7b0d8887b02af203fc1d679dd72\n",
      "         Date/Time | 2017-02-24 00:14:08\n",
      "     MPI Processes | 1\n",
      "\n",
      " ===========================================================================\n",
      " ========================>     INITIALIZATION     <=========================\n",
      " ===========================================================================\n",
      "\n",
      " Reading geometry XML file...\n",
      " Reading materials XML file...\n",
      " Reading cross sections XML file...\n",
      " Reading plot XML file...\n",
      " Building neighboring cells lists for each surface...\n",
      "\n",
      " =======================>     PLOTTING SUMMARY     <========================\n",
      "\n",
      " Plot ID:               10001\n",
      " Plot file:             plot.ppm\n",
      " Universe depth:        -1\n",
      " Plot Type:             Slice\n",
      " Origin:                0.0 0.0 0.0\n",
      " Width:                 1.26000 1.26000\n",
      " Coloring:              Materials\n",
      " Basis:                 xy\n",
      " Pixels:                400 400\n",
      "\n",
      " \n",
      " WARNING: Cell overlap checking is ON\n",
      " Processing plot 10001: plot.ppm ...\n"
     ]
    },
    {
     "data": {
      "text/plain": [
       "0"
      ]
     },
     "execution_count": 17,
     "metadata": {},
     "output_type": "execute_result"
    }
   ],
   "source": [
    "openmc.plot_geometry()"
   ]
  },
  {
   "cell_type": "code",
   "execution_count": 18,
   "metadata": {
    "collapsed": false,
    "scrolled": true
   },
   "outputs": [
    {
     "data": {
      "image/png": "[encoded data removed]",
      "text/plain": [
       "<IPython.core.display.Image object>"
      ]
     },
     "execution_count": 18,
     "metadata": {},
     "output_type": "execute_result"
    }
   ],
   "source": [
    "!convert plot.ppm plot.png\n",
    "Image(\"plot.png\")"
   ]
  },
  {
   "cell_type": "markdown",
   "metadata": {},
   "source": [
    "## Pyrex burnable poison"
   ]
  },
  {
   "cell_type": "code",
   "execution_count": 19,
   "metadata": {
    "collapsed": false
   },
   "outputs": [],
   "source": [
    "# Define the cylinders which bound each radial zone.\n",
    "radii = [0.21, 0.23, 0.24, 0.43, 0.44, 0.48, 0.56, 0.60]\n",
    "cyls = [openmc.ZCylinder(R=R) for R in radii]\n",
    "\n",
    "# Initialize a list of cells.\n",
    "bp_cells = []\n",
    "\n",
    "# Define the inner void zone first.\n",
    "c = openmc.Cell()\n",
    "c.region = -cyls[0]\n",
    "c.fill = 'void'\n",
    "bp_cells.append(c)\n",
    "\n",
    "# Now all the sandwiched layers.\n",
    "mats = [zirconium, 'void', pyrex, 'void', zirconium, water, zirconium]\n",
    "for i in range(len(mats)):\n",
    "    c = openmc.Cell()\n",
    "    c.region = +cyls[i] & -cyls[i+1]\n",
    "    c.fill = mats[i]\n",
    "    bp_cells.append(c)\n",
    "\n",
    "# And the outer moderator region.\n",
    "c = openmc.Cell()\n",
    "c.region = +cyls[-1]\n",
    "c.fill = water\n",
    "bp_cells.append(c)\n",
    "\n",
    "# Make a universe containing these cells\n",
    "burn = openmc.Universe()\n",
    "burn.add_cells(bp_cells)"
   ]
  },
  {
   "cell_type": "code",
   "execution_count": 20,
   "metadata": {
    "collapsed": true
   },
   "outputs": [],
   "source": [
    "main = openmc.Cell()\n",
    "main.fill = burn\n",
    "\n",
    "root = openmc.Universe(0)\n",
    "root.add_cell(main)\n",
    "\n",
    "g = openmc.Geometry()\n",
    "g.root_universe = root\n",
    "g.export_to_xml()"
   ]
  },
  {
   "cell_type": "code",
   "execution_count": 21,
   "metadata": {
    "collapsed": false
   },
   "outputs": [],
   "source": [
    "p = openmc.Plot()\n",
    "p.width = [pitch, pitch]\n",
    "p.pixels = [400, 400]\n",
    "p.color = 'mat'\n",
    "p.col_spec = col_spec\n",
    "\n",
    "plots = openmc.Plots([p])\n",
    "plots.export_to_xml()"
   ]
  },
  {
   "cell_type": "code",
   "execution_count": 22,
   "metadata": {
    "collapsed": false
   },
   "outputs": [
    {
     "name": "stdout",
     "output_type": "stream",
     "text": [
      "\n",
      "                               %%%%%%%%%%%%%%%\n",
      "                          %%%%%%%%%%%%%%%%%%%%%%%%\n",
      "                       %%%%%%%%%%%%%%%%%%%%%%%%%%%%%%\n",
      "                     %%%%%%%%%%%%%%%%%%%%%%%%%%%%%%%%%%\n",
      "                   %%%%%%%%%%%%%%%%%%%%%%%%%%%%%%%%%%%%%%\n",
      "                  %%%%%%%%%%%%%%%%%%%%%%%%%%%%%%%%%%%%%%%%\n",
      "                                   %%%%%%%%%%%%%%%%%%%%%%%%\n",
      "                                    %%%%%%%%%%%%%%%%%%%%%%%%\n",
      "                ###############      %%%%%%%%%%%%%%%%%%%%%%%%\n",
      "               ##################     %%%%%%%%%%%%%%%%%%%%%%%\n",
      "               ###################     %%%%%%%%%%%%%%%%%%%%%%%\n",
      "               ####################     %%%%%%%%%%%%%%%%%%%%%%\n",
      "               #####################     %%%%%%%%%%%%%%%%%%%%%\n",
      "               ######################     %%%%%%%%%%%%%%%%%%%%\n",
      "               #######################     %%%%%%%%%%%%%%%%%%\n",
      "                #######################     %%%%%%%%%%%%%%%%%\n",
      "                ######################     %%%%%%%%%%%%%%%%%\n",
      "                 ####################     %%%%%%%%%%%%%%%%%\n",
      "                   #################     %%%%%%%%%%%%%%%%%\n",
      "                    ###############     %%%%%%%%%%%%%%%%\n",
      "                      ############     %%%%%%%%%%%%%%%\n",
      "                         ########     %%%%%%%%%%%%%%\n",
      "                                     %%%%%%%%%%%\n",
      "\n",
      "                   | The OpenMC Monte Carlo Code\n",
      "         Copyright | 2011-2017 Massachusetts Institute of Technology\n",
      "           License | http://openmc.readthedocs.io/en/latest/license.html\n",
      "           Version | 0.8.0\n",
      "          Git SHA1 | cd7388e44781e7b0d8887b02af203fc1d679dd72\n",
      "         Date/Time | 2017-02-24 00:15:17\n",
      "     MPI Processes | 1\n",
      "\n",
      " ===========================================================================\n",
      " ========================>     INITIALIZATION     <=========================\n",
      " ===========================================================================\n",
      "\n",
      " Reading geometry XML file...\n",
      " Reading materials XML file...\n",
      " Reading cross sections XML file...\n",
      " Reading plot XML file...\n",
      " Building neighboring cells lists for each surface...\n",
      "\n",
      " =======================>     PLOTTING SUMMARY     <========================\n",
      "\n",
      " Plot ID:               10002\n",
      " Plot file:             plot.ppm\n",
      " Universe depth:        -1\n",
      " Plot Type:             Slice\n",
      " Origin:                0.0 0.0 0.0\n",
      " Width:                 1.26000 1.26000\n",
      " Coloring:              Materials\n",
      " Basis:                 xy\n",
      " Pixels:                400 400\n",
      "\n",
      " \n",
      " WARNING: Cell overlap checking is ON\n",
      " Processing plot 10002: plot.ppm ...\n"
     ]
    },
    {
     "data": {
      "text/plain": [
       "0"
      ]
     },
     "execution_count": 22,
     "metadata": {},
     "output_type": "execute_result"
    }
   ],
   "source": [
    "openmc.plot_geometry()"
   ]
  },
  {
   "cell_type": "code",
   "execution_count": 23,
   "metadata": {
    "collapsed": false
   },
   "outputs": [
    {
     "data": {
      "image/png": "[encoded data removed]",
      "text/plain": [
       "<IPython.core.display.Image object>"
      ]
     },
     "execution_count": 23,
     "metadata": {},
     "output_type": "execute_result"
    }
   ],
   "source": [
    "!convert plot.ppm plot.png\n",
    "Image(\"plot.png\")"
   ]
  },
  {
   "cell_type": "markdown",
   "metadata": {},
   "source": [
    "## Lattices in OpenMC\n",
    "\n",
    "OpenMC has `RectLattice` and `HexLattice` objects.  This demo will use a `RectLattice`.  Let's look at a simple one before we do the quarter assembly.\n",
    "\n",
    "First, we also need to define a universe that is all water."
   ]
  },
  {
   "cell_type": "code",
   "execution_count": 24,
   "metadata": {
    "collapsed": true
   },
   "outputs": [],
   "source": [
    "moderator = openmc.Cell()\n",
    "moderator.fill = water\n",
    "\n",
    "all_water = openmc.Universe()\n",
    "all_water.add_cell(moderator)"
   ]
  },
  {
   "cell_type": "code",
   "execution_count": 26,
   "metadata": {
    "collapsed": false
   },
   "outputs": [],
   "source": [
    "lattice = openmc.RectLattice()\n",
    "\n",
    "# First we specify the dimension---the number of lattice tiles in x and y.\n",
    "lattice.dimension = [2, 2]\n",
    "\n",
    "# Next are the xy-coordiantes of the lower-left corner of the lattice.\n",
    "lattice.lower_left = [0.0, 0.0]\n",
    "\n",
    "# Next is the pitch---the size of the lattice tiles in each direction.\n",
    "lattice.pitch = [pitch]*2\n",
    "\n",
    "# Now we specify what is actually inside the lattice.  This 2D lattice will be a\n",
    "# list of lists like\n",
    "# lattice.universes = [ [a1, a2, ...], [b1, b2, ...], ...]\n",
    "# The inner lists specify columns from left to right.  The outer lists specify\n",
    "# rows from top to bottom.\n",
    "lattice.universes = [\n",
    "    [fuel_pin,   fuel_pin],\n",
    "    [guide_tube, fuel_pin]\n",
    "]\n",
    "\n",
    "# We also need to specify what is outside of the lattice.  In this case, it is\n",
    "# the infinite water universe.\n",
    "lattice.outer = all_water"
   ]
  },
  {
   "cell_type": "code",
   "execution_count": 27,
   "metadata": {
    "collapsed": true
   },
   "outputs": [],
   "source": [
    "main = openmc.Cell()\n",
    "main.fill = lattice\n",
    "\n",
    "root = openmc.Universe(0)\n",
    "root.add_cell(main)\n",
    "\n",
    "g = openmc.Geometry()\n",
    "g.root_universe = root\n",
    "g.export_to_xml()"
   ]
  },
  {
   "cell_type": "code",
   "execution_count": 31,
   "metadata": {
    "collapsed": false
   },
   "outputs": [],
   "source": [
    "p = openmc.Plot()\n",
    "p.origin = (pitch, pitch, 0)\n",
    "p.width = (3*pitch, 3*pitch)\n",
    "p.pixels = (400, 400)\n",
    "p.color = 'mat'\n",
    "p.col_spec = col_spec\n",
    "\n",
    "plots = openmc.Plots([p])\n",
    "plots.export_to_xml()"
   ]
  },
  {
   "cell_type": "code",
   "execution_count": 32,
   "metadata": {
    "collapsed": false
   },
   "outputs": [
    {
     "name": "stdout",
     "output_type": "stream",
     "text": [
      "\n",
      "                               %%%%%%%%%%%%%%%\n",
      "                          %%%%%%%%%%%%%%%%%%%%%%%%\n",
      "                       %%%%%%%%%%%%%%%%%%%%%%%%%%%%%%\n",
      "                     %%%%%%%%%%%%%%%%%%%%%%%%%%%%%%%%%%\n",
      "                   %%%%%%%%%%%%%%%%%%%%%%%%%%%%%%%%%%%%%%\n",
      "                  %%%%%%%%%%%%%%%%%%%%%%%%%%%%%%%%%%%%%%%%\n",
      "                                   %%%%%%%%%%%%%%%%%%%%%%%%\n",
      "                                    %%%%%%%%%%%%%%%%%%%%%%%%\n",
      "                ###############      %%%%%%%%%%%%%%%%%%%%%%%%\n",
      "               ##################     %%%%%%%%%%%%%%%%%%%%%%%\n",
      "               ###################     %%%%%%%%%%%%%%%%%%%%%%%\n",
      "               ####################     %%%%%%%%%%%%%%%%%%%%%%\n",
      "               #####################     %%%%%%%%%%%%%%%%%%%%%\n",
      "               ######################     %%%%%%%%%%%%%%%%%%%%\n",
      "               #######################     %%%%%%%%%%%%%%%%%%\n",
      "                #######################     %%%%%%%%%%%%%%%%%\n",
      "                ######################     %%%%%%%%%%%%%%%%%\n",
      "                 ####################     %%%%%%%%%%%%%%%%%\n",
      "                   #################     %%%%%%%%%%%%%%%%%\n",
      "                    ###############     %%%%%%%%%%%%%%%%\n",
      "                      ############     %%%%%%%%%%%%%%%\n",
      "                         ########     %%%%%%%%%%%%%%\n",
      "                                     %%%%%%%%%%%\n",
      "\n",
      "                   | The OpenMC Monte Carlo Code\n",
      "         Copyright | 2011-2017 Massachusetts Institute of Technology\n",
      "           License | http://openmc.readthedocs.io/en/latest/license.html\n",
      "           Version | 0.8.0\n",
      "          Git SHA1 | cd7388e44781e7b0d8887b02af203fc1d679dd72\n",
      "         Date/Time | 2017-02-24 00:17:53\n",
      "     MPI Processes | 1\n",
      "\n",
      " ===========================================================================\n",
      " ========================>     INITIALIZATION     <=========================\n",
      " ===========================================================================\n",
      "\n",
      " Reading geometry XML file...\n",
      " Reading materials XML file...\n",
      " Reading cross sections XML file...\n",
      " Reading plot XML file...\n",
      " Building neighboring cells lists for each surface...\n",
      "\n",
      " =======================>     PLOTTING SUMMARY     <========================\n",
      "\n",
      " Plot ID:               10004\n",
      " Plot file:             plot.ppm\n",
      " Universe depth:        -1\n",
      " Plot Type:             Slice\n",
      " Origin:                1.26000 1.26000 0.0\n",
      " Width:                 3.78000 3.78000\n",
      " Coloring:              Materials\n",
      " Basis:                 xy\n",
      " Pixels:                400 400\n",
      "\n",
      " \n",
      " WARNING: Cell overlap checking is ON\n",
      " Processing plot 10004: plot.ppm ...\n"
     ]
    },
    {
     "data": {
      "text/plain": [
       "0"
      ]
     },
     "execution_count": 32,
     "metadata": {},
     "output_type": "execute_result"
    }
   ],
   "source": [
    "openmc.plot_geometry()"
   ]
  },
  {
   "cell_type": "code",
   "execution_count": 33,
   "metadata": {
    "collapsed": false
   },
   "outputs": [
    {
     "data": {
      "image/png": "[encoded data removed]",
      "text/plain": [
       "<IPython.core.display.Image object>"
      ]
     },
     "execution_count": 33,
     "metadata": {},
     "output_type": "execute_result"
    }
   ],
   "source": [
    "!convert plot.ppm plot.png\n",
    "Image(\"plot.png\")"
   ]
  },
  {
   "cell_type": "markdown",
   "metadata": {},
   "source": [
    "## What exactly does `outer` mean?\n",
    "\n",
    "We are taking that one universe and tiling it infinitely outside the lattice."
   ]
  },
  {
   "cell_type": "code",
   "execution_count": 34,
   "metadata": {
    "collapsed": false
   },
   "outputs": [
    {
     "name": "stdout",
     "output_type": "stream",
     "text": [
      "\n",
      "                               %%%%%%%%%%%%%%%\n",
      "                          %%%%%%%%%%%%%%%%%%%%%%%%\n",
      "                       %%%%%%%%%%%%%%%%%%%%%%%%%%%%%%\n",
      "                     %%%%%%%%%%%%%%%%%%%%%%%%%%%%%%%%%%\n",
      "                   %%%%%%%%%%%%%%%%%%%%%%%%%%%%%%%%%%%%%%\n",
      "                  %%%%%%%%%%%%%%%%%%%%%%%%%%%%%%%%%%%%%%%%\n",
      "                                   %%%%%%%%%%%%%%%%%%%%%%%%\n",
      "                                    %%%%%%%%%%%%%%%%%%%%%%%%\n",
      "                ###############      %%%%%%%%%%%%%%%%%%%%%%%%\n",
      "               ##################     %%%%%%%%%%%%%%%%%%%%%%%\n",
      "               ###################     %%%%%%%%%%%%%%%%%%%%%%%\n",
      "               ####################     %%%%%%%%%%%%%%%%%%%%%%\n",
      "               #####################     %%%%%%%%%%%%%%%%%%%%%\n",
      "               ######################     %%%%%%%%%%%%%%%%%%%%\n",
      "               #######################     %%%%%%%%%%%%%%%%%%\n",
      "                #######################     %%%%%%%%%%%%%%%%%\n",
      "                ######################     %%%%%%%%%%%%%%%%%\n",
      "                 ####################     %%%%%%%%%%%%%%%%%\n",
      "                   #################     %%%%%%%%%%%%%%%%%\n",
      "                    ###############     %%%%%%%%%%%%%%%%\n",
      "                      ############     %%%%%%%%%%%%%%%\n",
      "                         ########     %%%%%%%%%%%%%%\n",
      "                                     %%%%%%%%%%%\n",
      "\n",
      "                   | The OpenMC Monte Carlo Code\n",
      "         Copyright | 2011-2017 Massachusetts Institute of Technology\n",
      "           License | http://openmc.readthedocs.io/en/latest/license.html\n",
      "           Version | 0.8.0\n",
      "          Git SHA1 | cd7388e44781e7b0d8887b02af203fc1d679dd72\n",
      "         Date/Time | 2017-02-24 00:18:00\n",
      "     MPI Processes | 1\n",
      "\n",
      " ===========================================================================\n",
      " ========================>     INITIALIZATION     <=========================\n",
      " ===========================================================================\n",
      "\n",
      " Reading geometry XML file...\n",
      " Reading materials XML file...\n",
      " Reading cross sections XML file...\n",
      " Reading plot XML file...\n",
      " Building neighboring cells lists for each surface...\n",
      "\n",
      " =======================>     PLOTTING SUMMARY     <========================\n",
      "\n",
      " Plot ID:               10004\n",
      " Plot file:             plot.ppm\n",
      " Universe depth:        -1\n",
      " Plot Type:             Slice\n",
      " Origin:                1.26000 1.26000 0.0\n",
      " Width:                 3.78000 3.78000\n",
      " Coloring:              Materials\n",
      " Basis:                 xy\n",
      " Pixels:                400 400\n",
      "\n",
      " \n",
      " WARNING: Cell overlap checking is ON\n",
      " Processing plot 10004: plot.ppm ...\n"
     ]
    },
    {
     "data": {
      "text/plain": [
       "0"
      ]
     },
     "execution_count": 34,
     "metadata": {},
     "output_type": "execute_result"
    }
   ],
   "source": [
    "# Try a different outer universe to see what I mean\n",
    "lattice.outer = guide_tube\n",
    "\n",
    "g.export_to_xml()\n",
    "\n",
    "openmc.plot_geometry()"
   ]
  },
  {
   "cell_type": "code",
   "execution_count": 35,
   "metadata": {
    "collapsed": false
   },
   "outputs": [
    {
     "data": {
      "image/png": "[encoded data removed]",
      "text/plain": [
       "<IPython.core.display.Image object>"
      ]
     },
     "execution_count": 35,
     "metadata": {},
     "output_type": "execute_result"
    }
   ],
   "source": [
    "!convert plot.ppm plot.png\n",
    "Image(\"plot.png\")"
   ]
  },
  {
   "cell_type": "markdown",
   "metadata": {},
   "source": [
    "## The BEAVRS assembly"
   ]
  },
  {
   "cell_type": "code",
   "execution_count": 36,
   "metadata": {
    "collapsed": false
   },
   "outputs": [
    {
     "data": {
      "image/png": "[encoded data removed]",
      "text/plain": [
       "<IPython.core.display.Image object>"
      ]
     },
     "execution_count": 36,
     "metadata": {},
     "output_type": "execute_result"
    }
   ],
   "source": [
    "Image('assembly_diagram.png')"
   ]
  },
  {
   "cell_type": "code",
   "execution_count": 37,
   "metadata": {
    "collapsed": false
   },
   "outputs": [],
   "source": [
    "lattice = openmc.RectLattice()\n",
    "\n",
    "lattice.dimension = [9, 9]\n",
    "lattice.pitch = [pitch]*2\n",
    "lattice.outer = all_water\n",
    "\n",
    "# I want (x0, y0) = (0, 0) to be the center of the instrument tube so that means\n",
    "# the lower-left will be -half a pin pitch in x and y.\n",
    "lattice.lower_left = [-pitch/2.0]*2\n",
    "\n",
    "# Most of the lattice positions are fuel pins so rather than type all of those\n",
    "# out, I will use a Python list comprehension to start with a 9x9 array of fuel.\n",
    "lattice.universes = [[fuel_pin for i in range(9)] for j in range(9)]\n",
    "\n",
    "# Then I will replace some fuel pins with guide tubes.  First index is the row,\n",
    "# starting from the top, and the second is the column (like a matrix).\n",
    "lattice.universes[2][0] = guide_tube\n",
    "lattice.universes[2][3] = guide_tube\n",
    "lattice.universes[5][0] = guide_tube\n",
    "lattice.universes[5][3] = guide_tube\n",
    "lattice.universes[5][6] = guide_tube\n",
    "lattice.universes[8][0] = guide_tube\n",
    "lattice.universes[8][3] = guide_tube\n",
    "lattice.universes[8][6] = guide_tube\n",
    "\n",
    "# And the burnable poison rod.\n",
    "lattice.universes[3][5] = burn"
   ]
  },
  {
   "cell_type": "markdown",
   "metadata": {},
   "source": [
    "Now we just have to add the boundary conditions and root universe to finish the geometry."
   ]
  },
  {
   "cell_type": "code",
   "execution_count": 38,
   "metadata": {
    "collapsed": false
   },
   "outputs": [],
   "source": [
    "height = 100 # Finite height is not strictly necessary but may avoid floating-point errors\n",
    "assembly_pitch = 21.5\n",
    "x0 = openmc.XPlane(x0=0.0, boundary_type='reflective')\n",
    "x1 = openmc.XPlane(x0=assembly_pitch/2.0, boundary_type='reflective')\n",
    "y0 = openmc.YPlane(y0=0.0, boundary_type='reflective')\n",
    "y1 = openmc.YPlane(y0=assembly_pitch/2.0, boundary_type='reflective')\n",
    "z0 = openmc.ZPlane(z0=-height/2.0, boundary_type='reflective')\n",
    "z1 = openmc.ZPlane(z0=height/2.0, boundary_type='reflective')\n",
    "\n",
    "main = openmc.Cell()\n",
    "main.region = +x0 & -x1 & +y0 & -y1 & +z0 & -z1\n",
    "main.fill = lattice"
   ]
  },
  {
   "cell_type": "code",
   "execution_count": 39,
   "metadata": {
    "collapsed": true
   },
   "outputs": [],
   "source": [
    "root = openmc.Universe(0)\n",
    "root.add_cell(main)\n",
    "\n",
    "g = openmc.Geometry()\n",
    "g.root_universe = root\n",
    "g.export_to_xml()"
   ]
  },
  {
   "cell_type": "code",
   "execution_count": 41,
   "metadata": {
    "collapsed": false
   },
   "outputs": [],
   "source": [
    "p = openmc.Plot()\n",
    "p.origin = (0.25*assembly_pitch, 0.25*assembly_pitch, 0)\n",
    "p.width = (0.55*assembly_pitch, 0.55*assembly_pitch)\n",
    "p.pixels = (700, 700)\n",
    "p.color = 'mat'\n",
    "p.col_spec = col_spec\n",
    "\n",
    "plots = openmc.Plots([p])\n",
    "plots.export_to_xml()"
   ]
  },
  {
   "cell_type": "code",
   "execution_count": 42,
   "metadata": {
    "collapsed": false
   },
   "outputs": [
    {
     "name": "stdout",
     "output_type": "stream",
     "text": [
      "\n",
      "                               %%%%%%%%%%%%%%%\n",
      "                          %%%%%%%%%%%%%%%%%%%%%%%%\n",
      "                       %%%%%%%%%%%%%%%%%%%%%%%%%%%%%%\n",
      "                     %%%%%%%%%%%%%%%%%%%%%%%%%%%%%%%%%%\n",
      "                   %%%%%%%%%%%%%%%%%%%%%%%%%%%%%%%%%%%%%%\n",
      "                  %%%%%%%%%%%%%%%%%%%%%%%%%%%%%%%%%%%%%%%%\n",
      "                                   %%%%%%%%%%%%%%%%%%%%%%%%\n",
      "                                    %%%%%%%%%%%%%%%%%%%%%%%%\n",
      "                ###############      %%%%%%%%%%%%%%%%%%%%%%%%\n",
      "               ##################     %%%%%%%%%%%%%%%%%%%%%%%\n",
      "               ###################     %%%%%%%%%%%%%%%%%%%%%%%\n",
      "               ####################     %%%%%%%%%%%%%%%%%%%%%%\n",
      "               #####################     %%%%%%%%%%%%%%%%%%%%%\n",
      "               ######################     %%%%%%%%%%%%%%%%%%%%\n",
      "               #######################     %%%%%%%%%%%%%%%%%%\n",
      "                #######################     %%%%%%%%%%%%%%%%%\n",
      "                ######################     %%%%%%%%%%%%%%%%%\n",
      "                 ####################     %%%%%%%%%%%%%%%%%\n",
      "                   #################     %%%%%%%%%%%%%%%%%\n",
      "                    ###############     %%%%%%%%%%%%%%%%\n",
      "                      ############     %%%%%%%%%%%%%%%\n",
      "                         ########     %%%%%%%%%%%%%%\n",
      "                                     %%%%%%%%%%%\n",
      "\n",
      "                   | The OpenMC Monte Carlo Code\n",
      "         Copyright | 2011-2017 Massachusetts Institute of Technology\n",
      "           License | http://openmc.readthedocs.io/en/latest/license.html\n",
      "           Version | 0.8.0\n",
      "          Git SHA1 | cd7388e44781e7b0d8887b02af203fc1d679dd72\n",
      "         Date/Time | 2017-02-24 00:19:22\n",
      "     MPI Processes | 1\n",
      "\n",
      " ===========================================================================\n",
      " ========================>     INITIALIZATION     <=========================\n",
      " ===========================================================================\n",
      "\n",
      " Reading geometry XML file...\n",
      " Reading materials XML file...\n",
      " Reading cross sections XML file...\n",
      " Reading plot XML file...\n",
      " Building neighboring cells lists for each surface...\n",
      "\n",
      " =======================>     PLOTTING SUMMARY     <========================\n",
      "\n",
      " Plot ID:               10006\n",
      " Plot file:             plot.ppm\n",
      " Universe depth:        -1\n",
      " Plot Type:             Slice\n",
      " Origin:                5.37500 5.37500 0.0\n",
      " Width:                 11.8250 11.8250\n",
      " Coloring:              Materials\n",
      " Basis:                 xy\n",
      " Pixels:                700 700\n",
      "\n",
      " \n",
      " WARNING: Cell overlap checking is ON\n",
      " Processing plot 10006: plot.ppm ...\n"
     ]
    },
    {
     "data": {
      "text/plain": [
       "0"
      ]
     },
     "execution_count": 42,
     "metadata": {},
     "output_type": "execute_result"
    }
   ],
   "source": [
    "openmc.plot_geometry()"
   ]
  },
  {
   "cell_type": "code",
   "execution_count": 43,
   "metadata": {
    "collapsed": false
   },
   "outputs": [
    {
     "data": {
      "image/png": "[encoded data removed]",
      "text/plain": [
       "<IPython.core.display.Image object>"
      ]
     },
     "execution_count": 43,
     "metadata": {},
     "output_type": "execute_result"
    }
   ],
   "source": [
    "!convert plot.ppm plot.png\n",
    "Image(\"plot.png\")"
   ]
  },
  {
   "cell_type": "code",
   "execution_count": 44,
   "metadata": {
    "collapsed": false
   },
   "outputs": [],
   "source": [
    "settings = openmc.Settings()\n",
    "settings.source = openmc.Source(space=openmc.stats.Box((0.1, 0.1, 0), (0.49*assembly_pitch, 0.49*assembly_pitch, 0)))\n",
    "settings.batches = 50\n",
    "settings.inactive = 10\n",
    "settings.particles = 1000\n",
    "settings.export_to_xml()"
   ]
  },
  {
   "cell_type": "code",
   "execution_count": 45,
   "metadata": {
    "collapsed": false,
    "scrolled": true
   },
   "outputs": [
    {
     "name": "stdout",
     "output_type": "stream",
     "text": [
      "\n",
      "                               %%%%%%%%%%%%%%%\n",
      "                          %%%%%%%%%%%%%%%%%%%%%%%%\n",
      "                       %%%%%%%%%%%%%%%%%%%%%%%%%%%%%%\n",
      "                     %%%%%%%%%%%%%%%%%%%%%%%%%%%%%%%%%%\n",
      "                   %%%%%%%%%%%%%%%%%%%%%%%%%%%%%%%%%%%%%%\n",
      "                  %%%%%%%%%%%%%%%%%%%%%%%%%%%%%%%%%%%%%%%%\n",
      "                                   %%%%%%%%%%%%%%%%%%%%%%%%\n",
      "                                    %%%%%%%%%%%%%%%%%%%%%%%%\n",
      "                ###############      %%%%%%%%%%%%%%%%%%%%%%%%\n",
      "               ##################     %%%%%%%%%%%%%%%%%%%%%%%\n",
      "               ###################     %%%%%%%%%%%%%%%%%%%%%%%\n",
      "               ####################     %%%%%%%%%%%%%%%%%%%%%%\n",
      "               #####################     %%%%%%%%%%%%%%%%%%%%%\n",
      "               ######################     %%%%%%%%%%%%%%%%%%%%\n",
      "               #######################     %%%%%%%%%%%%%%%%%%\n",
      "                #######################     %%%%%%%%%%%%%%%%%\n",
      "                ######################     %%%%%%%%%%%%%%%%%\n",
      "                 ####################     %%%%%%%%%%%%%%%%%\n",
      "                   #################     %%%%%%%%%%%%%%%%%\n",
      "                    ###############     %%%%%%%%%%%%%%%%\n",
      "                      ############     %%%%%%%%%%%%%%%\n",
      "                         ########     %%%%%%%%%%%%%%\n",
      "                                     %%%%%%%%%%%\n",
      "\n",
      "                   | The OpenMC Monte Carlo Code\n",
      "         Copyright | 2011-2017 Massachusetts Institute of Technology\n",
      "           License | http://openmc.readthedocs.io/en/latest/license.html\n",
      "           Version | 0.8.0\n",
      "          Git SHA1 | cd7388e44781e7b0d8887b02af203fc1d679dd72\n",
      "         Date/Time | 2017-02-24 00:19:33\n",
      "     MPI Processes | 1\n",
      "\n",
      " ===========================================================================\n",
      " ========================>     INITIALIZATION     <=========================\n",
      " ===========================================================================\n",
      "\n",
      " Reading settings XML file...\n",
      " Reading geometry XML file...\n",
      " Reading materials XML file...\n",
      " Reading cross sections XML file...\n",
      " Reading O16 from /home/smharper/openmc/data/nndc_hdf5/O16.h5\n",
      " Reading U234 from /home/smharper/openmc/data/nndc_hdf5/U234.h5\n",
      " Reading U235 from /home/smharper/openmc/data/nndc_hdf5/U235.h5\n",
      " Reading U238 from /home/smharper/openmc/data/nndc_hdf5/U238.h5\n",
      " Reading Zr90 from /home/smharper/openmc/data/nndc_hdf5/Zr90.h5\n",
      " Reading Zr91 from /home/smharper/openmc/data/nndc_hdf5/Zr91.h5\n",
      " Reading Zr92 from /home/smharper/openmc/data/nndc_hdf5/Zr92.h5\n",
      " Reading Zr94 from /home/smharper/openmc/data/nndc_hdf5/Zr94.h5\n",
      " Reading Zr96 from /home/smharper/openmc/data/nndc_hdf5/Zr96.h5\n",
      " Reading H1 from /home/smharper/openmc/data/nndc_hdf5/H1.h5\n",
      " Reading B10 from /home/smharper/openmc/data/nndc_hdf5/B10.h5\n",
      " Reading B11 from /home/smharper/openmc/data/nndc_hdf5/B11.h5\n",
      " Reading O17 from /home/smharper/openmc/data/nndc_hdf5/O17.h5\n",
      " Reading Al27 from /home/smharper/openmc/data/nndc_hdf5/Al27.h5\n",
      " Reading Si28 from /home/smharper/openmc/data/nndc_hdf5/Si28.h5\n",
      " Reading Si29 from /home/smharper/openmc/data/nndc_hdf5/Si29.h5\n",
      " Reading Si30 from /home/smharper/openmc/data/nndc_hdf5/Si30.h5\n",
      " Reading c_H_in_H2O from /home/smharper/openmc/data/nndc_hdf5/c_H_in_H2O.h5\n",
      " Maximum neutron transport energy: 2.00000E+07 eV for U235\n",
      " Building neighboring cells lists for each surface...\n",
      " Initializing source particles...\n",
      "\n",
      " ===========================================================================\n",
      " ====================>     K EIGENVALUE SIMULATION     <====================\n",
      " ===========================================================================\n",
      "\n",
      "  Bat./Gen.      k            Average k         \n",
      "  =========   ========   ====================   \n",
      "        1/1    1.39150                       \n",
      "        2/1    1.42741                       \n",
      "        3/1    1.30723                       \n",
      "        4/1    1.26275                       \n",
      "        5/1    1.29746                       \n",
      "        6/1    1.36328                       \n",
      "        7/1    1.38112                       \n",
      "        8/1    1.33783                       \n",
      "        9/1    1.40799                       \n",
      "       10/1    1.30379                       \n",
      "       11/1    1.29942                       \n",
      "       12/1    1.33206    1.31574 +/- 0.01632\n",
      "       13/1    1.26399    1.29849 +/- 0.01965\n",
      "       14/1    1.37273    1.31705 +/- 0.02319\n",
      "       15/1    1.35494    1.32463 +/- 0.01949\n",
      "       16/1    1.39200    1.33586 +/- 0.01948\n",
      "       17/1    1.36558    1.34010 +/- 0.01700\n",
      "       18/1    1.27390    1.33183 +/- 0.01689\n",
      "       19/1    1.42251    1.34190 +/- 0.01798\n",
      "       20/1    1.33578    1.34129 +/- 0.01610\n",
      "       21/1    1.30080    1.33761 +/- 0.01502\n",
      "       22/1    1.39992    1.34280 +/- 0.01466\n",
      "       23/1    1.34123    1.34268 +/- 0.01349\n",
      "       24/1    1.29595    1.33934 +/- 0.01292\n",
      "       25/1    1.26242    1.33422 +/- 0.01308\n",
      "       26/1    1.34435    1.33485 +/- 0.01225\n",
      "       27/1    1.39243    1.33824 +/- 0.01200\n",
      "       28/1    1.37614    1.34034 +/- 0.01150\n",
      "       29/1    1.31335    1.33892 +/- 0.01097\n",
      "       30/1    1.32504    1.33823 +/- 0.01043\n",
      "       31/1    1.30115    1.33646 +/- 0.01008\n",
      "       32/1    1.29207    1.33444 +/- 0.00982\n",
      "       33/1    1.27407    1.33182 +/- 0.00974\n",
      "       34/1    1.27539    1.32947 +/- 0.00962\n",
      "       35/1    1.34847    1.33023 +/- 0.00926\n",
      "       36/1    1.15813    1.32361 +/- 0.01109\n",
      "       37/1    1.32629    1.32371 +/- 0.01067\n",
      "       38/1    1.40972    1.32678 +/- 0.01073\n",
      "       39/1    1.32624    1.32676 +/- 0.01035\n",
      "       40/1    1.29822    1.32581 +/- 0.01005\n",
      "       41/1    1.38832    1.32783 +/- 0.00993\n",
      "       42/1    1.40177    1.33014 +/- 0.00988\n",
      "       43/1    1.38811    1.33189 +/- 0.00974\n",
      "       44/1    1.32360    1.33165 +/- 0.00945\n",
      "       45/1    1.30348    1.33084 +/- 0.00921\n",
      "       46/1    1.33984    1.33109 +/- 0.00896\n",
      "       47/1    1.29771    1.33019 +/- 0.00876\n",
      "       48/1    1.31550    1.32981 +/- 0.00853\n",
      "       49/1    1.40453    1.33172 +/- 0.00853\n",
      "       50/1    1.33700    1.33185 +/- 0.00832\n",
      " Creating state point statepoint.50.h5...\n",
      "\n",
      " ===========================================================================\n",
      " ======================>     SIMULATION FINISHED     <======================\n",
      " ===========================================================================\n",
      "\n",
      "\n",
      " =======================>     TIMING STATISTICS     <=======================\n",
      "\n",
      " Total time for initialization     =  1.9448E+00 seconds\n",
      "   Reading cross sections          =  1.7909E+00 seconds\n",
      " Total time in simulation          =  7.6273E+00 seconds\n",
      "   Time in transport only          =  7.6195E+00 seconds\n",
      "   Time in inactive batches        =  1.4928E+00 seconds\n",
      "   Time in active batches          =  6.1345E+00 seconds\n",
      "   Time synchronizing fission bank =  2.2626E-03 seconds\n",
      "     Sampling source sites         =  1.2405E-03 seconds\n",
      "     SEND/RECV source sites        =  5.2774E-04 seconds\n",
      "   Time accumulating tallies       =  1.5153E-04 seconds\n",
      " Total time for finalization       =  7.9900E-07 seconds\n",
      " Total time elapsed                =  9.5801E+00 seconds\n",
      " Calculation Rate (inactive)       =  6698.69 neutrons/second\n",
      " Calculation Rate (active)         =  6520.50 neutrons/second\n",
      "\n",
      " ============================>     RESULTS     <============================\n",
      "\n",
      " k-effective (Collision)     =  1.33248 +/-  0.00624\n",
      " k-effective (Track-length)  =  1.33185 +/-  0.00832\n",
      " k-effective (Absorption)    =  1.33343 +/-  0.00553\n",
      " Combined k-effective        =  1.33305 +/-  0.00504\n",
      " Leakage Fraction            =  0.00000 +/-  0.00000\n",
      "\n"
     ]
    },
    {
     "data": {
      "text/plain": [
       "0"
      ]
     },
     "execution_count": 45,
     "metadata": {},
     "output_type": "execute_result"
    }
   ],
   "source": [
    "openmc.run()"
   ]
  },
  {
   "cell_type": "markdown",
   "metadata": {},
   "source": [
    "## Tallies\n",
    "\n",
    "Okay, that was cool, but $k_\\text{eff}$ isn't everyting.  We also want to know reaction rates so we can compute the power distribution, depletion rate, etc.  If we want pin-by-pin reaction rates, we have two options.  First, we can use a tally mesh.  This will lay a rectangular grid over the geometry and tally the reaction rates in each mesh bin."
   ]
  },
  {
   "cell_type": "code",
   "execution_count": 46,
   "metadata": {
    "collapsed": false
   },
   "outputs": [],
   "source": [
    "tallies = openmc.Tallies()\n",
    "\n",
    "mesh = openmc.Mesh()\n",
    "#mesh.dimension = lattice.dimension # Could set dimension from the lattice\n",
    "mesh.dimension = [3, 3] # But we will use 3x3 for this example\n",
    "mesh.lower_left = lattice.lower_left\n",
    "mesh.width = lattice.pitch\n",
    "\n",
    "mesh_filt = openmc.MeshFilter(mesh)\n",
    "\n",
    "t = openmc.Tally(1)\n",
    "t.filters = [mesh_filt]\n",
    "t.scores = ['total', 'fission']\n",
    "t.nuclides = ['total', 'U235']\n",
    "tallies.append(t)"
   ]
  },
  {
   "cell_type": "markdown",
   "metadata": {},
   "source": [
    "Or we can use something called a \"distribcell\" filter.  Note that the bin specifies a cell id."
   ]
  },
  {
   "cell_type": "code",
   "execution_count": 47,
   "metadata": {
    "collapsed": false
   },
   "outputs": [],
   "source": [
    "dist_filt = openmc.DistribcellFilter(fuel.id)\n",
    "t = openmc.Tally(2)\n",
    "t.filters = [dist_filt]\n",
    "t.scores = ['total', 'fission']\n",
    "t.nuclides = ['total', 'U235']\n",
    "tallies.append(t)\n",
    "\n",
    "tallies.export_to_xml()"
   ]
  },
  {
   "cell_type": "code",
   "execution_count": 48,
   "metadata": {
    "collapsed": false,
    "scrolled": true
   },
   "outputs": [
    {
     "name": "stdout",
     "output_type": "stream",
     "text": [
      "\n",
      "                               %%%%%%%%%%%%%%%\n",
      "                          %%%%%%%%%%%%%%%%%%%%%%%%\n",
      "                       %%%%%%%%%%%%%%%%%%%%%%%%%%%%%%\n",
      "                     %%%%%%%%%%%%%%%%%%%%%%%%%%%%%%%%%%\n",
      "                   %%%%%%%%%%%%%%%%%%%%%%%%%%%%%%%%%%%%%%\n",
      "                  %%%%%%%%%%%%%%%%%%%%%%%%%%%%%%%%%%%%%%%%\n",
      "                                   %%%%%%%%%%%%%%%%%%%%%%%%\n",
      "                                    %%%%%%%%%%%%%%%%%%%%%%%%\n",
      "                ###############      %%%%%%%%%%%%%%%%%%%%%%%%\n",
      "               ##################     %%%%%%%%%%%%%%%%%%%%%%%\n",
      "               ###################     %%%%%%%%%%%%%%%%%%%%%%%\n",
      "               ####################     %%%%%%%%%%%%%%%%%%%%%%\n",
      "               #####################     %%%%%%%%%%%%%%%%%%%%%\n",
      "               ######################     %%%%%%%%%%%%%%%%%%%%\n",
      "               #######################     %%%%%%%%%%%%%%%%%%\n",
      "                #######################     %%%%%%%%%%%%%%%%%\n",
      "                ######################     %%%%%%%%%%%%%%%%%\n",
      "                 ####################     %%%%%%%%%%%%%%%%%\n",
      "                   #################     %%%%%%%%%%%%%%%%%\n",
      "                    ###############     %%%%%%%%%%%%%%%%\n",
      "                      ############     %%%%%%%%%%%%%%%\n",
      "                         ########     %%%%%%%%%%%%%%\n",
      "                                     %%%%%%%%%%%\n",
      "\n",
      "                   | The OpenMC Monte Carlo Code\n",
      "         Copyright | 2011-2017 Massachusetts Institute of Technology\n",
      "           License | http://openmc.readthedocs.io/en/latest/license.html\n",
      "           Version | 0.8.0\n",
      "          Git SHA1 | cd7388e44781e7b0d8887b02af203fc1d679dd72\n",
      "         Date/Time | 2017-02-24 00:21:17\n",
      "     MPI Processes | 1\n",
      "\n",
      " ===========================================================================\n",
      " ========================>     INITIALIZATION     <=========================\n",
      " ===========================================================================\n",
      "\n",
      " Reading settings XML file...\n",
      " Reading geometry XML file...\n",
      " Reading materials XML file...\n",
      " Reading cross sections XML file...\n",
      " Reading O16 from /home/smharper/openmc/data/nndc_hdf5/O16.h5\n",
      " Reading U234 from /home/smharper/openmc/data/nndc_hdf5/U234.h5\n",
      " Reading U235 from /home/smharper/openmc/data/nndc_hdf5/U235.h5\n",
      " Reading U238 from /home/smharper/openmc/data/nndc_hdf5/U238.h5\n",
      " Reading Zr90 from /home/smharper/openmc/data/nndc_hdf5/Zr90.h5\n",
      " Reading Zr91 from /home/smharper/openmc/data/nndc_hdf5/Zr91.h5\n",
      " Reading Zr92 from /home/smharper/openmc/data/nndc_hdf5/Zr92.h5\n",
      " Reading Zr94 from /home/smharper/openmc/data/nndc_hdf5/Zr94.h5\n",
      " Reading Zr96 from /home/smharper/openmc/data/nndc_hdf5/Zr96.h5\n",
      " Reading H1 from /home/smharper/openmc/data/nndc_hdf5/H1.h5\n",
      " Reading B10 from /home/smharper/openmc/data/nndc_hdf5/B10.h5\n",
      " Reading B11 from /home/smharper/openmc/data/nndc_hdf5/B11.h5\n",
      " Reading O17 from /home/smharper/openmc/data/nndc_hdf5/O17.h5\n",
      " Reading Al27 from /home/smharper/openmc/data/nndc_hdf5/Al27.h5\n",
      " Reading Si28 from /home/smharper/openmc/data/nndc_hdf5/Si28.h5\n",
      " Reading Si29 from /home/smharper/openmc/data/nndc_hdf5/Si29.h5\n",
      " Reading Si30 from /home/smharper/openmc/data/nndc_hdf5/Si30.h5\n",
      " Reading c_H_in_H2O from /home/smharper/openmc/data/nndc_hdf5/c_H_in_H2O.h5\n",
      " Maximum neutron transport energy: 2.00000E+07 eV for U235\n",
      " Reading tallies XML file...\n",
      " Building neighboring cells lists for each surface...\n",
      " Initializing source particles...\n",
      "\n",
      " ===========================================================================\n",
      " ====================>     K EIGENVALUE SIMULATION     <====================\n",
      " ===========================================================================\n",
      "\n",
      "  Bat./Gen.      k            Average k         \n",
      "  =========   ========   ====================   \n",
      "        1/1    1.39150                       \n",
      "        2/1    1.42741                       \n",
      "        3/1    1.30723                       \n",
      "        4/1    1.26275                       \n",
      "        5/1    1.29746                       \n",
      "        6/1    1.36328                       \n",
      "        7/1    1.38112                       \n",
      "        8/1    1.33783                       \n",
      "        9/1    1.40799                       \n",
      "       10/1    1.30379                       \n",
      "       11/1    1.29942                       \n",
      "       12/1    1.33206    1.31574 +/- 0.01632\n",
      "       13/1    1.26399    1.29849 +/- 0.01965\n",
      "       14/1    1.37273    1.31705 +/- 0.02319\n",
      "       15/1    1.35494    1.32463 +/- 0.01949\n",
      "       16/1    1.39200    1.33586 +/- 0.01948\n",
      "       17/1    1.36558    1.34010 +/- 0.01700\n",
      "       18/1    1.27390    1.33183 +/- 0.01689\n",
      "       19/1    1.42251    1.34190 +/- 0.01798\n",
      "       20/1    1.33578    1.34129 +/- 0.01610\n",
      "       21/1    1.30080    1.33761 +/- 0.01502\n",
      "       22/1    1.39992    1.34280 +/- 0.01466\n",
      "       23/1    1.34123    1.34268 +/- 0.01349\n",
      "       24/1    1.29595    1.33934 +/- 0.01292\n",
      "       25/1    1.26242    1.33422 +/- 0.01308\n",
      "       26/1    1.34435    1.33485 +/- 0.01225\n",
      "       27/1    1.39243    1.33824 +/- 0.01200\n",
      "       28/1    1.37614    1.34034 +/- 0.01150\n",
      "       29/1    1.31335    1.33892 +/- 0.01097\n",
      "       30/1    1.32504    1.33823 +/- 0.01043\n",
      "       31/1    1.30115    1.33646 +/- 0.01008\n",
      "       32/1    1.29207    1.33444 +/- 0.00982\n",
      "       33/1    1.27407    1.33182 +/- 0.00974\n",
      "       34/1    1.27539    1.32947 +/- 0.00962\n",
      "       35/1    1.34847    1.33023 +/- 0.00926\n",
      "       36/1    1.15813    1.32361 +/- 0.01109\n",
      "       37/1    1.32629    1.32371 +/- 0.01067\n",
      "       38/1    1.40972    1.32678 +/- 0.01073\n",
      "       39/1    1.32624    1.32676 +/- 0.01035\n",
      "       40/1    1.29822    1.32581 +/- 0.01005\n",
      "       41/1    1.38832    1.32783 +/- 0.00993\n",
      "       42/1    1.40177    1.33014 +/- 0.00988\n",
      "       43/1    1.38811    1.33189 +/- 0.00974\n",
      "       44/1    1.32360    1.33165 +/- 0.00945\n",
      "       45/1    1.30348    1.33084 +/- 0.00921\n",
      "       46/1    1.33984    1.33109 +/- 0.00896\n",
      "       47/1    1.29771    1.33019 +/- 0.00876\n",
      "       48/1    1.31550    1.32981 +/- 0.00853\n",
      "       49/1    1.40453    1.33172 +/- 0.00853\n",
      "       50/1    1.33700    1.33185 +/- 0.00832\n",
      " Creating state point statepoint.50.h5...\n",
      "\n",
      " ===========================================================================\n",
      " ======================>     SIMULATION FINISHED     <======================\n",
      " ===========================================================================\n",
      "\n",
      "\n",
      " =======================>     TIMING STATISTICS     <=======================\n",
      "\n",
      " Total time for initialization     =  1.0621E+00 seconds\n",
      "   Reading cross sections          =  9.0917E-01 seconds\n",
      " Total time in simulation          =  9.9234E+00 seconds\n",
      "   Time in transport only          =  9.9135E+00 seconds\n",
      "   Time in inactive batches        =  1.6042E+00 seconds\n",
      "   Time in active batches          =  8.3192E+00 seconds\n",
      "   Time synchronizing fission bank =  2.1778E-03 seconds\n",
      "     Sampling source sites         =  1.1607E-03 seconds\n",
      "     SEND/RECV source sites        =  5.4397E-04 seconds\n",
      "   Time accumulating tallies       =  5.1408E-04 seconds\n",
      " Total time for finalization       =  1.8861E-02 seconds\n",
      " Total time elapsed                =  1.1012E+01 seconds\n",
      " Calculation Rate (inactive)       =  6233.46 neutrons/second\n",
      " Calculation Rate (active)         =  4808.16 neutrons/second\n",
      "\n",
      " ============================>     RESULTS     <============================\n",
      "\n",
      " k-effective (Collision)     =  1.33248 +/-  0.00624\n",
      " k-effective (Track-length)  =  1.33185 +/-  0.00832\n",
      " k-effective (Absorption)    =  1.33343 +/-  0.00553\n",
      " Combined k-effective        =  1.33305 +/-  0.00504\n",
      " Leakage Fraction            =  0.00000 +/-  0.00000\n",
      "\n"
     ]
    },
    {
     "data": {
      "text/plain": [
       "0"
      ]
     },
     "execution_count": 48,
     "metadata": {},
     "output_type": "execute_result"
    }
   ],
   "source": [
    "openmc.run()"
   ]
  },
  {
   "cell_type": "code",
   "execution_count": 49,
   "metadata": {
    "collapsed": false,
    "scrolled": true
   },
   "outputs": [
    {
     "name": "stdout",
     "output_type": "stream",
     "text": [
      "\r\n",
      " ============================>     TALLY 1     <============================\r\n",
      "\r\n",
      " Mesh Index (1, 1)\r\n",
      "   Total Material\r\n",
      "     Total Reaction Rate                  0.146765       +/- 4.36898E-03\r\n",
      "     Fission Rate                         0.0            +/- 0.0\r\n",
      "   U235\r\n",
      "     Total Reaction Rate                  0.0            +/- 0.0\r\n",
      "     Fission Rate                         0.0            +/- 0.0\r\n",
      " Mesh Index (2, 1)\r\n",
      "   Total Material\r\n",
      "     Total Reaction Rate                  0.220896       +/- 4.28518E-03\r\n",
      "     Fission Rate                         4.62350E-03    +/- 2.45396E-04\r\n",
      "   U235\r\n",
      "     Total Reaction Rate                  5.94156E-03    +/- 2.94262E-04\r\n",
      "     Fission Rate                         4.41519E-03    +/- 2.45582E-04\r\n",
      " Mesh Index (3, 1)\r\n",
      "   Total Material\r\n",
      "     Total Reaction Rate                  0.217349       +/- 3.27845E-03\r\n",
      "     Fission Rate                         4.37458E-03    +/- 1.82293E-04\r\n",
      "   U235\r\n",
      "     Total Reaction Rate                  5.66976E-03    +/- 2.19543E-04\r\n",
      "     Fission Rate                         4.17976E-03    +/- 1.83485E-04\r\n",
      " Mesh Index (1, 2)\r\n",
      "   Total Material\r\n",
      "     Total Reaction Rate                  0.224525       +/- 4.24108E-03\r\n",
      "     Fission Rate                         4.51153E-03    +/- 1.75867E-04\r\n",
      "   U235\r\n",
      "     Total Reaction Rate                  5.83492E-03    +/- 2.15984E-04\r\n",
      "     Fission Rate                         4.31467E-03    +/- 1.75954E-04\r\n",
      " Mesh Index (2, 2)\r\n",
      "   Total Material\r\n",
      "     Total Reaction Rate                  0.429872       +/- 5.68740E-03\r\n",
      "     Fission Rate                         8.73064E-03    +/- 2.52550E-04\r\n",
      "   U235\r\n",
      "     Total Reaction Rate                  1.13072E-02    +/- 3.07713E-04\r\n",
      "     Fission Rate                         8.32369E-03    +/- 2.53520E-04\r\n",
      " Mesh Index (3, 2)\r\n",
      "   Total Material\r\n",
      "     Total Reaction Rate                  0.431985       +/- 5.54491E-03\r\n",
      "     Fission Rate                         8.51117E-03    +/- 2.55068E-04\r\n",
      "   U235\r\n",
      "     Total Reaction Rate                  1.10837E-02    +/- 3.05315E-04\r\n",
      "     Fission Rate                         8.10118E-03    +/- 2.54426E-04\r\n",
      " Mesh Index (1, 3)\r\n",
      "   Total Material\r\n",
      "     Total Reaction Rate                  0.222162       +/- 4.52852E-03\r\n",
      "     Fission Rate                         4.73691E-03    +/- 2.47343E-04\r\n",
      "   U235\r\n",
      "     Total Reaction Rate                  6.09648E-03    +/- 2.99600E-04\r\n",
      "     Fission Rate                         4.53134E-03    +/- 2.46233E-04\r\n",
      " Mesh Index (2, 3)\r\n",
      "   Total Material\r\n",
      "     Total Reaction Rate                  0.441603       +/- 5.29704E-03\r\n",
      "     Fission Rate                         9.17839E-03    +/- 2.44342E-04\r\n",
      "   U235\r\n",
      "     Total Reaction Rate                  1.19153E-02    +/- 3.01782E-04\r\n",
      "     Fission Rate                         8.76947E-03    +/- 2.45605E-04\r\n",
      " Mesh Index (3, 3)\r\n",
      "   Total Material\r\n",
      "     Total Reaction Rate                  0.437462       +/- 4.92016E-03\r\n",
      "     Fission Rate                         8.70836E-03    +/- 2.34165E-04\r\n",
      "   U235\r\n",
      "     Total Reaction Rate                  1.13149E-02    +/- 2.83846E-04\r\n",
      "     Fission Rate                         8.30492E-03    +/- 2.33941E-04\r\n",
      "\r\n",
      " ============================>     TALLY 2     <============================\r\n",
      "\r\n",
      " Distributed Cell 0->10017->10006(1,2,1)->10000->1\r\n",
      "   Total Material\r\n",
      "     Total Reaction Rate                  4.43592E-02    +/- 9.61652E-04\r\n",
      "     Fission Rate                         4.51153E-03    +/- 1.75867E-04\r\n",
      "   U235\r\n",
      "     Total Reaction Rate                  5.83492E-03    +/- 2.15984E-04\r\n",
      "     Fission Rate                         4.31467E-03    +/- 1.75954E-04\r\n",
      " Distributed Cell 0->10017->10006(1,3,1)->10000->1\r\n",
      "   Total Material\r\n",
      "     Total Reaction Rate                  4.51544E-02    +/- 1.04246E-03\r\n",
      "     Fission Rate                         4.73691E-03    +/- 2.47343E-04\r\n",
      "   U235\r\n",
      "     Total Reaction Rate                  6.09648E-03    +/- 2.99600E-04\r\n",
      "     Fission Rate                         4.53134E-03    +/- 2.46233E-04\r\n",
      " Distributed Cell 0->10017->10006(1,5,1)->10000->1\r\n",
      "   Total Material\r\n",
      "     Total Reaction Rate                  4.54790E-02    +/- 8.86066E-04\r\n",
      "     Fission Rate                         4.71277E-03    +/- 2.19254E-04\r\n",
      "   U235\r\n",
      "     Total Reaction Rate                  6.09242E-03    +/- 2.61712E-04\r\n",
      "     Fission Rate                         4.51315E-03    +/- 2.19559E-04\r\n",
      " Distributed Cell 0->10017->10006(1,6,1)->10000->1\r\n",
      "   Total Material\r\n",
      "     Total Reaction Rate                  4.44946E-02    +/- 8.23047E-04\r\n",
      "     Fission Rate                         4.28786E-03    +/- 2.03570E-04\r\n",
      "   U235\r\n",
      "     Total Reaction Rate                  5.60430E-03    +/- 2.43655E-04\r\n",
      "     Fission Rate                         4.08284E-03    +/- 2.00869E-04\r\n",
      " Distributed Cell 0->10017->10006(1,8,1)->10000->1\r\n",
      "   Total Material\r\n",
      "     Total Reaction Rate                  4.28987E-02    +/- 7.72534E-04\r\n",
      "     Fission Rate                         4.05977E-03    +/- 1.87460E-04\r\n",
      "   U235\r\n",
      "     Total Reaction Rate                  5.33054E-03    +/- 2.31134E-04\r\n",
      "     Fission Rate                         3.85835E-03    +/- 1.86930E-04\r\n",
      " Distributed Cell 0->10017->10006(1,9,1)->10000->1\r\n",
      "   Total Material\r\n",
      "     Total Reaction Rate                  4.11670E-02    +/- 9.48729E-04\r\n",
      "     Fission Rate                         4.03208E-03    +/- 2.11887E-04\r\n",
      "   U235\r\n",
      "     Total Reaction Rate                  5.20697E-03    +/- 2.59167E-04\r\n",
      "     Fission Rate                         3.81318E-03    +/- 2.12924E-04\r\n",
      " Distributed Cell 0->10017->10006(2,1,1)->10000->1\r\n",
      "   Total Material\r\n",
      "     Total Reaction Rate                  4.46994E-02    +/- 8.46751E-04\r\n",
      "     Fission Rate                         4.62350E-03    +/- 2.45396E-04\r\n",
      "   U235\r\n",
      "     Total Reaction Rate                  5.94156E-03    +/- 2.94262E-04\r\n",
      "     Fission Rate                         4.41519E-03    +/- 2.45582E-04\r\n",
      " Distributed Cell 0->10017->10006(2,2,1)->10000->1\r\n",
      "   Total Material\r\n",
      "     Total Reaction Rate                  8.70714E-02    +/- 1.35989E-03\r\n",
      "     Fission Rate                         8.73064E-03    +/- 2.52550E-04\r\n",
      "   U235\r\n",
      "     Total Reaction Rate                  1.13072E-02    +/- 3.07713E-04\r\n",
      "     Fission Rate                         8.32369E-03    +/- 2.53520E-04\r\n",
      " Distributed Cell 0->10017->10006(2,3,1)->10000->1\r\n",
      "   Total Material\r\n",
      "     Total Reaction Rate                  9.10481E-02    +/- 1.27649E-03\r\n",
      "     Fission Rate                         9.17839E-03    +/- 2.44342E-04\r\n",
      "   U235\r\n",
      "     Total Reaction Rate                  1.19153E-02    +/- 3.01782E-04\r\n",
      "     Fission Rate                         8.76947E-03    +/- 2.45605E-04\r\n",
      " Distributed Cell 0->10017->10006(2,4,1)->10000->1\r\n",
      "   Total Material\r\n",
      "     Total Reaction Rate                  9.02097E-02    +/- 1.41498E-03\r\n",
      "     Fission Rate                         9.12102E-03    +/- 2.75129E-04\r\n",
      "   U235\r\n",
      "     Total Reaction Rate                  1.18591E-02    +/- 3.40118E-04\r\n",
      "     Fission Rate                         8.69531E-03    +/- 2.73360E-04\r\n",
      " Distributed Cell 0->10017->10006(2,5,1)->10000->1\r\n",
      "   Total Material\r\n",
      "     Total Reaction Rate                  8.76426E-02    +/- 1.45203E-03\r\n",
      "     Fission Rate                         8.60038E-03    +/- 3.26150E-04\r\n",
      "   U235\r\n",
      "     Total Reaction Rate                  1.11797E-02    +/- 3.95212E-04\r\n",
      "     Fission Rate                         8.19704E-03    +/- 3.23329E-04\r\n",
      " Distributed Cell 0->10017->10006(2,6,1)->10000->1\r\n",
      "   Total Material\r\n",
      "     Total Reaction Rate                  8.81695E-02    +/- 1.20462E-03\r\n",
      "     Fission Rate                         8.59439E-03    +/- 2.32209E-04\r\n",
      "   U235\r\n",
      "     Total Reaction Rate                  1.11751E-02    +/- 2.82485E-04\r\n",
      "     Fission Rate                         8.19268E-03    +/- 2.30804E-04\r\n",
      " Distributed Cell 0->10017->10006(2,7,1)->10000->1\r\n",
      "   Total Material\r\n",
      "     Total Reaction Rate                  8.57098E-02    +/- 1.09899E-03\r\n",
      "     Fission Rate                         8.38565E-03    +/- 2.99674E-04\r\n",
      "   U235\r\n",
      "     Total Reaction Rate                  1.09216E-02    +/- 3.59864E-04\r\n",
      "     Fission Rate                         7.98553E-03    +/- 2.99957E-04\r\n",
      " Distributed Cell 0->10017->10006(2,8,1)->10000->1\r\n",
      "   Total Material\r\n",
      "     Total Reaction Rate                  8.51675E-02    +/- 1.09388E-03\r\n",
      "     Fission Rate                         8.25352E-03    +/- 2.62902E-04\r\n",
      "   U235\r\n",
      "     Total Reaction Rate                  1.06964E-02    +/- 3.21904E-04\r\n",
      "     Fission Rate                         7.82115E-03    +/- 2.62369E-04\r\n",
      " Distributed Cell 0->10017->10006(2,9,1)->10000->1\r\n",
      "   Total Material\r\n",
      "     Total Reaction Rate                  8.20891E-02    +/- 1.26730E-03\r\n",
      "     Fission Rate                         7.62555E-03    +/- 2.54552E-04\r\n",
      "   U235\r\n",
      "     Total Reaction Rate                  9.97786E-03    +/- 3.08699E-04\r\n",
      "     Fission Rate                         7.21772E-03    +/- 2.54820E-04\r\n",
      " Distributed Cell 0->10017->10006(3,1,1)->10000->1\r\n",
      "   Total Material\r\n",
      "     Total Reaction Rate                  4.28388E-02    +/- 8.34437E-04\r\n",
      "     Fission Rate                         4.37458E-03    +/- 1.82293E-04\r\n",
      "   U235\r\n",
      "     Total Reaction Rate                  5.66976E-03    +/- 2.19543E-04\r\n",
      "     Fission Rate                         4.17976E-03    +/- 1.83485E-04\r\n",
      " Distributed Cell 0->10017->10006(3,2,1)->10000->1\r\n",
      "   Total Material\r\n",
      "     Total Reaction Rate                  8.58740E-02    +/- 1.21047E-03\r\n",
      "     Fission Rate                         8.51117E-03    +/- 2.55068E-04\r\n",
      "   U235\r\n",
      "     Total Reaction Rate                  1.10837E-02    +/- 3.05315E-04\r\n",
      "     Fission Rate                         8.10118E-03    +/- 2.54426E-04\r\n",
      " Distributed Cell 0->10017->10006(3,3,1)->10000->1\r\n",
      "   Total Material\r\n",
      "     Total Reaction Rate                  8.76467E-02    +/- 1.02450E-03\r\n",
      "     Fission Rate                         8.70836E-03    +/- 2.34165E-04\r\n",
      "   U235\r\n",
      "     Total Reaction Rate                  1.13149E-02    +/- 2.83846E-04\r\n",
      "     Fission Rate                         8.30492E-03    +/- 2.33941E-04\r\n",
      " Distributed Cell 0->10017->10006(3,4,1)->10000->1\r\n",
      "   Total Material\r\n",
      "     Total Reaction Rate                  8.66155E-02    +/- 1.41936E-03\r\n",
      "     Fission Rate                         8.36926E-03    +/- 2.71039E-04\r\n",
      "   U235\r\n",
      "     Total Reaction Rate                  1.08993E-02    +/- 3.39100E-04\r\n",
      "     Fission Rate                         7.96381E-03    +/- 2.70035E-04\r\n",
      " Distributed Cell 0->10017->10006(3,5,1)->10000->1\r\n",
      "   Total Material\r\n",
      "     Total Reaction Rate                  8.82409E-02    +/- 1.19714E-03\r\n",
      "     Fission Rate                         8.60923E-03    +/- 3.00556E-04\r\n",
      "   U235\r\n",
      "     Total Reaction Rate                  1.12135E-02    +/- 3.66887E-04\r\n",
      "     Fission Rate                         8.21107E-03    +/- 3.00309E-04\r\n",
      " Distributed Cell 0->10017->10006(3,6,1)->10000->1\r\n",
      "   Total Material\r\n",
      "     Total Reaction Rate                  8.51256E-02    +/- 1.22909E-03\r\n",
      "     Fission Rate                         8.29035E-03    +/- 2.97704E-04\r\n",
      "   U235\r\n",
      "     Total Reaction Rate                  1.07947E-02    +/- 3.62898E-04\r\n",
      "     Fission Rate                         7.88926E-03    +/- 2.97282E-04\r\n",
      " Distributed Cell 0->10017->10006(3,7,1)->10000->1\r\n",
      "   Total Material\r\n",
      "     Total Reaction Rate                  8.38611E-02    +/- 1.20547E-03\r\n",
      "     Fission Rate                         8.18324E-03    +/- 2.82291E-04\r\n",
      "   U235\r\n",
      "     Total Reaction Rate                  1.06105E-02    +/- 3.45342E-04\r\n",
      "     Fission Rate                         7.77196E-03    +/- 2.82192E-04\r\n",
      " Distributed Cell 0->10017->10006(3,8,1)->10000->1\r\n",
      "   Total Material\r\n",
      "     Total Reaction Rate                  8.37487E-02    +/- 1.07199E-03\r\n",
      "     Fission Rate                         7.90163E-03    +/- 2.36011E-04\r\n",
      "   U235\r\n",
      "     Total Reaction Rate                  1.03086E-02    +/- 2.88362E-04\r\n",
      "     Fission Rate                         7.49591E-03    +/- 2.35084E-04\r\n",
      " Distributed Cell 0->10017->10006(3,9,1)->10000->1\r\n",
      "   Total Material\r\n",
      "     Total Reaction Rate                  8.49640E-02    +/- 1.08290E-03\r\n",
      "     Fission Rate                         8.01500E-03    +/- 2.69301E-04\r\n",
      "   U235\r\n",
      "     Total Reaction Rate                  1.04552E-02    +/- 3.25453E-04\r\n",
      "     Fission Rate                         7.59933E-03    +/- 2.71939E-04\r\n",
      " Distributed Cell 0->10017->10006(4,2,1)->10000->1\r\n",
      "   Total Material\r\n",
      "     Total Reaction Rate                  8.77851E-02    +/- 1.15558E-03\r\n",
      "     Fission Rate                         9.29106E-03    +/- 2.62475E-04\r\n",
      "   U235\r\n",
      "     Total Reaction Rate                  1.19864E-02    +/- 3.21267E-04\r\n",
      "     Fission Rate                         8.88520E-03    +/- 2.63617E-04\r\n",
      " Distributed Cell 0->10017->10006(4,3,1)->10000->1\r\n",
      "   Total Material\r\n",
      "     Total Reaction Rate                  8.95020E-02    +/- 1.35615E-03\r\n",
      "     Fission Rate                         9.26821E-03    +/- 2.74120E-04\r\n",
      "   U235\r\n",
      "     Total Reaction Rate                  1.19752E-02    +/- 3.30678E-04\r\n",
      "     Fission Rate                         8.84254E-03    +/- 2.72131E-04\r\n",
      " Distributed Cell 0->10017->10006(4,5,1)->10000->1\r\n",
      "   Total Material\r\n",
      "     Total Reaction Rate                  8.95188E-02    +/- 1.24951E-03\r\n",
      "     Fission Rate                         9.16569E-03    +/- 2.87500E-04\r\n",
      "   U235\r\n",
      "     Total Reaction Rate                  1.18964E-02    +/- 3.44484E-04\r\n",
      "     Fission Rate                         8.76365E-03    +/- 2.85469E-04\r\n",
      " Distributed Cell 0->10017->10006(4,6,1)->10000->1\r\n",
      "   Total Material\r\n",
      "     Total Reaction Rate                  8.74316E-02    +/- 1.08335E-03\r\n",
      "     Fission Rate                         8.77506E-03    +/- 2.58720E-04\r\n",
      "   U235\r\n",
      "     Total Reaction Rate                  1.14280E-02    +/- 3.12283E-04\r\n",
      "     Fission Rate                         8.37478E-03    +/- 2.57192E-04\r\n",
      " Distributed Cell 0->10017->10006(4,8,1)->10000->1\r\n",
      "   Total Material\r\n",
      "     Total Reaction Rate                  8.33928E-02    +/- 1.23982E-03\r\n",
      "     Fission Rate                         8.00271E-03    +/- 2.74740E-04\r\n",
      "   U235\r\n",
      "     Total Reaction Rate                  1.04055E-02    +/- 3.38493E-04\r\n",
      "     Fission Rate                         7.59999E-03    +/- 2.76465E-04\r\n",
      " Distributed Cell 0->10017->10006(4,9,1)->10000->1\r\n",
      "   Total Material\r\n",
      "     Total Reaction Rate                  8.68512E-02    +/- 1.29791E-03\r\n",
      "     Fission Rate                         8.44098E-03    +/- 3.43650E-04\r\n",
      "   U235\r\n",
      "     Total Reaction Rate                  1.09702E-02    +/- 4.24280E-04\r\n",
      "     Fission Rate                         8.00563E-03    +/- 3.48388E-04\r\n",
      " Distributed Cell 0->10017->10006(5,1,1)->10000->1\r\n",
      "   Total Material\r\n",
      "     Total Reaction Rate                  4.26620E-02    +/- 8.65326E-04\r\n",
      "     Fission Rate                         4.52404E-03    +/- 1.82798E-04\r\n",
      "   U235\r\n",
      "     Total Reaction Rate                  5.85517E-03    +/- 2.26297E-04\r\n",
      "     Fission Rate                         4.32262E-03    +/- 1.83323E-04\r\n",
      " Distributed Cell 0->10017->10006(5,2,1)->10000->1\r\n",
      "   Total Material\r\n",
      "     Total Reaction Rate                  8.58392E-02    +/- 1.22790E-03\r\n",
      "     Fission Rate                         8.12779E-03    +/- 2.50707E-04\r\n",
      "   U235\r\n",
      "     Total Reaction Rate                  1.06095E-02    +/- 3.18348E-04\r\n",
      "     Fission Rate                         7.71638E-03    +/- 2.55531E-04\r\n",
      " Distributed Cell 0->10017->10006(5,3,1)->10000->1\r\n",
      "   Total Material\r\n",
      "     Total Reaction Rate                  8.69028E-02    +/- 1.20924E-03\r\n",
      "     Fission Rate                         8.51247E-03    +/- 2.58264E-04\r\n",
      "   U235\r\n",
      "     Total Reaction Rate                  1.10416E-02    +/- 3.14285E-04\r\n",
      "     Fission Rate                         8.09391E-03    +/- 2.60234E-04\r\n",
      " Distributed Cell 0->10017->10006(5,4,1)->10000->1\r\n",
      "   Total Material\r\n",
      "     Total Reaction Rate                  8.81983E-02    +/- 1.34648E-03\r\n",
      "     Fission Rate                         9.06158E-03    +/- 2.73170E-04\r\n",
      "   U235\r\n",
      "     Total Reaction Rate                  1.17348E-02    +/- 3.35717E-04\r\n",
      "     Fission Rate                         8.64169E-03    +/- 2.72850E-04\r\n",
      " Distributed Cell 0->10017->10006(5,5,1)->10000->1\r\n",
      "   Total Material\r\n",
      "     Total Reaction Rate                  8.48004E-02    +/- 1.42159E-03\r\n",
      "     Fission Rate                         8.39294E-03    +/- 2.58561E-04\r\n",
      "   U235\r\n",
      "     Total Reaction Rate                  1.09060E-02    +/- 3.13416E-04\r\n",
      "     Fission Rate                         7.98583E-03    +/- 2.56021E-04\r\n",
      " Distributed Cell 0->10017->10006(5,6,1)->10000->1\r\n",
      "   Total Material\r\n",
      "     Total Reaction Rate                  8.19792E-02    +/- 1.13216E-03\r\n",
      "     Fission Rate                         7.07882E-03    +/- 2.52410E-04\r\n",
      "   U235\r\n",
      "     Total Reaction Rate                  9.34743E-03    +/- 3.12538E-04\r\n",
      "     Fission Rate                         6.68692E-03    +/- 2.53638E-04\r\n",
      " Distributed Cell 0->10017->10006(5,7,1)->10000->1\r\n",
      "   Total Material\r\n",
      "     Total Reaction Rate                  8.52221E-02    +/- 1.07052E-03\r\n",
      "     Fission Rate                         7.92715E-03    +/- 2.55350E-04\r\n",
      "   U235\r\n",
      "     Total Reaction Rate                  1.03449E-02    +/- 3.05651E-04\r\n",
      "     Fission Rate                         7.51424E-03    +/- 2.52366E-04\r\n",
      " Distributed Cell 0->10017->10006(5,8,1)->10000->1\r\n",
      "   Total Material\r\n",
      "     Total Reaction Rate                  8.32365E-02    +/- 1.21485E-03\r\n",
      "     Fission Rate                         7.77929E-03    +/- 2.72898E-04\r\n",
      "   U235\r\n",
      "     Total Reaction Rate                  1.01687E-02    +/- 3.30309E-04\r\n",
      "     Fission Rate                         7.37892E-03    +/- 2.70512E-04\r\n",
      " Distributed Cell 0->10017->10006(5,9,1)->10000->1\r\n",
      "   Total Material\r\n",
      "     Total Reaction Rate                  8.46520E-02    +/- 1.25420E-03\r\n",
      "     Fission Rate                         7.90694E-03    +/- 2.61467E-04\r\n",
      "   U235\r\n",
      "     Total Reaction Rate                  1.03276E-02    +/- 3.21869E-04\r\n",
      "     Fission Rate                         7.50066E-03    +/- 2.58310E-04\r\n",
      " Distributed Cell 0->10017->10006(6,1,1)->10000->1\r\n",
      "   Total Material\r\n",
      "     Total Reaction Rate                  4.32989E-02    +/- 9.94193E-04\r\n",
      "     Fission Rate                         4.57304E-03    +/- 2.12358E-04\r\n",
      "   U235\r\n",
      "     Total Reaction Rate                  5.91026E-03    +/- 2.57951E-04\r\n",
      "     Fission Rate                         4.37479E-03    +/- 2.12801E-04\r\n",
      " Distributed Cell 0->10017->10006(6,2,1)->10000->1\r\n",
      "   Total Material\r\n",
      "     Total Reaction Rate                  8.54648E-02    +/- 1.21621E-03\r\n",
      "     Fission Rate                         8.13097E-03    +/- 2.47628E-04\r\n",
      "   U235\r\n",
      "     Total Reaction Rate                  1.06179E-02    +/- 3.10515E-04\r\n",
      "     Fission Rate                         7.72144E-03    +/- 2.48978E-04\r\n",
      " Distributed Cell 0->10017->10006(6,3,1)->10000->1\r\n",
      "   Total Material\r\n",
      "     Total Reaction Rate                  8.70859E-02    +/- 1.11260E-03\r\n",
      "     Fission Rate                         8.34868E-03    +/- 2.89613E-04\r\n",
      "   U235\r\n",
      "     Total Reaction Rate                  1.08894E-02    +/- 3.56950E-04\r\n",
      "     Fission Rate                         7.93077E-03    +/- 2.87754E-04\r\n",
      " Distributed Cell 0->10017->10006(6,4,1)->10000->1\r\n",
      "   Total Material\r\n",
      "     Total Reaction Rate                  8.52896E-02    +/- 1.15304E-03\r\n",
      "     Fission Rate                         8.49013E-03    +/- 2.73338E-04\r\n",
      "   U235\r\n",
      "     Total Reaction Rate                  1.10553E-02    +/- 3.32262E-04\r\n",
      "     Fission Rate                         8.09343E-03    +/- 2.75560E-04\r\n",
      " Distributed Cell 0->10017->10006(6,5,1)->10000->1\r\n",
      "   Total Material\r\n",
      "     Total Reaction Rate                  8.25626E-02    +/- 1.16848E-03\r\n",
      "     Fission Rate                         7.73282E-03    +/- 3.19070E-04\r\n",
      "   U235\r\n",
      "     Total Reaction Rate                  1.01107E-02    +/- 3.87018E-04\r\n",
      "     Fission Rate                         7.33350E-03    +/- 3.19856E-04\r\n",
      " Distributed Cell 0->10017->10006(6,7,1)->10000->1\r\n",
      "   Total Material\r\n",
      "     Total Reaction Rate                  8.12283E-02    +/- 1.27489E-03\r\n",
      "     Fission Rate                         6.88409E-03    +/- 2.12224E-04\r\n",
      "   U235\r\n",
      "     Total Reaction Rate                  9.06849E-03    +/- 2.61037E-04\r\n",
      "     Fission Rate                         6.47529E-03    +/- 2.11592E-04\r\n",
      " Distributed Cell 0->10017->10006(6,8,1)->10000->1\r\n",
      "   Total Material\r\n",
      "     Total Reaction Rate                  8.05102E-02    +/- 1.05389E-03\r\n",
      "     Fission Rate                         7.24915E-03    +/- 2.05241E-04\r\n",
      "   U235\r\n",
      "     Total Reaction Rate                  9.52712E-03    +/- 2.54789E-04\r\n",
      "     Fission Rate                         6.86204E-03    +/- 2.04664E-04\r\n",
      " Distributed Cell 0->10017->10006(6,9,1)->10000->1\r\n",
      "   Total Material\r\n",
      "     Total Reaction Rate                  8.26959E-02    +/- 1.48873E-03\r\n",
      "     Fission Rate                         7.71915E-03    +/- 2.21894E-04\r\n",
      "   U235\r\n",
      "     Total Reaction Rate                  1.00555E-02    +/- 2.75794E-04\r\n",
      "     Fission Rate                         7.31390E-03    +/- 2.19631E-04\r\n",
      " Distributed Cell 0->10017->10006(7,2,1)->10000->1\r\n",
      "   Total Material\r\n",
      "     Total Reaction Rate                  8.80212E-02    +/- 1.29111E-03\r\n",
      "     Fission Rate                         8.76800E-03    +/- 3.29607E-04\r\n",
      "   U235\r\n",
      "     Total Reaction Rate                  1.13992E-02    +/- 4.00337E-04\r\n",
      "     Fission Rate                         8.36562E-03    +/- 3.28220E-04\r\n",
      " Distributed Cell 0->10017->10006(7,3,1)->10000->1\r\n",
      "   Total Material\r\n",
      "     Total Reaction Rate                  8.67809E-02    +/- 1.18937E-03\r\n",
      "     Fission Rate                         8.61284E-03    +/- 2.80301E-04\r\n",
      "   U235\r\n",
      "     Total Reaction Rate                  1.12065E-02    +/- 3.38128E-04\r\n",
      "     Fission Rate                         8.20640E-03    +/- 2.79047E-04\r\n",
      " Distributed Cell 0->10017->10006(7,5,1)->10000->1\r\n",
      "   Total Material\r\n",
      "     Total Reaction Rate                  8.47475E-02    +/- 1.08277E-03\r\n",
      "     Fission Rate                         7.57412E-03    +/- 2.13476E-04\r\n",
      "   U235\r\n",
      "     Total Reaction Rate                  9.95637E-03    +/- 2.65689E-04\r\n",
      "     Fission Rate                         7.18197E-03    +/- 2.13550E-04\r\n",
      " Distributed Cell 0->10017->10006(7,6,1)->10000->1\r\n",
      "   Total Material\r\n",
      "     Total Reaction Rate                  8.20368E-02    +/- 1.22630E-03\r\n",
      "     Fission Rate                         6.71196E-03    +/- 1.94648E-04\r\n",
      "   U235\r\n",
      "     Total Reaction Rate                  8.88904E-03    +/- 2.37181E-04\r\n",
      "     Fission Rate                         6.30119E-03    +/- 1.94342E-04\r\n",
      " Distributed Cell 0->10017->10006(7,7,1)->10000->1\r\n",
      "   Total Material\r\n",
      "     Total Reaction Rate                  8.15500E-02    +/- 9.61506E-04\r\n",
      "     Fission Rate                         7.54595E-03    +/- 2.33345E-04\r\n",
      "   U235\r\n",
      "     Total Reaction Rate                  9.84611E-03    +/- 2.82340E-04\r\n",
      "     Fission Rate                         7.14031E-03    +/- 2.31799E-04\r\n",
      " Distributed Cell 0->10017->10006(7,8,1)->10000->1\r\n",
      "   Total Material\r\n",
      "     Total Reaction Rate                  8.68873E-02    +/- 1.50369E-03\r\n",
      "     Fission Rate                         8.15713E-03    +/- 3.31255E-04\r\n",
      "   U235\r\n",
      "     Total Reaction Rate                  1.06455E-02    +/- 4.03665E-04\r\n",
      "     Fission Rate                         7.75542E-03    +/- 3.28414E-04\r\n",
      " Distributed Cell 0->10017->10006(7,9,1)->10000->1\r\n",
      "   Total Material\r\n",
      "     Total Reaction Rate                  8.16392E-02    +/- 1.32555E-03\r\n",
      "     Fission Rate                         7.55229E-03    +/- 2.66095E-04\r\n",
      "   U235\r\n",
      "     Total Reaction Rate                  9.85438E-03    +/- 3.19618E-04\r\n",
      "     Fission Rate                         7.16687E-03    +/- 2.65287E-04\r\n",
      " Distributed Cell 0->10017->10006(8,1,1)->10000->1\r\n",
      "   Total Material\r\n",
      "     Total Reaction Rate                  4.38011E-02    +/- 7.75944E-04\r\n",
      "     Fission Rate                         4.36921E-03    +/- 2.22390E-04\r\n",
      "   U235\r\n",
      "     Total Reaction Rate                  5.69633E-03    +/- 2.71024E-04\r\n",
      "     Fission Rate                         4.17595E-03    +/- 2.24193E-04\r\n",
      " Distributed Cell 0->10017->10006(8,2,1)->10000->1\r\n",
      "   Total Material\r\n",
      "     Total Reaction Rate                  8.30359E-02    +/- 1.21149E-03\r\n",
      "     Fission Rate                         7.80266E-03    +/- 2.60582E-04\r\n",
      "   U235\r\n",
      "     Total Reaction Rate                  1.02164E-02    +/- 3.16724E-04\r\n",
      "     Fission Rate                         7.41435E-03    +/- 2.59420E-04\r\n",
      " Distributed Cell 0->10017->10006(8,3,1)->10000->1\r\n",
      "   Total Material\r\n",
      "     Total Reaction Rate                  8.52221E-02    +/- 1.17918E-03\r\n",
      "     Fission Rate                         8.56166E-03    +/- 2.74309E-04\r\n",
      "   U235\r\n",
      "     Total Reaction Rate                  1.11259E-02    +/- 3.36433E-04\r\n",
      "     Fission Rate                         8.14283E-03    +/- 2.74601E-04\r\n",
      " Distributed Cell 0->10017->10006(8,4,1)->10000->1\r\n",
      "   Total Material\r\n",
      "     Total Reaction Rate                  8.54839E-02    +/- 9.03497E-04\r\n",
      "     Fission Rate                         8.54733E-03    +/- 2.15604E-04\r\n",
      "   U235\r\n",
      "     Total Reaction Rate                  1.11456E-02    +/- 2.56215E-04\r\n",
      "     Fission Rate                         8.15144E-03    +/- 2.12605E-04\r\n",
      " Distributed Cell 0->10017->10006(8,5,1)->10000->1\r\n",
      "   Total Material\r\n",
      "     Total Reaction Rate                  8.59817E-02    +/- 1.08521E-03\r\n",
      "     Fission Rate                         8.33503E-03    +/- 2.42957E-04\r\n",
      "   U235\r\n",
      "     Total Reaction Rate                  1.08536E-02    +/- 2.96518E-04\r\n",
      "     Fission Rate                         7.92224E-03    +/- 2.43732E-04\r\n",
      " Distributed Cell 0->10017->10006(8,6,1)->10000->1\r\n",
      "   Total Material\r\n",
      "     Total Reaction Rate                  8.59932E-02    +/- 1.11027E-03\r\n",
      "     Fission Rate                         7.70725E-03    +/- 2.33959E-04\r\n",
      "   U235\r\n",
      "     Total Reaction Rate                  1.01387E-02    +/- 2.77630E-04\r\n",
      "     Fission Rate                         7.29903E-03    +/- 2.32320E-04\r\n",
      " Distributed Cell 0->10017->10006(8,7,1)->10000->1\r\n",
      "   Total Material\r\n",
      "     Total Reaction Rate                  8.25613E-02    +/- 1.20067E-03\r\n",
      "     Fission Rate                         7.42441E-03    +/- 2.29511E-04\r\n",
      "   U235\r\n",
      "     Total Reaction Rate                  9.70767E-03    +/- 2.82032E-04\r\n",
      "     Fission Rate                         7.01985E-03    +/- 2.29097E-04\r\n",
      " Distributed Cell 0->10017->10006(8,8,1)->10000->1\r\n",
      "   Total Material\r\n",
      "     Total Reaction Rate                  8.29448E-02    +/- 1.46260E-03\r\n",
      "     Fission Rate                         7.62123E-03    +/- 2.63420E-04\r\n",
      "   U235\r\n",
      "     Total Reaction Rate                  9.99057E-03    +/- 3.28042E-04\r\n",
      "     Fission Rate                         7.23464E-03    +/- 2.62132E-04\r\n",
      " Distributed Cell 0->10017->10006(8,9,1)->10000->1\r\n",
      "   Total Material\r\n",
      "     Total Reaction Rate                  8.46527E-02    +/- 1.34636E-03\r\n",
      "     Fission Rate                         7.78972E-03    +/- 2.60806E-04\r\n",
      "   U235\r\n",
      "     Total Reaction Rate                  1.01707E-02    +/- 3.17877E-04\r\n",
      "     Fission Rate                         7.38777E-03    +/- 2.58192E-04\r\n",
      " Distributed Cell 0->10017->10006(9,1,1)->10000->1\r\n",
      "   Total Material\r\n",
      "     Total Reaction Rate                  4.33045E-02    +/- 9.85468E-04\r\n",
      "     Fission Rate                         4.11321E-03    +/- 1.91024E-04\r\n",
      "   U235\r\n",
      "     Total Reaction Rate                  5.35613E-03    +/- 2.31391E-04\r\n",
      "     Fission Rate                         3.92002E-03    +/- 1.90313E-04\r\n",
      " Distributed Cell 0->10017->10006(9,2,1)->10000->1\r\n",
      "   Total Material\r\n",
      "     Total Reaction Rate                  8.49665E-02    +/- 1.52122E-03\r\n",
      "     Fission Rate                         7.76984E-03    +/- 2.74417E-04\r\n",
      "   U235\r\n",
      "     Total Reaction Rate                  1.01628E-02    +/- 3.27841E-04\r\n",
      "     Fission Rate                         7.36523E-03    +/- 2.74426E-04\r\n",
      " Distributed Cell 0->10017->10006(9,3,1)->10000->1\r\n",
      "   Total Material\r\n",
      "     Total Reaction Rate                  8.36382E-02    +/- 1.13626E-03\r\n",
      "     Fission Rate                         7.88087E-03    +/- 2.35443E-04\r\n",
      "   U235\r\n",
      "     Total Reaction Rate                  1.03433E-02    +/- 2.87156E-04\r\n",
      "     Fission Rate                         7.47464E-03    +/- 2.36840E-04\r\n",
      " Distributed Cell 0->10017->10006(9,4,1)->10000->1\r\n",
      "   Total Material\r\n",
      "     Total Reaction Rate                  8.66988E-02    +/- 9.70192E-04\r\n",
      "     Fission Rate                         8.20329E-03    +/- 2.89220E-04\r\n",
      "   U235\r\n",
      "     Total Reaction Rate                  1.07390E-02    +/- 3.46326E-04\r\n",
      "     Fission Rate                         7.80337E-03    +/- 2.89259E-04\r\n",
      " Distributed Cell 0->10017->10006(9,5,1)->10000->1\r\n",
      "   Total Material\r\n",
      "     Total Reaction Rate                  8.64661E-02    +/- 1.36534E-03\r\n",
      "     Fission Rate                         8.45234E-03    +/- 3.12057E-04\r\n",
      "   U235\r\n",
      "     Total Reaction Rate                  1.10196E-02    +/- 3.73686E-04\r\n",
      "     Fission Rate                         8.05219E-03    +/- 3.10605E-04\r\n",
      " Distributed Cell 0->10017->10006(9,6,1)->10000->1\r\n",
      "   Total Material\r\n",
      "     Total Reaction Rate                  8.32077E-02    +/- 1.28783E-03\r\n",
      "     Fission Rate                         7.61007E-03    +/- 2.83494E-04\r\n",
      "   U235\r\n",
      "     Total Reaction Rate                  9.95922E-03    +/- 3.49950E-04\r\n",
      "     Fission Rate                         7.21349E-03    +/- 2.84149E-04\r\n",
      " Distributed Cell 0->10017->10006(9,7,1)->10000->1\r\n",
      "   Total Material\r\n",
      "     Total Reaction Rate                  8.49163E-02    +/- 1.35211E-03\r\n",
      "     Fission Rate                         7.78991E-03    +/- 2.87997E-04\r\n",
      "   U235\r\n",
      "     Total Reaction Rate                  1.02286E-02    +/- 3.51497E-04\r\n",
      "     Fission Rate                         7.38696E-03    +/- 2.88614E-04\r\n",
      " Distributed Cell 0->10017->10006(9,8,1)->10000->1\r\n",
      "   Total Material\r\n",
      "     Total Reaction Rate                  8.61210E-02    +/- 1.49794E-03\r\n",
      "     Fission Rate                         7.87615E-03    +/- 3.39375E-04\r\n",
      "   U235\r\n",
      "     Total Reaction Rate                  1.03583E-02    +/- 4.10412E-04\r\n",
      "     Fission Rate                         7.46387E-03    +/- 3.39561E-04\r\n",
      " Distributed Cell 0->10017->10006(9,9,1)->10000->1\r\n",
      "   Total Material\r\n",
      "     Total Reaction Rate                  8.56831E-02    +/- 1.34578E-03\r\n",
      "     Fission Rate                         7.75586E-03    +/- 3.22136E-04\r\n",
      "   U235\r\n",
      "     Total Reaction Rate                  1.01549E-02    +/- 3.95484E-04\r\n",
      "     Fission Rate                         7.33481E-03    +/- 3.21714E-04\r\n"
     ]
    }
   ],
   "source": [
    "!cat tallies.out"
   ]
  },
  {
   "cell_type": "markdown",
   "metadata": {
    "collapsed": true
   },
   "source": [
    "## Distributed materials\n",
    "\n",
    "In a depletion problem, every fuel pin might need its own unique material.  We have a feature called \"distributed materials\" which makes this easier."
   ]
  },
  {
   "cell_type": "code",
   "execution_count": 50,
   "metadata": {
    "collapsed": false
   },
   "outputs": [],
   "source": [
    "many_uo2_mats = []\n",
    "for i in range(72):\n",
    "    m = openmc.Material(name='uo2')\n",
    "    m.add_nuclide('U235', 0.02115, 'wo')\n",
    "    m.add_nuclide('U238', 0.86032, 'wo')\n",
    "    m.add_nuclide('O16', 0.11852, 'wo')\n",
    "    m.set_density('g/cm3', 10.3)\n",
    "    m.add_element('U', 1.0, enrichment=3.0)\n",
    "    m.add_nuclide('O16', 2.0)\n",
    "    uo2.set_density('g/cm3', 10.0)\n",
    "    many_uo2_mats.append(m)\n",
    "\n",
    "mf.add_materials(many_uo2_mats)\n",
    "mf.export_to_xml()"
   ]
  },
  {
   "cell_type": "code",
   "execution_count": 43,
   "metadata": {
    "collapsed": true
   },
   "outputs": [],
   "source": [
    "fuel.fill = many_uo2_mats\n",
    "g.export_to_xml()"
   ]
  },
  {
   "cell_type": "code",
   "execution_count": 44,
   "metadata": {
    "collapsed": false
   },
   "outputs": [
    {
     "name": "stdout",
     "output_type": "stream",
     "text": [
      "\n",
      "                               %%%%%%%%%%%%%%%\n",
      "                          %%%%%%%%%%%%%%%%%%%%%%%%\n",
      "                       %%%%%%%%%%%%%%%%%%%%%%%%%%%%%%\n",
      "                     %%%%%%%%%%%%%%%%%%%%%%%%%%%%%%%%%%\n",
      "                   %%%%%%%%%%%%%%%%%%%%%%%%%%%%%%%%%%%%%%\n",
      "                  %%%%%%%%%%%%%%%%%%%%%%%%%%%%%%%%%%%%%%%%\n",
      "                                   %%%%%%%%%%%%%%%%%%%%%%%%\n",
      "                                    %%%%%%%%%%%%%%%%%%%%%%%%\n",
      "                ###############      %%%%%%%%%%%%%%%%%%%%%%%%\n",
      "               ##################     %%%%%%%%%%%%%%%%%%%%%%%\n",
      "               ###################     %%%%%%%%%%%%%%%%%%%%%%%\n",
      "               ####################     %%%%%%%%%%%%%%%%%%%%%%\n",
      "               #####################     %%%%%%%%%%%%%%%%%%%%%\n",
      "               ######################     %%%%%%%%%%%%%%%%%%%%\n",
      "               #######################     %%%%%%%%%%%%%%%%%%\n",
      "                #######################     %%%%%%%%%%%%%%%%%\n",
      "                ######################     %%%%%%%%%%%%%%%%%\n",
      "                 ####################     %%%%%%%%%%%%%%%%%\n",
      "                   #################     %%%%%%%%%%%%%%%%%\n",
      "                    ###############     %%%%%%%%%%%%%%%%\n",
      "                      ############     %%%%%%%%%%%%%%%\n",
      "                         ########     %%%%%%%%%%%%%%\n",
      "                                     %%%%%%%%%%%\n",
      "\n",
      "                   | The OpenMC Monte Carlo Code\n",
      "         Copyright | 2011-2017 Massachusetts Institute of Technology\n",
      "           License | http://openmc.readthedocs.io/en/latest/license.html\n",
      "           Version | 0.8.0\n",
      "          Git SHA1 | ffb40cb1c3a794993e94d724636514f2ba5f93a2\n",
      "         Date/Time | 2017-02-10 15:43:23\n",
      "     MPI Processes | 1\n",
      "\n",
      " ===========================================================================\n",
      " ========================>     INITIALIZATION     <=========================\n",
      " ===========================================================================\n",
      "\n",
      " Reading settings XML file...\n",
      " Reading geometry XML file...\n",
      " Reading materials XML file...\n",
      " Reading cross sections XML file...\n",
      " Reading tallies XML file...\n",
      " Reading plot XML file...\n",
      " Building neighboring cells lists for each surface...\n",
      "\n",
      " =======================>     PLOTTING SUMMARY     <========================\n",
      "\n",
      " Plot ID:               10004\n",
      " Plot file:             plot.ppm\n",
      " Universe depth:        -1\n",
      " Plot Type:             Slice\n",
      " Origin:                5.37591 5.37591 0.0\n",
      " Width:                 11.8270 11.8270\n",
      " Coloring:              Materials\n",
      " Basis:                 xy\n",
      " Pixels:                700 700\n",
      "\n",
      " \n",
      " WARNING: Cell overlap checking is ON\n",
      " Processing plot 10004: plot.ppm ...\n"
     ]
    },
    {
     "data": {
      "text/plain": [
       "0"
      ]
     },
     "execution_count": 44,
     "metadata": {},
     "output_type": "execute_result"
    }
   ],
   "source": [
    "openmc.plot_geometry()"
   ]
  },
  {
   "cell_type": "code",
   "execution_count": 45,
   "metadata": {
    "collapsed": false
   },
   "outputs": [
    {
     "data": {
      "image/png": "[encoded data removed]",
      "text/plain": [
       "<IPython.core.display.Image object>"
      ]
     },
     "execution_count": 45,
     "metadata": {},
     "output_type": "execute_result"
    }
   ],
   "source": [
    "!convert plot.ppm plot.png\n",
    "Image(\"plot.png\")"
   ]
  }
 ],
 "metadata": {
  "celltoolbar": "Raw Cell Format",
  "kernelspec": {
   "display_name": "Python 3",
   "language": "python",
   "name": "python3"
  },
  "language_info": {
   "codemirror_mode": {
    "name": "ipython",
    "version": 3
   },
   "file_extension": ".py",
   "mimetype": "text/x-python",
   "name": "python",
   "nbconvert_exporter": "python",
   "pygments_lexer": "ipython3",
   "version": "3.5.2"
  }
 },
 "nbformat": 4,
 "nbformat_minor": 0
}
