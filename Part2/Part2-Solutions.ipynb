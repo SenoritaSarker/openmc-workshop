{
 "cells": [
  {
   "cell_type": "markdown",
   "metadata": {},
   "source": [
    "# Lattice computations"
   ]
  },
  {
   "cell_type": "code",
   "execution_count": 1,
   "metadata": {
    "collapsed": false
   },
   "outputs": [],
   "source": [
    "import openmc\n",
    "from IPython.display import Image"
   ]
  },
  {
   "cell_type": "markdown",
   "metadata": {},
   "source": [
    "In this section, we will build one of the assemblies from the BEAVRS benchmark.  This is a PWR assembly with fuel pins, guide tubes, and borosilicate glass burnable poisons.  A diagram of th assembly is plotted below.  To make it a little easier (and improve our statistics!) we will only build one quarter of it."
   ]
  },
  {
   "cell_type": "code",
   "execution_count": 2,
   "metadata": {
    "collapsed": false
   },
   "outputs": [
    {
     "data": {
      "image/png": "[encoded data removed]",
      "text/plain": [
       "<IPython.core.display.Image object>"
      ]
     },
     "execution_count": 2,
     "metadata": {},
     "output_type": "execute_result"
    }
   ],
   "source": [
    "Image('assembly_diagram.png')"
   ]
  },
  {
   "cell_type": "markdown",
   "metadata": {},
   "source": [
    "## Materials\n",
    "\n",
    "Again we have UO2, Zr, and H2O.  We also have borosilicate glass (pyrex).  Note the shortcut for defining enriched uranium.  Also note that we can use `add_nuclide` and `add_element` directly with a string.  We do not have to create a `Nuclide` or `Element` object first."
   ]
  },
  {
   "cell_type": "code",
   "execution_count": 3,
   "metadata": {
    "collapsed": false
   },
   "outputs": [],
   "source": [
    "uo2 = openmc.Material(name='uo2')\n",
    "uo2.add_element('U', 1.0, enrichment=3.0)\n",
    "uo2.add_nuclide('O16', 2.0)\n",
    "uo2.set_density('g/cm3', 10.0)\n",
    "\n",
    "zirconium = openmc.Material(name='zirconium')\n",
    "zirconium.add_element('Zr', 1.0)\n",
    "zirconium.set_density('g/cm3', 6.55)\n",
    "\n",
    "water = openmc.Material(name='water')\n",
    "water.add_nuclide('H1', 2)\n",
    "water.add_nuclide('O16', 1)\n",
    "water.set_density('g/cm3', 0.701)\n",
    "water.add_s_alpha_beta('c_H_in_H2O')\n",
    "\n",
    "pyrex = openmc.Material(name='pyrex')\n",
    "pyrex.add_element('B', 0.49)\n",
    "pyrex.add_element('O', 4.7)\n",
    "pyrex.add_element('Al', 0.17)\n",
    "pyrex.add_element('Si', 1.8)\n",
    "pyrex.set_density('g/cm3', 2.26)"
   ]
  },
  {
   "cell_type": "code",
   "execution_count": 4,
   "metadata": {
    "collapsed": false
   },
   "outputs": [],
   "source": [
    "mf = openmc.Materials((uo2, zirconium, water, pyrex))\n",
    "mf.export_to_xml()"
   ]
  },
  {
   "cell_type": "markdown",
   "metadata": {},
   "source": [
    "Later in this example, we will make a bunch of geometry plots.  By default, every region is colored randomly and the results are Now that we know our materials, let's define a \"color specification\" to use when plotting our geometry."
   ]
  },
  {
   "cell_type": "code",
   "execution_count": 5,
   "metadata": {
    "collapsed": true
   },
   "outputs": [],
   "source": [
    "col_spec = {}\n",
    "col_spec[water.id] = (100, 200, 200)\n",
    "col_spec[zirconium.id] = (150, 150, 150)\n",
    "col_spec[pyrex.id] = (100, 255, 100)\n",
    "col_spec[uo2.id] = (255, 50, 50)"
   ]
  },
  {
   "cell_type": "markdown",
   "metadata": {},
   "source": [
    "## Fuel pin\n",
    "\n",
    "This is similar to the pincell example, but we don't have boundary conditions.  This `fuel_pin` universe extends to infinity"
   ]
  },
  {
   "cell_type": "code",
   "execution_count": 6,
   "metadata": {
    "collapsed": false
   },
   "outputs": [],
   "source": [
    "pitch = 1.26\n",
    "\n",
    "fuel_or = openmc.ZCylinder(R=0.39)\n",
    "clad_ir = openmc.ZCylinder(R=0.40)\n",
    "clad_or = openmc.ZCylinder(R=0.46)\n",
    "\n",
    "fuel = openmc.Cell(1, 'fuel')\n",
    "fuel.fill = uo2\n",
    "fuel.region = -fuel_or\n",
    "\n",
    "gap = openmc.Cell(2, 'air gap')\n",
    "gap.fill = 'void'\n",
    "gap.region = +fuel_or & -clad_ir\n",
    "\n",
    "clad = openmc.Cell(3, 'clad')\n",
    "clad.fill = zirconium\n",
    "clad.region = +clad_ir & -clad_or\n",
    "\n",
    "moderator = openmc.Cell(4, 'moderator')\n",
    "moderator.fill = water\n",
    "moderator.region = +clad_or\n",
    "\n",
    "fuel_pin = openmc.Universe()\n",
    "fuel_pin.add_cells((fuel, gap, clad, moderator))"
   ]
  },
  {
   "cell_type": "markdown",
   "metadata": {},
   "source": [
    "When building a complex geometry, it is helpful to plot each universe as you go along.  Let's plot this pincell now"
   ]
  },
  {
   "cell_type": "code",
   "execution_count": 7,
   "metadata": {
    "collapsed": true
   },
   "outputs": [],
   "source": [
    "# We need a cell to contain the fuel_pin universe.\n",
    "main = openmc.Cell()\n",
    "main.fill = fuel_pin\n",
    "\n",
    "root = openmc.Universe(0)\n",
    "root.add_cell(main)\n",
    "\n",
    "g = openmc.Geometry()\n",
    "g.root_universe = root\n",
    "g.export_to_xml()"
   ]
  },
  {
   "cell_type": "code",
   "execution_count": 8,
   "metadata": {
    "collapsed": false
   },
   "outputs": [],
   "source": [
    "p = openmc.Plot()\n",
    "p.width = [pitch, pitch]\n",
    "p.pixels = [400, 400]\n",
    "p.color = 'mat'\n",
    "p.col_spec = col_spec\n",
    "\n",
    "plots = openmc.Plots([p])\n",
    "plots.export_to_xml()"
   ]
  },
  {
   "cell_type": "code",
   "execution_count": 9,
   "metadata": {
    "collapsed": false
   },
   "outputs": [
    {
     "name": "stdout",
     "output_type": "stream",
     "text": [
      "\n",
      "                               %%%%%%%%%%%%%%%\n",
      "                          %%%%%%%%%%%%%%%%%%%%%%%%\n",
      "                       %%%%%%%%%%%%%%%%%%%%%%%%%%%%%%\n",
      "                     %%%%%%%%%%%%%%%%%%%%%%%%%%%%%%%%%%\n",
      "                   %%%%%%%%%%%%%%%%%%%%%%%%%%%%%%%%%%%%%%\n",
      "                  %%%%%%%%%%%%%%%%%%%%%%%%%%%%%%%%%%%%%%%%\n",
      "                                   %%%%%%%%%%%%%%%%%%%%%%%%\n",
      "                                    %%%%%%%%%%%%%%%%%%%%%%%%\n",
      "                ###############      %%%%%%%%%%%%%%%%%%%%%%%%\n",
      "               ##################     %%%%%%%%%%%%%%%%%%%%%%%\n",
      "               ###################     %%%%%%%%%%%%%%%%%%%%%%%\n",
      "               ####################     %%%%%%%%%%%%%%%%%%%%%%\n",
      "               #####################     %%%%%%%%%%%%%%%%%%%%%\n",
      "               ######################     %%%%%%%%%%%%%%%%%%%%\n",
      "               #######################     %%%%%%%%%%%%%%%%%%\n",
      "                #######################     %%%%%%%%%%%%%%%%%\n",
      "                ######################     %%%%%%%%%%%%%%%%%\n",
      "                 ####################     %%%%%%%%%%%%%%%%%\n",
      "                   #################     %%%%%%%%%%%%%%%%%\n",
      "                    ###############     %%%%%%%%%%%%%%%%\n",
      "                      ############     %%%%%%%%%%%%%%%\n",
      "                         ########     %%%%%%%%%%%%%%\n",
      "                                     %%%%%%%%%%%\n",
      "\n",
      "                   | The OpenMC Monte Carlo Code\n",
      "         Copyright | 2011-2017 Massachusetts Institute of Technology\n",
      "           License | http://openmc.readthedocs.io/en/latest/license.html\n",
      "           Version | 0.8.0\n",
      "          Git SHA1 | 60a1f157dae88b62e1865a5fe3efd7ef0773a068\n",
      "         Date/Time | 2017-02-24 16:07:59\n",
      "     MPI Processes | 1\n",
      "\n",
      " ===========================================================================\n",
      " ========================>     INITIALIZATION     <=========================\n",
      " ===========================================================================\n",
      "\n",
      " Reading geometry XML file...\n",
      " Reading materials XML file...\n",
      " Reading cross sections XML file...\n",
      " Reading plot XML file...\n",
      " Building neighboring cells lists for each surface...\n",
      "\n",
      " =======================>     PLOTTING SUMMARY     <========================\n",
      "\n",
      " Plot ID:               10000\n",
      " Plot file:             plot.ppm\n",
      " Universe depth:        -1\n",
      " Plot Type:             Slice\n",
      " Origin:                0.0 0.0 0.0\n",
      " Width:                 1.26000 1.26000\n",
      " Coloring:              Materials\n",
      " Basis:                 xy\n",
      " Pixels:                400 400\n",
      "\n",
      " \n",
      " WARNING: Cell overlap checking is ON\n",
      " Processing plot 10000: plot.ppm ...\n"
     ]
    },
    {
     "data": {
      "text/plain": [
       "0"
      ]
     },
     "execution_count": 9,
     "metadata": {},
     "output_type": "execute_result"
    }
   ],
   "source": [
    "openmc.plot_geometry()"
   ]
  },
  {
   "cell_type": "code",
   "execution_count": 10,
   "metadata": {
    "collapsed": false
   },
   "outputs": [
    {
     "data": {
      "image/png": "[encoded data removed]",
      "text/plain": [
       "<IPython.core.display.Image object>"
      ]
     },
     "execution_count": 10,
     "metadata": {},
     "output_type": "execute_result"
    }
   ],
   "source": [
    "!convert plot.ppm plot.png\n",
    "Image(\"plot.png\")"
   ]
  },
  {
   "cell_type": "markdown",
   "metadata": {},
   "source": [
    "## Guide tube"
   ]
  },
  {
   "cell_type": "code",
   "execution_count": 11,
   "metadata": {
    "collapsed": true
   },
   "outputs": [],
   "source": [
    "clad_ir = openmc.ZCylinder(R=0.56)\n",
    "clad_or = openmc.ZCylinder(R=0.60)\n",
    "\n",
    "inner = openmc.Cell()\n",
    "inner.fill = water\n",
    "inner.region = -clad_ir\n",
    "\n",
    "clad = openmc.Cell()\n",
    "clad.fill = zirconium\n",
    "clad.region = +clad_ir & -clad_or\n",
    "\n",
    "outer = openmc.Cell()\n",
    "outer.fill = water\n",
    "outer.region = +clad_or\n",
    "\n",
    "guide_tube = openmc.Universe()\n",
    "guide_tube.add_cells((inner, clad, outer))"
   ]
  },
  {
   "cell_type": "code",
   "execution_count": 12,
   "metadata": {
    "collapsed": true
   },
   "outputs": [],
   "source": [
    "main = openmc.Cell()\n",
    "main.fill = guide_tube\n",
    "\n",
    "root = openmc.Universe(0)\n",
    "root.add_cell(main)\n",
    "\n",
    "g = openmc.Geometry()\n",
    "g.root_universe = root\n",
    "g.export_to_xml()"
   ]
  },
  {
   "cell_type": "code",
   "execution_count": 13,
   "metadata": {
    "collapsed": true
   },
   "outputs": [],
   "source": [
    "p = openmc.Plot()\n",
    "p.width = [pitch, pitch]\n",
    "p.pixels = [400, 400]\n",
    "p.color = 'mat'\n",
    "p.col_spec = col_spec\n",
    "\n",
    "plots = openmc.Plots([p])\n",
    "plots.export_to_xml()"
   ]
  },
  {
   "cell_type": "code",
   "execution_count": 14,
   "metadata": {
    "collapsed": false
   },
   "outputs": [
    {
     "name": "stdout",
     "output_type": "stream",
     "text": [
      "\n",
      "                               %%%%%%%%%%%%%%%\n",
      "                          %%%%%%%%%%%%%%%%%%%%%%%%\n",
      "                       %%%%%%%%%%%%%%%%%%%%%%%%%%%%%%\n",
      "                     %%%%%%%%%%%%%%%%%%%%%%%%%%%%%%%%%%\n",
      "                   %%%%%%%%%%%%%%%%%%%%%%%%%%%%%%%%%%%%%%\n",
      "                  %%%%%%%%%%%%%%%%%%%%%%%%%%%%%%%%%%%%%%%%\n",
      "                                   %%%%%%%%%%%%%%%%%%%%%%%%\n",
      "                                    %%%%%%%%%%%%%%%%%%%%%%%%\n",
      "                ###############      %%%%%%%%%%%%%%%%%%%%%%%%\n",
      "               ##################     %%%%%%%%%%%%%%%%%%%%%%%\n",
      "               ###################     %%%%%%%%%%%%%%%%%%%%%%%\n",
      "               ####################     %%%%%%%%%%%%%%%%%%%%%%\n",
      "               #####################     %%%%%%%%%%%%%%%%%%%%%\n",
      "               ######################     %%%%%%%%%%%%%%%%%%%%\n",
      "               #######################     %%%%%%%%%%%%%%%%%%\n",
      "                #######################     %%%%%%%%%%%%%%%%%\n",
      "                ######################     %%%%%%%%%%%%%%%%%\n",
      "                 ####################     %%%%%%%%%%%%%%%%%\n",
      "                   #################     %%%%%%%%%%%%%%%%%\n",
      "                    ###############     %%%%%%%%%%%%%%%%\n",
      "                      ############     %%%%%%%%%%%%%%%\n",
      "                         ########     %%%%%%%%%%%%%%\n",
      "                                     %%%%%%%%%%%\n",
      "\n",
      "                   | The OpenMC Monte Carlo Code\n",
      "         Copyright | 2011-2017 Massachusetts Institute of Technology\n",
      "           License | http://openmc.readthedocs.io/en/latest/license.html\n",
      "           Version | 0.8.0\n",
      "          Git SHA1 | 60a1f157dae88b62e1865a5fe3efd7ef0773a068\n",
      "         Date/Time | 2017-02-24 16:08:00\n",
      "     MPI Processes | 1\n",
      "\n",
      " ===========================================================================\n",
      " ========================>     INITIALIZATION     <=========================\n",
      " ===========================================================================\n",
      "\n",
      " Reading geometry XML file...\n",
      " Reading materials XML file...\n",
      " Reading cross sections XML file...\n",
      " Reading plot XML file...\n",
      " Building neighboring cells lists for each surface...\n",
      "\n",
      " =======================>     PLOTTING SUMMARY     <========================\n",
      "\n",
      " Plot ID:               10001\n",
      " Plot file:             plot.ppm\n",
      " Universe depth:        -1\n",
      " Plot Type:             Slice\n",
      " Origin:                0.0 0.0 0.0\n",
      " Width:                 1.26000 1.26000\n",
      " Coloring:              Materials\n",
      " Basis:                 xy\n",
      " Pixels:                400 400\n",
      "\n",
      " \n",
      " WARNING: Cell overlap checking is ON\n",
      " Processing plot 10001: plot.ppm ...\n"
     ]
    },
    {
     "data": {
      "text/plain": [
       "0"
      ]
     },
     "execution_count": 14,
     "metadata": {},
     "output_type": "execute_result"
    }
   ],
   "source": [
    "openmc.plot_geometry()"
   ]
  },
  {
   "cell_type": "code",
   "execution_count": 15,
   "metadata": {
    "collapsed": false,
    "scrolled": true
   },
   "outputs": [
    {
     "data": {
      "image/png": "[encoded data removed]",
      "text/plain": [
       "<IPython.core.display.Image object>"
      ]
     },
     "execution_count": 15,
     "metadata": {},
     "output_type": "execute_result"
    }
   ],
   "source": [
    "!convert plot.ppm plot.png\n",
    "Image(\"plot.png\")"
   ]
  },
  {
   "cell_type": "markdown",
   "metadata": {},
   "source": [
    "## Pyrex burnable poison"
   ]
  },
  {
   "cell_type": "code",
   "execution_count": 16,
   "metadata": {
    "collapsed": false
   },
   "outputs": [],
   "source": [
    "# Define the cylinders which bound each radial zone.\n",
    "radii = [0.21, 0.23, 0.24, 0.43, 0.44, 0.48, 0.56, 0.60]\n",
    "cyls = [openmc.ZCylinder(R=R) for R in radii]\n",
    "\n",
    "# Initialize a list of cells.\n",
    "bp_cells = []\n",
    "\n",
    "# Define the inner void zone first.\n",
    "c = openmc.Cell()\n",
    "c.region = -cyls[0]\n",
    "c.fill = 'void'\n",
    "bp_cells.append(c)\n",
    "\n",
    "# Now all the sandwiched layers.\n",
    "mats = [zirconium, 'void', pyrex, 'void', zirconium, water, zirconium]\n",
    "for i in range(len(mats)):\n",
    "    c = openmc.Cell()\n",
    "    c.region = +cyls[i] & -cyls[i+1]\n",
    "    c.fill = mats[i]\n",
    "    bp_cells.append(c)\n",
    "\n",
    "# And the outer moderator region.\n",
    "c = openmc.Cell()\n",
    "c.region = +cyls[-1]\n",
    "c.fill = water\n",
    "bp_cells.append(c)\n",
    "\n",
    "# Make a universe containing these cells\n",
    "burn = openmc.Universe()\n",
    "burn.add_cells(bp_cells)"
   ]
  },
  {
   "cell_type": "code",
   "execution_count": 17,
   "metadata": {
    "collapsed": true
   },
   "outputs": [],
   "source": [
    "main = openmc.Cell()\n",
    "main.fill = burn\n",
    "\n",
    "root = openmc.Universe(0)\n",
    "root.add_cell(main)\n",
    "\n",
    "g = openmc.Geometry()\n",
    "g.root_universe = root\n",
    "g.export_to_xml()"
   ]
  },
  {
   "cell_type": "code",
   "execution_count": 18,
   "metadata": {
    "collapsed": false
   },
   "outputs": [],
   "source": [
    "p = openmc.Plot()\n",
    "p.width = [pitch, pitch]\n",
    "p.pixels = [400, 400]\n",
    "p.color = 'mat'\n",
    "p.col_spec = col_spec\n",
    "\n",
    "plots = openmc.Plots([p])\n",
    "plots.export_to_xml()"
   ]
  },
  {
   "cell_type": "code",
   "execution_count": 19,
   "metadata": {
    "collapsed": false
   },
   "outputs": [
    {
     "name": "stdout",
     "output_type": "stream",
     "text": [
      "\n",
      "                               %%%%%%%%%%%%%%%\n",
      "                          %%%%%%%%%%%%%%%%%%%%%%%%\n",
      "                       %%%%%%%%%%%%%%%%%%%%%%%%%%%%%%\n",
      "                     %%%%%%%%%%%%%%%%%%%%%%%%%%%%%%%%%%\n",
      "                   %%%%%%%%%%%%%%%%%%%%%%%%%%%%%%%%%%%%%%\n",
      "                  %%%%%%%%%%%%%%%%%%%%%%%%%%%%%%%%%%%%%%%%\n",
      "                                   %%%%%%%%%%%%%%%%%%%%%%%%\n",
      "                                    %%%%%%%%%%%%%%%%%%%%%%%%\n",
      "                ###############      %%%%%%%%%%%%%%%%%%%%%%%%\n",
      "               ##################     %%%%%%%%%%%%%%%%%%%%%%%\n",
      "               ###################     %%%%%%%%%%%%%%%%%%%%%%%\n",
      "               ####################     %%%%%%%%%%%%%%%%%%%%%%\n",
      "               #####################     %%%%%%%%%%%%%%%%%%%%%\n",
      "               ######################     %%%%%%%%%%%%%%%%%%%%\n",
      "               #######################     %%%%%%%%%%%%%%%%%%\n",
      "                #######################     %%%%%%%%%%%%%%%%%\n",
      "                ######################     %%%%%%%%%%%%%%%%%\n",
      "                 ####################     %%%%%%%%%%%%%%%%%\n",
      "                   #################     %%%%%%%%%%%%%%%%%\n",
      "                    ###############     %%%%%%%%%%%%%%%%\n",
      "                      ############     %%%%%%%%%%%%%%%\n",
      "                         ########     %%%%%%%%%%%%%%\n",
      "                                     %%%%%%%%%%%\n",
      "\n",
      "                   | The OpenMC Monte Carlo Code\n",
      "         Copyright | 2011-2017 Massachusetts Institute of Technology\n",
      "           License | http://openmc.readthedocs.io/en/latest/license.html\n",
      "           Version | 0.8.0\n",
      "          Git SHA1 | 60a1f157dae88b62e1865a5fe3efd7ef0773a068\n",
      "         Date/Time | 2017-02-24 16:08:01\n",
      "     MPI Processes | 1\n",
      "\n",
      " ===========================================================================\n",
      " ========================>     INITIALIZATION     <=========================\n",
      " ===========================================================================\n",
      "\n",
      " Reading geometry XML file...\n",
      " Reading materials XML file...\n",
      " Reading cross sections XML file...\n",
      " Reading plot XML file...\n",
      " Building neighboring cells lists for each surface...\n",
      "\n",
      " =======================>     PLOTTING SUMMARY     <========================\n",
      "\n",
      " Plot ID:               10002\n",
      " Plot file:             plot.ppm\n",
      " Universe depth:        -1\n",
      " Plot Type:             Slice\n",
      " Origin:                0.0 0.0 0.0\n",
      " Width:                 1.26000 1.26000\n",
      " Coloring:              Materials\n",
      " Basis:                 xy\n",
      " Pixels:                400 400\n",
      "\n",
      " \n",
      " WARNING: Cell overlap checking is ON\n",
      " Processing plot 10002: plot.ppm ...\n"
     ]
    },
    {
     "data": {
      "text/plain": [
       "0"
      ]
     },
     "execution_count": 19,
     "metadata": {},
     "output_type": "execute_result"
    }
   ],
   "source": [
    "openmc.plot_geometry()"
   ]
  },
  {
   "cell_type": "code",
   "execution_count": 20,
   "metadata": {
    "collapsed": false
   },
   "outputs": [
    {
     "data": {
      "image/png": "[encoded data removed]",
      "text/plain": [
       "<IPython.core.display.Image object>"
      ]
     },
     "execution_count": 20,
     "metadata": {},
     "output_type": "execute_result"
    }
   ],
   "source": [
    "!convert plot.ppm plot.png\n",
    "Image(\"plot.png\")"
   ]
  },
  {
   "cell_type": "markdown",
   "metadata": {},
   "source": [
    "## Lattices in OpenMC\n",
    "\n",
    "OpenMC has `RectLattice` and `HexLattice` objects.  This demo will use a `RectLattice`.  Let's look at a simple one before we do the quarter assembly.\n",
    "\n",
    "First, we also need to define a universe that is all water."
   ]
  },
  {
   "cell_type": "code",
   "execution_count": 21,
   "metadata": {
    "collapsed": true
   },
   "outputs": [],
   "source": [
    "moderator = openmc.Cell()\n",
    "moderator.fill = water\n",
    "\n",
    "all_water = openmc.Universe()\n",
    "all_water.add_cell(moderator)"
   ]
  },
  {
   "cell_type": "code",
   "execution_count": 22,
   "metadata": {
    "collapsed": false
   },
   "outputs": [],
   "source": [
    "lattice = openmc.RectLattice()\n",
    "\n",
    "# First we specify the dimension---the number of lattice tiles in x and y.\n",
    "lattice.dimension = [2, 2]\n",
    "\n",
    "# Next are the xy-coordiantes of the lower-left corner of the lattice.\n",
    "lattice.lower_left = [0.0, 0.0]\n",
    "\n",
    "# Next is the pitch---the size of the lattice tiles in each direction.\n",
    "lattice.pitch = [pitch]*2\n",
    "\n",
    "# Now we specify what is actually inside the lattice.  This 2D lattice will be a\n",
    "# list of lists like\n",
    "# lattice.universes = [ [a1, a2, ...], [b1, b2, ...], ...]\n",
    "# The inner lists specify columns from left to right.  The outer lists specify\n",
    "# rows from top to bottom.\n",
    "lattice.universes = [\n",
    "    [fuel_pin,   fuel_pin],\n",
    "    [guide_tube, fuel_pin]\n",
    "]\n",
    "\n",
    "# We also need to specify what is outside of the lattice.  In this case, it is\n",
    "# the infinite water universe.\n",
    "lattice.outer = all_water"
   ]
  },
  {
   "cell_type": "code",
   "execution_count": 23,
   "metadata": {
    "collapsed": true
   },
   "outputs": [],
   "source": [
    "main = openmc.Cell()\n",
    "main.fill = lattice\n",
    "\n",
    "root = openmc.Universe(0)\n",
    "root.add_cell(main)\n",
    "\n",
    "g = openmc.Geometry()\n",
    "g.root_universe = root\n",
    "g.export_to_xml()"
   ]
  },
  {
   "cell_type": "code",
   "execution_count": 24,
   "metadata": {
    "collapsed": false
   },
   "outputs": [],
   "source": [
    "p = openmc.Plot()\n",
    "p.origin = (pitch, pitch, 0)\n",
    "p.width = (3*pitch, 3*pitch)\n",
    "p.pixels = (400, 400)\n",
    "p.color = 'mat'\n",
    "p.col_spec = col_spec\n",
    "\n",
    "plots = openmc.Plots([p])\n",
    "plots.export_to_xml()"
   ]
  },
  {
   "cell_type": "code",
   "execution_count": 25,
   "metadata": {
    "collapsed": false
   },
   "outputs": [
    {
     "name": "stdout",
     "output_type": "stream",
     "text": [
      "\n",
      "                               %%%%%%%%%%%%%%%\n",
      "                          %%%%%%%%%%%%%%%%%%%%%%%%\n",
      "                       %%%%%%%%%%%%%%%%%%%%%%%%%%%%%%\n",
      "                     %%%%%%%%%%%%%%%%%%%%%%%%%%%%%%%%%%\n",
      "                   %%%%%%%%%%%%%%%%%%%%%%%%%%%%%%%%%%%%%%\n",
      "                  %%%%%%%%%%%%%%%%%%%%%%%%%%%%%%%%%%%%%%%%\n",
      "                                   %%%%%%%%%%%%%%%%%%%%%%%%\n",
      "                                    %%%%%%%%%%%%%%%%%%%%%%%%\n",
      "                ###############      %%%%%%%%%%%%%%%%%%%%%%%%\n",
      "               ##################     %%%%%%%%%%%%%%%%%%%%%%%\n",
      "               ###################     %%%%%%%%%%%%%%%%%%%%%%%\n",
      "               ####################     %%%%%%%%%%%%%%%%%%%%%%\n",
      "               #####################     %%%%%%%%%%%%%%%%%%%%%\n",
      "               ######################     %%%%%%%%%%%%%%%%%%%%\n",
      "               #######################     %%%%%%%%%%%%%%%%%%\n",
      "                #######################     %%%%%%%%%%%%%%%%%\n",
      "                ######################     %%%%%%%%%%%%%%%%%\n",
      "                 ####################     %%%%%%%%%%%%%%%%%\n",
      "                   #################     %%%%%%%%%%%%%%%%%\n",
      "                    ###############     %%%%%%%%%%%%%%%%\n",
      "                      ############     %%%%%%%%%%%%%%%\n",
      "                         ########     %%%%%%%%%%%%%%\n",
      "                                     %%%%%%%%%%%\n",
      "\n",
      "                   | The OpenMC Monte Carlo Code\n",
      "         Copyright | 2011-2017 Massachusetts Institute of Technology\n",
      "           License | http://openmc.readthedocs.io/en/latest/license.html\n",
      "           Version | 0.8.0\n",
      "          Git SHA1 | 60a1f157dae88b62e1865a5fe3efd7ef0773a068\n",
      "         Date/Time | 2017-02-24 16:08:02\n",
      "     MPI Processes | 1\n",
      "\n",
      " ===========================================================================\n",
      " ========================>     INITIALIZATION     <=========================\n",
      " ===========================================================================\n",
      "\n",
      " Reading geometry XML file...\n",
      " Reading materials XML file...\n",
      " Reading cross sections XML file...\n",
      " Reading plot XML file...\n",
      " Building neighboring cells lists for each surface...\n",
      "\n",
      " =======================>     PLOTTING SUMMARY     <========================\n",
      "\n",
      " Plot ID:               10003\n",
      " Plot file:             plot.ppm\n",
      " Universe depth:        -1\n",
      " Plot Type:             Slice\n",
      " Origin:                1.26000 1.26000 0.0\n",
      " Width:                 3.78000 3.78000\n",
      " Coloring:              Materials\n",
      " Basis:                 xy\n",
      " Pixels:                400 400\n",
      "\n",
      " \n",
      " WARNING: Cell overlap checking is ON\n",
      " Processing plot 10003: plot.ppm ...\n"
     ]
    },
    {
     "data": {
      "text/plain": [
       "0"
      ]
     },
     "execution_count": 25,
     "metadata": {},
     "output_type": "execute_result"
    }
   ],
   "source": [
    "openmc.plot_geometry()"
   ]
  },
  {
   "cell_type": "code",
   "execution_count": 26,
   "metadata": {
    "collapsed": false
   },
   "outputs": [
    {
     "data": {
      "image/png": "[encoded data removed]",
      "text/plain": [
       "<IPython.core.display.Image object>"
      ]
     },
     "execution_count": 26,
     "metadata": {},
     "output_type": "execute_result"
    }
   ],
   "source": [
    "!convert plot.ppm plot.png\n",
    "Image(\"plot.png\")"
   ]
  },
  {
   "cell_type": "markdown",
   "metadata": {},
   "source": [
    "## What exactly does `outer` mean?\n",
    "\n",
    "We are taking that one universe and tiling it infinitely outside the lattice."
   ]
  },
  {
   "cell_type": "code",
   "execution_count": 27,
   "metadata": {
    "collapsed": false
   },
   "outputs": [
    {
     "name": "stdout",
     "output_type": "stream",
     "text": [
      "\n",
      "                               %%%%%%%%%%%%%%%\n",
      "                          %%%%%%%%%%%%%%%%%%%%%%%%\n",
      "                       %%%%%%%%%%%%%%%%%%%%%%%%%%%%%%\n",
      "                     %%%%%%%%%%%%%%%%%%%%%%%%%%%%%%%%%%\n",
      "                   %%%%%%%%%%%%%%%%%%%%%%%%%%%%%%%%%%%%%%\n",
      "                  %%%%%%%%%%%%%%%%%%%%%%%%%%%%%%%%%%%%%%%%\n",
      "                                   %%%%%%%%%%%%%%%%%%%%%%%%\n",
      "                                    %%%%%%%%%%%%%%%%%%%%%%%%\n",
      "                ###############      %%%%%%%%%%%%%%%%%%%%%%%%\n",
      "               ##################     %%%%%%%%%%%%%%%%%%%%%%%\n",
      "               ###################     %%%%%%%%%%%%%%%%%%%%%%%\n",
      "               ####################     %%%%%%%%%%%%%%%%%%%%%%\n",
      "               #####################     %%%%%%%%%%%%%%%%%%%%%\n",
      "               ######################     %%%%%%%%%%%%%%%%%%%%\n",
      "               #######################     %%%%%%%%%%%%%%%%%%\n",
      "                #######################     %%%%%%%%%%%%%%%%%\n",
      "                ######################     %%%%%%%%%%%%%%%%%\n",
      "                 ####################     %%%%%%%%%%%%%%%%%\n",
      "                   #################     %%%%%%%%%%%%%%%%%\n",
      "                    ###############     %%%%%%%%%%%%%%%%\n",
      "                      ############     %%%%%%%%%%%%%%%\n",
      "                         ########     %%%%%%%%%%%%%%\n",
      "                                     %%%%%%%%%%%\n",
      "\n",
      "                   | The OpenMC Monte Carlo Code\n",
      "         Copyright | 2011-2017 Massachusetts Institute of Technology\n",
      "           License | http://openmc.readthedocs.io/en/latest/license.html\n",
      "           Version | 0.8.0\n",
      "          Git SHA1 | 60a1f157dae88b62e1865a5fe3efd7ef0773a068\n",
      "         Date/Time | 2017-02-24 16:08:03\n",
      "     MPI Processes | 1\n",
      "\n",
      " ===========================================================================\n",
      " ========================>     INITIALIZATION     <=========================\n",
      " ===========================================================================\n",
      "\n",
      " Reading geometry XML file...\n",
      " Reading materials XML file...\n",
      " Reading cross sections XML file...\n",
      " Reading plot XML file...\n",
      " Building neighboring cells lists for each surface...\n",
      "\n",
      " =======================>     PLOTTING SUMMARY     <========================\n",
      "\n",
      " Plot ID:               10003\n",
      " Plot file:             plot.ppm\n",
      " Universe depth:        -1\n",
      " Plot Type:             Slice\n",
      " Origin:                1.26000 1.26000 0.0\n",
      " Width:                 3.78000 3.78000\n",
      " Coloring:              Materials\n",
      " Basis:                 xy\n",
      " Pixels:                400 400\n",
      "\n",
      " \n",
      " WARNING: Cell overlap checking is ON\n",
      " Processing plot 10003: plot.ppm ...\n"
     ]
    },
    {
     "data": {
      "text/plain": [
       "0"
      ]
     },
     "execution_count": 27,
     "metadata": {},
     "output_type": "execute_result"
    }
   ],
   "source": [
    "# Try a different outer universe to see what I mean\n",
    "lattice.outer = guide_tube\n",
    "\n",
    "g.export_to_xml()\n",
    "\n",
    "openmc.plot_geometry()"
   ]
  },
  {
   "cell_type": "code",
   "execution_count": 28,
   "metadata": {
    "collapsed": false
   },
   "outputs": [
    {
     "data": {
      "image/png": "[encoded data removed]",
      "text/plain": [
       "<IPython.core.display.Image object>"
      ]
     },
     "execution_count": 28,
     "metadata": {},
     "output_type": "execute_result"
    }
   ],
   "source": [
    "!convert plot.ppm plot.png\n",
    "Image(\"plot.png\")"
   ]
  },
  {
   "cell_type": "markdown",
   "metadata": {},
   "source": [
    "## The BEAVRS assembly"
   ]
  },
  {
   "cell_type": "code",
   "execution_count": 29,
   "metadata": {
    "collapsed": false
   },
   "outputs": [
    {
     "data": {
      "image/png": "[encoded data removed]",
      "text/plain": [
       "<IPython.core.display.Image object>"
      ]
     },
     "execution_count": 29,
     "metadata": {},
     "output_type": "execute_result"
    }
   ],
   "source": [
    "Image('assembly_diagram.png')"
   ]
  },
  {
   "cell_type": "code",
   "execution_count": 30,
   "metadata": {
    "collapsed": false
   },
   "outputs": [],
   "source": [
    "lattice = openmc.RectLattice()\n",
    "\n",
    "lattice.dimension = [9, 9]\n",
    "lattice.pitch = [pitch]*2\n",
    "lattice.outer = all_water\n",
    "\n",
    "# I want (x0, y0) = (0, 0) to be the center of the instrument tube so that means\n",
    "# the lower-left will be -half a pin pitch in x and y.\n",
    "lattice.lower_left = [-pitch/2.0]*2\n",
    "\n",
    "# Most of the lattice positions are fuel pins so rather than type all of those\n",
    "# out, I will use a Python list comprehension to start with a 9x9 array of fuel.\n",
    "lattice.universes = [[fuel_pin for i in range(9)] for j in range(9)]\n",
    "\n",
    "# Then I will replace some fuel pins with guide tubes.  First index is the row,\n",
    "# starting from the top, and the second is the column (like a matrix).\n",
    "lattice.universes[2][0] = guide_tube\n",
    "lattice.universes[2][3] = guide_tube\n",
    "lattice.universes[5][0] = guide_tube\n",
    "lattice.universes[5][3] = guide_tube\n",
    "lattice.universes[5][6] = guide_tube\n",
    "lattice.universes[8][0] = guide_tube\n",
    "lattice.universes[8][3] = guide_tube\n",
    "lattice.universes[8][6] = guide_tube\n",
    "\n",
    "# And the burnable poison rod.\n",
    "lattice.universes[3][5] = burn"
   ]
  },
  {
   "cell_type": "markdown",
   "metadata": {},
   "source": [
    "Now we just have to add the boundary conditions and root universe to finish the geometry."
   ]
  },
  {
   "cell_type": "code",
   "execution_count": 31,
   "metadata": {
    "collapsed": false
   },
   "outputs": [],
   "source": [
    "height = 100 # Finite height is not strictly necessary but may avoid floating-point errors\n",
    "assembly_pitch = 21.5\n",
    "x0 = openmc.XPlane(x0=0.0, boundary_type='reflective')\n",
    "x1 = openmc.XPlane(x0=assembly_pitch/2.0, boundary_type='reflective')\n",
    "y0 = openmc.YPlane(y0=0.0, boundary_type='reflective')\n",
    "y1 = openmc.YPlane(y0=assembly_pitch/2.0, boundary_type='reflective')\n",
    "z0 = openmc.ZPlane(z0=-height/2.0, boundary_type='reflective')\n",
    "z1 = openmc.ZPlane(z0=height/2.0, boundary_type='reflective')\n",
    "\n",
    "main = openmc.Cell()\n",
    "main.region = +x0 & -x1 & +y0 & -y1 & +z0 & -z1\n",
    "main.fill = lattice"
   ]
  },
  {
   "cell_type": "code",
   "execution_count": 32,
   "metadata": {
    "collapsed": true
   },
   "outputs": [],
   "source": [
    "root = openmc.Universe(0)\n",
    "root.add_cell(main)\n",
    "\n",
    "g = openmc.Geometry()\n",
    "g.root_universe = root\n",
    "g.export_to_xml()"
   ]
  },
  {
   "cell_type": "code",
   "execution_count": 33,
   "metadata": {
    "collapsed": false
   },
   "outputs": [],
   "source": [
    "p = openmc.Plot()\n",
    "p.origin = (0.25*assembly_pitch, 0.25*assembly_pitch, 0)\n",
    "p.width = (0.55*assembly_pitch, 0.55*assembly_pitch)\n",
    "p.pixels = (700, 700)\n",
    "p.color = 'mat'\n",
    "p.col_spec = col_spec\n",
    "\n",
    "plots = openmc.Plots([p])\n",
    "plots.export_to_xml()"
   ]
  },
  {
   "cell_type": "code",
   "execution_count": 34,
   "metadata": {
    "collapsed": false
   },
   "outputs": [
    {
     "name": "stdout",
     "output_type": "stream",
     "text": [
      "\n",
      "                               %%%%%%%%%%%%%%%\n",
      "                          %%%%%%%%%%%%%%%%%%%%%%%%\n",
      "                       %%%%%%%%%%%%%%%%%%%%%%%%%%%%%%\n",
      "                     %%%%%%%%%%%%%%%%%%%%%%%%%%%%%%%%%%\n",
      "                   %%%%%%%%%%%%%%%%%%%%%%%%%%%%%%%%%%%%%%\n",
      "                  %%%%%%%%%%%%%%%%%%%%%%%%%%%%%%%%%%%%%%%%\n",
      "                                   %%%%%%%%%%%%%%%%%%%%%%%%\n",
      "                                    %%%%%%%%%%%%%%%%%%%%%%%%\n",
      "                ###############      %%%%%%%%%%%%%%%%%%%%%%%%\n",
      "               ##################     %%%%%%%%%%%%%%%%%%%%%%%\n",
      "               ###################     %%%%%%%%%%%%%%%%%%%%%%%\n",
      "               ####################     %%%%%%%%%%%%%%%%%%%%%%\n",
      "               #####################     %%%%%%%%%%%%%%%%%%%%%\n",
      "               ######################     %%%%%%%%%%%%%%%%%%%%\n",
      "               #######################     %%%%%%%%%%%%%%%%%%\n",
      "                #######################     %%%%%%%%%%%%%%%%%\n",
      "                ######################     %%%%%%%%%%%%%%%%%\n",
      "                 ####################     %%%%%%%%%%%%%%%%%\n",
      "                   #################     %%%%%%%%%%%%%%%%%\n",
      "                    ###############     %%%%%%%%%%%%%%%%\n",
      "                      ############     %%%%%%%%%%%%%%%\n",
      "                         ########     %%%%%%%%%%%%%%\n",
      "                                     %%%%%%%%%%%\n",
      "\n",
      "                   | The OpenMC Monte Carlo Code\n",
      "         Copyright | 2011-2017 Massachusetts Institute of Technology\n",
      "           License | http://openmc.readthedocs.io/en/latest/license.html\n",
      "           Version | 0.8.0\n",
      "          Git SHA1 | 60a1f157dae88b62e1865a5fe3efd7ef0773a068\n",
      "         Date/Time | 2017-02-24 16:08:05\n",
      "     MPI Processes | 1\n",
      "\n",
      " ===========================================================================\n",
      " ========================>     INITIALIZATION     <=========================\n",
      " ===========================================================================\n",
      "\n",
      " Reading geometry XML file...\n",
      " Reading materials XML file...\n",
      " Reading cross sections XML file...\n",
      " Reading plot XML file...\n",
      " Building neighboring cells lists for each surface...\n",
      "\n",
      " =======================>     PLOTTING SUMMARY     <========================\n",
      "\n",
      " Plot ID:               10004\n",
      " Plot file:             plot.ppm\n",
      " Universe depth:        -1\n",
      " Plot Type:             Slice\n",
      " Origin:                5.37500 5.37500 0.0\n",
      " Width:                 11.8250 11.8250\n",
      " Coloring:              Materials\n",
      " Basis:                 xy\n",
      " Pixels:                700 700\n",
      "\n",
      " \n",
      " WARNING: Cell overlap checking is ON\n",
      " Processing plot 10004: plot.ppm ...\n"
     ]
    },
    {
     "data": {
      "text/plain": [
       "0"
      ]
     },
     "execution_count": 34,
     "metadata": {},
     "output_type": "execute_result"
    }
   ],
   "source": [
    "openmc.plot_geometry()"
   ]
  },
  {
   "cell_type": "code",
   "execution_count": 35,
   "metadata": {
    "collapsed": false
   },
   "outputs": [
    {
     "data": {
      "image/png": "[encoded data removed]",
      "text/plain": [
       "<IPython.core.display.Image object>"
      ]
     },
     "execution_count": 35,
     "metadata": {},
     "output_type": "execute_result"
    }
   ],
   "source": [
    "!convert plot.ppm plot.png\n",
    "Image(\"plot.png\")"
   ]
  },
  {
   "cell_type": "code",
   "execution_count": 36,
   "metadata": {
    "collapsed": false
   },
   "outputs": [],
   "source": [
    "settings = openmc.Settings()\n",
    "settings.source = openmc.Source(space=openmc.stats.Box((0.1, 0.1, 0), (0.49*assembly_pitch, 0.49*assembly_pitch, 0)))\n",
    "settings.batches = 50\n",
    "settings.inactive = 10\n",
    "settings.particles = 1000\n",
    "settings.export_to_xml()"
   ]
  },
  {
   "cell_type": "code",
   "execution_count": 37,
   "metadata": {
    "collapsed": false,
    "scrolled": true
   },
   "outputs": [
    {
     "name": "stdout",
     "output_type": "stream",
     "text": [
      "\n",
      "                               %%%%%%%%%%%%%%%\n",
      "                          %%%%%%%%%%%%%%%%%%%%%%%%\n",
      "                       %%%%%%%%%%%%%%%%%%%%%%%%%%%%%%\n",
      "                     %%%%%%%%%%%%%%%%%%%%%%%%%%%%%%%%%%\n",
      "                   %%%%%%%%%%%%%%%%%%%%%%%%%%%%%%%%%%%%%%\n",
      "                  %%%%%%%%%%%%%%%%%%%%%%%%%%%%%%%%%%%%%%%%\n",
      "                                   %%%%%%%%%%%%%%%%%%%%%%%%\n",
      "                                    %%%%%%%%%%%%%%%%%%%%%%%%\n",
      "                ###############      %%%%%%%%%%%%%%%%%%%%%%%%\n",
      "               ##################     %%%%%%%%%%%%%%%%%%%%%%%\n",
      "               ###################     %%%%%%%%%%%%%%%%%%%%%%%\n",
      "               ####################     %%%%%%%%%%%%%%%%%%%%%%\n",
      "               #####################     %%%%%%%%%%%%%%%%%%%%%\n",
      "               ######################     %%%%%%%%%%%%%%%%%%%%\n",
      "               #######################     %%%%%%%%%%%%%%%%%%\n",
      "                #######################     %%%%%%%%%%%%%%%%%\n",
      "                ######################     %%%%%%%%%%%%%%%%%\n",
      "                 ####################     %%%%%%%%%%%%%%%%%\n",
      "                   #################     %%%%%%%%%%%%%%%%%\n",
      "                    ###############     %%%%%%%%%%%%%%%%\n",
      "                      ############     %%%%%%%%%%%%%%%\n",
      "                         ########     %%%%%%%%%%%%%%\n",
      "                                     %%%%%%%%%%%\n",
      "\n",
      "                   | The OpenMC Monte Carlo Code\n",
      "         Copyright | 2011-2017 Massachusetts Institute of Technology\n",
      "           License | http://openmc.readthedocs.io/en/latest/license.html\n",
      "           Version | 0.8.0\n",
      "          Git SHA1 | 60a1f157dae88b62e1865a5fe3efd7ef0773a068\n",
      "         Date/Time | 2017-02-24 16:08:06\n",
      "     MPI Processes | 1\n",
      "\n",
      " ===========================================================================\n",
      " ========================>     INITIALIZATION     <=========================\n",
      " ===========================================================================\n",
      "\n",
      " Reading settings XML file...\n",
      " Reading geometry XML file...\n",
      " Reading materials XML file...\n",
      " Reading cross sections XML file...\n",
      " Reading O16 from /home/smharper/openmc/data/nndc_hdf5/O16.h5\n",
      " Reading U234 from /home/smharper/openmc/data/nndc_hdf5/U234.h5\n",
      " Reading U235 from /home/smharper/openmc/data/nndc_hdf5/U235.h5\n",
      " Reading U238 from /home/smharper/openmc/data/nndc_hdf5/U238.h5\n",
      " Reading Zr90 from /home/smharper/openmc/data/nndc_hdf5/Zr90.h5\n",
      " Reading Zr91 from /home/smharper/openmc/data/nndc_hdf5/Zr91.h5\n",
      " Reading Zr92 from /home/smharper/openmc/data/nndc_hdf5/Zr92.h5\n",
      " Reading Zr94 from /home/smharper/openmc/data/nndc_hdf5/Zr94.h5\n",
      " Reading Zr96 from /home/smharper/openmc/data/nndc_hdf5/Zr96.h5\n",
      " Reading H1 from /home/smharper/openmc/data/nndc_hdf5/H1.h5\n",
      " Reading B10 from /home/smharper/openmc/data/nndc_hdf5/B10.h5\n",
      " Reading B11 from /home/smharper/openmc/data/nndc_hdf5/B11.h5\n",
      " Reading O17 from /home/smharper/openmc/data/nndc_hdf5/O17.h5\n",
      " Reading Al27 from /home/smharper/openmc/data/nndc_hdf5/Al27.h5\n",
      " Reading Si28 from /home/smharper/openmc/data/nndc_hdf5/Si28.h5\n",
      " Reading Si29 from /home/smharper/openmc/data/nndc_hdf5/Si29.h5\n",
      " Reading Si30 from /home/smharper/openmc/data/nndc_hdf5/Si30.h5\n",
      " Reading c_H_in_H2O from /home/smharper/openmc/data/nndc_hdf5/c_H_in_H2O.h5\n",
      " Maximum neutron transport energy: 2.00000E+07 eV for U235\n",
      " Building neighboring cells lists for each surface...\n",
      " Initializing source particles...\n",
      "\n",
      " ===========================================================================\n",
      " ====================>     K EIGENVALUE SIMULATION     <====================\n",
      " ===========================================================================\n",
      "\n",
      "  Bat./Gen.      k            Average k         \n",
      "  =========   ========   ====================   \n",
      "        1/1    1.39150                       \n",
      "        2/1    1.42690                       \n",
      "        3/1    1.28297                       \n",
      "        4/1    1.21649                       \n",
      "        5/1    1.32933                       \n",
      "        6/1    1.33895                       \n",
      "        7/1    1.33342                       \n",
      "        8/1    1.45088                       \n",
      "        9/1    1.35584                       \n",
      "       10/1    1.30919                       \n",
      "       11/1    1.37322                       \n",
      "       12/1    1.29336    1.33329 +/- 0.03993\n",
      "       13/1    1.27875    1.31511 +/- 0.02936\n",
      "       14/1    1.41939    1.34118 +/- 0.03333\n",
      "       15/1    1.28104    1.32915 +/- 0.02848\n",
      "       16/1    1.26856    1.31905 +/- 0.02535\n",
      "       17/1    1.37511    1.32706 +/- 0.02287\n",
      "       18/1    1.30982    1.32491 +/- 0.01993\n",
      "       19/1    1.31053    1.32331 +/- 0.01765\n",
      "       20/1    1.33597    1.32457 +/- 0.01583\n",
      "       21/1    1.25011    1.31781 +/- 0.01584\n",
      "       22/1    1.35242    1.32069 +/- 0.01475\n",
      "       23/1    1.40629    1.32727 +/- 0.01508\n",
      "       24/1    1.33025    1.32749 +/- 0.01396\n",
      "       25/1    1.27957    1.32429 +/- 0.01338\n",
      "       26/1    1.35566    1.32625 +/- 0.01267\n",
      "       27/1    1.26943    1.32291 +/- 0.01236\n",
      "       28/1    1.29812    1.32153 +/- 0.01174\n",
      "       29/1    1.32085    1.32150 +/- 0.01110\n",
      "       30/1    1.35632    1.32324 +/- 0.01068\n",
      "       31/1    1.37018    1.32547 +/- 0.01040\n",
      "       32/1    1.24876    1.32199 +/- 0.01051\n",
      "       33/1    1.33979    1.32276 +/- 0.01007\n",
      "       34/1    1.26029    1.32016 +/- 0.00999\n",
      "       35/1    1.40744    1.32365 +/- 0.01020\n",
      "       36/1    1.37506    1.32563 +/- 0.00999\n",
      "       37/1    1.34871    1.32648 +/- 0.00965\n",
      "       38/1    1.39999    1.32911 +/- 0.00967\n",
      "       39/1    1.36499    1.33034 +/- 0.00941\n",
      "       40/1    1.29716    1.32924 +/- 0.00916\n",
      "       41/1    1.35630    1.33011 +/- 0.00890\n",
      "       42/1    1.21732    1.32659 +/- 0.00931\n",
      "       43/1    1.36240    1.32767 +/- 0.00909\n",
      "       44/1    1.32698    1.32765 +/- 0.00882\n",
      "       45/1    1.34507    1.32815 +/- 0.00858\n",
      "       46/1    1.33001    1.32820 +/- 0.00833\n",
      "       47/1    1.33101    1.32828 +/- 0.00811\n",
      "       48/1    1.33424    1.32843 +/- 0.00789\n",
      "       49/1    1.33500    1.32860 +/- 0.00769\n",
      "       50/1    1.30359    1.32798 +/- 0.00752\n",
      " Creating state point statepoint.50.h5...\n",
      "\n",
      " ===========================================================================\n",
      " ======================>     SIMULATION FINISHED     <======================\n",
      " ===========================================================================\n",
      "\n",
      "\n",
      " =======================>     TIMING STATISTICS     <=======================\n",
      "\n",
      " Total time for initialization     =  1.1730E+00 seconds\n",
      "   Reading cross sections          =  1.0438E+00 seconds\n",
      " Total time in simulation          =  7.0507E+00 seconds\n",
      "   Time in transport only          =  7.0413E+00 seconds\n",
      "   Time in inactive batches        =  1.4541E+00 seconds\n",
      "   Time in active batches          =  5.5966E+00 seconds\n",
      "   Time synchronizing fission bank =  2.3357E-03 seconds\n",
      "     Sampling source sites         =  1.2641E-03 seconds\n",
      "     SEND/RECV source sites        =  5.6257E-04 seconds\n",
      "   Time accumulating tallies       =  1.5232E-04 seconds\n",
      " Total time for finalization       =  4.5600E-07 seconds\n",
      " Total time elapsed                =  8.2312E+00 seconds\n",
      " Calculation Rate (inactive)       =  6876.93 neutrons/second\n",
      " Calculation Rate (active)         =  7147.22 neutrons/second\n",
      "\n",
      " ============================>     RESULTS     <============================\n",
      "\n",
      " k-effective (Collision)     =  1.32646 +/-  0.00603\n",
      " k-effective (Track-length)  =  1.32798 +/-  0.00752\n",
      " k-effective (Absorption)    =  1.34041 +/-  0.00536\n",
      " Combined k-effective        =  1.33472 +/-  0.00472\n",
      " Leakage Fraction            =  0.00000 +/-  0.00000\n",
      "\n"
     ]
    },
    {
     "data": {
      "text/plain": [
       "0"
      ]
     },
     "execution_count": 37,
     "metadata": {},
     "output_type": "execute_result"
    }
   ],
   "source": [
    "openmc.run()"
   ]
  },
  {
   "cell_type": "markdown",
   "metadata": {},
   "source": [
    "## Tallies\n",
    "\n",
    "Okay, that was cool, but $k_\\text{eff}$ isn't everyting.  We also want to know reaction rates so we can compute the power distribution, depletion rate, etc.  If we want pin-by-pin reaction rates, we have two options.  First, we can use a tally mesh.  This will lay a rectangular grid over the geometry and tally the reaction rates in each mesh bin."
   ]
  },
  {
   "cell_type": "code",
   "execution_count": 38,
   "metadata": {
    "collapsed": false
   },
   "outputs": [],
   "source": [
    "tallies = openmc.Tallies()\n",
    "\n",
    "mesh = openmc.Mesh()\n",
    "#mesh.dimension = lattice.dimension # Could set dimension from the lattice\n",
    "mesh.dimension = [3, 3] # But we will use 3x3 for this example\n",
    "mesh.lower_left = lattice.lower_left\n",
    "mesh.width = lattice.pitch\n",
    "\n",
    "mesh_filt = openmc.MeshFilter(mesh)\n",
    "\n",
    "t = openmc.Tally(1)\n",
    "t.filters = [mesh_filt]\n",
    "t.scores = ['total', 'fission']\n",
    "t.nuclides = ['total', 'U235']\n",
    "tallies.append(t)"
   ]
  },
  {
   "cell_type": "markdown",
   "metadata": {},
   "source": [
    "Or we can use something called a \"distribcell\" filter.  Note that the bin specifies a cell id."
   ]
  },
  {
   "cell_type": "code",
   "execution_count": 39,
   "metadata": {
    "collapsed": false
   },
   "outputs": [],
   "source": [
    "dist_filt = openmc.DistribcellFilter(fuel.id)\n",
    "t = openmc.Tally(2)\n",
    "t.filters = [dist_filt]\n",
    "t.scores = ['total', 'fission']\n",
    "t.nuclides = ['total', 'U235']\n",
    "tallies.append(t)\n",
    "\n",
    "tallies.export_to_xml()"
   ]
  },
  {
   "cell_type": "code",
   "execution_count": 40,
   "metadata": {
    "collapsed": false,
    "scrolled": true
   },
   "outputs": [
    {
     "name": "stdout",
     "output_type": "stream",
     "text": [
      "\n",
      "                               %%%%%%%%%%%%%%%\n",
      "                          %%%%%%%%%%%%%%%%%%%%%%%%\n",
      "                       %%%%%%%%%%%%%%%%%%%%%%%%%%%%%%\n",
      "                     %%%%%%%%%%%%%%%%%%%%%%%%%%%%%%%%%%\n",
      "                   %%%%%%%%%%%%%%%%%%%%%%%%%%%%%%%%%%%%%%\n",
      "                  %%%%%%%%%%%%%%%%%%%%%%%%%%%%%%%%%%%%%%%%\n",
      "                                   %%%%%%%%%%%%%%%%%%%%%%%%\n",
      "                                    %%%%%%%%%%%%%%%%%%%%%%%%\n",
      "                ###############      %%%%%%%%%%%%%%%%%%%%%%%%\n",
      "               ##################     %%%%%%%%%%%%%%%%%%%%%%%\n",
      "               ###################     %%%%%%%%%%%%%%%%%%%%%%%\n",
      "               ####################     %%%%%%%%%%%%%%%%%%%%%%\n",
      "               #####################     %%%%%%%%%%%%%%%%%%%%%\n",
      "               ######################     %%%%%%%%%%%%%%%%%%%%\n",
      "               #######################     %%%%%%%%%%%%%%%%%%\n",
      "                #######################     %%%%%%%%%%%%%%%%%\n",
      "                ######################     %%%%%%%%%%%%%%%%%\n",
      "                 ####################     %%%%%%%%%%%%%%%%%\n",
      "                   #################     %%%%%%%%%%%%%%%%%\n",
      "                    ###############     %%%%%%%%%%%%%%%%\n",
      "                      ############     %%%%%%%%%%%%%%%\n",
      "                         ########     %%%%%%%%%%%%%%\n",
      "                                     %%%%%%%%%%%\n",
      "\n",
      "                   | The OpenMC Monte Carlo Code\n",
      "         Copyright | 2011-2017 Massachusetts Institute of Technology\n",
      "           License | http://openmc.readthedocs.io/en/latest/license.html\n",
      "           Version | 0.8.0\n",
      "          Git SHA1 | 60a1f157dae88b62e1865a5fe3efd7ef0773a068\n",
      "         Date/Time | 2017-02-24 16:08:14\n",
      "     MPI Processes | 1\n",
      "\n",
      " ===========================================================================\n",
      " ========================>     INITIALIZATION     <=========================\n",
      " ===========================================================================\n",
      "\n",
      " Reading settings XML file...\n",
      " Reading geometry XML file...\n",
      " Reading materials XML file...\n",
      " Reading cross sections XML file...\n",
      " Reading O16 from /home/smharper/openmc/data/nndc_hdf5/O16.h5\n",
      " Reading U234 from /home/smharper/openmc/data/nndc_hdf5/U234.h5\n",
      " Reading U235 from /home/smharper/openmc/data/nndc_hdf5/U235.h5\n",
      " Reading U238 from /home/smharper/openmc/data/nndc_hdf5/U238.h5\n",
      " Reading Zr90 from /home/smharper/openmc/data/nndc_hdf5/Zr90.h5\n",
      " Reading Zr91 from /home/smharper/openmc/data/nndc_hdf5/Zr91.h5\n",
      " Reading Zr92 from /home/smharper/openmc/data/nndc_hdf5/Zr92.h5\n",
      " Reading Zr94 from /home/smharper/openmc/data/nndc_hdf5/Zr94.h5\n",
      " Reading Zr96 from /home/smharper/openmc/data/nndc_hdf5/Zr96.h5\n",
      " Reading H1 from /home/smharper/openmc/data/nndc_hdf5/H1.h5\n",
      " Reading B10 from /home/smharper/openmc/data/nndc_hdf5/B10.h5\n",
      " Reading B11 from /home/smharper/openmc/data/nndc_hdf5/B11.h5\n",
      " Reading O17 from /home/smharper/openmc/data/nndc_hdf5/O17.h5\n",
      " Reading Al27 from /home/smharper/openmc/data/nndc_hdf5/Al27.h5\n",
      " Reading Si28 from /home/smharper/openmc/data/nndc_hdf5/Si28.h5\n",
      " Reading Si29 from /home/smharper/openmc/data/nndc_hdf5/Si29.h5\n",
      " Reading Si30 from /home/smharper/openmc/data/nndc_hdf5/Si30.h5\n",
      " Reading c_H_in_H2O from /home/smharper/openmc/data/nndc_hdf5/c_H_in_H2O.h5\n",
      " Maximum neutron transport energy: 2.00000E+07 eV for U235\n",
      " Reading tallies XML file...\n",
      " Building neighboring cells lists for each surface...\n",
      " Initializing source particles...\n",
      "\n",
      " ===========================================================================\n",
      " ====================>     K EIGENVALUE SIMULATION     <====================\n",
      " ===========================================================================\n",
      "\n",
      "  Bat./Gen.      k            Average k         \n",
      "  =========   ========   ====================   \n",
      "        1/1    1.39150                       \n",
      "        2/1    1.42690                       \n",
      "        3/1    1.28297                       \n",
      "        4/1    1.21649                       \n",
      "        5/1    1.32933                       \n",
      "        6/1    1.33895                       \n",
      "        7/1    1.33342                       \n",
      "        8/1    1.45088                       \n",
      "        9/1    1.35584                       \n",
      "       10/1    1.30919                       \n",
      "       11/1    1.37322                       \n",
      "       12/1    1.29336    1.33329 +/- 0.03993\n",
      "       13/1    1.27875    1.31511 +/- 0.02936\n",
      "       14/1    1.41939    1.34118 +/- 0.03333\n",
      "       15/1    1.28104    1.32915 +/- 0.02848\n",
      "       16/1    1.26856    1.31905 +/- 0.02535\n",
      "       17/1    1.37511    1.32706 +/- 0.02287\n",
      "       18/1    1.30982    1.32491 +/- 0.01993\n",
      "       19/1    1.31053    1.32331 +/- 0.01765\n",
      "       20/1    1.33597    1.32457 +/- 0.01583\n",
      "       21/1    1.25011    1.31781 +/- 0.01584\n",
      "       22/1    1.35242    1.32069 +/- 0.01475\n",
      "       23/1    1.40629    1.32727 +/- 0.01508\n",
      "       24/1    1.33025    1.32749 +/- 0.01396\n",
      "       25/1    1.27957    1.32429 +/- 0.01338\n",
      "       26/1    1.35566    1.32625 +/- 0.01267\n",
      "       27/1    1.26943    1.32291 +/- 0.01236\n",
      "       28/1    1.29812    1.32153 +/- 0.01174\n",
      "       29/1    1.32085    1.32150 +/- 0.01110\n",
      "       30/1    1.35632    1.32324 +/- 0.01068\n",
      "       31/1    1.37018    1.32547 +/- 0.01040\n",
      "       32/1    1.24876    1.32199 +/- 0.01051\n",
      "       33/1    1.33979    1.32276 +/- 0.01007\n",
      "       34/1    1.26029    1.32016 +/- 0.00999\n",
      "       35/1    1.40744    1.32365 +/- 0.01020\n",
      "       36/1    1.37506    1.32563 +/- 0.00999\n",
      "       37/1    1.34871    1.32648 +/- 0.00965\n",
      "       38/1    1.39999    1.32911 +/- 0.00967\n",
      "       39/1    1.36499    1.33034 +/- 0.00941\n",
      "       40/1    1.29716    1.32924 +/- 0.00916\n",
      "       41/1    1.35630    1.33011 +/- 0.00890\n",
      "       42/1    1.21732    1.32659 +/- 0.00931\n",
      "       43/1    1.36240    1.32767 +/- 0.00909\n",
      "       44/1    1.32698    1.32765 +/- 0.00882\n",
      "       45/1    1.34507    1.32815 +/- 0.00858\n",
      "       46/1    1.33001    1.32820 +/- 0.00833\n",
      "       47/1    1.33101    1.32828 +/- 0.00811\n",
      "       48/1    1.33424    1.32843 +/- 0.00789\n",
      "       49/1    1.33500    1.32860 +/- 0.00769\n",
      "       50/1    1.30359    1.32798 +/- 0.00752\n",
      " Creating state point statepoint.50.h5...\n",
      "\n",
      " ===========================================================================\n",
      " ======================>     SIMULATION FINISHED     <======================\n",
      " ===========================================================================\n",
      "\n",
      "\n",
      " =======================>     TIMING STATISTICS     <=======================\n",
      "\n",
      " Total time for initialization     =  1.0391E+00 seconds\n",
      "   Reading cross sections          =  9.0170E-01 seconds\n",
      " Total time in simulation          =  8.2641E+00 seconds\n",
      "   Time in transport only          =  8.2519E+00 seconds\n",
      "   Time in inactive batches        =  1.3979E+00 seconds\n",
      "   Time in active batches          =  6.8662E+00 seconds\n",
      "   Time synchronizing fission bank =  2.0749E-03 seconds\n",
      "     Sampling source sites         =  1.0754E-03 seconds\n",
      "     SEND/RECV source sites        =  5.2968E-04 seconds\n",
      "   Time accumulating tallies       =  4.3482E-04 seconds\n",
      " Total time for finalization       =  2.9882E-03 seconds\n",
      " Total time elapsed                =  9.3111E+00 seconds\n",
      " Calculation Rate (inactive)       =  7153.39 neutrons/second\n",
      " Calculation Rate (active)         =  5825.68 neutrons/second\n",
      "\n",
      " ============================>     RESULTS     <============================\n",
      "\n",
      " k-effective (Collision)     =  1.32646 +/-  0.00603\n",
      " k-effective (Track-length)  =  1.32798 +/-  0.00752\n",
      " k-effective (Absorption)    =  1.34041 +/-  0.00536\n",
      " Combined k-effective        =  1.33472 +/-  0.00472\n",
      " Leakage Fraction            =  0.00000 +/-  0.00000\n",
      "\n"
     ]
    },
    {
     "data": {
      "text/plain": [
       "0"
      ]
     },
     "execution_count": 40,
     "metadata": {},
     "output_type": "execute_result"
    }
   ],
   "source": [
    "openmc.run()"
   ]
  },
  {
   "cell_type": "code",
   "execution_count": 41,
   "metadata": {
    "collapsed": false,
    "scrolled": true
   },
   "outputs": [
    {
     "name": "stdout",
     "output_type": "stream",
     "text": [
      "\r\n",
      " ============================>     TALLY 1     <============================\r\n",
      "\r\n",
      " Mesh Index (1, 1)\r\n",
      "   Total Material\r\n",
      "     Total Reaction Rate                  0.138870       +/- 3.78039E-03\r\n",
      "     Fission Rate                         0.0            +/- 0.0\r\n",
      "   U235\r\n",
      "     Total Reaction Rate                  0.0            +/- 0.0\r\n",
      "     Fission Rate                         0.0            +/- 0.0\r\n",
      " Mesh Index (2, 1)\r\n",
      "   Total Material\r\n",
      "     Total Reaction Rate                  0.222368       +/- 3.60878E-03\r\n",
      "     Fission Rate                         4.46131E-03    +/- 1.69649E-04\r\n",
      "   U235\r\n",
      "     Total Reaction Rate                  5.77193E-03    +/- 2.08465E-04\r\n",
      "     Fission Rate                         4.25356E-03    +/- 1.69029E-04\r\n",
      " Mesh Index (3, 1)\r\n",
      "   Total Material\r\n",
      "     Total Reaction Rate                  0.216863       +/- 3.80605E-03\r\n",
      "     Fission Rate                         4.42721E-03    +/- 1.75556E-04\r\n",
      "   U235\r\n",
      "     Total Reaction Rate                  5.71199E-03    +/- 2.10175E-04\r\n",
      "     Fission Rate                         4.22553E-03    +/- 1.75693E-04\r\n",
      " Mesh Index (1, 2)\r\n",
      "   Total Material\r\n",
      "     Total Reaction Rate                  0.219311       +/- 3.99315E-03\r\n",
      "     Fission Rate                         4.70630E-03    +/- 2.34561E-04\r\n",
      "   U235\r\n",
      "     Total Reaction Rate                  6.07647E-03    +/- 2.85280E-04\r\n",
      "     Fission Rate                         4.49842E-03    +/- 2.33847E-04\r\n",
      " Mesh Index (2, 2)\r\n",
      "   Total Material\r\n",
      "     Total Reaction Rate                  0.434598       +/- 5.93958E-03\r\n",
      "     Fission Rate                         9.10873E-03    +/- 2.96788E-04\r\n",
      "   U235\r\n",
      "     Total Reaction Rate                  1.17812E-02    +/- 3.65443E-04\r\n",
      "     Fission Rate                         8.69392E-03    +/- 2.92488E-04\r\n",
      " Mesh Index (3, 2)\r\n",
      "   Total Material\r\n",
      "     Total Reaction Rate                  0.422809       +/- 6.49881E-03\r\n",
      "     Fission Rate                         8.45436E-03    +/- 2.58353E-04\r\n",
      "   U235\r\n",
      "     Total Reaction Rate                  1.09536E-02    +/- 3.19839E-04\r\n",
      "     Fission Rate                         8.03295E-03    +/- 2.56046E-04\r\n",
      " Mesh Index (1, 3)\r\n",
      "   Total Material\r\n",
      "     Total Reaction Rate                  0.216858       +/- 3.83625E-03\r\n",
      "     Fission Rate                         4.43986E-03    +/- 1.58082E-04\r\n",
      "   U235\r\n",
      "     Total Reaction Rate                  5.71858E-03    +/- 1.92996E-04\r\n",
      "     Fission Rate                         4.22580E-03    +/- 1.57180E-04\r\n",
      " Mesh Index (2, 3)\r\n",
      "   Total Material\r\n",
      "     Total Reaction Rate                  0.428996       +/- 5.50022E-03\r\n",
      "     Fission Rate                         8.61686E-03    +/- 2.09779E-04\r\n",
      "   U235\r\n",
      "     Total Reaction Rate                  1.11768E-02    +/- 2.63497E-04\r\n",
      "     Fission Rate                         8.20307E-03    +/- 2.12299E-04\r\n",
      " Mesh Index (3, 3)\r\n",
      "   Total Material\r\n",
      "     Total Reaction Rate                  0.428914       +/- 6.58466E-03\r\n",
      "     Fission Rate                         8.71210E-03    +/- 2.53859E-04\r\n",
      "   U235\r\n",
      "     Total Reaction Rate                  1.12673E-02    +/- 3.07180E-04\r\n",
      "     Fission Rate                         8.29465E-03    +/- 2.49209E-04\r\n",
      "\r\n",
      " ============================>     TALLY 2     <============================\r\n",
      "\r\n",
      " Distributed Cell 0->10017->10005(1,2,1)->10000->1\r\n",
      "   Total Material\r\n",
      "     Total Reaction Rate                  4.42710E-02    +/- 9.04372E-04\r\n",
      "     Fission Rate                         4.70630E-03    +/- 2.34561E-04\r\n",
      "   U235\r\n",
      "     Total Reaction Rate                  6.07647E-03    +/- 2.85280E-04\r\n",
      "     Fission Rate                         4.49842E-03    +/- 2.33847E-04\r\n",
      " Distributed Cell 0->10017->10005(1,3,1)->10000->1\r\n",
      "   Total Material\r\n",
      "     Total Reaction Rate                  4.33547E-02    +/- 7.91172E-04\r\n",
      "     Fission Rate                         4.43986E-03    +/- 1.58082E-04\r\n",
      "   U235\r\n",
      "     Total Reaction Rate                  5.71858E-03    +/- 1.92996E-04\r\n",
      "     Fission Rate                         4.22580E-03    +/- 1.57180E-04\r\n",
      " Distributed Cell 0->10017->10005(1,5,1)->10000->1\r\n",
      "   Total Material\r\n",
      "     Total Reaction Rate                  4.34834E-02    +/- 9.32180E-04\r\n",
      "     Fission Rate                         4.65763E-03    +/- 2.22065E-04\r\n",
      "   U235\r\n",
      "     Total Reaction Rate                  6.02577E-03    +/- 2.70704E-04\r\n",
      "     Fission Rate                         4.45701E-03    +/- 2.21932E-04\r\n",
      " Distributed Cell 0->10017->10005(1,6,1)->10000->1\r\n",
      "   Total Material\r\n",
      "     Total Reaction Rate                  4.26607E-02    +/- 8.24080E-04\r\n",
      "     Fission Rate                         4.24447E-03    +/- 1.95682E-04\r\n",
      "   U235\r\n",
      "     Total Reaction Rate                  5.49232E-03    +/- 2.41076E-04\r\n",
      "     Fission Rate                         4.03383E-03    +/- 1.96185E-04\r\n",
      " Distributed Cell 0->10017->10005(1,8,1)->10000->1\r\n",
      "   Total Material\r\n",
      "     Total Reaction Rate                  4.30270E-02    +/- 8.99405E-04\r\n",
      "     Fission Rate                         4.35390E-03    +/- 2.07384E-04\r\n",
      "   U235\r\n",
      "     Total Reaction Rate                  5.63198E-03    +/- 2.56350E-04\r\n",
      "     Fission Rate                         4.15102E-03    +/- 2.10129E-04\r\n",
      " Distributed Cell 0->10017->10005(1,9,1)->10000->1\r\n",
      "   Total Material\r\n",
      "     Total Reaction Rate                  4.25484E-02    +/- 9.74677E-04\r\n",
      "     Fission Rate                         4.02877E-03    +/- 1.57944E-04\r\n",
      "   U235\r\n",
      "     Total Reaction Rate                  5.25398E-03    +/- 1.90293E-04\r\n",
      "     Fission Rate                         3.82471E-03    +/- 1.56901E-04\r\n",
      " Distributed Cell 0->10017->10005(2,1,1)->10000->1\r\n",
      "   Total Material\r\n",
      "     Total Reaction Rate                  4.42621E-02    +/- 8.30406E-04\r\n",
      "     Fission Rate                         4.46131E-03    +/- 1.69649E-04\r\n",
      "   U235\r\n",
      "     Total Reaction Rate                  5.77193E-03    +/- 2.08465E-04\r\n",
      "     Fission Rate                         4.25356E-03    +/- 1.69029E-04\r\n",
      " Distributed Cell 0->10017->10005(2,2,1)->10000->1\r\n",
      "   Total Material\r\n",
      "     Total Reaction Rate                  8.79292E-02    +/- 1.56323E-03\r\n",
      "     Fission Rate                         9.10873E-03    +/- 2.96788E-04\r\n",
      "   U235\r\n",
      "     Total Reaction Rate                  1.17812E-02    +/- 3.65443E-04\r\n",
      "     Fission Rate                         8.69392E-03    +/- 2.92488E-04\r\n",
      " Distributed Cell 0->10017->10005(2,3,1)->10000->1\r\n",
      "   Total Material\r\n",
      "     Total Reaction Rate                  8.67717E-02    +/- 1.19882E-03\r\n",
      "     Fission Rate                         8.61686E-03    +/- 2.09779E-04\r\n",
      "   U235\r\n",
      "     Total Reaction Rate                  1.11768E-02    +/- 2.63497E-04\r\n",
      "     Fission Rate                         8.20307E-03    +/- 2.12299E-04\r\n",
      " Distributed Cell 0->10017->10005(2,4,1)->10000->1\r\n",
      "   Total Material\r\n",
      "     Total Reaction Rate                  8.77458E-02    +/- 1.51565E-03\r\n",
      "     Fission Rate                         9.09618E-03    +/- 3.27902E-04\r\n",
      "   U235\r\n",
      "     Total Reaction Rate                  1.17914E-02    +/- 4.03603E-04\r\n",
      "     Fission Rate                         8.68138E-03    +/- 3.29083E-04\r\n",
      " Distributed Cell 0->10017->10005(2,5,1)->10000->1\r\n",
      "   Total Material\r\n",
      "     Total Reaction Rate                  8.71390E-02    +/- 1.31058E-03\r\n",
      "     Fission Rate                         8.52090E-03    +/- 2.76829E-04\r\n",
      "   U235\r\n",
      "     Total Reaction Rate                  1.10921E-02    +/- 3.30699E-04\r\n",
      "     Fission Rate                         8.11253E-03    +/- 2.75282E-04\r\n",
      " Distributed Cell 0->10017->10005(2,6,1)->10000->1\r\n",
      "   Total Material\r\n",
      "     Total Reaction Rate                  8.70508E-02    +/- 1.34836E-03\r\n",
      "     Fission Rate                         8.46994E-03    +/- 2.69239E-04\r\n",
      "   U235\r\n",
      "     Total Reaction Rate                  1.09718E-02    +/- 3.26930E-04\r\n",
      "     Fission Rate                         8.04489E-03    +/- 2.67996E-04\r\n",
      " Distributed Cell 0->10017->10005(2,7,1)->10000->1\r\n",
      "   Total Material\r\n",
      "     Total Reaction Rate                  8.75677E-02    +/- 1.32279E-03\r\n",
      "     Fission Rate                         9.05091E-03    +/- 3.10104E-04\r\n",
      "   U235\r\n",
      "     Total Reaction Rate                  1.16978E-02    +/- 3.70156E-04\r\n",
      "     Fission Rate                         8.64537E-03    +/- 3.09484E-04\r\n",
      " Distributed Cell 0->10017->10005(2,8,1)->10000->1\r\n",
      "   Total Material\r\n",
      "     Total Reaction Rate                  8.64836E-02    +/- 1.32178E-03\r\n",
      "     Fission Rate                         8.52270E-03    +/- 2.96303E-04\r\n",
      "   U235\r\n",
      "     Total Reaction Rate                  1.11112E-02    +/- 3.57066E-04\r\n",
      "     Fission Rate                         8.12469E-03    +/- 2.96828E-04\r\n",
      " Distributed Cell 0->10017->10005(2,9,1)->10000->1\r\n",
      "   Total Material\r\n",
      "     Total Reaction Rate                  8.61733E-02    +/- 1.59541E-03\r\n",
      "     Fission Rate                         8.68563E-03    +/- 3.05590E-04\r\n",
      "   U235\r\n",
      "     Total Reaction Rate                  1.12199E-02    +/- 3.72857E-04\r\n",
      "     Fission Rate                         8.28135E-03    +/- 3.04852E-04\r\n",
      " Distributed Cell 0->10017->10005(3,1,1)->10000->1\r\n",
      "   Total Material\r\n",
      "     Total Reaction Rate                  4.23969E-02    +/- 8.03405E-04\r\n",
      "     Fission Rate                         4.42721E-03    +/- 1.75556E-04\r\n",
      "   U235\r\n",
      "     Total Reaction Rate                  5.71199E-03    +/- 2.10175E-04\r\n",
      "     Fission Rate                         4.22553E-03    +/- 1.75693E-04\r\n",
      " Distributed Cell 0->10017->10005(3,2,1)->10000->1\r\n",
      "   Total Material\r\n",
      "     Total Reaction Rate                  8.41680E-02    +/- 1.37220E-03\r\n",
      "     Fission Rate                         8.45436E-03    +/- 2.58353E-04\r\n",
      "   U235\r\n",
      "     Total Reaction Rate                  1.09536E-02    +/- 3.19839E-04\r\n",
      "     Fission Rate                         8.03295E-03    +/- 2.56046E-04\r\n",
      " Distributed Cell 0->10017->10005(3,3,1)->10000->1\r\n",
      "   Total Material\r\n",
      "     Total Reaction Rate                  8.63764E-02    +/- 1.42092E-03\r\n",
      "     Fission Rate                         8.71210E-03    +/- 2.53859E-04\r\n",
      "   U235\r\n",
      "     Total Reaction Rate                  1.12673E-02    +/- 3.07180E-04\r\n",
      "     Fission Rate                         8.29465E-03    +/- 2.49209E-04\r\n",
      " Distributed Cell 0->10017->10005(3,4,1)->10000->1\r\n",
      "   Total Material\r\n",
      "     Total Reaction Rate                  8.41366E-02    +/- 1.18479E-03\r\n",
      "     Fission Rate                         8.26907E-03    +/- 2.53161E-04\r\n",
      "   U235\r\n",
      "     Total Reaction Rate                  1.07503E-02    +/- 3.04018E-04\r\n",
      "     Fission Rate                         7.87086E-03    +/- 2.52597E-04\r\n",
      " Distributed Cell 0->10017->10005(3,5,1)->10000->1\r\n",
      "   Total Material\r\n",
      "     Total Reaction Rate                  8.54188E-02    +/- 1.33145E-03\r\n",
      "     Fission Rate                         7.92064E-03    +/- 3.13435E-04\r\n",
      "   U235\r\n",
      "     Total Reaction Rate                  1.03458E-02    +/- 3.81336E-04\r\n",
      "     Fission Rate                         7.51180E-03    +/- 3.10732E-04\r\n",
      " Distributed Cell 0->10017->10005(3,6,1)->10000->1\r\n",
      "   Total Material\r\n",
      "     Total Reaction Rate                  8.69762E-02    +/- 1.23886E-03\r\n",
      "     Fission Rate                         8.41371E-03    +/- 2.39896E-04\r\n",
      "   U235\r\n",
      "     Total Reaction Rate                  1.09596E-02    +/- 2.92377E-04\r\n",
      "     Fission Rate                         8.00481E-03    +/- 2.36730E-04\r\n",
      " Distributed Cell 0->10017->10005(3,7,1)->10000->1\r\n",
      "   Total Material\r\n",
      "     Total Reaction Rate                  8.81442E-02    +/- 1.33358E-03\r\n",
      "     Fission Rate                         9.00586E-03    +/- 3.15297E-04\r\n",
      "   U235\r\n",
      "     Total Reaction Rate                  1.16596E-02    +/- 3.79369E-04\r\n",
      "     Fission Rate                         8.60688E-03    +/- 3.13770E-04\r\n",
      " Distributed Cell 0->10017->10005(3,8,1)->10000->1\r\n",
      "   Total Material\r\n",
      "     Total Reaction Rate                  8.80096E-02    +/- 1.47950E-03\r\n",
      "     Fission Rate                         8.42699E-03    +/- 3.08416E-04\r\n",
      "   U235\r\n",
      "     Total Reaction Rate                  1.10027E-02    +/- 3.73280E-04\r\n",
      "     Fission Rate                         8.01998E-03    +/- 3.04544E-04\r\n",
      " Distributed Cell 0->10017->10005(3,9,1)->10000->1\r\n",
      "   Total Material\r\n",
      "     Total Reaction Rate                  8.44066E-02    +/- 1.26741E-03\r\n",
      "     Fission Rate                         8.08818E-03    +/- 2.89539E-04\r\n",
      "   U235\r\n",
      "     Total Reaction Rate                  1.04979E-02    +/- 3.53133E-04\r\n",
      "     Fission Rate                         7.67755E-03    +/- 2.87757E-04\r\n",
      " Distributed Cell 0->10017->10005(4,2,1)->10000->1\r\n",
      "   Total Material\r\n",
      "     Total Reaction Rate                  8.65107E-02    +/- 1.22594E-03\r\n",
      "     Fission Rate                         8.74403E-03    +/- 2.87730E-04\r\n",
      "   U235\r\n",
      "     Total Reaction Rate                  1.12848E-02    +/- 3.55371E-04\r\n",
      "     Fission Rate                         8.31802E-03    +/- 2.90251E-04\r\n",
      " Distributed Cell 0->10017->10005(4,3,1)->10000->1\r\n",
      "   Total Material\r\n",
      "     Total Reaction Rate                  8.65297E-02    +/- 1.46724E-03\r\n",
      "     Fission Rate                         8.87046E-03    +/- 3.46312E-04\r\n",
      "   U235\r\n",
      "     Total Reaction Rate                  1.14788E-02    +/- 4.25032E-04\r\n",
      "     Fission Rate                         8.46014E-03    +/- 3.46588E-04\r\n",
      " Distributed Cell 0->10017->10005(4,5,1)->10000->1\r\n",
      "   Total Material\r\n",
      "     Total Reaction Rate                  8.29035E-02    +/- 1.36096E-03\r\n",
      "     Fission Rate                         8.04575E-03    +/- 2.54204E-04\r\n",
      "   U235\r\n",
      "     Total Reaction Rate                  1.04918E-02    +/- 3.12242E-04\r\n",
      "     Fission Rate                         7.65907E-03    +/- 2.51700E-04\r\n",
      " Distributed Cell 0->10017->10005(4,6,1)->10000->1\r\n",
      "   Total Material\r\n",
      "     Total Reaction Rate                  8.56163E-02    +/- 1.17488E-03\r\n",
      "     Fission Rate                         8.11331E-03    +/- 2.73146E-04\r\n",
      "   U235\r\n",
      "     Total Reaction Rate                  1.06446E-02    +/- 3.34236E-04\r\n",
      "     Fission Rate                         7.70056E-03    +/- 2.72569E-04\r\n",
      " Distributed Cell 0->10017->10005(4,8,1)->10000->1\r\n",
      "   Total Material\r\n",
      "     Total Reaction Rate                  8.51621E-02    +/- 1.33311E-03\r\n",
      "     Fission Rate                         8.51988E-03    +/- 2.83317E-04\r\n",
      "   U235\r\n",
      "     Total Reaction Rate                  1.10744E-02    +/- 3.45910E-04\r\n",
      "     Fission Rate                         8.12016E-03    +/- 2.82287E-04\r\n",
      " Distributed Cell 0->10017->10005(4,9,1)->10000->1\r\n",
      "   Total Material\r\n",
      "     Total Reaction Rate                  8.59220E-02    +/- 1.35378E-03\r\n",
      "     Fission Rate                         8.23809E-03    +/- 2.60412E-04\r\n",
      "   U235\r\n",
      "     Total Reaction Rate                  1.07408E-02    +/- 3.19258E-04\r\n",
      "     Fission Rate                         7.82464E-03    +/- 2.60061E-04\r\n",
      " Distributed Cell 0->10017->10005(5,1,1)->10000->1\r\n",
      "   Total Material\r\n",
      "     Total Reaction Rate                  4.34417E-02    +/- 7.45098E-04\r\n",
      "     Fission Rate                         4.11496E-03    +/- 1.43556E-04\r\n",
      "   U235\r\n",
      "     Total Reaction Rate                  5.38075E-03    +/- 1.75045E-04\r\n",
      "     Fission Rate                         3.89730E-03    +/- 1.44946E-04\r\n",
      " Distributed Cell 0->10017->10005(5,2,1)->10000->1\r\n",
      "   Total Material\r\n",
      "     Total Reaction Rate                  8.67666E-02    +/- 1.29448E-03\r\n",
      "     Fission Rate                         8.70937E-03    +/- 3.14740E-04\r\n",
      "   U235\r\n",
      "     Total Reaction Rate                  1.12178E-02    +/- 3.85094E-04\r\n",
      "     Fission Rate                         8.27446E-03    +/- 3.16694E-04\r\n",
      " Distributed Cell 0->10017->10005(5,3,1)->10000->1\r\n",
      "   Total Material\r\n",
      "     Total Reaction Rate                  8.64297E-02    +/- 1.15872E-03\r\n",
      "     Fission Rate                         8.08123E-03    +/- 2.61765E-04\r\n",
      "   U235\r\n",
      "     Total Reaction Rate                  1.05406E-02    +/- 3.22530E-04\r\n",
      "     Fission Rate                         7.67014E-03    +/- 2.61020E-04\r\n",
      " Distributed Cell 0->10017->10005(5,4,1)->10000->1\r\n",
      "   Total Material\r\n",
      "     Total Reaction Rate                  8.61154E-02    +/- 1.24403E-03\r\n",
      "     Fission Rate                         8.38347E-03    +/- 2.59321E-04\r\n",
      "   U235\r\n",
      "     Total Reaction Rate                  1.09040E-02    +/- 3.19876E-04\r\n",
      "     Fission Rate                         7.98674E-03    +/- 2.60099E-04\r\n",
      " Distributed Cell 0->10017->10005(5,5,1)->10000->1\r\n",
      "   Total Material\r\n",
      "     Total Reaction Rate                  8.44470E-02    +/- 1.16874E-03\r\n",
      "     Fission Rate                         7.62295E-03    +/- 2.25970E-04\r\n",
      "   U235\r\n",
      "     Total Reaction Rate                  1.00082E-02    +/- 2.79780E-04\r\n",
      "     Fission Rate                         7.22369E-03    +/- 2.26199E-04\r\n",
      " Distributed Cell 0->10017->10005(5,6,1)->10000->1\r\n",
      "   Total Material\r\n",
      "     Total Reaction Rate                  8.33193E-02    +/- 1.27814E-03\r\n",
      "     Fission Rate                         7.72781E-03    +/- 2.65755E-04\r\n",
      "   U235\r\n",
      "     Total Reaction Rate                  1.01108E-02    +/- 3.20509E-04\r\n",
      "     Fission Rate                         7.32900E-03    +/- 2.64162E-04\r\n",
      " Distributed Cell 0->10017->10005(5,7,1)->10000->1\r\n",
      "   Total Material\r\n",
      "     Total Reaction Rate                  8.21118E-02    +/- 1.17133E-03\r\n",
      "     Fission Rate                         7.57003E-03    +/- 2.50026E-04\r\n",
      "   U235\r\n",
      "     Total Reaction Rate                  9.94379E-03    +/- 3.13284E-04\r\n",
      "     Fission Rate                         7.18496E-03    +/- 2.46234E-04\r\n",
      " Distributed Cell 0->10017->10005(5,8,1)->10000->1\r\n",
      "   Total Material\r\n",
      "     Total Reaction Rate                  8.53364E-02    +/- 1.10746E-03\r\n",
      "     Fission Rate                         8.45441E-03    +/- 2.56102E-04\r\n",
      "   U235\r\n",
      "     Total Reaction Rate                  1.10019E-02    +/- 3.03928E-04\r\n",
      "     Fission Rate                         8.05003E-03    +/- 2.57865E-04\r\n",
      " Distributed Cell 0->10017->10005(5,9,1)->10000->1\r\n",
      "   Total Material\r\n",
      "     Total Reaction Rate                  8.45649E-02    +/- 1.18201E-03\r\n",
      "     Fission Rate                         7.79099E-03    +/- 2.76735E-04\r\n",
      "   U235\r\n",
      "     Total Reaction Rate                  1.02182E-02    +/- 3.35673E-04\r\n",
      "     Fission Rate                         7.39374E-03    +/- 2.76445E-04\r\n",
      " Distributed Cell 0->10017->10005(6,1,1)->10000->1\r\n",
      "   Total Material\r\n",
      "     Total Reaction Rate                  4.41496E-02    +/- 7.54215E-04\r\n",
      "     Fission Rate                         4.40706E-03    +/- 1.51443E-04\r\n",
      "   U235\r\n",
      "     Total Reaction Rate                  5.70668E-03    +/- 1.82648E-04\r\n",
      "     Fission Rate                         4.18743E-03    +/- 1.50459E-04\r\n",
      " Distributed Cell 0->10017->10005(6,2,1)->10000->1\r\n",
      "   Total Material\r\n",
      "     Total Reaction Rate                  8.53907E-02    +/- 1.22179E-03\r\n",
      "     Fission Rate                         8.43301E-03    +/- 2.80923E-04\r\n",
      "   U235\r\n",
      "     Total Reaction Rate                  1.09358E-02    +/- 3.42119E-04\r\n",
      "     Fission Rate                         8.02356E-03    +/- 2.81239E-04\r\n",
      " Distributed Cell 0->10017->10005(6,3,1)->10000->1\r\n",
      "   Total Material\r\n",
      "     Total Reaction Rate                  8.46659E-02    +/- 1.16166E-03\r\n",
      "     Fission Rate                         8.26528E-03    +/- 2.50108E-04\r\n",
      "   U235\r\n",
      "     Total Reaction Rate                  1.07221E-02    +/- 3.05365E-04\r\n",
      "     Fission Rate                         7.86382E-03    +/- 2.50485E-04\r\n",
      " Distributed Cell 0->10017->10005(6,4,1)->10000->1\r\n",
      "   Total Material\r\n",
      "     Total Reaction Rate                  8.50270E-02    +/- 1.44968E-03\r\n",
      "     Fission Rate                         8.24794E-03    +/- 3.39347E-04\r\n",
      "   U235\r\n",
      "     Total Reaction Rate                  1.07523E-02    +/- 4.17606E-04\r\n",
      "     Fission Rate                         7.86298E-03    +/- 3.39660E-04\r\n",
      " Distributed Cell 0->10017->10005(6,5,1)->10000->1\r\n",
      "   Total Material\r\n",
      "     Total Reaction Rate                  8.11539E-02    +/- 9.94604E-04\r\n",
      "     Fission Rate                         7.30829E-03    +/- 2.39275E-04\r\n",
      "   U235\r\n",
      "     Total Reaction Rate                  9.62994E-03    +/- 2.92111E-04\r\n",
      "     Fission Rate                         6.92279E-03    +/- 2.38424E-04\r\n",
      " Distributed Cell 0->10017->10005(6,7,1)->10000->1\r\n",
      "   Total Material\r\n",
      "     Total Reaction Rate                  8.17350E-02    +/- 1.05051E-03\r\n",
      "     Fission Rate                         7.04552E-03    +/- 2.16899E-04\r\n",
      "   U235\r\n",
      "     Total Reaction Rate                  9.30899E-03    +/- 2.62783E-04\r\n",
      "     Fission Rate                         6.65506E-03    +/- 2.19563E-04\r\n",
      " Distributed Cell 0->10017->10005(6,8,1)->10000->1\r\n",
      "   Total Material\r\n",
      "     Total Reaction Rate                  8.39034E-02    +/- 1.19814E-03\r\n",
      "     Fission Rate                         7.53000E-03    +/- 2.53784E-04\r\n",
      "   U235\r\n",
      "     Total Reaction Rate                  9.94537E-03    +/- 3.08341E-04\r\n",
      "     Fission Rate                         7.12394E-03    +/- 2.54985E-04\r\n",
      " Distributed Cell 0->10017->10005(6,9,1)->10000->1\r\n",
      "   Total Material\r\n",
      "     Total Reaction Rate                  8.24725E-02    +/- 1.24814E-03\r\n",
      "     Fission Rate                         7.58356E-03    +/- 2.63323E-04\r\n",
      "   U235\r\n",
      "     Total Reaction Rate                  9.95975E-03    +/- 3.23116E-04\r\n",
      "     Fission Rate                         7.18775E-03    +/- 2.62695E-04\r\n",
      " Distributed Cell 0->10017->10005(7,2,1)->10000->1\r\n",
      "   Total Material\r\n",
      "     Total Reaction Rate                  8.56111E-02    +/- 1.30855E-03\r\n",
      "     Fission Rate                         8.68791E-03    +/- 2.99934E-04\r\n",
      "   U235\r\n",
      "     Total Reaction Rate                  1.12170E-02    +/- 3.72418E-04\r\n",
      "     Fission Rate                         8.27542E-03    +/- 2.99207E-04\r\n",
      " Distributed Cell 0->10017->10005(7,3,1)->10000->1\r\n",
      "   Total Material\r\n",
      "     Total Reaction Rate                  8.55823E-02    +/- 1.16760E-03\r\n",
      "     Fission Rate                         8.53389E-03    +/- 2.85927E-04\r\n",
      "   U235\r\n",
      "     Total Reaction Rate                  1.10862E-02    +/- 3.49013E-04\r\n",
      "     Fission Rate                         8.15135E-03    +/- 2.85002E-04\r\n",
      " Distributed Cell 0->10017->10005(7,5,1)->10000->1\r\n",
      "   Total Material\r\n",
      "     Total Reaction Rate                  8.55970E-02    +/- 1.10667E-03\r\n",
      "     Fission Rate                         7.81565E-03    +/- 2.60348E-04\r\n",
      "   U235\r\n",
      "     Total Reaction Rate                  1.02905E-02    +/- 3.15713E-04\r\n",
      "     Fission Rate                         7.42291E-03    +/- 2.62392E-04\r\n",
      " Distributed Cell 0->10017->10005(7,6,1)->10000->1\r\n",
      "   Total Material\r\n",
      "     Total Reaction Rate                  8.22695E-02    +/- 8.97316E-04\r\n",
      "     Fission Rate                         7.00140E-03    +/- 2.45793E-04\r\n",
      "   U235\r\n",
      "     Total Reaction Rate                  9.21623E-03    +/- 2.91295E-04\r\n",
      "     Fission Rate                         6.58534E-03    +/- 2.45570E-04\r\n",
      " Distributed Cell 0->10017->10005(7,7,1)->10000->1\r\n",
      "   Total Material\r\n",
      "     Total Reaction Rate                  8.25590E-02    +/- 1.17114E-03\r\n",
      "     Fission Rate                         7.61456E-03    +/- 2.75850E-04\r\n",
      "   U235\r\n",
      "     Total Reaction Rate                  9.97884E-03    +/- 3.28921E-04\r\n",
      "     Fission Rate                         7.21528E-03    +/- 2.75987E-04\r\n",
      " Distributed Cell 0->10017->10005(7,8,1)->10000->1\r\n",
      "   Total Material\r\n",
      "     Total Reaction Rate                  8.44566E-02    +/- 1.03474E-03\r\n",
      "     Fission Rate                         7.75115E-03    +/- 1.84794E-04\r\n",
      "   U235\r\n",
      "     Total Reaction Rate                  1.01469E-02    +/- 2.20425E-04\r\n",
      "     Fission Rate                         7.33144E-03    +/- 1.85328E-04\r\n",
      " Distributed Cell 0->10017->10005(7,9,1)->10000->1\r\n",
      "   Total Material\r\n",
      "     Total Reaction Rate                  8.41147E-02    +/- 1.44177E-03\r\n",
      "     Fission Rate                         7.86755E-03    +/- 2.69631E-04\r\n",
      "   U235\r\n",
      "     Total Reaction Rate                  1.02808E-02    +/- 3.23563E-04\r\n",
      "     Fission Rate                         7.47790E-03    +/- 2.68857E-04\r\n",
      " Distributed Cell 0->10017->10005(8,1,1)->10000->1\r\n",
      "   Total Material\r\n",
      "     Total Reaction Rate                  4.37362E-02    +/- 1.09461E-03\r\n",
      "     Fission Rate                         4.05009E-03    +/- 2.05442E-04\r\n",
      "   U235\r\n",
      "     Total Reaction Rate                  5.28788E-03    +/- 2.52589E-04\r\n",
      "     Fission Rate                         3.83568E-03    +/- 2.03041E-04\r\n",
      " Distributed Cell 0->10017->10005(8,2,1)->10000->1\r\n",
      "   Total Material\r\n",
      "     Total Reaction Rate                  8.61980E-02    +/- 1.49302E-03\r\n",
      "     Fission Rate                         8.11611E-03    +/- 2.83148E-04\r\n",
      "   U235\r\n",
      "     Total Reaction Rate                  1.05632E-02    +/- 3.48340E-04\r\n",
      "     Fission Rate                         7.69921E-03    +/- 2.84682E-04\r\n",
      " Distributed Cell 0->10017->10005(8,3,1)->10000->1\r\n",
      "   Total Material\r\n",
      "     Total Reaction Rate                  8.55751E-02    +/- 1.21603E-03\r\n",
      "     Fission Rate                         8.30144E-03    +/- 2.76609E-04\r\n",
      "   U235\r\n",
      "     Total Reaction Rate                  1.08049E-02    +/- 3.39788E-04\r\n",
      "     Fission Rate                         7.90277E-03    +/- 2.75969E-04\r\n",
      " Distributed Cell 0->10017->10005(8,4,1)->10000->1\r\n",
      "   Total Material\r\n",
      "     Total Reaction Rate                  8.49761E-02    +/- 1.10577E-03\r\n",
      "     Fission Rate                         7.78627E-03    +/- 2.38237E-04\r\n",
      "   U235\r\n",
      "     Total Reaction Rate                  1.02042E-02    +/- 2.82038E-04\r\n",
      "     Fission Rate                         7.38589E-03    +/- 2.36063E-04\r\n",
      " Distributed Cell 0->10017->10005(8,5,1)->10000->1\r\n",
      "   Total Material\r\n",
      "     Total Reaction Rate                  8.37530E-02    +/- 1.15077E-03\r\n",
      "     Fission Rate                         7.56721E-03    +/- 2.36725E-04\r\n",
      "   U235\r\n",
      "     Total Reaction Rate                  9.91379E-03    +/- 2.84630E-04\r\n",
      "     Fission Rate                         7.17406E-03    +/- 2.38076E-04\r\n",
      " Distributed Cell 0->10017->10005(8,6,1)->10000->1\r\n",
      "   Total Material\r\n",
      "     Total Reaction Rate                  8.24173E-02    +/- 9.45758E-04\r\n",
      "     Fission Rate                         7.20599E-03    +/- 2.04952E-04\r\n",
      "   U235\r\n",
      "     Total Reaction Rate                  9.47110E-03    +/- 2.50355E-04\r\n",
      "     Fission Rate                         6.79504E-03    +/- 2.08208E-04\r\n",
      " Distributed Cell 0->10017->10005(8,7,1)->10000->1\r\n",
      "   Total Material\r\n",
      "     Total Reaction Rate                  8.16937E-02    +/- 1.31146E-03\r\n",
      "     Fission Rate                         7.18487E-03    +/- 2.33881E-04\r\n",
      "   U235\r\n",
      "     Total Reaction Rate                  9.45744E-03    +/- 2.88793E-04\r\n",
      "     Fission Rate                         6.78700E-03    +/- 2.33808E-04\r\n",
      " Distributed Cell 0->10017->10005(8,8,1)->10000->1\r\n",
      "   Total Material\r\n",
      "     Total Reaction Rate                  8.50531E-02    +/- 1.03810E-03\r\n",
      "     Fission Rate                         8.01210E-03    +/- 2.23349E-04\r\n",
      "   U235\r\n",
      "     Total Reaction Rate                  1.04778E-02    +/- 2.72036E-04\r\n",
      "     Fission Rate                         7.61831E-03    +/- 2.22808E-04\r\n",
      " Distributed Cell 0->10017->10005(8,9,1)->10000->1\r\n",
      "   Total Material\r\n",
      "     Total Reaction Rate                  8.48993E-02    +/- 1.45197E-03\r\n",
      "     Fission Rate                         7.88057E-03    +/- 3.31061E-04\r\n",
      "   U235\r\n",
      "     Total Reaction Rate                  1.03600E-02    +/- 4.07926E-04\r\n",
      "     Fission Rate                         7.50390E-03    +/- 3.32560E-04\r\n",
      " Distributed Cell 0->10017->10005(9,1,1)->10000->1\r\n",
      "   Total Material\r\n",
      "     Total Reaction Rate                  4.28024E-02    +/- 1.02868E-03\r\n",
      "     Fission Rate                         4.25377E-03    +/- 2.19614E-04\r\n",
      "   U235\r\n",
      "     Total Reaction Rate                  5.51873E-03    +/- 2.70929E-04\r\n",
      "     Fission Rate                         4.03606E-03    +/- 2.19941E-04\r\n",
      " Distributed Cell 0->10017->10005(9,2,1)->10000->1\r\n",
      "   Total Material\r\n",
      "     Total Reaction Rate                  8.65653E-02    +/- 1.54182E-03\r\n",
      "     Fission Rate                         8.30178E-03    +/- 3.02825E-04\r\n",
      "   U235\r\n",
      "     Total Reaction Rate                  1.08174E-02    +/- 3.68022E-04\r\n",
      "     Fission Rate                         7.88062E-03    +/- 3.02057E-04\r\n",
      " Distributed Cell 0->10017->10005(9,3,1)->10000->1\r\n",
      "   Total Material\r\n",
      "     Total Reaction Rate                  8.54666E-02    +/- 1.04293E-03\r\n",
      "     Fission Rate                         8.10460E-03    +/- 2.79467E-04\r\n",
      "   U235\r\n",
      "     Total Reaction Rate                  1.05875E-02    +/- 3.32741E-04\r\n",
      "     Fission Rate                         7.69763E-03    +/- 2.77745E-04\r\n",
      " Distributed Cell 0->10017->10005(9,4,1)->10000->1\r\n",
      "   Total Material\r\n",
      "     Total Reaction Rate                  8.38778E-02    +/- 1.24999E-03\r\n",
      "     Fission Rate                         7.72423E-03    +/- 2.77674E-04\r\n",
      "   U235\r\n",
      "     Total Reaction Rate                  1.01411E-02    +/- 3.39998E-04\r\n",
      "     Fission Rate                         7.32404E-03    +/- 2.75267E-04\r\n",
      " Distributed Cell 0->10017->10005(9,5,1)->10000->1\r\n",
      "   Total Material\r\n",
      "     Total Reaction Rate                  8.47953E-02    +/- 1.29890E-03\r\n",
      "     Fission Rate                         7.86850E-03    +/- 2.91058E-04\r\n",
      "   U235\r\n",
      "     Total Reaction Rate                  1.02601E-02    +/- 3.56547E-04\r\n",
      "     Fission Rate                         7.45603E-03    +/- 2.91488E-04\r\n",
      " Distributed Cell 0->10017->10005(9,6,1)->10000->1\r\n",
      "   Total Material\r\n",
      "     Total Reaction Rate                  8.70443E-02    +/- 1.16557E-03\r\n",
      "     Fission Rate                         7.97022E-03    +/- 3.21239E-04\r\n",
      "   U235\r\n",
      "     Total Reaction Rate                  1.04252E-02    +/- 3.90677E-04\r\n",
      "     Fission Rate                         7.56558E-03    +/- 3.22336E-04\r\n",
      " Distributed Cell 0->10017->10005(9,7,1)->10000->1\r\n",
      "   Total Material\r\n",
      "     Total Reaction Rate                  8.59554E-02    +/- 1.24396E-03\r\n",
      "     Fission Rate                         8.45608E-03    +/- 3.20469E-04\r\n",
      "   U235\r\n",
      "     Total Reaction Rate                  1.10281E-02    +/- 3.86485E-04\r\n",
      "     Fission Rate                         8.04889E-03    +/- 3.18680E-04\r\n",
      " Distributed Cell 0->10017->10005(9,8,1)->10000->1\r\n",
      "   Total Material\r\n",
      "     Total Reaction Rate                  8.59986E-02    +/- 1.27439E-03\r\n",
      "     Fission Rate                         8.19615E-03    +/- 2.24641E-04\r\n",
      "   U235\r\n",
      "     Total Reaction Rate                  1.06906E-02    +/- 2.74302E-04\r\n",
      "     Fission Rate                         7.79391E-03    +/- 2.24157E-04\r\n",
      " Distributed Cell 0->10017->10005(9,9,1)->10000->1\r\n",
      "   Total Material\r\n",
      "     Total Reaction Rate                  8.18086E-02    +/- 1.35197E-03\r\n",
      "     Fission Rate                         8.05883E-03    +/- 3.08450E-04\r\n",
      "   U235\r\n",
      "     Total Reaction Rate                  1.04927E-02    +/- 3.69031E-04\r\n",
      "     Fission Rate                         7.67617E-03    +/- 3.08268E-04\r\n"
     ]
    }
   ],
   "source": [
    "!cat tallies.out"
   ]
  },
  {
   "cell_type": "markdown",
   "metadata": {
    "collapsed": true
   },
   "source": [
    "## Distributed materials\n",
    "\n",
    "In a depletion problem, every fuel pin might need its own unique material.  We have a feature called \"distributed materials\" which makes this easier."
   ]
  },
  {
   "cell_type": "code",
   "execution_count": 42,
   "metadata": {
    "collapsed": false
   },
   "outputs": [],
   "source": [
    "many_uo2_mats = []\n",
    "for i in range(72):\n",
    "    m = openmc.Material(name='uo2')\n",
    "    m.add_element('U', 1.0, enrichment=3.0)\n",
    "    m.add_nuclide('O16', 2.0)\n",
    "    m.set_density('g/cm3', 10.0)\n",
    "    many_uo2_mats.append(m)\n",
    "\n",
    "mf.add_materials(many_uo2_mats)\n",
    "mf.export_to_xml()"
   ]
  },
  {
   "cell_type": "code",
   "execution_count": 43,
   "metadata": {
    "collapsed": true
   },
   "outputs": [],
   "source": [
    "fuel.fill = many_uo2_mats\n",
    "g.export_to_xml()"
   ]
  },
  {
   "cell_type": "code",
   "execution_count": 44,
   "metadata": {
    "collapsed": false
   },
   "outputs": [
    {
     "name": "stdout",
     "output_type": "stream",
     "text": [
      "\n",
      "                               %%%%%%%%%%%%%%%\n",
      "                          %%%%%%%%%%%%%%%%%%%%%%%%\n",
      "                       %%%%%%%%%%%%%%%%%%%%%%%%%%%%%%\n",
      "                     %%%%%%%%%%%%%%%%%%%%%%%%%%%%%%%%%%\n",
      "                   %%%%%%%%%%%%%%%%%%%%%%%%%%%%%%%%%%%%%%\n",
      "                  %%%%%%%%%%%%%%%%%%%%%%%%%%%%%%%%%%%%%%%%\n",
      "                                   %%%%%%%%%%%%%%%%%%%%%%%%\n",
      "                                    %%%%%%%%%%%%%%%%%%%%%%%%\n",
      "                ###############      %%%%%%%%%%%%%%%%%%%%%%%%\n",
      "               ##################     %%%%%%%%%%%%%%%%%%%%%%%\n",
      "               ###################     %%%%%%%%%%%%%%%%%%%%%%%\n",
      "               ####################     %%%%%%%%%%%%%%%%%%%%%%\n",
      "               #####################     %%%%%%%%%%%%%%%%%%%%%\n",
      "               ######################     %%%%%%%%%%%%%%%%%%%%\n",
      "               #######################     %%%%%%%%%%%%%%%%%%\n",
      "                #######################     %%%%%%%%%%%%%%%%%\n",
      "                ######################     %%%%%%%%%%%%%%%%%\n",
      "                 ####################     %%%%%%%%%%%%%%%%%\n",
      "                   #################     %%%%%%%%%%%%%%%%%\n",
      "                    ###############     %%%%%%%%%%%%%%%%\n",
      "                      ############     %%%%%%%%%%%%%%%\n",
      "                         ########     %%%%%%%%%%%%%%\n",
      "                                     %%%%%%%%%%%\n",
      "\n",
      "                   | The OpenMC Monte Carlo Code\n",
      "         Copyright | 2011-2017 Massachusetts Institute of Technology\n",
      "           License | http://openmc.readthedocs.io/en/latest/license.html\n",
      "           Version | 0.8.0\n",
      "          Git SHA1 | 60a1f157dae88b62e1865a5fe3efd7ef0773a068\n",
      "         Date/Time | 2017-02-24 16:08:24\n",
      "     MPI Processes | 1\n",
      "\n",
      " ===========================================================================\n",
      " ========================>     INITIALIZATION     <=========================\n",
      " ===========================================================================\n",
      "\n",
      " Reading settings XML file...\n",
      " Reading geometry XML file...\n",
      " Reading materials XML file...\n",
      " Reading cross sections XML file...\n",
      " Reading tallies XML file...\n",
      " Reading plot XML file...\n",
      " Building neighboring cells lists for each surface...\n",
      "\n",
      " =======================>     PLOTTING SUMMARY     <========================\n",
      "\n",
      " Plot ID:               10004\n",
      " Plot file:             plot.ppm\n",
      " Universe depth:        -1\n",
      " Plot Type:             Slice\n",
      " Origin:                5.37500 5.37500 0.0\n",
      " Width:                 11.8250 11.8250\n",
      " Coloring:              Materials\n",
      " Basis:                 xy\n",
      " Pixels:                700 700\n",
      "\n",
      " \n",
      " WARNING: Cell overlap checking is ON\n",
      " Processing plot 10004: plot.ppm ...\n"
     ]
    },
    {
     "data": {
      "text/plain": [
       "0"
      ]
     },
     "execution_count": 44,
     "metadata": {},
     "output_type": "execute_result"
    }
   ],
   "source": [
    "openmc.plot_geometry()"
   ]
  },
  {
   "cell_type": "code",
   "execution_count": 45,
   "metadata": {
    "collapsed": false
   },
   "outputs": [
    {
     "data": {
      "image/png": "[encoded data removed]",
      "text/plain": [
       "<IPython.core.display.Image object>"
      ]
     },
     "execution_count": 45,
     "metadata": {},
     "output_type": "execute_result"
    }
   ],
   "source": [
    "!convert plot.ppm plot.png\n",
    "Image(\"plot.png\")"
   ]
  }
 ],
 "metadata": {
  "celltoolbar": "Raw Cell Format",
  "kernelspec": {
   "display_name": "Python 3",
   "language": "python",
   "name": "python3"
  },
  "language_info": {
   "codemirror_mode": {
    "name": "ipython",
    "version": 3
   },
   "file_extension": ".py",
   "mimetype": "text/x-python",
   "name": "python",
   "nbconvert_exporter": "python",
   "pygments_lexer": "ipython3",
   "version": "3.5.2"
  }
 },
 "nbformat": 4,
 "nbformat_minor": 0
}
