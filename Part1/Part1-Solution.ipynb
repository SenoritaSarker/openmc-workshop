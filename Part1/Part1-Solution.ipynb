{
 "cells": [
  {
   "cell_type": "code",
   "execution_count": 1,
   "metadata": {
    "collapsed": false
   },
   "outputs": [],
   "source": [
    "import openmc"
   ]
  },
  {
   "cell_type": "markdown",
   "metadata": {},
   "source": [
    "In this segment, we will go through the basic features of the Python API for constructing input files and running OpenMC. We highly recommend having a copy of the [Python API reference documentation](http://openmc.readthedocs.org/en/latest/pythonapi/index.html) open in another browser tab that you can refer to. Also remember that within a notebook, you can press `Shift+Tab` with the cursor placed over a function, class, or method to see its documentation."
   ]
  },
  {
   "cell_type": "markdown",
   "metadata": {},
   "source": [
    "## Defining Materials\n",
    "\n",
    "We need to define the materials in the simulation.  Let's start with UO2.  Notice the difference between `add_nuclide` and `add_element`."
   ]
  },
  {
   "cell_type": "code",
   "execution_count": 2,
   "metadata": {
    "collapsed": false
   },
   "outputs": [],
   "source": [
    "uo2 = openmc.Material()\n",
    "uo2.add_nuclide('U235', 0.03)\n",
    "uo2.add_nuclide('U238', 0.97)\n",
    "uo2.add_element('O', 2.0)\n",
    "uo2.set_density('g/cm3', 10.0)"
   ]
  },
  {
   "cell_type": "markdown",
   "metadata": {},
   "source": [
    "Now, let's define the zirconium and water materials.  To get accurate results with water in a thermal reactor, we need $S(\\alpha, \\beta)$ scattering tables."
   ]
  },
  {
   "cell_type": "code",
   "execution_count": 3,
   "metadata": {
    "collapsed": false
   },
   "outputs": [],
   "source": [
    "zirconium = openmc.Material()\n",
    "zirconium.add_element('Zr', 1.0)\n",
    "zirconium.set_density('g/cm3', 6.6)\n",
    "\n",
    "water = openmc.Material()\n",
    "water.add_element('H', 2.0)\n",
    "water.add_element('O', 1.0)\n",
    "water.set_density('g/cm3', 0.7)"
   ]
  },
  {
   "cell_type": "code",
   "execution_count": 4,
   "metadata": {
    "collapsed": true
   },
   "outputs": [],
   "source": [
    "water.add_s_alpha_beta('c_H_in_H2O')"
   ]
  },
  {
   "cell_type": "markdown",
   "metadata": {},
   "source": [
    "To actually create a materials.xml file, we need to instantiate a `Materials` collection and register our materials with it."
   ]
  },
  {
   "cell_type": "code",
   "execution_count": 5,
   "metadata": {
    "collapsed": false
   },
   "outputs": [
    {
     "name": "stdout",
     "output_type": "stream",
     "text": [
      "<?xml version='1.0' encoding='utf-8'?>\r\n",
      "<materials>\r\n",
      "    <material id=\"10000\">\r\n",
      "        <density units=\"g/cm3\" value=\"10.0\" />\r\n",
      "        <nuclide ao=\"0.03\" name=\"U235\" />\r\n",
      "        <nuclide ao=\"0.97\" name=\"U238\" />\r\n",
      "        <nuclide ao=\"1.999242\" name=\"O16\" />\r\n",
      "        <nuclide ao=\"0.000758\" name=\"O17\" />\r\n",
      "    </material>\r\n",
      "    <material id=\"10001\">\r\n",
      "        <density units=\"g/cm3\" value=\"6.6\" />\r\n",
      "        <nuclide ao=\"0.5145\" name=\"Zr90\" />\r\n",
      "        <nuclide ao=\"0.1122\" name=\"Zr91\" />\r\n",
      "        <nuclide ao=\"0.1715\" name=\"Zr92\" />\r\n",
      "        <nuclide ao=\"0.1738\" name=\"Zr94\" />\r\n",
      "        <nuclide ao=\"0.028\" name=\"Zr96\" />\r\n",
      "    </material>\r\n",
      "    <material id=\"10002\">\r\n",
      "        <density units=\"g/cm3\" value=\"0.7\" />\r\n",
      "        <nuclide ao=\"1.99968852\" name=\"H1\" />\r\n",
      "        <nuclide ao=\"0.00031148\" name=\"H2\" />\r\n",
      "        <nuclide ao=\"0.999621\" name=\"O16\" />\r\n",
      "        <nuclide ao=\"0.000379\" name=\"O17\" />\r\n",
      "        <sab name=\"c_H_in_H2O\" />\r\n",
      "    </material>\r\n",
      "</materials>\r\n"
     ]
    }
   ],
   "source": [
    "mf = openmc.Materials((uo2, zirconium, water))\n",
    "mf.export_to_xml()\n",
    "!cat materials.xml"
   ]
  },
  {
   "cell_type": "markdown",
   "metadata": {},
   "source": [
    "## Defining Geometry and Assigning Materials\n",
    "\n",
    "We start by defining the cylindrical and planar surfaces that we need to create the model."
   ]
  },
  {
   "cell_type": "code",
   "execution_count": 6,
   "metadata": {
    "collapsed": true
   },
   "outputs": [],
   "source": [
    "fuel_or = openmc.ZCylinder(R=0.39)\n",
    "clad_ir = openmc.ZCylinder(R=0.40)\n",
    "clad_or = openmc.ZCylinder(R=0.46)\n",
    "\n",
    "pitch = 1.26\n",
    "left = openmc.XPlane(x0=-pitch/2, boundary_type='reflective')\n",
    "right = openmc.XPlane(x0=pitch/2, boundary_type='reflective')\n",
    "bottom = openmc.YPlane(y0=-pitch/2, boundary_type='reflective')\n",
    "top = openmc.YPlane(y0=pitch/2, boundary_type='reflective')"
   ]
  },
  {
   "cell_type": "markdown",
   "metadata": {},
   "source": [
    "With the surfaces created, we can now take advantage of the built-in operators on surfaces to create regions. The unary `-` and `+` operators correspond to the negative and positive half-spaces of a surface respectively. These half-spaces can then be combined using `&` (intersection), `|` (union), and `~` (complement)."
   ]
  },
  {
   "cell_type": "code",
   "execution_count": 7,
   "metadata": {
    "collapsed": false
   },
   "outputs": [],
   "source": [
    "fuel_region = -fuel_or\n",
    "gap_region = +fuel_or & -clad_ir\n",
    "clad_region = +clad_ir & -clad_or\n",
    "water_region = +left & -right & +bottom & -top & +clad_or"
   ]
  },
  {
   "cell_type": "markdown",
   "metadata": {},
   "source": [
    "Each cell that we create has to a physical region and an assigned fill (material, universe, or lattice) which is placed in the region."
   ]
  },
  {
   "cell_type": "code",
   "execution_count": 8,
   "metadata": {
    "collapsed": true
   },
   "outputs": [],
   "source": [
    "fuel = openmc.Cell()\n",
    "fuel.fill = uo2\n",
    "fuel.region = fuel_region\n",
    "\n",
    "gap = openmc.Cell()\n",
    "gap.fill = 'void'\n",
    "gap.region = gap_region\n",
    "\n",
    "clad = openmc.Cell()\n",
    "clad.fill = zirconium\n",
    "clad.region = clad_region\n",
    "\n",
    "moderator = openmc.Cell()\n",
    "moderator.fill = water\n",
    "moderator.region = water_region"
   ]
  },
  {
   "cell_type": "markdown",
   "metadata": {},
   "source": [
    "Finally, there is some boilerplate code that we need to assign the cells we created to a universe and tell OpenMC that this universe is the \"root\" universe."
   ]
  },
  {
   "cell_type": "code",
   "execution_count": 9,
   "metadata": {
    "collapsed": false
   },
   "outputs": [
    {
     "name": "stdout",
     "output_type": "stream",
     "text": [
      "<?xml version='1.0' encoding='utf-8'?>\r\n",
      "<geometry>\r\n",
      "    <cell id=\"10000\" material=\"10000\" region=\"-10000\" universe=\"10000\" />\r\n",
      "    <cell id=\"10001\" material=\"void\" region=\"10000 -10001\" universe=\"10000\" />\r\n",
      "    <cell id=\"10002\" material=\"10001\" region=\"10001 -10002\" universe=\"10000\" />\r\n",
      "    <cell id=\"10003\" material=\"10002\" region=\"10003 -10004 10005 -10006 10002\" universe=\"10000\" />\r\n",
      "    <surface coeffs=\"0.0 0.0 0.39\" id=\"10000\" type=\"z-cylinder\" />\r\n",
      "    <surface coeffs=\"0.0 0.0 0.4\" id=\"10001\" type=\"z-cylinder\" />\r\n",
      "    <surface coeffs=\"0.0 0.0 0.46\" id=\"10002\" type=\"z-cylinder\" />\r\n",
      "    <surface boundary=\"reflective\" coeffs=\"-0.63\" id=\"10003\" type=\"x-plane\" />\r\n",
      "    <surface boundary=\"reflective\" coeffs=\"0.63\" id=\"10004\" type=\"x-plane\" />\r\n",
      "    <surface boundary=\"reflective\" coeffs=\"-0.63\" id=\"10005\" type=\"y-plane\" />\r\n",
      "    <surface boundary=\"reflective\" coeffs=\"0.63\" id=\"10006\" type=\"y-plane\" />\r\n",
      "</geometry>\r\n"
     ]
    }
   ],
   "source": [
    "root = openmc.Universe()\n",
    "root.add_cells((fuel, gap, clad, moderator))\n",
    "\n",
    "g = openmc.Geometry()\n",
    "g.root_universe = root\n",
    "g.export_to_xml()\n",
    "!cat geometry.xml"
   ]
  },
  {
   "cell_type": "markdown",
   "metadata": {},
   "source": [
    "## Geometry plotting\n",
    "\n",
    "With materials and geometry defined, we can now make a plot of our problem. To create a plot, we simply need to specify the origin and the number of pixels in each direction. By default, the plot will be a \"slice\" plot which cuts through the geometry. For our case here, we specify that we want the plot to be colored by material (rather than by cell) and we specify the colors to use."
   ]
  },
  {
   "cell_type": "code",
   "execution_count": 10,
   "metadata": {
    "collapsed": true
   },
   "outputs": [],
   "source": [
    "p = openmc.Plot()"
   ]
  },
  {
   "cell_type": "code",
   "execution_count": 11,
   "metadata": {
    "collapsed": false
   },
   "outputs": [],
   "source": [
    "p.width = [pitch, pitch]\n",
    "p.pixels = [400, 400]\n",
    "p.color_by = 'material'\n",
    "p.colors = {uo2:'salmon', water:'cyan', zirconium:'gray'}"
   ]
  },
  {
   "cell_type": "markdown",
   "metadata": {},
   "source": [
    "The usual way plots are handled in OpenMC is the following:  Make an `openmc.Plots` object containing the relevant `openmc.Plot` objects.  Call the `openmc.Plots.export_to_xml()` method.  Then call `openmc.plot_geometry`.  That will activate the Fortran plotting module which will then output .ppm plot files.  You can use a utility like `convert` to change the .ppm to .png.\n",
    "\n",
    "In a Jupyter notebook, you can automate all that with `openmc.plot_inline`."
   ]
  },
  {
   "cell_type": "code",
   "execution_count": 12,
   "metadata": {
    "collapsed": false
   },
   "outputs": [
    {
     "data": {
      "image/png": "[encoded data removed]",
      "text/plain": [
       "<IPython.core.display.Image object>"
      ]
     },
     "metadata": {},
     "output_type": "display_data"
    }
   ],
   "source": [
    "openmc.plot_inline(p)"
   ]
  },
  {
   "cell_type": "markdown",
   "metadata": {},
   "source": [
    "## Starting source and settings\n",
    "\n",
    "The Python API has a module ``openmc.stats`` with various univariate and multivariate probability distributions. We can use these distributions to create a starting source using the ``openmc.Source`` object."
   ]
  },
  {
   "cell_type": "code",
   "execution_count": 13,
   "metadata": {
    "collapsed": true
   },
   "outputs": [],
   "source": [
    "point = openmc.stats.Point((0, 0, 0))\n",
    "src = openmc.Source(space=point)"
   ]
  },
  {
   "cell_type": "markdown",
   "metadata": {},
   "source": [
    "Now let's create a `Settings` object and give it the source we created along with specifying how many batches and particles we want to run."
   ]
  },
  {
   "cell_type": "code",
   "execution_count": 14,
   "metadata": {
    "collapsed": true
   },
   "outputs": [],
   "source": [
    "settings = openmc.Settings()"
   ]
  },
  {
   "cell_type": "code",
   "execution_count": 15,
   "metadata": {
    "collapsed": true
   },
   "outputs": [],
   "source": [
    "settings.source = src\n",
    "settings.batches = 100\n",
    "settings.inactive = 10\n",
    "settings.particles = 1000"
   ]
  },
  {
   "cell_type": "code",
   "execution_count": 16,
   "metadata": {
    "collapsed": false
   },
   "outputs": [
    {
     "name": "stdout",
     "output_type": "stream",
     "text": [
      "<?xml version='1.0' encoding='utf-8'?>\r\n",
      "<settings>\r\n",
      "    <run_mode>eigenvalue</run_mode>\r\n",
      "    <particles>1000</particles>\r\n",
      "    <batches>100</batches>\r\n",
      "    <inactive>10</inactive>\r\n",
      "    <source strength=\"1.0\">\r\n",
      "        <space type=\"point\">\r\n",
      "            <parameters>0 0 0</parameters>\r\n",
      "        </space>\r\n",
      "    </source>\r\n",
      "</settings>\r\n"
     ]
    }
   ],
   "source": [
    "settings.export_to_xml()\n",
    "!cat settings.xml"
   ]
  },
  {
   "cell_type": "markdown",
   "metadata": {},
   "source": [
    "## User-defined tallies\n",
    "\n",
    "To give a quick example of how to create tallies, we will show how one would tally the total, fission, absorption, and (n,$\\gamma$) reaction rates for $^{235}$U in the cell containing fuel."
   ]
  },
  {
   "cell_type": "code",
   "execution_count": 17,
   "metadata": {
    "collapsed": true
   },
   "outputs": [],
   "source": [
    "t = openmc.Tally()"
   ]
  },
  {
   "cell_type": "code",
   "execution_count": 18,
   "metadata": {
    "collapsed": false
   },
   "outputs": [],
   "source": [
    "cell_filter = openmc.CellFilter(fuel.id)\n",
    "t.filters = [cell_filter]\n",
    "\n",
    "t.nuclides = ['U235']\n",
    "t.scores = ['total', 'fission', 'absorption', '(n,gamma)']"
   ]
  },
  {
   "cell_type": "markdown",
   "metadata": {},
   "source": [
    "Similar to the other files, we need to create a `Tallies` collection, register our tally, and then export it to XML."
   ]
  },
  {
   "cell_type": "code",
   "execution_count": 19,
   "metadata": {
    "collapsed": false
   },
   "outputs": [
    {
     "name": "stdout",
     "output_type": "stream",
     "text": [
      "<?xml version='1.0' encoding='utf-8'?>\r\n",
      "<tallies>\r\n",
      "    <tally id=\"10000\">\r\n",
      "        <filter bins=\"10000\" type=\"cell\" />\r\n",
      "        <nuclides>U235</nuclides>\r\n",
      "        <scores>total fission absorption (n,gamma)</scores>\r\n",
      "    </tally>\r\n",
      "</tallies>\r\n"
     ]
    }
   ],
   "source": [
    "tallies = openmc.Tallies([t])\n",
    "tallies.export_to_xml()\n",
    "!cat tallies.xml"
   ]
  },
  {
   "cell_type": "markdown",
   "metadata": {},
   "source": [
    "## Running OpenMC\n",
    "\n",
    "Running OpenMC from Python can be done using the `openmc.run()` function. This function allows you to set the number of MPI processes and OpenMP threads, if need be."
   ]
  },
  {
   "cell_type": "code",
   "execution_count": 20,
   "metadata": {
    "collapsed": false,
    "scrolled": true
   },
   "outputs": [
    {
     "name": "stdout",
     "output_type": "stream",
     "text": [
      "\n",
      "                               %%%%%%%%%%%%%%%\n",
      "                          %%%%%%%%%%%%%%%%%%%%%%%%\n",
      "                       %%%%%%%%%%%%%%%%%%%%%%%%%%%%%%\n",
      "                     %%%%%%%%%%%%%%%%%%%%%%%%%%%%%%%%%%\n",
      "                   %%%%%%%%%%%%%%%%%%%%%%%%%%%%%%%%%%%%%%\n",
      "                  %%%%%%%%%%%%%%%%%%%%%%%%%%%%%%%%%%%%%%%%\n",
      "                                   %%%%%%%%%%%%%%%%%%%%%%%%\n",
      "                                    %%%%%%%%%%%%%%%%%%%%%%%%\n",
      "                ###############      %%%%%%%%%%%%%%%%%%%%%%%%\n",
      "               ##################     %%%%%%%%%%%%%%%%%%%%%%%\n",
      "               ###################     %%%%%%%%%%%%%%%%%%%%%%%\n",
      "               ####################     %%%%%%%%%%%%%%%%%%%%%%\n",
      "               #####################     %%%%%%%%%%%%%%%%%%%%%\n",
      "               ######################     %%%%%%%%%%%%%%%%%%%%\n",
      "               #######################     %%%%%%%%%%%%%%%%%%\n",
      "                #######################     %%%%%%%%%%%%%%%%%\n",
      "                ######################     %%%%%%%%%%%%%%%%%\n",
      "                 ####################     %%%%%%%%%%%%%%%%%\n",
      "                   #################     %%%%%%%%%%%%%%%%%\n",
      "                    ###############     %%%%%%%%%%%%%%%%\n",
      "                      ############     %%%%%%%%%%%%%%%\n",
      "                         ########     %%%%%%%%%%%%%%\n",
      "                                     %%%%%%%%%%%\n",
      "\n",
      "                   | The OpenMC Monte Carlo Code\n",
      "         Copyright | 2011-2017 Massachusetts Institute of Technology\n",
      "           License | http://openmc.readthedocs.io/en/latest/license.html\n",
      "           Version | 0.8.0\n",
      "          Git SHA1 | 4353e57f956de3b4baba77e38d50ddd49668efc2\n",
      "         Date/Time | 2017-03-24 16:44:35\n",
      "     MPI Processes | 1\n",
      "\n",
      " Reading settings XML file...\n",
      " Reading geometry XML file...\n",
      " Reading materials XML file...\n",
      " Reading cross sections XML file...\n",
      " Reading U235 from /home/smharper/openmc/data/nndc_hdf5/U235.h5\n",
      " Reading U238 from /home/smharper/openmc/data/nndc_hdf5/U238.h5\n",
      " Reading O16 from /home/smharper/openmc/data/nndc_hdf5/O16.h5\n",
      " Reading O17 from /home/smharper/openmc/data/nndc_hdf5/O17.h5\n",
      " Reading Zr90 from /home/smharper/openmc/data/nndc_hdf5/Zr90.h5\n",
      " Reading Zr91 from /home/smharper/openmc/data/nndc_hdf5/Zr91.h5\n",
      " Reading Zr92 from /home/smharper/openmc/data/nndc_hdf5/Zr92.h5\n",
      " Reading Zr94 from /home/smharper/openmc/data/nndc_hdf5/Zr94.h5\n",
      " Reading Zr96 from /home/smharper/openmc/data/nndc_hdf5/Zr96.h5\n",
      " Reading H1 from /home/smharper/openmc/data/nndc_hdf5/H1.h5\n",
      " Reading H2 from /home/smharper/openmc/data/nndc_hdf5/H2.h5\n",
      " Reading c_H_in_H2O from /home/smharper/openmc/data/nndc_hdf5/c_H_in_H2O.h5\n",
      " Maximum neutron transport energy: 2.00000E+07 eV for U235\n",
      " Reading tallies XML file...\n",
      " Building neighboring cells lists for each surface...\n",
      " Initializing source particles...\n",
      "\n",
      " ====================>     K EIGENVALUE SIMULATION     <====================\n",
      "\n",
      "  Bat./Gen.      k            Average k         \n",
      "  =========   ========   ====================   \n",
      "        1/1    1.37416                       \n",
      "        2/1    1.37680                       \n",
      "        3/1    1.34755                       \n",
      "        4/1    1.40942                       \n",
      "        5/1    1.39096                       \n",
      "        6/1    1.37727                       \n",
      "        7/1    1.48953                       \n",
      "        8/1    1.42420                       \n",
      "        9/1    1.33546                       \n",
      "       10/1    1.45354                       \n",
      "       11/1    1.34578                       \n",
      "       12/1    1.35906    1.35242 +/- 0.00664\n",
      "       13/1    1.35881    1.35455 +/- 0.00439\n",
      "       14/1    1.37784    1.36037 +/- 0.00660\n",
      "       15/1    1.37662    1.36362 +/- 0.00606\n",
      "       16/1    1.35316    1.36188 +/- 0.00524\n",
      "       17/1    1.40136    1.36752 +/- 0.00717\n",
      "       18/1    1.39298    1.37070 +/- 0.00698\n",
      "       19/1    1.32656    1.36580 +/- 0.00787\n",
      "       20/1    1.31548    1.36076 +/- 0.00865\n",
      "       21/1    1.32369    1.35739 +/- 0.00852\n",
      "       22/1    1.29245    1.35198 +/- 0.00948\n",
      "       23/1    1.38150    1.35425 +/- 0.00901\n",
      "       24/1    1.45307    1.36131 +/- 0.01093\n",
      "       25/1    1.43999    1.36656 +/- 0.01144\n",
      "       26/1    1.36938    1.36673 +/- 0.01071\n",
      "       27/1    1.34915    1.36570 +/- 0.01011\n",
      "       28/1    1.28016    1.36095 +/- 0.01065\n",
      "       29/1    1.39880    1.36294 +/- 0.01027\n",
      "       30/1    1.36225    1.36290 +/- 0.00974\n",
      "       31/1    1.33481    1.36157 +/- 0.00936\n",
      "       32/1    1.33931    1.36055 +/- 0.00898\n",
      "       33/1    1.38190    1.36148 +/- 0.00864\n",
      "       34/1    1.32297    1.35988 +/- 0.00842\n",
      "       35/1    1.37799    1.36060 +/- 0.00811\n",
      "       36/1    1.31768    1.35895 +/- 0.00797\n",
      "       37/1    1.28514    1.35622 +/- 0.00814\n",
      "       38/1    1.38959    1.35741 +/- 0.00793\n",
      "       39/1    1.41964    1.35956 +/- 0.00795\n",
      "       40/1    1.32407    1.35837 +/- 0.00777\n",
      "       41/1    1.32105    1.35717 +/- 0.00761\n",
      "       42/1    1.39430    1.35833 +/- 0.00746\n",
      "       43/1    1.34063    1.35779 +/- 0.00725\n",
      "       44/1    1.29736    1.35602 +/- 0.00725\n",
      "       45/1    1.31949    1.35497 +/- 0.00712\n",
      "       46/1    1.26503    1.35247 +/- 0.00736\n",
      "       47/1    1.42088    1.35432 +/- 0.00739\n",
      "       48/1    1.32822    1.35364 +/- 0.00723\n",
      "       49/1    1.29742    1.35219 +/- 0.00718\n",
      "       50/1    1.33506    1.35177 +/- 0.00702\n",
      "       51/1    1.33904    1.35146 +/- 0.00685\n",
      "       52/1    1.39872    1.35258 +/- 0.00678\n",
      "       53/1    1.40806    1.35387 +/- 0.00674\n",
      "       54/1    1.34717    1.35372 +/- 0.00659\n",
      "       55/1    1.40722    1.35491 +/- 0.00655\n",
      "       56/1    1.37861    1.35542 +/- 0.00643\n",
      "       57/1    1.39014    1.35616 +/- 0.00633\n",
      "       58/1    1.36592    1.35636 +/- 0.00620\n",
      "       59/1    1.41113    1.35748 +/- 0.00618\n",
      "       60/1    1.32905    1.35691 +/- 0.00608\n",
      "       61/1    1.34627    1.35670 +/- 0.00596\n",
      "       62/1    1.30024    1.35562 +/- 0.00595\n",
      "       63/1    1.30424    1.35465 +/- 0.00591\n",
      "       64/1    1.34856    1.35454 +/- 0.00580\n",
      "       65/1    1.37373    1.35489 +/- 0.00571\n",
      "       66/1    1.28875    1.35370 +/- 0.00573\n",
      "       67/1    1.34409    1.35354 +/- 0.00563\n",
      "       68/1    1.35040    1.35348 +/- 0.00553\n",
      "       69/1    1.37725    1.35388 +/- 0.00545\n",
      "       70/1    1.42671    1.35510 +/- 0.00550\n",
      "       71/1    1.42328    1.35622 +/- 0.00552\n",
      "       72/1    1.31404    1.35554 +/- 0.00547\n",
      "       73/1    1.36517    1.35569 +/- 0.00539\n",
      "       74/1    1.41507    1.35662 +/- 0.00538\n",
      "       75/1    1.34859    1.35649 +/- 0.00530\n",
      "       76/1    1.32263    1.35598 +/- 0.00524\n",
      "       77/1    1.37745    1.35630 +/- 0.00518\n",
      "       78/1    1.22250    1.35433 +/- 0.00547\n",
      "       79/1    1.33116    1.35400 +/- 0.00540\n",
      "       80/1    1.37299    1.35427 +/- 0.00533\n",
      "       81/1    1.36000    1.35435 +/- 0.00525\n",
      "       82/1    1.38446    1.35477 +/- 0.00519\n",
      "       83/1    1.34290    1.35460 +/- 0.00512\n",
      "       84/1    1.38210    1.35498 +/- 0.00507\n",
      "       85/1    1.42431    1.35590 +/- 0.00509\n",
      "       86/1    1.38022    1.35622 +/- 0.00503\n",
      "       87/1    1.39629    1.35674 +/- 0.00499\n",
      "       88/1    1.36247    1.35681 +/- 0.00493\n",
      "       89/1    1.19866    1.35481 +/- 0.00526\n",
      "       90/1    1.35374    1.35480 +/- 0.00519\n",
      "       91/1    1.36675    1.35495 +/- 0.00513\n",
      "       92/1    1.36609    1.35508 +/- 0.00507\n",
      "       93/1    1.40764    1.35572 +/- 0.00505\n",
      "       94/1    1.32421    1.35534 +/- 0.00500\n",
      "       95/1    1.36792    1.35549 +/- 0.00494\n",
      "       96/1    1.38965    1.35589 +/- 0.00490\n",
      "       97/1    1.31206    1.35538 +/- 0.00487\n",
      "       98/1    1.33245    1.35512 +/- 0.00482\n",
      "       99/1    1.50789    1.35684 +/- 0.00507\n",
      "      100/1    1.31396    1.35636 +/- 0.00503\n",
      " Creating state point statepoint.100.h5...\n",
      "\n",
      " =======================>     TIMING STATISTICS     <=======================\n",
      "\n",
      " Total time for initialization     =  7.3785E-01 seconds\n",
      "   Reading cross sections          =  6.7572E-01 seconds\n",
      " Total time in simulation          =  1.4465E+01 seconds\n",
      "   Time in transport only          =  1.4448E+01 seconds\n",
      "   Time in inactive batches        =  1.4699E+00 seconds\n",
      "   Time in active batches          =  1.2995E+01 seconds\n",
      "   Time synchronizing fission bank =  4.5627E-03 seconds\n",
      "     Sampling source sites         =  2.3116E-03 seconds\n",
      "     SEND/RECV source sites        =  1.2521E-03 seconds\n",
      "   Time accumulating tallies       =  3.9971E-04 seconds\n",
      " Total time for finalization       =  2.3287E-04 seconds\n",
      " Total time elapsed                =  1.5210E+01 seconds\n",
      " Calculation Rate (inactive)       =  6803.04 neutrons/second\n",
      " Calculation Rate (active)         =  6925.84 neutrons/second\n",
      "\n",
      " ============================>     RESULTS     <============================\n",
      "\n",
      " k-effective (Collision)     =  1.35635 +/-  0.00428\n",
      " k-effective (Track-length)  =  1.35636 +/-  0.00503\n",
      " k-effective (Absorption)    =  1.36104 +/-  0.00329\n",
      " Combined k-effective        =  1.35967 +/-  0.00309\n",
      " Leakage Fraction            =  0.00000 +/-  0.00000\n",
      "\n"
     ]
    },
    {
     "data": {
      "text/plain": [
       "0"
      ]
     },
     "execution_count": 20,
     "metadata": {},
     "output_type": "execute_result"
    }
   ],
   "source": [
    "openmc.run()"
   ]
  },
  {
   "cell_type": "code",
   "execution_count": 21,
   "metadata": {
    "collapsed": false
   },
   "outputs": [
    {
     "name": "stdout",
     "output_type": "stream",
     "text": [
      "\r\n",
      " ==========================>     TALLY 10000     <==========================\r\n",
      "\r\n",
      " Cell 10000\r\n",
      "   U235\r\n",
      "     Total Reaction Rate                  0.724719       +/- 2.47088E-03\r\n",
      "     Fission Rate                         0.522718       +/- 2.03084E-03\r\n",
      "     Absorption Rate                      0.633419       +/- 2.38833E-03\r\n",
      "     (n,gamma)                            0.110699       +/- 3.75627E-04\r\n"
     ]
    }
   ],
   "source": [
    "!cat tallies.out"
   ]
  }
 ],
 "metadata": {
  "kernelspec": {
   "display_name": "Python 3",
   "language": "python",
   "name": "python3"
  },
  "language_info": {
   "codemirror_mode": {
    "name": "ipython",
    "version": 3
   },
   "file_extension": ".py",
   "mimetype": "text/x-python",
   "name": "python",
   "nbconvert_exporter": "python",
   "pygments_lexer": "ipython3",
   "version": "3.5.2"
  }
 },
 "nbformat": 4,
 "nbformat_minor": 0
}
