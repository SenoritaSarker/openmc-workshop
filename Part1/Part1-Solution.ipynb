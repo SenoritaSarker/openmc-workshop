{
 "cells": [
  {
   "cell_type": "code",
   "execution_count": 1,
   "metadata": {
    "collapsed": false
   },
   "outputs": [],
   "source": [
    "import openmc"
   ]
  },
  {
   "cell_type": "markdown",
   "metadata": {},
   "source": [
    "In this segment, we will go through the basic features of the Python API for constructing input files and running OpenMC. We highly recommend having a copy of the [Python API reference documentation](http://openmc.readthedocs.org/en/latest/pythonapi/index.html) open in another browser tab that you can refer to. Also remember that within a notebook, you can press `Shift+Tab` with the cursor placed over a function, class, or method to see its documentation."
   ]
  },
  {
   "cell_type": "markdown",
   "metadata": {},
   "source": [
    "## Defining Materials\n",
    "\n",
    "First we need to create any nuclides/elements that will appear in materials."
   ]
  },
  {
   "cell_type": "code",
   "execution_count": 2,
   "metadata": {
    "collapsed": true
   },
   "outputs": [],
   "source": [
    "u235 = openmc.Nuclide('U235')\n",
    "u238 = openmc.Nuclide('U238')\n",
    "o16 = openmc.Nuclide('O16')\n",
    "zr = openmc.Element('Zr')\n",
    "h1 = openmc.Nuclide('H1')"
   ]
  },
  {
   "cell_type": "markdown",
   "metadata": {},
   "source": [
    "Now we can create `Material`s using the nuclides we created."
   ]
  },
  {
   "cell_type": "code",
   "execution_count": 3,
   "metadata": {
    "collapsed": false
   },
   "outputs": [],
   "source": [
    "uo2 = openmc.Material(1, \"uo2\")\n",
    "uo2.add_nuclide(u235, 0.03)\n",
    "uo2.add_nuclide(u238, 0.97)\n",
    "uo2.add_nuclide(o16, 2.0)\n",
    "uo2.set_density('g/cm3', 10.0)\n",
    "\n",
    "zirconium = openmc.Material(2, \"zirconium\")\n",
    "zirconium.add_element(zr, 1.0)\n",
    "zirconium.set_density('g/cm3', 6.6)\n",
    "\n",
    "water = openmc.Material(3, \"h2o\")\n",
    "water.add_nuclide(h1, 2.0)\n",
    "water.add_nuclide(o16, 1.0)\n",
    "water.set_density('g/cm3', 0.7)\n",
    "water.add_s_alpha_beta('c_H_in_H2O')"
   ]
  },
  {
   "cell_type": "markdown",
   "metadata": {},
   "source": [
    "To actually create a materials.xml file, we need to instantiate a `Materials` collection and register our materials with it."
   ]
  },
  {
   "cell_type": "code",
   "execution_count": 4,
   "metadata": {
    "collapsed": false
   },
   "outputs": [
    {
     "name": "stdout",
     "output_type": "stream",
     "text": [
      "<?xml version='1.0' encoding='utf-8'?>\r\n",
      "<materials>\r\n",
      "    <material id=\"1\" name=\"uo2\">\r\n",
      "        <density units=\"g/cm3\" value=\"10.0\" />\r\n",
      "        <nuclide ao=\"0.03\" name=\"U235\" />\r\n",
      "        <nuclide ao=\"0.97\" name=\"U238\" />\r\n",
      "        <nuclide ao=\"2.0\" name=\"O16\" />\r\n",
      "    </material>\r\n",
      "    <material id=\"2\" name=\"zirconium\">\r\n",
      "        <density units=\"g/cm3\" value=\"6.6\" />\r\n",
      "        <nuclide ao=\"0.5145\" name=\"Zr90\" />\r\n",
      "        <nuclide ao=\"0.1122\" name=\"Zr91\" />\r\n",
      "        <nuclide ao=\"0.1715\" name=\"Zr92\" />\r\n",
      "        <nuclide ao=\"0.1738\" name=\"Zr94\" />\r\n",
      "        <nuclide ao=\"0.028\" name=\"Zr96\" />\r\n",
      "    </material>\r\n",
      "    <material id=\"3\" name=\"h2o\">\r\n",
      "        <density units=\"g/cm3\" value=\"0.7\" />\r\n",
      "        <nuclide ao=\"2.0\" name=\"H1\" />\r\n",
      "        <nuclide ao=\"1.0\" name=\"O16\" />\r\n",
      "        <sab name=\"c_H_in_H2O\" />\r\n",
      "    </material>\r\n",
      "</materials>\r\n"
     ]
    }
   ],
   "source": [
    "mf = openmc.Materials((uo2, zirconium, water))\n",
    "mf.export_to_xml()\n",
    "!cat materials.xml"
   ]
  },
  {
   "cell_type": "markdown",
   "metadata": {},
   "source": [
    "## Defining Geometry and Assigning Materials\n",
    "\n",
    "We start by defining the cylindrical and planar surfaces that we need to create the model."
   ]
  },
  {
   "cell_type": "code",
   "execution_count": 5,
   "metadata": {
    "collapsed": true
   },
   "outputs": [],
   "source": [
    "fuel_or = openmc.ZCylinder(R=0.39)\n",
    "clad_ir = openmc.ZCylinder(R=0.40)\n",
    "clad_or = openmc.ZCylinder(R=0.46)\n",
    "\n",
    "pitch = 1.26\n",
    "left = openmc.XPlane(x0=-pitch/2, boundary_type='reflective')\n",
    "right = openmc.XPlane(x0=pitch/2, boundary_type='reflective')\n",
    "bottom = openmc.YPlane(y0=-pitch/2, boundary_type='reflective')\n",
    "top = openmc.YPlane(y0=pitch/2, boundary_type='reflective')"
   ]
  },
  {
   "cell_type": "markdown",
   "metadata": {},
   "source": [
    "With the surfaces created, we can now take advantage of the built-in operators on surfaces to create regions. The unary `-` and `+` operators correspond to the negative and positive half-spaces of a surface respectively. These half-spaces can then be combined using `&` (intersection), `|` (union), and `~` (complement)."
   ]
  },
  {
   "cell_type": "code",
   "execution_count": 6,
   "metadata": {
    "collapsed": false
   },
   "outputs": [],
   "source": [
    "fuel_region = -fuel_or\n",
    "gap_region = +fuel_or & -clad_ir\n",
    "clad_region = +clad_ir & -clad_or\n",
    "water_region = +left & -right & +bottom & -top & +clad_or"
   ]
  },
  {
   "cell_type": "markdown",
   "metadata": {},
   "source": [
    "Each cell that we create has to a physical region and an assigned fill (material, universe, or lattice) which is placed in the region."
   ]
  },
  {
   "cell_type": "code",
   "execution_count": 7,
   "metadata": {
    "collapsed": true
   },
   "outputs": [],
   "source": [
    "fuel = openmc.Cell(1, 'fuel')\n",
    "fuel.fill = uo2\n",
    "fuel.region = fuel_region\n",
    "\n",
    "gap = openmc.Cell(2, 'air gap')\n",
    "gap.fill = 'void'\n",
    "gap.region = gap_region\n",
    "\n",
    "clad = openmc.Cell(3, 'clad')\n",
    "clad.fill = zirconium\n",
    "clad.region = clad_region\n",
    "\n",
    "moderator = openmc.Cell(4, 'moderator')\n",
    "moderator.fill = water\n",
    "moderator.region = water_region"
   ]
  },
  {
   "cell_type": "markdown",
   "metadata": {},
   "source": [
    "Finally, there is some boilerplate code that we need to assign the cells we created to a universe and tell OpenMC that this universe is the \"root\" universe."
   ]
  },
  {
   "cell_type": "code",
   "execution_count": 8,
   "metadata": {
    "collapsed": false
   },
   "outputs": [
    {
     "name": "stdout",
     "output_type": "stream",
     "text": [
      "<?xml version='1.0' encoding='utf-8'?>\r\n",
      "<geometry>\r\n",
      "    <cell id=\"1\" material=\"1\" name=\"fuel\" region=\"-10000\" universe=\"0\" />\r\n",
      "    <cell id=\"2\" material=\"void\" name=\"air gap\" region=\"10000 -10001\" universe=\"0\" />\r\n",
      "    <cell id=\"3\" material=\"2\" name=\"clad\" region=\"10001 -10002\" universe=\"0\" />\r\n",
      "    <cell id=\"4\" material=\"3\" name=\"moderator\" region=\"10003 -10004 10005 -10006 10002\" universe=\"0\" />\r\n",
      "    <surface coeffs=\"0.0 0.0 0.39\" id=\"10000\" type=\"z-cylinder\" />\r\n",
      "    <surface coeffs=\"0.0 0.0 0.4\" id=\"10001\" type=\"z-cylinder\" />\r\n",
      "    <surface coeffs=\"0.0 0.0 0.46\" id=\"10002\" type=\"z-cylinder\" />\r\n",
      "    <surface boundary=\"reflective\" coeffs=\"-0.63\" id=\"10003\" type=\"x-plane\" />\r\n",
      "    <surface boundary=\"reflective\" coeffs=\"0.63\" id=\"10004\" type=\"x-plane\" />\r\n",
      "    <surface boundary=\"reflective\" coeffs=\"-0.63\" id=\"10005\" type=\"y-plane\" />\r\n",
      "    <surface boundary=\"reflective\" coeffs=\"0.63\" id=\"10006\" type=\"y-plane\" />\r\n",
      "</geometry>\r\n"
     ]
    }
   ],
   "source": [
    "root = openmc.Universe(0)\n",
    "root.add_cells((fuel, gap, clad, moderator))\n",
    "\n",
    "g = openmc.Geometry()\n",
    "g.root_universe = root\n",
    "g.export_to_xml()\n",
    "!cat geometry.xml"
   ]
  },
  {
   "cell_type": "markdown",
   "metadata": {},
   "source": [
    "## Geometry plotting\n",
    "\n",
    "With materials and geometry defined, we can now make a plot of our problem. To create a plot, we simply need to specify the origin and the number of pixels in each direction. By default, the plot will be a \"slice\" plot which cuts through the geometry. For our case here, we specify that we want the plot to be colored by material (rather than by cell) and we assign yellow to fuel and blue to water."
   ]
  },
  {
   "cell_type": "code",
   "execution_count": 9,
   "metadata": {
    "collapsed": true
   },
   "outputs": [],
   "source": [
    "p = openmc.Plot()\n",
    "p.width = [pitch, pitch]\n",
    "p.pixels = [400, 400]\n",
    "p.color = 'mat'\n",
    "p.col_spec = {uo2.id: (255, 255, 0), water.id: (0, 0, 255)}"
   ]
  },
  {
   "cell_type": "markdown",
   "metadata": {},
   "source": [
    "With our plot created, we need to add it to a `Plots` collection which can be exported to XML."
   ]
  },
  {
   "cell_type": "code",
   "execution_count": 10,
   "metadata": {
    "collapsed": false
   },
   "outputs": [
    {
     "name": "stdout",
     "output_type": "stream",
     "text": [
      "<?xml version='1.0' encoding='utf-8'?>\r\n",
      "<plots>\r\n",
      "    <plot basis=\"xy\" color=\"mat\" filename=\"plot\" id=\"10000\" type=\"slice\">\r\n",
      "        <origin>0.0 0.0 0.0</origin>\r\n",
      "        <width>1.26 1.26</width>\r\n",
      "        <pixels>400 400</pixels>\r\n",
      "        <col_spec id=\"1\" rgb=\"255 255 0\" />\r\n",
      "        <col_spec id=\"3\" rgb=\"0 0 255\" />\r\n",
      "    </plot>\r\n",
      "</plots>\r\n"
     ]
    }
   ],
   "source": [
    "plots = openmc.Plots()\n",
    "plots.append(p)\n",
    "plots.export_to_xml()\n",
    "!cat plots.xml"
   ]
  },
  {
   "cell_type": "markdown",
   "metadata": {},
   "source": [
    "Now we can run OpenMC in plotting mode by calling the `plot_geometry()` function. Under the hood this is calling `openmc --plot`."
   ]
  },
  {
   "cell_type": "code",
   "execution_count": 11,
   "metadata": {
    "collapsed": false
   },
   "outputs": [
    {
     "name": "stdout",
     "output_type": "stream",
     "text": [
      "\n",
      "                               %%%%%%%%%%%%%%%\n",
      "                          %%%%%%%%%%%%%%%%%%%%%%%%\n",
      "                       %%%%%%%%%%%%%%%%%%%%%%%%%%%%%%\n",
      "                     %%%%%%%%%%%%%%%%%%%%%%%%%%%%%%%%%%\n",
      "                   %%%%%%%%%%%%%%%%%%%%%%%%%%%%%%%%%%%%%%\n",
      "                  %%%%%%%%%%%%%%%%%%%%%%%%%%%%%%%%%%%%%%%%\n",
      "                                   %%%%%%%%%%%%%%%%%%%%%%%%\n",
      "                                    %%%%%%%%%%%%%%%%%%%%%%%%\n",
      "                ###############      %%%%%%%%%%%%%%%%%%%%%%%%\n",
      "               ##################     %%%%%%%%%%%%%%%%%%%%%%%\n",
      "               ###################     %%%%%%%%%%%%%%%%%%%%%%%\n",
      "               ####################     %%%%%%%%%%%%%%%%%%%%%%\n",
      "               #####################     %%%%%%%%%%%%%%%%%%%%%\n",
      "               ######################     %%%%%%%%%%%%%%%%%%%%\n",
      "               #######################     %%%%%%%%%%%%%%%%%%\n",
      "                #######################     %%%%%%%%%%%%%%%%%\n",
      "                ######################     %%%%%%%%%%%%%%%%%\n",
      "                 ####################     %%%%%%%%%%%%%%%%%\n",
      "                   #################     %%%%%%%%%%%%%%%%%\n",
      "                    ###############     %%%%%%%%%%%%%%%%\n",
      "                      ############     %%%%%%%%%%%%%%%\n",
      "                         ########     %%%%%%%%%%%%%%\n",
      "                                     %%%%%%%%%%%\n",
      "\n",
      "                   | The OpenMC Monte Carlo Code\n",
      "         Copyright | 2011-2017 Massachusetts Institute of Technology\n",
      "           License | http://openmc.readthedocs.io/en/latest/license.html\n",
      "           Version | 0.8.0\n",
      "          Git SHA1 | 60a1f157dae88b62e1865a5fe3efd7ef0773a068\n",
      "         Date/Time | 2017-02-24 16:06:48\n",
      "     MPI Processes | 1\n",
      "\n",
      " ===========================================================================\n",
      " ========================>     INITIALIZATION     <=========================\n",
      " ===========================================================================\n",
      "\n",
      " Reading geometry XML file...\n",
      " Reading materials XML file...\n",
      " Reading cross sections XML file...\n",
      " Reading plot XML file...\n",
      " Building neighboring cells lists for each surface...\n",
      "\n",
      " =======================>     PLOTTING SUMMARY     <========================\n",
      "\n",
      " Plot ID:               10000\n",
      " Plot file:             plot.ppm\n",
      " Universe depth:        -1\n",
      " Plot Type:             Slice\n",
      " Origin:                0.0 0.0 0.0\n",
      " Width:                 1.26000 1.26000\n",
      " Coloring:              Materials\n",
      " Basis:                 xy\n",
      " Pixels:                400 400\n",
      "\n",
      " \n",
      " WARNING: Cell overlap checking is ON\n",
      " Processing plot 10000: plot.ppm ...\n"
     ]
    },
    {
     "data": {
      "text/plain": [
       "0"
      ]
     },
     "execution_count": 11,
     "metadata": {},
     "output_type": "execute_result"
    }
   ],
   "source": [
    "openmc.plot_geometry()"
   ]
  },
  {
   "cell_type": "markdown",
   "metadata": {},
   "source": [
    "OpenMC writes out a peculiar image with a `.ppm` extension. If you have ImageMagick installed, this can be converted into a more normal `.png` file."
   ]
  },
  {
   "cell_type": "code",
   "execution_count": 12,
   "metadata": {
    "collapsed": false
   },
   "outputs": [],
   "source": [
    "!convert plot.ppm plot.png"
   ]
  },
  {
   "cell_type": "markdown",
   "metadata": {},
   "source": [
    "We can use functionality from IPython to display the image inline in our notebook:"
   ]
  },
  {
   "cell_type": "code",
   "execution_count": 13,
   "metadata": {
    "collapsed": false,
    "scrolled": false
   },
   "outputs": [
    {
     "data": {
      "image/png": "[encoded data removed]",
      "text/plain": [
       "<IPython.core.display.Image object>"
      ]
     },
     "execution_count": 13,
     "metadata": {},
     "output_type": "execute_result"
    }
   ],
   "source": [
    "from IPython.display import Image\n",
    "Image(\"plot.png\")"
   ]
  },
  {
   "cell_type": "markdown",
   "metadata": {},
   "source": [
    "## Starting source and settings\n",
    "\n",
    "The Python API has a module ``openmc.stats`` with various univariate and multivariate probability distributions. We can use these distributions to create a starting source using the ``openmc.Source`` object."
   ]
  },
  {
   "cell_type": "code",
   "execution_count": 14,
   "metadata": {
    "collapsed": true
   },
   "outputs": [],
   "source": [
    "point = openmc.stats.Point((0, 0, 0))\n",
    "src = openmc.Source(space=point)"
   ]
  },
  {
   "cell_type": "markdown",
   "metadata": {},
   "source": [
    "Now let's create a `Settings` object and give it the source we created along with specifying how many batches and particles we want to run."
   ]
  },
  {
   "cell_type": "code",
   "execution_count": 15,
   "metadata": {
    "collapsed": true
   },
   "outputs": [],
   "source": [
    "settings = openmc.Settings()\n",
    "settings.source = src\n",
    "settings.batches = 100\n",
    "settings.inactive = 10\n",
    "settings.particles = 1000"
   ]
  },
  {
   "cell_type": "code",
   "execution_count": 16,
   "metadata": {
    "collapsed": false
   },
   "outputs": [
    {
     "name": "stdout",
     "output_type": "stream",
     "text": [
      "<?xml version='1.0' encoding='utf-8'?>\r\n",
      "<settings>\r\n",
      "    <run_mode>eigenvalue</run_mode>\r\n",
      "    <particles>1000</particles>\r\n",
      "    <batches>100</batches>\r\n",
      "    <inactive>10</inactive>\r\n",
      "    <source strength=\"1.0\">\r\n",
      "        <space type=\"point\">\r\n",
      "            <parameters>0 0 0</parameters>\r\n",
      "        </space>\r\n",
      "    </source>\r\n",
      "</settings>\r\n"
     ]
    }
   ],
   "source": [
    "settings.export_to_xml()\n",
    "!cat settings.xml"
   ]
  },
  {
   "cell_type": "markdown",
   "metadata": {},
   "source": [
    "## User-defined tallies\n",
    "\n",
    "To give a quick example of how to create tallies, we will show how one would tally the total, fission, absorption, and (n,$\\gamma$) reaction rates for $^{235}$U in the cell containing fuel."
   ]
  },
  {
   "cell_type": "code",
   "execution_count": 17,
   "metadata": {
    "collapsed": false
   },
   "outputs": [],
   "source": [
    "t = openmc.Tally(1)\n",
    "\n",
    "cell_filter = openmc.CellFilter(fuel.id)\n",
    "t.filters = [cell_filter]\n",
    "\n",
    "t.nuclides = ['U235']\n",
    "t.scores = ['total', 'fission', 'absorption', '(n,gamma)']"
   ]
  },
  {
   "cell_type": "markdown",
   "metadata": {},
   "source": [
    "Similar to the other files, we need to create a `Tallies` collection, register our tally, and then export it to XML."
   ]
  },
  {
   "cell_type": "code",
   "execution_count": 18,
   "metadata": {
    "collapsed": false
   },
   "outputs": [
    {
     "name": "stdout",
     "output_type": "stream",
     "text": [
      "<?xml version='1.0' encoding='utf-8'?>\r\n",
      "<tallies>\r\n",
      "    <tally id=\"1\">\r\n",
      "        <filter bins=\"1\" type=\"cell\" />\r\n",
      "        <nuclides>U235</nuclides>\r\n",
      "        <scores>total fission absorption (n,gamma)</scores>\r\n",
      "    </tally>\r\n",
      "</tallies>\r\n"
     ]
    }
   ],
   "source": [
    "tallies = openmc.Tallies([t])\n",
    "tallies.export_to_xml()\n",
    "!cat tallies.xml"
   ]
  },
  {
   "cell_type": "markdown",
   "metadata": {},
   "source": [
    "## Running OpenMC\n",
    "\n",
    "Running OpenMC from Python can be done using the `openmc.run()` function. This function allows you to set the number of MPI processes and OpenMP threads, if need be."
   ]
  },
  {
   "cell_type": "code",
   "execution_count": 19,
   "metadata": {
    "collapsed": false,
    "scrolled": true
   },
   "outputs": [
    {
     "name": "stdout",
     "output_type": "stream",
     "text": [
      "\n",
      "                               %%%%%%%%%%%%%%%\n",
      "                          %%%%%%%%%%%%%%%%%%%%%%%%\n",
      "                       %%%%%%%%%%%%%%%%%%%%%%%%%%%%%%\n",
      "                     %%%%%%%%%%%%%%%%%%%%%%%%%%%%%%%%%%\n",
      "                   %%%%%%%%%%%%%%%%%%%%%%%%%%%%%%%%%%%%%%\n",
      "                  %%%%%%%%%%%%%%%%%%%%%%%%%%%%%%%%%%%%%%%%\n",
      "                                   %%%%%%%%%%%%%%%%%%%%%%%%\n",
      "                                    %%%%%%%%%%%%%%%%%%%%%%%%\n",
      "                ###############      %%%%%%%%%%%%%%%%%%%%%%%%\n",
      "               ##################     %%%%%%%%%%%%%%%%%%%%%%%\n",
      "               ###################     %%%%%%%%%%%%%%%%%%%%%%%\n",
      "               ####################     %%%%%%%%%%%%%%%%%%%%%%\n",
      "               #####################     %%%%%%%%%%%%%%%%%%%%%\n",
      "               ######################     %%%%%%%%%%%%%%%%%%%%\n",
      "               #######################     %%%%%%%%%%%%%%%%%%\n",
      "                #######################     %%%%%%%%%%%%%%%%%\n",
      "                ######################     %%%%%%%%%%%%%%%%%\n",
      "                 ####################     %%%%%%%%%%%%%%%%%\n",
      "                   #################     %%%%%%%%%%%%%%%%%\n",
      "                    ###############     %%%%%%%%%%%%%%%%\n",
      "                      ############     %%%%%%%%%%%%%%%\n",
      "                         ########     %%%%%%%%%%%%%%\n",
      "                                     %%%%%%%%%%%\n",
      "\n",
      "                   | The OpenMC Monte Carlo Code\n",
      "         Copyright | 2011-2017 Massachusetts Institute of Technology\n",
      "           License | http://openmc.readthedocs.io/en/latest/license.html\n",
      "           Version | 0.8.0\n",
      "          Git SHA1 | 60a1f157dae88b62e1865a5fe3efd7ef0773a068\n",
      "         Date/Time | 2017-02-24 16:06:49\n",
      "     MPI Processes | 1\n",
      "\n",
      " ===========================================================================\n",
      " ========================>     INITIALIZATION     <=========================\n",
      " ===========================================================================\n",
      "\n",
      " Reading settings XML file...\n",
      " Reading geometry XML file...\n",
      " Reading materials XML file...\n",
      " Reading cross sections XML file...\n",
      " Reading U235 from /home/smharper/openmc/data/nndc_hdf5/U235.h5\n",
      " Reading U238 from /home/smharper/openmc/data/nndc_hdf5/U238.h5\n",
      " Reading O16 from /home/smharper/openmc/data/nndc_hdf5/O16.h5\n",
      " Reading Zr90 from /home/smharper/openmc/data/nndc_hdf5/Zr90.h5\n",
      " Reading Zr91 from /home/smharper/openmc/data/nndc_hdf5/Zr91.h5\n",
      " Reading Zr92 from /home/smharper/openmc/data/nndc_hdf5/Zr92.h5\n",
      " Reading Zr94 from /home/smharper/openmc/data/nndc_hdf5/Zr94.h5\n",
      " Reading Zr96 from /home/smharper/openmc/data/nndc_hdf5/Zr96.h5\n",
      " Reading H1 from /home/smharper/openmc/data/nndc_hdf5/H1.h5\n",
      " Reading c_H_in_H2O from /home/smharper/openmc/data/nndc_hdf5/c_H_in_H2O.h5\n",
      " Maximum neutron transport energy: 2.00000E+07 eV for U235\n",
      " Reading tallies XML file...\n",
      " Building neighboring cells lists for each surface...\n",
      " Initializing source particles...\n",
      "\n",
      " ===========================================================================\n",
      " ====================>     K EIGENVALUE SIMULATION     <====================\n",
      " ===========================================================================\n",
      "\n",
      "  Bat./Gen.      k            Average k         \n",
      "  =========   ========   ====================   \n",
      "        1/1    1.32271                       \n",
      "        2/1    1.42847                       \n",
      "        3/1    1.40535                       \n",
      "        4/1    1.39998                       \n",
      "        5/1    1.46431                       \n",
      "        6/1    1.35617                       \n",
      "        7/1    1.35487                       \n",
      "        8/1    1.30688                       \n",
      "        9/1    1.33075                       \n",
      "       10/1    1.42642                       \n",
      "       11/1    1.42410                       \n",
      "       12/1    1.41408    1.41909 +/- 0.00501\n",
      "       13/1    1.37987    1.40602 +/- 0.01339\n",
      "       14/1    1.42129    1.40984 +/- 0.01021\n",
      "       15/1    1.34141    1.39615 +/- 0.01581\n",
      "       16/1    1.36471    1.39091 +/- 0.01393\n",
      "       17/1    1.35380    1.38561 +/- 0.01291\n",
      "       18/1    1.31856    1.37723 +/- 0.01397\n",
      "       19/1    1.36862    1.37627 +/- 0.01236\n",
      "       20/1    1.40242    1.37889 +/- 0.01136\n",
      "       21/1    1.38905    1.37981 +/- 0.01032\n",
      "       22/1    1.38188    1.37998 +/- 0.00942\n",
      "       23/1    1.40889    1.38221 +/- 0.00895\n",
      "       24/1    1.47322    1.38871 +/- 0.01053\n",
      "       25/1    1.33441    1.38509 +/- 0.01045\n",
      "       26/1    1.33154    1.38174 +/- 0.01033\n",
      "       27/1    1.36324    1.38065 +/- 0.00977\n",
      "       28/1    1.34008    1.37840 +/- 0.00948\n",
      "       29/1    1.35865    1.37736 +/- 0.00903\n",
      "       30/1    1.42944    1.37996 +/- 0.00895\n",
      "       31/1    1.36002    1.37901 +/- 0.00857\n",
      "       32/1    1.32702    1.37665 +/- 0.00850\n",
      "       33/1    1.33501    1.37484 +/- 0.00832\n",
      "       34/1    1.33059    1.37300 +/- 0.00818\n",
      "       35/1    1.32262    1.37098 +/- 0.00810\n",
      "       36/1    1.47684    1.37505 +/- 0.00878\n",
      "       37/1    1.36222    1.37458 +/- 0.00847\n",
      "       38/1    1.39845    1.37543 +/- 0.00820\n",
      "       39/1    1.30532    1.37301 +/- 0.00827\n",
      "       40/1    1.32502    1.37141 +/- 0.00815\n",
      "       41/1    1.35815    1.37098 +/- 0.00790\n",
      "       42/1    1.45545    1.37362 +/- 0.00809\n",
      "       43/1    1.37391    1.37363 +/- 0.00784\n",
      "       44/1    1.29508    1.37132 +/- 0.00795\n",
      "       45/1    1.32644    1.37004 +/- 0.00782\n",
      "       46/1    1.38162    1.37036 +/- 0.00761\n",
      "       47/1    1.32958    1.36926 +/- 0.00748\n",
      "       48/1    1.34048    1.36850 +/- 0.00732\n",
      "       49/1    1.38967    1.36904 +/- 0.00715\n",
      "       50/1    1.31187    1.36762 +/- 0.00712\n",
      "       51/1    1.35753    1.36737 +/- 0.00695\n",
      "       52/1    1.33217    1.36653 +/- 0.00683\n",
      "       53/1    1.32671    1.36561 +/- 0.00673\n",
      "       54/1    1.42671    1.36699 +/- 0.00672\n",
      "       55/1    1.30099    1.36553 +/- 0.00673\n",
      "       56/1    1.38917    1.36604 +/- 0.00661\n",
      "       57/1    1.36236    1.36596 +/- 0.00646\n",
      "       58/1    1.39782    1.36663 +/- 0.00636\n",
      "       59/1    1.36221    1.36654 +/- 0.00623\n",
      "       60/1    1.35856    1.36638 +/- 0.00611\n",
      "       61/1    1.25914    1.36427 +/- 0.00635\n",
      "       62/1    1.35749    1.36414 +/- 0.00622\n",
      "       63/1    1.37980    1.36444 +/- 0.00611\n",
      "       64/1    1.36235    1.36440 +/- 0.00600\n",
      "       65/1    1.36591    1.36443 +/- 0.00589\n",
      "       66/1    1.40752    1.36520 +/- 0.00583\n",
      "       67/1    1.30669    1.36417 +/- 0.00582\n",
      "       68/1    1.28905    1.36288 +/- 0.00587\n",
      "       69/1    1.40571    1.36360 +/- 0.00581\n",
      "       70/1    1.35413    1.36344 +/- 0.00572\n",
      "       71/1    1.36922    1.36354 +/- 0.00562\n",
      "       72/1    1.33070    1.36301 +/- 0.00556\n",
      "       73/1    1.37622    1.36322 +/- 0.00547\n",
      "       74/1    1.35752    1.36313 +/- 0.00539\n",
      "       75/1    1.33645    1.36272 +/- 0.00532\n",
      "       76/1    1.33572    1.36231 +/- 0.00525\n",
      "       77/1    1.31322    1.36158 +/- 0.00522\n",
      "       78/1    1.42305    1.36248 +/- 0.00523\n",
      "       79/1    1.34395    1.36221 +/- 0.00516\n",
      "       80/1    1.41326    1.36294 +/- 0.00513\n",
      "       81/1    1.32295    1.36238 +/- 0.00509\n",
      "       82/1    1.28524    1.36131 +/- 0.00513\n",
      "       83/1    1.32743    1.36084 +/- 0.00509\n",
      "       84/1    1.39848    1.36135 +/- 0.00504\n",
      "       85/1    1.27549    1.36021 +/- 0.00510\n",
      "       86/1    1.33547    1.35988 +/- 0.00505\n",
      "       87/1    1.43781    1.36089 +/- 0.00508\n",
      "       88/1    1.33315    1.36054 +/- 0.00503\n",
      "       89/1    1.37152    1.36068 +/- 0.00497\n",
      "       90/1    1.32266    1.36020 +/- 0.00493\n",
      "       91/1    1.29800    1.35943 +/- 0.00493\n",
      "       92/1    1.44154    1.36044 +/- 0.00497\n",
      "       93/1    1.40543    1.36098 +/- 0.00494\n",
      "       94/1    1.32927    1.36060 +/- 0.00489\n",
      "       95/1    1.26569    1.35948 +/- 0.00496\n",
      "       96/1    1.37267    1.35964 +/- 0.00491\n",
      "       97/1    1.29939    1.35894 +/- 0.00490\n",
      "       98/1    1.39536    1.35936 +/- 0.00486\n",
      "       99/1    1.40449    1.35987 +/- 0.00483\n",
      "      100/1    1.31126    1.35933 +/- 0.00481\n",
      " Creating state point statepoint.100.h5...\n",
      "\n",
      " ===========================================================================\n",
      " ======================>     SIMULATION FINISHED     <======================\n",
      " ===========================================================================\n",
      "\n",
      "\n",
      " =======================>     TIMING STATISTICS     <=======================\n",
      "\n",
      " Total time for initialization     =  5.8950E-01 seconds\n",
      "   Reading cross sections          =  4.8056E-01 seconds\n",
      " Total time in simulation          =  1.3295E+01 seconds\n",
      "   Time in transport only          =  1.3281E+01 seconds\n",
      "   Time in inactive batches        =  1.2593E+00 seconds\n",
      "   Time in active batches          =  1.2036E+01 seconds\n",
      "   Time synchronizing fission bank =  4.6471E-03 seconds\n",
      "     Sampling source sites         =  2.4528E-03 seconds\n",
      "     SEND/RECV source sites        =  1.1919E-03 seconds\n",
      "   Time accumulating tallies       =  3.6550E-04 seconds\n",
      " Total time for finalization       =  1.5463E-04 seconds\n",
      " Total time elapsed                =  1.3889E+01 seconds\n",
      " Calculation Rate (inactive)       =  7940.83 neutrons/second\n",
      " Calculation Rate (active)         =  7477.61 neutrons/second\n",
      "\n",
      " ============================>     RESULTS     <============================\n",
      "\n",
      " k-effective (Collision)     =  1.36139 +/-  0.00434\n",
      " k-effective (Track-length)  =  1.35933 +/-  0.00481\n",
      " k-effective (Absorption)    =  1.36563 +/-  0.00326\n",
      " Combined k-effective        =  1.36467 +/-  0.00304\n",
      " Leakage Fraction            =  0.00000 +/-  0.00000\n",
      "\n"
     ]
    },
    {
     "data": {
      "text/plain": [
       "0"
      ]
     },
     "execution_count": 19,
     "metadata": {},
     "output_type": "execute_result"
    }
   ],
   "source": [
    "openmc.run()"
   ]
  },
  {
   "cell_type": "code",
   "execution_count": 20,
   "metadata": {
    "collapsed": false
   },
   "outputs": [
    {
     "name": "stdout",
     "output_type": "stream",
     "text": [
      "\r\n",
      " ============================>     TALLY 1     <============================\r\n",
      "\r\n",
      " Cell 1\r\n",
      "   U235\r\n",
      "     Total Reaction Rate                  0.725575       +/- 2.40097E-03\r\n",
      "     Fission Rate                         0.523556       +/- 1.97429E-03\r\n",
      "     Absorption Rate                      0.634272       +/- 2.32804E-03\r\n",
      "     (n,gamma)                            0.110717       +/- 3.82982E-04\r\n"
     ]
    }
   ],
   "source": [
    "!cat tallies.out"
   ]
  }
 ],
 "metadata": {
  "kernelspec": {
   "display_name": "Python 3",
   "language": "python",
   "name": "python3"
  },
  "language_info": {
   "codemirror_mode": {
    "name": "ipython",
    "version": 3
   },
   "file_extension": ".py",
   "mimetype": "text/x-python",
   "name": "python",
   "nbconvert_exporter": "python",
   "pygments_lexer": "ipython3",
   "version": "3.5.2"
  }
 },
 "nbformat": 4,
 "nbformat_minor": 0
}
